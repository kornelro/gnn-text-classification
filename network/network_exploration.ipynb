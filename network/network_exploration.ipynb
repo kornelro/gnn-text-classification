{
 "metadata": {
  "language_info": {
   "codemirror_mode": {
    "name": "ipython",
    "version": 3
   },
   "file_extension": ".py",
   "mimetype": "text/x-python",
   "name": "python",
   "nbconvert_exporter": "python",
   "pygments_lexer": "ipython3",
   "version": "3.8.2-final"
  },
  "orig_nbformat": 2,
  "kernelspec": {
   "name": "python3",
   "display_name": "Python 3",
   "language": "python"
  }
 },
 "nbformat": 4,
 "nbformat_minor": 2,
 "cells": [
  {
   "cell_type": "code",
   "execution_count": 1,
   "metadata": {},
   "outputs": [],
   "source": [
    "import json\n",
    "import os\n",
    "from collections import Counter\n",
    "\n",
    "import networkx as nx\n",
    "import pandas as pd\n",
    "from tqdm import tqdm"
   ]
  },
  {
   "cell_type": "code",
   "execution_count": 18,
   "metadata": {},
   "outputs": [],
   "source": [
    "annotations_path = '../out/annotations.csv'\n",
    "\n",
    "df = pd.read_csv(annotations_path, header=None)\n",
    "df.columns = ['source', 'target']"
   ]
  },
  {
   "cell_type": "code",
   "execution_count": 19,
   "metadata": {},
   "outputs": [
    {
     "output_type": "execute_result",
     "data": {
      "text/plain": [
       "  source               target\n",
       "0    AWK  Język_programowania\n",
       "1    AWK                 Plik\n",
       "2    AWK    System_operacyjny\n",
       "3    AWK                 Unix\n",
       "4    AWK  Tablica_asocjacyjna"
      ],
      "text/html": "<div>\n<style scoped>\n    .dataframe tbody tr th:only-of-type {\n        vertical-align: middle;\n    }\n\n    .dataframe tbody tr th {\n        vertical-align: top;\n    }\n\n    .dataframe thead th {\n        text-align: right;\n    }\n</style>\n<table border=\"1\" class=\"dataframe\">\n  <thead>\n    <tr style=\"text-align: right;\">\n      <th></th>\n      <th>source</th>\n      <th>target</th>\n    </tr>\n  </thead>\n  <tbody>\n    <tr>\n      <th>0</th>\n      <td>AWK</td>\n      <td>Język_programowania</td>\n    </tr>\n    <tr>\n      <th>1</th>\n      <td>AWK</td>\n      <td>Plik</td>\n    </tr>\n    <tr>\n      <th>2</th>\n      <td>AWK</td>\n      <td>System_operacyjny</td>\n    </tr>\n    <tr>\n      <th>3</th>\n      <td>AWK</td>\n      <td>Unix</td>\n    </tr>\n    <tr>\n      <th>4</th>\n      <td>AWK</td>\n      <td>Tablica_asocjacyjna</td>\n    </tr>\n  </tbody>\n</table>\n</div>"
     },
     "metadata": {},
     "execution_count": 19
    }
   ],
   "source": [
    "df.head()"
   ]
  },
  {
   "cell_type": "code",
   "execution_count": 20,
   "metadata": {},
   "outputs": [
    {
     "output_type": "stream",
     "name": "stderr",
     "text": [
      "100%|██████████| 75793/75793 [00:06<00:00, 11028.01it/s]\n"
     ]
    }
   ],
   "source": [
    "wiki_pages_dir = '../out/extracted_pages/'\n",
    "\n",
    "wiki_pages = []\n",
    "pages_category_dict = {}\n",
    "for json_file in tqdm(list(os.listdir(wiki_pages_dir))):\n",
    "    with open(wiki_pages_dir+json_file, 'r') as f:\n",
    "        try:\n",
    "            wiki_page = json.load(f)\n",
    "\n",
    "            wiki_page_title = wiki_page['url'].split('/')[-1]\n",
    "            wiki_pages.append(wiki_page_title)\n",
    "\n",
    "            wiki_page_main_category = wiki_page['main_category']\n",
    "            pages_category_dict[wiki_page_title] = wiki_page_main_category\n",
    "        except UnicodeDecodeError:\n",
    "            pass"
   ]
  },
  {
   "cell_type": "code",
   "execution_count": 21,
   "metadata": {},
   "outputs": [
    {
     "output_type": "execute_result",
     "data": {
      "text/plain": [
       "143"
      ]
     },
     "metadata": {},
     "execution_count": 21
    }
   ],
   "source": [
    "len(wiki_pages) - len(set(wiki_pages))"
   ]
  },
  {
   "cell_type": "code",
   "execution_count": 22,
   "metadata": {},
   "outputs": [
    {
     "output_type": "execute_result",
     "data": {
      "text/plain": [
       "(1086032, 2)"
      ]
     },
     "metadata": {},
     "execution_count": 22
    }
   ],
   "source": [
    "df.shape"
   ]
  },
  {
   "cell_type": "code",
   "execution_count": 23,
   "metadata": {},
   "outputs": [],
   "source": [
    "wiki_pages_set = set(wiki_pages)\n",
    "\n",
    "df = df[\n",
    "    (df['source'].isin(wiki_pages_set)) &\n",
    "    (df['target'].isin(wiki_pages_set))\n",
    "]"
   ]
  },
  {
   "cell_type": "code",
   "execution_count": 24,
   "metadata": {},
   "outputs": [
    {
     "output_type": "execute_result",
     "data": {
      "text/plain": [
       "(347655, 2)"
      ]
     },
     "metadata": {},
     "execution_count": 24
    }
   ],
   "source": [
    "df.shape"
   ]
  },
  {
   "cell_type": "code",
   "execution_count": 12,
   "metadata": {},
   "outputs": [],
   "source": [
    "G = nx.from_pandas_edgelist(df)"
   ]
  },
  {
   "cell_type": "code",
   "execution_count": 14,
   "metadata": {},
   "outputs": [
    {
     "output_type": "stream",
     "name": "stdout",
     "text": [
      "Number of nodes: 68414\n",
      "Number of edges: 310081\n",
      "Number of connected components: 297\n",
      "10 biggest connected components sizes: [67756, 3, 3, 2, 2, 2, 1, 2, 2, 1]\n"
     ]
    }
   ],
   "source": [
    "print(f'Number of nodes: {G.number_of_nodes()}')\n",
    "print(f'Number of edges: {G.number_of_edges()}')\n",
    "\n",
    "conn_comp = list(nx.connected_components(G))\n",
    "print(f'Number of connected components: {len(conn_comp)}')\n",
    "\n",
    "conn_comp_sizes = []\n",
    "for comp in sorted(conn_comp):\n",
    "    conn_comp_sizes.append(len(comp))\n",
    "\n",
    "N = 10\n",
    "print(f'{N} biggest connected components sizes: {conn_comp_sizes[:N]}')"
   ]
  },
  {
   "cell_type": "code",
   "execution_count": 30,
   "metadata": {},
   "outputs": [
    {
     "output_type": "execute_result",
     "data": {
      "text/plain": [
       "Counter({'Astronomia': 25463,\n",
       "         'Informatyka': 4551,\n",
       "         'Chemia': 2422,\n",
       "         'Matematyka': 7261,\n",
       "         'Biologia': 19030,\n",
       "         'Psychologia': 4399,\n",
       "         'Fizyka': 4630})"
      ]
     },
     "metadata": {},
     "execution_count": 30
    }
   ],
   "source": [
    "biggest_conn_copm = sorted(list(nx.connected_components(G)))[0]\n",
    "bcc_main_categories = list(map(lambda x: pages_category_dict[x], list(biggest_conn_copm)))\n",
    "\n",
    "Counter(bcc_main_categories)"
   ]
  },
  {
   "cell_type": "code",
   "execution_count": null,
   "metadata": {},
   "outputs": [],
   "source": []
  }
 ]
}