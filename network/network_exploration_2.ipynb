{
 "metadata": {
  "language_info": {
   "codemirror_mode": {
    "name": "ipython",
    "version": 3
   },
   "file_extension": ".py",
   "mimetype": "text/x-python",
   "name": "python",
   "nbconvert_exporter": "python",
   "pygments_lexer": "ipython3",
   "version": "3.8.5-final"
  },
  "orig_nbformat": 2,
  "kernelspec": {
   "name": "python38564bitgnnvenvbd9735c32b4543ecb45445f284866c72",
   "display_name": "Python 3.8.5 64-bit ('gnn_venv')",
   "language": "python"
  }
 },
 "nbformat": 4,
 "nbformat_minor": 2,
 "cells": [
  {
   "cell_type": "code",
   "execution_count": 80,
   "metadata": {},
   "outputs": [],
   "source": [
    "import json\n",
    "import os\n",
    "from collections import Counter\n",
    "\n",
    "import networkx as nx\n",
    "import pandas as pd\n",
    "from tqdm import tqdm\n",
    "import matplotlib.pyplot as plt\n",
    "import numpy as np\n",
    "\n",
    "\n",
    "tqdm.pandas()"
   ]
  },
  {
   "cell_type": "code",
   "execution_count": 38,
   "metadata": {},
   "outputs": [],
   "source": [
    "df = pd.read_csv('../out/wiki_pages_lemmas.csv', index_col=0)"
   ]
  },
  {
   "cell_type": "code",
   "execution_count": 39,
   "metadata": {},
   "outputs": [
    {
     "output_type": "execute_result",
     "data": {
      "text/plain": [
       "                         title  \\\n",
       "0              Mirosław_Miller   \n",
       "1             Chimerokształtne   \n",
       "2               (2855)_Bastian   \n",
       "3  Cryptocephalus_celtibericus   \n",
       "4              Język_maszynowy   \n",
       "\n",
       "                                                text    category  \\\n",
       "0  Mirosław Miller – Dyrektor Międzynarodowego La...      Chemia   \n",
       "1  Chimerokształtne, chimery, przerazy (Chimaerif...    Biologia   \n",
       "2  (2855) Bastian (1931 TB2) – planetoida z grupy...  Astronomia   \n",
       "3  \"Cryptocephalus celtibericus\" – gatunek chrząs...    Biologia   \n",
       "4  Język maszynowy, kod maszynowy – zestaw rozkaz...  Matematyka   \n",
       "\n",
       "                                         noun_lemmas  \n",
       "0  ['mirosława', 'miller', 'dyrektor', 'laborator...  \n",
       "1  ['chimera', 'przeraza', 'chimaeriformes', 'rzą...  \n",
       "2  ['bastian', 'tb2', 'planetoida', 'grupa', 'pas...  \n",
       "3  ['cryptocephalus', 'celtibericus', 'gatunek', ...  \n",
       "4  ['język', 'koda', 'zestaw', 'rozkaz', 'proceso...  "
      ],
      "text/html": "<div>\n<style scoped>\n    .dataframe tbody tr th:only-of-type {\n        vertical-align: middle;\n    }\n\n    .dataframe tbody tr th {\n        vertical-align: top;\n    }\n\n    .dataframe thead th {\n        text-align: right;\n    }\n</style>\n<table border=\"1\" class=\"dataframe\">\n  <thead>\n    <tr style=\"text-align: right;\">\n      <th></th>\n      <th>title</th>\n      <th>text</th>\n      <th>category</th>\n      <th>noun_lemmas</th>\n    </tr>\n  </thead>\n  <tbody>\n    <tr>\n      <th>0</th>\n      <td>Mirosław_Miller</td>\n      <td>Mirosław Miller – Dyrektor Międzynarodowego La...</td>\n      <td>Chemia</td>\n      <td>['mirosława', 'miller', 'dyrektor', 'laborator...</td>\n    </tr>\n    <tr>\n      <th>1</th>\n      <td>Chimerokształtne</td>\n      <td>Chimerokształtne, chimery, przerazy (Chimaerif...</td>\n      <td>Biologia</td>\n      <td>['chimera', 'przeraza', 'chimaeriformes', 'rzą...</td>\n    </tr>\n    <tr>\n      <th>2</th>\n      <td>(2855)_Bastian</td>\n      <td>(2855) Bastian (1931 TB2) – planetoida z grupy...</td>\n      <td>Astronomia</td>\n      <td>['bastian', 'tb2', 'planetoida', 'grupa', 'pas...</td>\n    </tr>\n    <tr>\n      <th>3</th>\n      <td>Cryptocephalus_celtibericus</td>\n      <td>\"Cryptocephalus celtibericus\" – gatunek chrząs...</td>\n      <td>Biologia</td>\n      <td>['cryptocephalus', 'celtibericus', 'gatunek', ...</td>\n    </tr>\n    <tr>\n      <th>4</th>\n      <td>Język_maszynowy</td>\n      <td>Język maszynowy, kod maszynowy – zestaw rozkaz...</td>\n      <td>Matematyka</td>\n      <td>['język', 'koda', 'zestaw', 'rozkaz', 'proceso...</td>\n    </tr>\n  </tbody>\n</table>\n</div>"
     },
     "metadata": {},
     "execution_count": 39
    }
   ],
   "source": [
    "df.head()"
   ]
  },
  {
   "source": [
    "## All nouns in graph"
   ],
   "cell_type": "markdown",
   "metadata": {}
  },
  {
   "cell_type": "code",
   "execution_count": 7,
   "metadata": {},
   "outputs": [],
   "source": [
    "G = nx.Graph()"
   ]
  },
  {
   "cell_type": "code",
   "execution_count": 16,
   "metadata": {},
   "outputs": [
    {
     "output_type": "stream",
     "name": "stderr",
     "text": [
      "100%|██████████| 75792/75792 [00:40<00:00, 1874.29it/s]\n"
     ]
    }
   ],
   "source": [
    "for i in tqdm(range(len(df))):\n",
    "    row = df.iloc[i]\n",
    "    lemmas = row['noun_lemmas'][1:-1].replace('\\'', '').split(', ')\n",
    "    for lemma in lemmas:\n",
    "        G.add_edge(row['title'], lemma)"
   ]
  },
  {
   "cell_type": "code",
   "execution_count": 17,
   "metadata": {},
   "outputs": [
    {
     "output_type": "stream",
     "name": "stdout",
     "text": [
      "Number of nodes: 359640\n",
      "Number of edges: 3632871\n",
      "Number of connected components: 30\n",
      "10 biggest connected components sizes: [359574, 3, 2, 2, 2, 4, 2, 3, 2, 2]\n"
     ]
    }
   ],
   "source": [
    "print(f'Number of nodes: {G.number_of_nodes()}')\n",
    "print(f'Number of edges: {G.number_of_edges()}')\n",
    "\n",
    "conn_comp = list(nx.connected_components(G))\n",
    "print(f'Number of connected components: {len(conn_comp)}')\n",
    "\n",
    "conn_comp_sizes = []\n",
    "for comp in sorted(conn_comp):\n",
    "    conn_comp_sizes.append(len(comp))\n",
    "\n",
    "N = 10\n",
    "print(f'{N} biggest connected components sizes: {conn_comp_sizes[:N]}')"
   ]
  },
  {
   "source": [
    "## Top common nouns in category"
   ],
   "cell_type": "markdown",
   "metadata": {}
  },
  {
   "cell_type": "code",
   "execution_count": 40,
   "metadata": {},
   "outputs": [
    {
     "output_type": "stream",
     "name": "stderr",
     "text": [
      "100%|██████████| 75792/75792 [00:03<00:00, 22267.37it/s]\n"
     ]
    }
   ],
   "source": [
    "df['noun_lemmas'] = df.progress_apply(lambda row: row['noun_lemmas'][1:-1].replace('\\'', '').split(', '), axis=1)"
   ]
  },
  {
   "source": [
    "### top 1000 words"
   ],
   "cell_type": "markdown",
   "metadata": {}
  },
  {
   "cell_type": "code",
   "execution_count": 59,
   "metadata": {},
   "outputs": [],
   "source": [
    "top_k = 1000"
   ]
  },
  {
   "cell_type": "code",
   "execution_count": 60,
   "metadata": {},
   "outputs": [
    {
     "output_type": "stream",
     "name": "stdout",
     "text": [
      "7 categories\n"
     ]
    }
   ],
   "source": [
    "top_nouns = {}\n",
    "categories = list(df['category'].unique())\n",
    "print(len(categories), 'categories')"
   ]
  },
  {
   "cell_type": "code",
   "execution_count": 61,
   "metadata": {},
   "outputs": [
    {
     "output_type": "stream",
     "name": "stderr",
     "text": [
      "100%|██████████| 2775/2775 [00:10<00:00, 255.41it/s]\n",
      "100%|██████████| 23482/23482 [13:24<00:00, 29.20it/s]\n",
      "100%|██████████| 25640/25640 [06:23<00:00, 66.92it/s]\n",
      "100%|██████████| 8082/8082 [01:42<00:00, 78.50it/s]\n",
      "100%|██████████| 5123/5123 [00:42<00:00, 121.51it/s]\n",
      "100%|██████████| 4955/4955 [00:41<00:00, 120.73it/s]\n",
      "100%|██████████| 5735/5735 [01:00<00:00, 95.46it/s]\n"
     ]
    }
   ],
   "source": [
    "for cat in categories:\n",
    "    noun_lists = df[df['category'] == cat]['noun_lemmas']\n",
    "    noun_list = []\n",
    "    for l in tqdm(noun_lists):\n",
    "        noun_list = noun_list + l\n",
    "    \n",
    "    noun_list = Counter(noun_list).most_common()[0:top_k]\n",
    "    noun_list = list(map(lambda x: x[0], noun_list))\n",
    "\n",
    "    top_nouns[cat] = noun_list"
   ]
  },
  {
   "cell_type": "code",
   "execution_count": 67,
   "metadata": {
    "tags": []
   },
   "outputs": [
    {
     "output_type": "stream",
     "name": "stdout",
     "text": [
      "\nChemia\n\n['rok', 'lek', 'badanie', 'grupa', 'związka', 'działanie', 'chemia', 'kwas', 'uniwersytet', 'to', 'praca', 'wirus', 'nauka', 'czas', 'co', 'dno', 'profesor', 'reakcja', 'substancja', 'dawka', '%', 'nagroda', 'komórka', 'białko', 'proces', 'przypadek', 'receptor', 'związek', 'wydział', 'choroba', 'mechanizm', 'rna', 'członek', 'instytut', 'układ', 'dziedzina', 'cząsteczka', 'postać', 'wynik', 'polska', 'woda', 'metoda', 'stopień', 'of', 'nazwa', 'studium', 'synteza', 'stężenie', 'temperatura', 'stan', 'raz', 'nobel', 'akademia', 'atom', 'człowiek', 'wojna', 'chemik', 'pacjent', 'efekt', 'biochemia', 'właściwość', 'preparat', 'struktura', 'organizm', 'osoba', 'zasada', 'okres', 'zastosowanie', 'funkcja', 'roztwór', 'objaw', 'środek', 'wpływ', 'university', 'miejsce', 'produkt', 'aktywność', 'doktór', 'forma', 'godzina', 'kwasy', 'zaburzenie', 'materiał', 'enzym', 'ilość', 'wzgląd', 'tytuł', 'część', 'produkcja', 'inhibitor', 'życiorys', 'sposób', 'krew', 'wieko', 'dzień', 'zakład', 'zakres', 'udział', 'pochodna', 'zmiana']\n\nBiologia\n\n['gatunek', 'rok', 'rodzina', 'długość', 'ciało', 'rodzaj', 'część', 'nazwa', 'ptak', 'samica', 'teren', 'to', 'osobnik', 'polska', 'czas', 'roślina', 'samiec', 'zwierzę', 'obszar', 'co', 'ochrona', 'miejsce', 'powierzchnia', 'występowanie', 'lasa', 'skrzydło', 'komórka', 'populacja', 'drzewo', 'kość', 'grzyb', 'życie', 'woda', 'głowa', 'owad', 'jajo', 'grupa', 'wyspa', 'raz', 'wysokość', 'badanie', 'barwa', 'ryba', 'europ', 'dzień', 'gniazdo', 'przedstawiciel', 'okres', 'ogon', 'zasięg', 'podgatunek', 'podstawa', 'pokrywa', 'środowisko', 'siedlisko', 'rząd', 'koniec', 'wieko', 'liść', 'zagrożenie', 'rozmiar', 'chrząszcz', 'morfologia', 'kształt', 'okaz', 'brzeg', 'oko', 'para', 'ziemia', 'cecha', 'podrodzina', 'strona', 'las', 'autor', 'systematyk', 'człowiek', '%', 'ssak', 'afryka', 'większość', 'bok', 'wielkość', 'takson', 'średnica', 'kolor', 'status', 'index', 'klasyfikacja', 'opis', 'fungorum', 'ząb', 'stan', 'masa', 'pozycja', 'stanowisko', 'samka', 'wzgląd', 'azja', 'owocnik', 'grzbiet']\n\nAstronomia\n\n['rok', 'planetoida', 'odległość', 'ciąg', 'słońca', 'pas', 'asteroida', 'gwiazda', 'nazwa', 'galaktyka', 'planeta', 'słońce', 'ziemia', 'dzień', 'orbita', 'grupa', 'gwiazdozbiór', 'ngc', 'obiekt', 'masa', 'układ', 'typ', 'wrzesień', 'obserwatorium', 'kometa', 'księżyc', 'oznaczenie', 'powierzchnia', 'linka', 'czas', 'astronom', 'sonda', 'to', 'obserwacja', 'co', 'październik', 'marzec', 'pgc', 'jasność', 'krater', 'teleskop', 'kwiecień', 'misja', 'raz', 'sierpień', 'listopad', 'okres', 'herschel', 'ciało', 'prędkość', 'średnica', 'mars', 'temperatura', 'gromada', 'odkrycie', 'luty', 'część', 'styczeń', 'jowisz', 'jądro', 'promieniowanie', 'grudzień', 'atmosfera', 'maj', 'badanie', 'wielkość', 'teoria', 'materia', 'uniwersytet', 'milion', 'program', 'energia', 'światło', 'składnik', 'ugc', 'obszar', 'william', 'rucho', 'satelita', 'miejsce', 'niebo', 'lipiec', 'astronomia', 'formula_1', 'meteoryt', 'wynik', 'wieko', 'zdjęcie', 'czerwiec', 'praca', 'observatory', 'zmiana', 'promień', 'olbrzym', 'godzina', 'przestrzeń', 'pobliże', 'apollo', 'kierunek', '%']\n\nMatematyka\n\n['formula_1', 'rok', 'liczba', 'funkcja', 'to', 'przestrzeń', 'zbiór', 'język', 'punkt', 'grupa', 'program', 'wartość', 'co', 'czas', 'strona', 'wersja', 'teoria', 'przykład', 'serwis', 'metoda', 'użytkownik', 'matematyka', 'nazwa', 'twierdzenie', 'przypadek', 'sposób', 'praca', 'postać', 'równanie', 'macierz', 'dane', 'systema', 'pomoc', 'układ', 'uniwersytet', 'sieć', 'element', 'problem', 'wektor', 'typ', 'ciąg', 'definicja', 'część', 'firma', 'ciało', 'system', 'wynik', 'model', 'internet', 'informacja', 'miejsce', 'polska', 'cel', 'obiekt', 'możliwość', 'projekt', 'podstawa', 'pojęcie', 'forma', 'algebra', 'wzór', 'stan', 'operator', 'kanał', 'własność', 'miara', 'osoba', 'stopień', 'analiza', 'protokół', 'symbol', 'nauka', 'elementy', 'rozwiązanie', 'zmiana', 'klasa', 'standard', 'baza', 'aplikacja', 'znak', 'iloczyn', 'film', 'gra', 'rząd', 'historia', 'portal', 'biblioteka', 'codice_2', 'działanie', 'serwer', 'słowo', 'platforma', 'struktura', 'raz', 'wielomian', 'świat', 'format', 'wzgląd', 'tekst', 'autor']\n\nFizyka\n\n['rok', 'fizyka', 'energia', 'uniwersytet', 'praca', 'formula_1', 'to', 'czas', 'temperatura', 'pole', 'układ', 'nauka', 'profesor', 'badanie', 'co', 'elektron', 'promieniowanie', 'zjawisko', 'teoria', 'instytut', 'cząstka', 'światło', 'wydział', 'prąd', 'wartość', 'reakcja', 'metoda', 'fala', 'stan', 'wynik', 'atom', 'członek', 'proces', 'ciało', 'stopień', 'materiał', 'funkcja', 'powierzchnia', 'jądro', 'zmiana', 'reaktor', 'zakres', 'efekt', 'przypadek', 'kierunek', 'studium', 'liczba', 'woda', 'cząsteczka', 'nagroda', 'prędkość', 'podstawa', 'siła', 'ładunek', 'urządzenie', 'rucho', 'struktura', 'politechnika', 'ciśnienie', 'masa', 'grupa', 'dziedzina', 'sposób', 'faza', 'część', 'napięcie', 'polska', 'warszawa', 'życiorys', 'równanie', 'nazwa', 'enzym', 'szkoła', 'gwiazda', 'jon', 'model', 'pomiar', 'neutron', 'akademia', 'rodzaj', 'związek', 'substancja', 'warstwa', 'ziemia', 'roztwór', 'prawo', 'postać', 'miejsce', '%', 'długość', 'punkt', 'of', 'źródło', 'typ', 'towarzystwo', 'zasada', 'poła', 'przykład', 'częstotliwość', 'pomoc']\n\nInformatyka\n\n['rok', 'gra', 'systema', 'formula_1', 'system', 'wersja', 'to', 'program', 'dane', 'czas', 'układ', 'co', 'firma', 'plik', 'liczba', 'komputer', 'użytkownik', 'funkcja', 'cel', 'informacja', 'nazwa', 'algorytm', 'gracz', 'proces', 'windows', 'wartość', 'część', 'urządzenie', 'metoda', 'możliwość', 'przypadek', 'sposób', 'strona', 'oprogramowanie', 'praca', 'projekt', 'aplikacja', 'postać', 'typ', 'pomoc', 'pamięć', 'stan', 'przykład', 'procesor', 'sieć', 'model', 'sygnał', 'klucz', 'maszyna', 'język', 'serwer', 'obiekt', 'zadanie', 'problem', 'miejsce', 'punkt', 'biblioteka', 'zmiana', 'atak', 'osoba', 'silnik', 'kod', 'poziom', 'aparat', 'technologia', 'koda', 'rozwiązanie', 'dostęp', 'wynik', 'operacja', 'tablica', 'tryba', 'grupa', 'plika', 'świat', 'dana', 'znak', 'element', 'platforma', 'seria', 'microsoft', 'format', 'raz', 'środowisko', 'błąd', 'linux', 'bit', 'numer', 'historia', 'rodzaj', 'rozgrywka', 'teoria', 'podstawa', 'większość', 'narzędzie', 'obraz', 'wzgląd', 'zbiór', 'bezpieczeństwo', 'produkcja']\n\nPsychologia\n\n['rok', 'to', 'osoba', 'badanie', 'czas', 'co', 'film', 'człowiek', 'zaburzenie', 'grupa', 'praca', 'język', 'dziecko', 'stan', 'przypadek', 'życie', 'sposób', 'wieko', 'wynik', 'lek', 'kobieta', 'psychologia', 'zespół', 'zachowanie', 'metoda', 'proces', 'choroba', 'cel', 'pacjent', 'działanie', 'teoria', 'świat', 'miejsce', '%', 'część', 'efekt', 'problem', 'objaw', 'nauka', 'uniwersytet', 'rola', 'polska', 'wpływ', 'ciało', 'rozwój', 'forma', 'okres', 'rodzina', 'terapia', 'członek', 'śmierć', 'zmiana', 'raz', 'informacja', 'podstawa', 'dzień', 'mózg', 'historia', 'sytuacja', 'pomoc', 'mężczyzna', 'poziom', 'przykład', 'autor', 'miłość', 'rodzaj', 'nazwa', 'słowo', 'test', 'strona', 'program', 'postać', 'cecha', 'związek', 'książka', 'liczba', 'słownik', 'gra', 'temat', 'stopień', 'zjawisko', 'wzgląd', 'szkoła', 'pojęcie', 'typ', 'czynnik', 'uwaga', 'de', 'samobójstwo', 'znaczenie', 'związka', 'osobowość', 'jednostka', 'umysł', 'wojna', 'zakres', 'funkcja', 'przyczyna', 'możliwość', 'pamięć']\n"
     ]
    }
   ],
   "source": [
    "for key, value in top_nouns.items():\n",
    "    print()\n",
    "    print(key)\n",
    "    print()\n",
    "    print(value[0:100])"
   ]
  },
  {
   "cell_type": "code",
   "execution_count": 62,
   "metadata": {},
   "outputs": [],
   "source": [
    "G = nx.Graph()"
   ]
  },
  {
   "cell_type": "code",
   "execution_count": 63,
   "metadata": {},
   "outputs": [
    {
     "output_type": "stream",
     "name": "stderr",
     "text": [
      "100%|██████████| 75792/75792 [01:23<00:00, 906.45it/s]\n"
     ]
    }
   ],
   "source": [
    "for i in tqdm(range(len(df))):\n",
    "    row = df.iloc[i]\n",
    "    for lemma in row['noun_lemmas']:\n",
    "        if lemma in top_nouns[row['category']]:\n",
    "            G.add_edge(row['title'], lemma)"
   ]
  },
  {
   "cell_type": "code",
   "execution_count": 64,
   "metadata": {},
   "outputs": [
    {
     "output_type": "stream",
     "name": "stdout",
     "text": [
      "Number of nodes: 78359\n",
      "Number of edges: 2168382\n",
      "Number of connected components: 2\n",
      "10 biggest connected components sizes: [78308, 51]\n"
     ]
    }
   ],
   "source": [
    "print(f'Number of nodes: {G.number_of_nodes()}')\n",
    "print(f'Number of edges: {G.number_of_edges()}')\n",
    "\n",
    "conn_comp = list(nx.connected_components(G))\n",
    "print(f'Number of connected components: {len(conn_comp)}')\n",
    "\n",
    "conn_comp_sizes = []\n",
    "for comp in sorted(conn_comp):\n",
    "    conn_comp_sizes.append(len(comp))\n",
    "\n",
    "N = 10\n",
    "print(f'{N} biggest connected components sizes: {conn_comp_sizes[:N]}')"
   ]
  },
  {
   "cell_type": "code",
   "execution_count": 72,
   "metadata": {},
   "outputs": [
    {
     "output_type": "stream",
     "name": "stderr",
     "text": [
      "100%|██████████| 78359/78359 [00:00<00:00, 1921850.78it/s]\n",
      "75240 articles in graph\n",
      "3119 words in graph\n",
      "\n"
     ]
    }
   ],
   "source": [
    "i = 0\n",
    "titles = set(df['title'])\n",
    "for node in tqdm(list(G.nodes())):\n",
    "    if node in titles:\n",
    "        i += 1\n",
    "\n",
    "print()\n",
    "print(i, 'articles in graph')\n",
    "print(G.number_of_nodes() - i, 'words in graph')"
   ]
  },
  {
   "cell_type": "code",
   "execution_count": 84,
   "metadata": {},
   "outputs": [
    {
     "output_type": "stream",
     "name": "stdout",
     "text": [
      "Min 1\nMax 46369\nMean 55.34481042381858\nMedian 19.0\n"
     ]
    }
   ],
   "source": [
    "degrees = np.array([G.degree(n) for n in G.nodes() if G.degree(n)])\n",
    "print('Min', np.min(degrees))\n",
    "print('Max', np.max(degrees))\n",
    "print('Mean', np.mean(degrees))\n",
    "print('Median', np.median(degrees))"
   ]
  },
  {
   "cell_type": "code",
   "execution_count": 85,
   "metadata": {},
   "outputs": [
    {
     "output_type": "execute_result",
     "data": {
      "text/plain": [
       "'rok'"
      ]
     },
     "metadata": {},
     "execution_count": 85
    }
   ],
   "source": [
    "[n for n in G.nodes() if G.degree(n) == 46369][0]"
   ]
  },
  {
   "source": [
    "### top 10 000 words"
   ],
   "cell_type": "markdown",
   "metadata": {}
  },
  {
   "cell_type": "code",
   "execution_count": 86,
   "metadata": {},
   "outputs": [
    {
     "output_type": "stream",
     "name": "stderr",
     "text": [
      "100%|██████████| 2775/2775 [00:10<00:00, 252.32it/s]\n",
      "100%|██████████| 23482/23482 [13:18<00:00, 29.42it/s]\n",
      "100%|██████████| 25640/25640 [06:26<00:00, 66.28it/s]\n",
      "100%|██████████| 8082/8082 [01:44<00:00, 77.69it/s]\n",
      "100%|██████████| 5123/5123 [00:42<00:00, 119.55it/s]\n",
      "100%|██████████| 4955/4955 [00:43<00:00, 114.58it/s]\n",
      "100%|██████████| 5735/5735 [01:02<00:00, 91.09it/s]\n",
      "  0%|          | 19/75792 [00:00<06:57, 181.57it/s]\n",
      "\n",
      "100%|██████████| 75792/75792 [07:05<00:00, 177.96it/s]\n",
      "\n",
      "\n",
      "Number of nodes: 111069\n",
      "Number of edges: 3100925\n",
      "100%|██████████| 111069/111069 [00:00<00:00, 1692253.75it/s]Number of connected components: 1\n",
      "10 biggest connected components sizes: [111069]\n",
      "\n",
      "\n",
      "\n",
      "75596 articles in graph\n",
      "35473 words in graph\n",
      "\n",
      "\n",
      "\n",
      "Min 1\n",
      "Max 46369\n",
      "Mean 55.83781253094923\n",
      "Median 20.0\n"
     ]
    }
   ],
   "source": [
    "top_k = 10000\n",
    "\n",
    "categories = list(df['category'].unique())\n",
    "for cat in categories:\n",
    "    noun_lists = df[df['category'] == cat]['noun_lemmas']\n",
    "    noun_list = []\n",
    "    for l in tqdm(noun_lists):\n",
    "        noun_list = noun_list + l\n",
    "    \n",
    "    noun_list = Counter(noun_list).most_common()[0:top_k]\n",
    "    noun_list = list(map(lambda x: x[0], noun_list))\n",
    "\n",
    "    top_nouns[cat] = noun_list\n",
    "\n",
    "print()\n",
    "print()\n",
    "G = nx.Graph()\n",
    "for i in tqdm(range(len(df))):\n",
    "    row = df.iloc[i]\n",
    "    for lemma in row['noun_lemmas']:\n",
    "        if lemma in top_nouns[row['category']]:\n",
    "            G.add_edge(row['title'], lemma)\n",
    "\n",
    "print()\n",
    "print()\n",
    "print(f'Number of nodes: {G.number_of_nodes()}')\n",
    "print(f'Number of edges: {G.number_of_edges()}')\n",
    "conn_comp = list(nx.connected_components(G))\n",
    "print(f'Number of connected components: {len(conn_comp)}')\n",
    "conn_comp_sizes = []\n",
    "for comp in sorted(conn_comp):\n",
    "    conn_comp_sizes.append(len(comp))\n",
    "N = 10\n",
    "print(f'{N} biggest connected components sizes: {conn_comp_sizes[:N]}')\n",
    "\n",
    "print()\n",
    "print()\n",
    "i = 0\n",
    "titles = set(df['title'])\n",
    "for node in tqdm(list(G.nodes())):\n",
    "    if node in titles:\n",
    "        i += 1\n",
    "print()\n",
    "print(i, 'articles in graph')\n",
    "print(G.number_of_nodes() - i, 'words in graph')\n",
    "\n",
    "print()\n",
    "print()\n",
    "degrees = np.array([G.degree(n) for n in G.nodes() if G.degree(n)])\n",
    "print('Min', np.min(degrees))\n",
    "print('Max', np.max(degrees))\n",
    "print('Mean', np.mean(degrees))\n",
    "print('Median', np.median(degrees))"
   ]
  },
  {
   "source": [
    "### top 100 000 words"
   ],
   "cell_type": "markdown",
   "metadata": {}
  },
  {
   "cell_type": "code",
   "execution_count": 87,
   "metadata": {},
   "outputs": [
    {
     "output_type": "stream",
     "name": "stderr",
     "text": [
      "100%|██████████| 2775/2775 [00:11<00:00, 234.14it/s]\n",
      "100%|██████████| 23482/23482 [14:40<00:00, 26.66it/s]\n",
      "100%|██████████| 25640/25640 [06:35<00:00, 64.83it/s]\n",
      "100%|██████████| 8082/8082 [01:38<00:00, 81.78it/s]\n",
      "100%|██████████| 5123/5123 [00:39<00:00, 128.33it/s]\n",
      "100%|██████████| 4955/4955 [00:39<00:00, 126.41it/s]\n",
      "100%|██████████| 5735/5735 [00:57<00:00, 99.58it/s]\n",
      "  0%|          | 16/75792 [00:00<08:56, 141.29it/s]\n",
      "\n",
      "100%|██████████| 75792/75792 [20:36<00:00, 61.28it/s]\n",
      "\n",
      "\n",
      "Number of nodes: 335767\n",
      "Number of edges: 3604250\n",
      "100%|██████████| 335767/335767 [00:00<00:00, 2208235.59it/s]Number of connected components: 30\n",
      "10 biggest connected components sizes: [335701, 3, 2, 2, 2, 4, 2, 3, 2, 2]\n",
      "\n",
      "\n",
      "\n",
      "75649 articles in graph\n",
      "260118 words in graph\n",
      "\n",
      "\n",
      "\n",
      "Min 1\n",
      "Max 46369\n",
      "Mean 21.468756608004956\n",
      "Median 2.0\n"
     ]
    }
   ],
   "source": [
    "top_k = 100000\n",
    "\n",
    "categories = list(df['category'].unique())\n",
    "for cat in categories:\n",
    "    noun_lists = df[df['category'] == cat]['noun_lemmas']\n",
    "    noun_list = []\n",
    "    for l in tqdm(noun_lists):\n",
    "        noun_list = noun_list + l\n",
    "    \n",
    "    noun_list = Counter(noun_list).most_common()[0:top_k]\n",
    "    noun_list = list(map(lambda x: x[0], noun_list))\n",
    "\n",
    "    top_nouns[cat] = noun_list\n",
    "\n",
    "print()\n",
    "print()\n",
    "G = nx.Graph()\n",
    "for i in tqdm(range(len(df))):\n",
    "    row = df.iloc[i]\n",
    "    for lemma in row['noun_lemmas']:\n",
    "        if lemma in top_nouns[row['category']]:\n",
    "            G.add_edge(row['title'], lemma)\n",
    "\n",
    "print()\n",
    "print()\n",
    "print(f'Number of nodes: {G.number_of_nodes()}')\n",
    "print(f'Number of edges: {G.number_of_edges()}')\n",
    "conn_comp = list(nx.connected_components(G))\n",
    "print(f'Number of connected components: {len(conn_comp)}')\n",
    "conn_comp_sizes = []\n",
    "for comp in sorted(conn_comp):\n",
    "    conn_comp_sizes.append(len(comp))\n",
    "N = 10\n",
    "print(f'{N} biggest connected components sizes: {conn_comp_sizes[:N]}')\n",
    "\n",
    "print()\n",
    "print()\n",
    "i = 0\n",
    "titles = set(df['title'])\n",
    "for node in tqdm(list(G.nodes())):\n",
    "    if node in titles:\n",
    "        i += 1\n",
    "print()\n",
    "print(i, 'articles in graph')\n",
    "print(G.number_of_nodes() - i, 'words in graph')\n",
    "\n",
    "print()\n",
    "print()\n",
    "degrees = np.array([G.degree(n) for n in G.nodes() if G.degree(n)])\n",
    "print('Min', np.min(degrees))\n",
    "print('Max', np.max(degrees))\n",
    "print('Mean', np.mean(degrees))\n",
    "print('Median', np.median(degrees))"
   ]
  }
 ]
}