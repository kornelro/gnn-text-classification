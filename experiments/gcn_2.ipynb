{
  "nbformat": 4,
  "nbformat_minor": 0,
  "metadata": {
    "accelerator": "GPU",
    "colab": {
      "name": "gcn_2.ipynb",
      "provenance": [],
      "collapsed_sections": []
    },
    "kernelspec": {
      "display_name": "Python 3",
      "language": "python",
      "name": "python3"
    },
    "language_info": {
      "codemirror_mode": {
        "name": "ipython",
        "version": 3
      },
      "file_extension": ".py",
      "mimetype": "text/x-python",
      "name": "python",
      "nbconvert_exporter": "python",
      "pygments_lexer": "ipython3",
      "version": "3.6.12"
    }
  },
  "cells": [
    {
      "cell_type": "code",
      "metadata": {
        "colab": {
          "base_uri": "https://localhost:8080/"
        },
        "id": "UEmMY9lX8L_L",
        "outputId": "fc950a37-5a5e-47be-eb8b-80fd9621e4a2"
      },
      "source": [
        "!pip install stellargraph"
      ],
      "execution_count": null,
      "outputs": [
        {
          "output_type": "stream",
          "text": [
            "Collecting stellargraph\n",
            "\u001b[?25l  Downloading https://files.pythonhosted.org/packages/74/78/16b23ef04cf6fb24a7dea9fd0e03c8308a56681cc5efe29f16186210ba04/stellargraph-1.2.1-py3-none-any.whl (435kB)\n",
            "\r\u001b[K     |▊                               | 10kB 26.4MB/s eta 0:00:01\r\u001b[K     |█▌                              | 20kB 17.3MB/s eta 0:00:01\r\u001b[K     |██▎                             | 30kB 15.1MB/s eta 0:00:01\r\u001b[K     |███                             | 40kB 15.1MB/s eta 0:00:01\r\u001b[K     |███▊                            | 51kB 11.5MB/s eta 0:00:01\r\u001b[K     |████▌                           | 61kB 11.4MB/s eta 0:00:01\r\u001b[K     |█████▎                          | 71kB 11.5MB/s eta 0:00:01\r\u001b[K     |██████                          | 81kB 12.3MB/s eta 0:00:01\r\u001b[K     |██████▊                         | 92kB 12.9MB/s eta 0:00:01\r\u001b[K     |███████▌                        | 102kB 12.7MB/s eta 0:00:01\r\u001b[K     |████████▎                       | 112kB 12.7MB/s eta 0:00:01\r\u001b[K     |█████████                       | 122kB 12.7MB/s eta 0:00:01\r\u001b[K     |█████████▉                      | 133kB 12.7MB/s eta 0:00:01\r\u001b[K     |██████████▌                     | 143kB 12.7MB/s eta 0:00:01\r\u001b[K     |███████████▎                    | 153kB 12.7MB/s eta 0:00:01\r\u001b[K     |████████████                    | 163kB 12.7MB/s eta 0:00:01\r\u001b[K     |████████████▉                   | 174kB 12.7MB/s eta 0:00:01\r\u001b[K     |█████████████▌                  | 184kB 12.7MB/s eta 0:00:01\r\u001b[K     |██████████████▎                 | 194kB 12.7MB/s eta 0:00:01\r\u001b[K     |███████████████                 | 204kB 12.7MB/s eta 0:00:01\r\u001b[K     |███████████████▉                | 215kB 12.7MB/s eta 0:00:01\r\u001b[K     |████████████████▋               | 225kB 12.7MB/s eta 0:00:01\r\u001b[K     |█████████████████▎              | 235kB 12.7MB/s eta 0:00:01\r\u001b[K     |██████████████████              | 245kB 12.7MB/s eta 0:00:01\r\u001b[K     |██████████████████▉             | 256kB 12.7MB/s eta 0:00:01\r\u001b[K     |███████████████████▋            | 266kB 12.7MB/s eta 0:00:01\r\u001b[K     |████████████████████▎           | 276kB 12.7MB/s eta 0:00:01\r\u001b[K     |█████████████████████           | 286kB 12.7MB/s eta 0:00:01\r\u001b[K     |█████████████████████▉          | 296kB 12.7MB/s eta 0:00:01\r\u001b[K     |██████████████████████▋         | 307kB 12.7MB/s eta 0:00:01\r\u001b[K     |███████████████████████▍        | 317kB 12.7MB/s eta 0:00:01\r\u001b[K     |████████████████████████        | 327kB 12.7MB/s eta 0:00:01\r\u001b[K     |████████████████████████▉       | 337kB 12.7MB/s eta 0:00:01\r\u001b[K     |█████████████████████████▋      | 348kB 12.7MB/s eta 0:00:01\r\u001b[K     |██████████████████████████▍     | 358kB 12.7MB/s eta 0:00:01\r\u001b[K     |███████████████████████████     | 368kB 12.7MB/s eta 0:00:01\r\u001b[K     |███████████████████████████▉    | 378kB 12.7MB/s eta 0:00:01\r\u001b[K     |████████████████████████████▋   | 389kB 12.7MB/s eta 0:00:01\r\u001b[K     |█████████████████████████████▍  | 399kB 12.7MB/s eta 0:00:01\r\u001b[K     |██████████████████████████████▏ | 409kB 12.7MB/s eta 0:00:01\r\u001b[K     |██████████████████████████████▉ | 419kB 12.7MB/s eta 0:00:01\r\u001b[K     |███████████████████████████████▋| 430kB 12.7MB/s eta 0:00:01\r\u001b[K     |████████████████████████████████| 440kB 12.7MB/s \n",
            "\u001b[?25hRequirement already satisfied: pandas>=0.24 in /usr/local/lib/python3.6/dist-packages (from stellargraph) (1.1.5)\n",
            "Requirement already satisfied: matplotlib>=2.2 in /usr/local/lib/python3.6/dist-packages (from stellargraph) (3.2.2)\n",
            "Requirement already satisfied: tensorflow>=2.1.0 in /usr/local/lib/python3.6/dist-packages (from stellargraph) (2.4.0)\n",
            "Requirement already satisfied: scikit-learn>=0.20 in /usr/local/lib/python3.6/dist-packages (from stellargraph) (0.22.2.post1)\n",
            "Requirement already satisfied: gensim>=3.4.0 in /usr/local/lib/python3.6/dist-packages (from stellargraph) (3.6.0)\n",
            "Requirement already satisfied: networkx>=2.2 in /usr/local/lib/python3.6/dist-packages (from stellargraph) (2.5)\n",
            "Requirement already satisfied: scipy>=1.1.0 in /usr/local/lib/python3.6/dist-packages (from stellargraph) (1.4.1)\n",
            "Requirement already satisfied: numpy>=1.14 in /usr/local/lib/python3.6/dist-packages (from stellargraph) (1.19.5)\n",
            "Requirement already satisfied: python-dateutil>=2.7.3 in /usr/local/lib/python3.6/dist-packages (from pandas>=0.24->stellargraph) (2.8.1)\n",
            "Requirement already satisfied: pytz>=2017.2 in /usr/local/lib/python3.6/dist-packages (from pandas>=0.24->stellargraph) (2018.9)\n",
            "Requirement already satisfied: kiwisolver>=1.0.1 in /usr/local/lib/python3.6/dist-packages (from matplotlib>=2.2->stellargraph) (1.3.1)\n",
            "Requirement already satisfied: cycler>=0.10 in /usr/local/lib/python3.6/dist-packages (from matplotlib>=2.2->stellargraph) (0.10.0)\n",
            "Requirement already satisfied: pyparsing!=2.0.4,!=2.1.2,!=2.1.6,>=2.0.1 in /usr/local/lib/python3.6/dist-packages (from matplotlib>=2.2->stellargraph) (2.4.7)\n",
            "Requirement already satisfied: google-pasta~=0.2 in /usr/local/lib/python3.6/dist-packages (from tensorflow>=2.1.0->stellargraph) (0.2.0)\n",
            "Requirement already satisfied: flatbuffers~=1.12.0 in /usr/local/lib/python3.6/dist-packages (from tensorflow>=2.1.0->stellargraph) (1.12)\n",
            "Requirement already satisfied: gast==0.3.3 in /usr/local/lib/python3.6/dist-packages (from tensorflow>=2.1.0->stellargraph) (0.3.3)\n",
            "Requirement already satisfied: typing-extensions~=3.7.4 in /usr/local/lib/python3.6/dist-packages (from tensorflow>=2.1.0->stellargraph) (3.7.4.3)\n",
            "Requirement already satisfied: termcolor~=1.1.0 in /usr/local/lib/python3.6/dist-packages (from tensorflow>=2.1.0->stellargraph) (1.1.0)\n",
            "Requirement already satisfied: protobuf>=3.9.2 in /usr/local/lib/python3.6/dist-packages (from tensorflow>=2.1.0->stellargraph) (3.12.4)\n",
            "Requirement already satisfied: grpcio~=1.32.0 in /usr/local/lib/python3.6/dist-packages (from tensorflow>=2.1.0->stellargraph) (1.32.0)\n",
            "Requirement already satisfied: tensorboard~=2.4 in /usr/local/lib/python3.6/dist-packages (from tensorflow>=2.1.0->stellargraph) (2.4.0)\n",
            "Requirement already satisfied: wrapt~=1.12.1 in /usr/local/lib/python3.6/dist-packages (from tensorflow>=2.1.0->stellargraph) (1.12.1)\n",
            "Requirement already satisfied: six~=1.15.0 in /usr/local/lib/python3.6/dist-packages (from tensorflow>=2.1.0->stellargraph) (1.15.0)\n",
            "Requirement already satisfied: absl-py~=0.10 in /usr/local/lib/python3.6/dist-packages (from tensorflow>=2.1.0->stellargraph) (0.10.0)\n",
            "Requirement already satisfied: h5py~=2.10.0 in /usr/local/lib/python3.6/dist-packages (from tensorflow>=2.1.0->stellargraph) (2.10.0)\n",
            "Requirement already satisfied: keras-preprocessing~=1.1.2 in /usr/local/lib/python3.6/dist-packages (from tensorflow>=2.1.0->stellargraph) (1.1.2)\n",
            "Requirement already satisfied: wheel~=0.35 in /usr/local/lib/python3.6/dist-packages (from tensorflow>=2.1.0->stellargraph) (0.36.2)\n",
            "Requirement already satisfied: tensorflow-estimator<2.5.0,>=2.4.0rc0 in /usr/local/lib/python3.6/dist-packages (from tensorflow>=2.1.0->stellargraph) (2.4.0)\n",
            "Requirement already satisfied: astunparse~=1.6.3 in /usr/local/lib/python3.6/dist-packages (from tensorflow>=2.1.0->stellargraph) (1.6.3)\n",
            "Requirement already satisfied: opt-einsum~=3.3.0 in /usr/local/lib/python3.6/dist-packages (from tensorflow>=2.1.0->stellargraph) (3.3.0)\n",
            "Requirement already satisfied: joblib>=0.11 in /usr/local/lib/python3.6/dist-packages (from scikit-learn>=0.20->stellargraph) (1.0.0)\n",
            "Requirement already satisfied: smart-open>=1.2.1 in /usr/local/lib/python3.6/dist-packages (from gensim>=3.4.0->stellargraph) (4.1.0)\n",
            "Requirement already satisfied: decorator>=4.3.0 in /usr/local/lib/python3.6/dist-packages (from networkx>=2.2->stellargraph) (4.4.2)\n",
            "Requirement already satisfied: setuptools in /usr/local/lib/python3.6/dist-packages (from protobuf>=3.9.2->tensorflow>=2.1.0->stellargraph) (51.1.1)\n",
            "Requirement already satisfied: werkzeug>=0.11.15 in /usr/local/lib/python3.6/dist-packages (from tensorboard~=2.4->tensorflow>=2.1.0->stellargraph) (1.0.1)\n",
            "Requirement already satisfied: requests<3,>=2.21.0 in /usr/local/lib/python3.6/dist-packages (from tensorboard~=2.4->tensorflow>=2.1.0->stellargraph) (2.23.0)\n",
            "Requirement already satisfied: google-auth-oauthlib<0.5,>=0.4.1 in /usr/local/lib/python3.6/dist-packages (from tensorboard~=2.4->tensorflow>=2.1.0->stellargraph) (0.4.2)\n",
            "Requirement already satisfied: markdown>=2.6.8 in /usr/local/lib/python3.6/dist-packages (from tensorboard~=2.4->tensorflow>=2.1.0->stellargraph) (3.3.3)\n",
            "Requirement already satisfied: tensorboard-plugin-wit>=1.6.0 in /usr/local/lib/python3.6/dist-packages (from tensorboard~=2.4->tensorflow>=2.1.0->stellargraph) (1.7.0)\n",
            "Requirement already satisfied: google-auth<2,>=1.6.3 in /usr/local/lib/python3.6/dist-packages (from tensorboard~=2.4->tensorflow>=2.1.0->stellargraph) (1.17.2)\n",
            "Requirement already satisfied: idna<3,>=2.5 in /usr/local/lib/python3.6/dist-packages (from requests<3,>=2.21.0->tensorboard~=2.4->tensorflow>=2.1.0->stellargraph) (2.10)\n",
            "Requirement already satisfied: urllib3!=1.25.0,!=1.25.1,<1.26,>=1.21.1 in /usr/local/lib/python3.6/dist-packages (from requests<3,>=2.21.0->tensorboard~=2.4->tensorflow>=2.1.0->stellargraph) (1.24.3)\n",
            "Requirement already satisfied: certifi>=2017.4.17 in /usr/local/lib/python3.6/dist-packages (from requests<3,>=2.21.0->tensorboard~=2.4->tensorflow>=2.1.0->stellargraph) (2020.12.5)\n",
            "Requirement already satisfied: chardet<4,>=3.0.2 in /usr/local/lib/python3.6/dist-packages (from requests<3,>=2.21.0->tensorboard~=2.4->tensorflow>=2.1.0->stellargraph) (3.0.4)\n",
            "Requirement already satisfied: requests-oauthlib>=0.7.0 in /usr/local/lib/python3.6/dist-packages (from google-auth-oauthlib<0.5,>=0.4.1->tensorboard~=2.4->tensorflow>=2.1.0->stellargraph) (1.3.0)\n",
            "Requirement already satisfied: importlib-metadata; python_version < \"3.8\" in /usr/local/lib/python3.6/dist-packages (from markdown>=2.6.8->tensorboard~=2.4->tensorflow>=2.1.0->stellargraph) (3.3.0)\n",
            "Requirement already satisfied: pyasn1-modules>=0.2.1 in /usr/local/lib/python3.6/dist-packages (from google-auth<2,>=1.6.3->tensorboard~=2.4->tensorflow>=2.1.0->stellargraph) (0.2.8)\n",
            "Requirement already satisfied: cachetools<5.0,>=2.0.0 in /usr/local/lib/python3.6/dist-packages (from google-auth<2,>=1.6.3->tensorboard~=2.4->tensorflow>=2.1.0->stellargraph) (4.2.0)\n",
            "Requirement already satisfied: rsa<5,>=3.1.4; python_version >= \"3\" in /usr/local/lib/python3.6/dist-packages (from google-auth<2,>=1.6.3->tensorboard~=2.4->tensorflow>=2.1.0->stellargraph) (4.6)\n",
            "Requirement already satisfied: oauthlib>=3.0.0 in /usr/local/lib/python3.6/dist-packages (from requests-oauthlib>=0.7.0->google-auth-oauthlib<0.5,>=0.4.1->tensorboard~=2.4->tensorflow>=2.1.0->stellargraph) (3.1.0)\n",
            "Requirement already satisfied: zipp>=0.5 in /usr/local/lib/python3.6/dist-packages (from importlib-metadata; python_version < \"3.8\"->markdown>=2.6.8->tensorboard~=2.4->tensorflow>=2.1.0->stellargraph) (3.4.0)\n",
            "Requirement already satisfied: pyasn1<0.5.0,>=0.4.6 in /usr/local/lib/python3.6/dist-packages (from pyasn1-modules>=0.2.1->google-auth<2,>=1.6.3->tensorboard~=2.4->tensorflow>=2.1.0->stellargraph) (0.4.8)\n",
            "Installing collected packages: stellargraph\n",
            "Successfully installed stellargraph-1.2.1\n"
          ],
          "name": "stdout"
        }
      ]
    },
    {
      "cell_type": "code",
      "metadata": {
        "id": "rl3a91S8Biye"
      },
      "source": [
        "import glob\n",
        "import itertools\n",
        "from os.path import join\n",
        "import pickle\n",
        "from typing import List\n",
        "\n",
        "import matplotlib.pyplot as plt\n",
        "import numpy as np\n",
        "import pandas as pd\n",
        "import seaborn as sn\n",
        "import stellargraph as sg\n",
        "import tensorflow as tf\n",
        "import torch\n",
        "import torch.optim as optim\n",
        "import torch.nn as nn\n",
        "import torch.nn.functional as F\n",
        "from sklearn.metrics import f1_score, confusion_matrix, accuracy_score, classification_report\n",
        "from sklearn.model_selection import train_test_split\n",
        "from sklearn.preprocessing import LabelEncoder, LabelBinarizer\n",
        "from stellargraph import StellarGraph\n",
        "from stellargraph.mapper import FullBatchNodeGenerator\n",
        "from stellargraph.layer import GAT, GCN\n",
        "from tensorflow.keras import layers, models, optimizers, losses, metrics, Model\n",
        "from tensorflow.keras.callbacks import EarlyStopping, ModelCheckpoint\n",
        "from torch.utils import data as data_utils\n",
        "from tqdm import tqdm\n",
        "\n",
        "from google.colab import drive\n",
        "\n",
        "tqdm.pandas()"
      ],
      "execution_count": null,
      "outputs": []
    },
    {
      "cell_type": "markdown",
      "metadata": {
        "id": "YAaVMGcMkTjM"
      },
      "source": [
        "## Setting seed value"
      ]
    },
    {
      "cell_type": "code",
      "metadata": {
        "id": "ptuTrKBwkPV5"
      },
      "source": [
        "seed_value = 1234\n",
        "\n",
        "tf.random.set_seed(seed_value)\n",
        "np.random.seed(seed_value)"
      ],
      "execution_count": null,
      "outputs": []
    },
    {
      "cell_type": "markdown",
      "metadata": {
        "id": "2zsz5KNtCA95"
      },
      "source": [
        "## Mount Google Drive"
      ]
    },
    {
      "cell_type": "code",
      "metadata": {
        "id": "UsI7DpYzCFBU",
        "colab": {
          "base_uri": "https://localhost:8080/"
        },
        "outputId": "222a2e47-f7af-4f38-a5d7-20b8493c9938"
      },
      "source": [
        "drive.mount('/content/drive')"
      ],
      "execution_count": null,
      "outputs": [
        {
          "output_type": "stream",
          "text": [
            "Drive already mounted at /content/drive; to attempt to forcibly remount, call drive.mount(\"/content/drive\", force_remount=True).\n"
          ],
          "name": "stdout"
        }
      ]
    },
    {
      "cell_type": "markdown",
      "metadata": {
        "id": "LlZ2qErtBseM"
      },
      "source": [
        "## Data loading and preparing"
      ]
    },
    {
      "cell_type": "code",
      "metadata": {
        "id": "G2c3CBBmXXW2"
      },
      "source": [
        "data_vec = pd.read_csv(\"/content/drive/Shareddrives/GCN-PROJECT/wiki_pages_vec_1.csv\", index_col=0)\n",
        "data_vec = pd.concat([data_vec, pd.read_csv(\"/content/drive/Shareddrives/GCN-PROJECT/wiki_pages_vec_2.csv\", index_col=0)])\n",
        "data_vec = pd.concat([data_vec, pd.read_csv(\"/content/drive/Shareddrives/GCN-PROJECT/wiki_pages_vec_3.csv\", index_col=0)])"
      ],
      "execution_count": null,
      "outputs": []
    },
    {
      "cell_type": "code",
      "metadata": {
        "colab": {
          "base_uri": "https://localhost:8080/",
          "height": 221
        },
        "id": "ibhGmsxKYnQ_",
        "outputId": "9829363d-2dd3-45ab-f763-3b70206aa1cc"
      },
      "source": [
        "print(data_vec.shape)\n",
        "data_vec.head()"
      ],
      "execution_count": null,
      "outputs": [
        {
          "output_type": "stream",
          "text": [
            "(75443, 4)\n"
          ],
          "name": "stdout"
        },
        {
          "output_type": "execute_result",
          "data": {
            "text/html": [
              "<div>\n",
              "<style scoped>\n",
              "    .dataframe tbody tr th:only-of-type {\n",
              "        vertical-align: middle;\n",
              "    }\n",
              "\n",
              "    .dataframe tbody tr th {\n",
              "        vertical-align: top;\n",
              "    }\n",
              "\n",
              "    .dataframe thead th {\n",
              "        text-align: right;\n",
              "    }\n",
              "</style>\n",
              "<table border=\"1\" class=\"dataframe\">\n",
              "  <thead>\n",
              "    <tr style=\"text-align: right;\">\n",
              "      <th></th>\n",
              "      <th>title</th>\n",
              "      <th>text</th>\n",
              "      <th>category</th>\n",
              "      <th>doc_vec</th>\n",
              "    </tr>\n",
              "  </thead>\n",
              "  <tbody>\n",
              "    <tr>\n",
              "      <th>0</th>\n",
              "      <td>Mirosław_Miller</td>\n",
              "      <td>Mirosław Miller – Dyrektor Międzynarodowego La...</td>\n",
              "      <td>Chemia</td>\n",
              "      <td>[-0.21992587 -0.02075839 -0.01461587  0.394395...</td>\n",
              "    </tr>\n",
              "    <tr>\n",
              "      <th>1</th>\n",
              "      <td>Chimerokształtne</td>\n",
              "      <td>Chimerokształtne, chimery, przerazy (Chimaerif...</td>\n",
              "      <td>Biologia</td>\n",
              "      <td>[ 1.14831321e-01  4.09914285e-01 -2.47822907e-...</td>\n",
              "    </tr>\n",
              "    <tr>\n",
              "      <th>2</th>\n",
              "      <td>(2855)_Bastian</td>\n",
              "      <td>(2855) Bastian (1931 TB2) – planetoida z grupy...</td>\n",
              "      <td>Astronomia</td>\n",
              "      <td>[-6.03997707e-02 -2.87019789e-01  5.24464190e-...</td>\n",
              "    </tr>\n",
              "    <tr>\n",
              "      <th>3</th>\n",
              "      <td>Cryptocephalus_celtibericus</td>\n",
              "      <td>\"Cryptocephalus celtibericus\" – gatunek chrząs...</td>\n",
              "      <td>Biologia</td>\n",
              "      <td>[ 2.02097625e-01 -1.45113677e-01  3.91446799e-...</td>\n",
              "    </tr>\n",
              "    <tr>\n",
              "      <th>4</th>\n",
              "      <td>Język_maszynowy</td>\n",
              "      <td>Język maszynowy, kod maszynowy – zestaw rozkaz...</td>\n",
              "      <td>Matematyka</td>\n",
              "      <td>[ 5.24712503e-01 -9.46738869e-02  1.93830967e-...</td>\n",
              "    </tr>\n",
              "  </tbody>\n",
              "</table>\n",
              "</div>"
            ],
            "text/plain": [
              "                         title  ...                                            doc_vec\n",
              "0              Mirosław_Miller  ...  [-0.21992587 -0.02075839 -0.01461587  0.394395...\n",
              "1             Chimerokształtne  ...  [ 1.14831321e-01  4.09914285e-01 -2.47822907e-...\n",
              "2               (2855)_Bastian  ...  [-6.03997707e-02 -2.87019789e-01  5.24464190e-...\n",
              "3  Cryptocephalus_celtibericus  ...  [ 2.02097625e-01 -1.45113677e-01  3.91446799e-...\n",
              "4              Język_maszynowy  ...  [ 5.24712503e-01 -9.46738869e-02  1.93830967e-...\n",
              "\n",
              "[5 rows x 4 columns]"
            ]
          },
          "metadata": {
            "tags": []
          },
          "execution_count": 6
        }
      ]
    },
    {
      "cell_type": "code",
      "metadata": {
        "id": "o7vebKlpWQFN"
      },
      "source": [
        "data_vec = data_vec.drop_duplicates(subset=['title'])\n",
        "data_vec = data_vec.reset_index(drop=True)"
      ],
      "execution_count": null,
      "outputs": []
    },
    {
      "cell_type": "code",
      "metadata": {
        "colab": {
          "base_uri": "https://localhost:8080/"
        },
        "id": "-ye37kz9ZcAw",
        "outputId": "5f645fd3-6bcf-44f7-e059-2e499ccfe55e"
      },
      "source": [
        "# doc_vec column to list\n",
        "data_vec['doc_vec'] = data_vec['doc_vec'].progress_apply(\n",
        "    lambda vec: np.array(\n",
        "        list(\n",
        "            map(\n",
        "                lambda x: float(x),\n",
        "                vec[1:-1].replace('\\n', '').split()\n",
        "            )\n",
        "        )\n",
        "    )\n",
        ")"
      ],
      "execution_count": null,
      "outputs": [
        {
          "output_type": "stream",
          "text": [
            "100%|██████████| 75301/75301 [00:18<00:00, 3980.19it/s]\n"
          ],
          "name": "stderr"
        }
      ]
    },
    {
      "cell_type": "code",
      "metadata": {
        "colab": {
          "base_uri": "https://localhost:8080/"
        },
        "id": "Nh4Q1zyzcQ7c",
        "outputId": "20c5bc38-640e-488e-bd9f-c83d90c9f4a5"
      },
      "source": [
        "data_vec.iloc[0]['doc_vec'].shape"
      ],
      "execution_count": null,
      "outputs": [
        {
          "output_type": "execute_result",
          "data": {
            "text/plain": [
              "(768,)"
            ]
          },
          "metadata": {
            "tags": []
          },
          "execution_count": 9
        }
      ]
    },
    {
      "cell_type": "code",
      "metadata": {
        "colab": {
          "base_uri": "https://localhost:8080/",
          "height": 204
        },
        "id": "K0-g4QdneHVi",
        "outputId": "511773f4-9ce7-44e8-a4dc-18945e139013"
      },
      "source": [
        "# Encode target labels with value between 0 and n_classes-1\n",
        "le = LabelEncoder()\n",
        "le.fit(data_vec['category'].tolist())\n",
        "labels = le.transform(data_vec['category'].tolist())\n",
        "\n",
        "data_vec['category'] = labels\n",
        "\n",
        "data_vec.head()"
      ],
      "execution_count": null,
      "outputs": [
        {
          "output_type": "execute_result",
          "data": {
            "text/html": [
              "<div>\n",
              "<style scoped>\n",
              "    .dataframe tbody tr th:only-of-type {\n",
              "        vertical-align: middle;\n",
              "    }\n",
              "\n",
              "    .dataframe tbody tr th {\n",
              "        vertical-align: top;\n",
              "    }\n",
              "\n",
              "    .dataframe thead th {\n",
              "        text-align: right;\n",
              "    }\n",
              "</style>\n",
              "<table border=\"1\" class=\"dataframe\">\n",
              "  <thead>\n",
              "    <tr style=\"text-align: right;\">\n",
              "      <th></th>\n",
              "      <th>title</th>\n",
              "      <th>text</th>\n",
              "      <th>category</th>\n",
              "      <th>doc_vec</th>\n",
              "    </tr>\n",
              "  </thead>\n",
              "  <tbody>\n",
              "    <tr>\n",
              "      <th>0</th>\n",
              "      <td>Mirosław_Miller</td>\n",
              "      <td>Mirosław Miller – Dyrektor Międzynarodowego La...</td>\n",
              "      <td>2</td>\n",
              "      <td>[-0.21992587, -0.02075839, -0.01461587, 0.3943...</td>\n",
              "    </tr>\n",
              "    <tr>\n",
              "      <th>1</th>\n",
              "      <td>Chimerokształtne</td>\n",
              "      <td>Chimerokształtne, chimery, przerazy (Chimaerif...</td>\n",
              "      <td>1</td>\n",
              "      <td>[0.114831321, 0.409914285, -0.0247822907, 0.14...</td>\n",
              "    </tr>\n",
              "    <tr>\n",
              "      <th>2</th>\n",
              "      <td>(2855)_Bastian</td>\n",
              "      <td>(2855) Bastian (1931 TB2) – planetoida z grupy...</td>\n",
              "      <td>0</td>\n",
              "      <td>[-0.0603997707, -0.287019789, 0.52446419, 0.01...</td>\n",
              "    </tr>\n",
              "    <tr>\n",
              "      <th>3</th>\n",
              "      <td>Cryptocephalus_celtibericus</td>\n",
              "      <td>\"Cryptocephalus celtibericus\" – gatunek chrząs...</td>\n",
              "      <td>1</td>\n",
              "      <td>[0.202097625, -0.145113677, 0.391446799, 0.021...</td>\n",
              "    </tr>\n",
              "    <tr>\n",
              "      <th>4</th>\n",
              "      <td>Język_maszynowy</td>\n",
              "      <td>Język maszynowy, kod maszynowy – zestaw rozkaz...</td>\n",
              "      <td>5</td>\n",
              "      <td>[0.524712503, -0.0946738869, 0.193830967, 0.39...</td>\n",
              "    </tr>\n",
              "  </tbody>\n",
              "</table>\n",
              "</div>"
            ],
            "text/plain": [
              "                         title  ...                                            doc_vec\n",
              "0              Mirosław_Miller  ...  [-0.21992587, -0.02075839, -0.01461587, 0.3943...\n",
              "1             Chimerokształtne  ...  [0.114831321, 0.409914285, -0.0247822907, 0.14...\n",
              "2               (2855)_Bastian  ...  [-0.0603997707, -0.287019789, 0.52446419, 0.01...\n",
              "3  Cryptocephalus_celtibericus  ...  [0.202097625, -0.145113677, 0.391446799, 0.021...\n",
              "4              Język_maszynowy  ...  [0.524712503, -0.0946738869, 0.193830967, 0.39...\n",
              "\n",
              "[5 rows x 4 columns]"
            ]
          },
          "metadata": {
            "tags": []
          },
          "execution_count": 10
        }
      ]
    },
    {
      "cell_type": "code",
      "metadata": {
        "colab": {
          "base_uri": "https://localhost:8080/"
        },
        "id": "-_HgKVXZOS64",
        "outputId": "37592c77-abb1-4f30-caf2-7b9b9b7a49f3"
      },
      "source": [
        "lookup_dict = dict(enumerate(le.inverse_transform(range(7))))\n",
        "print(lookup_dict)\n",
        "\n",
        "data_vec['category'].value_counts()"
      ],
      "execution_count": null,
      "outputs": [
        {
          "output_type": "stream",
          "text": [
            "{0: 'Astronomia', 1: 'Biologia', 2: 'Chemia', 3: 'Fizyka', 4: 'Informatyka', 5: 'Matematyka', 6: 'Psychologia'}\n"
          ],
          "name": "stdout"
        },
        {
          "output_type": "execute_result",
          "data": {
            "text/plain": [
              "0    25536\n",
              "1    23393\n",
              "5     7999\n",
              "6     5699\n",
              "3     5070\n",
              "4     4879\n",
              "2     2725\n",
              "Name: category, dtype: int64"
            ]
          },
          "metadata": {
            "tags": []
          },
          "execution_count": 11
        }
      ]
    },
    {
      "cell_type": "markdown",
      "metadata": {
        "id": "pUct2wH75M-2"
      },
      "source": [
        "## Helper functions"
      ]
    },
    {
      "cell_type": "code",
      "metadata": {
        "id": "wnh7g2k2439v"
      },
      "source": [
        "def conf_matrix(y_true, y_pred):\n",
        "    labels = tf.unique(y_true)[0].numpy()\n",
        "    labels.sort()\n",
        "\n",
        "    con_mat = confusion_matrix(y_true, y_pred)\n",
        "    con_mat_norm = np.around(con_mat.astype('float') / con_mat.sum(axis=1)[:, np.newaxis], decimals=2)\n",
        "\n",
        "    df_cm = pd.DataFrame(con_mat_norm,\n",
        "                        index = labels, \n",
        "                        columns = [i for i in labels])\n",
        "\n",
        "    plt.figure(figsize = (10,7))\n",
        "    plt.title(\"Confusion matrix\")\n",
        "    sn.heatmap(df_cm, annot=True, fmt='g')\n",
        "    plt.ylabel('True')\n",
        "    plt.xlabel('Predicted')\n",
        "    plt.show()"
      ],
      "execution_count": null,
      "outputs": []
    },
    {
      "cell_type": "markdown",
      "metadata": {
        "id": "_fFSCPKLbk19"
      },
      "source": [
        "## NN Model"
      ]
    },
    {
      "cell_type": "code",
      "metadata": {
        "id": "KVIaKjo1bgB0"
      },
      "source": [
        "model = tf.keras.Sequential([\n",
        "    tf.keras.layers.Dense(768, activation='relu'),\n",
        "    tf.keras.layers.Dense(128, activation='relu'),\n",
        "    tf.keras.layers.Dense(7, activation='softmax')\n",
        "])"
      ],
      "execution_count": null,
      "outputs": []
    },
    {
      "cell_type": "code",
      "metadata": {
        "id": "4KAsUzG_blyg"
      },
      "source": [
        "model.compile(optimizer=optimizers.Adam(lr=0.005),\n",
        "              loss=tf.keras.losses.SparseCategoricalCrossentropy(from_logits=False),\n",
        "              metrics=['accuracy'])"
      ],
      "execution_count": null,
      "outputs": []
    },
    {
      "cell_type": "code",
      "metadata": {
        "id": "hEWFZZQac5j-"
      },
      "source": [
        "X = data_vec['doc_vec']\n",
        "y = data_vec['category']"
      ],
      "execution_count": null,
      "outputs": []
    },
    {
      "cell_type": "code",
      "metadata": {
        "id": "8mvRRCp-lZ3K"
      },
      "source": [
        "# split X, y to train and test_val\n",
        "X_train, X_test_val, y_train, y_test_val = train_test_split(\n",
        "    X, y, test_size=0.3, stratify=y, random_state=seed_value\n",
        ")\n",
        "# split test_val to test and val\n",
        "X_test, X_val, y_test, y_val = train_test_split(\n",
        "    X_test_val, y_test_val, test_size=0.5, stratify=y_test_val, random_state=seed_value\n",
        ")\n",
        "# 0.5 x 0.3 = 0.15"
      ],
      "execution_count": null,
      "outputs": []
    },
    {
      "cell_type": "code",
      "metadata": {
        "colab": {
          "base_uri": "https://localhost:8080/"
        },
        "id": "QhNlBUUPYSgP",
        "outputId": "c340c391-a7d1-4cbd-dece-cb4aaf5c4525"
      },
      "source": [
        "print(f'Train: {len(y_train)}')\n",
        "print(f'Test: {len(y_test)}')\n",
        "print(f'Val: {len(y_val)}')"
      ],
      "execution_count": null,
      "outputs": [
        {
          "output_type": "stream",
          "text": [
            "Train: 52710\n",
            "Test: 11295\n",
            "Val: 11296\n"
          ],
          "name": "stdout"
        }
      ]
    },
    {
      "cell_type": "code",
      "metadata": {
        "colab": {
          "base_uri": "https://localhost:8080/"
        },
        "id": "7OgTlcO3dlde",
        "outputId": "b69efe3b-3ac5-4075-a2d1-8df79242c82c"
      },
      "source": [
        "history = model.fit(\n",
        "    tf.convert_to_tensor(np.stack(X_train)),\n",
        "    y_train,\n",
        "    epochs=10,\n",
        "    validation_data=(tf.convert_to_tensor(np.stack(X_val)), y_val)\n",
        ")"
      ],
      "execution_count": null,
      "outputs": [
        {
          "output_type": "stream",
          "text": [
            "Epoch 1/10\n",
            "1648/1648 [==============================] - 6s 3ms/step - loss: 0.5795 - accuracy: 0.8066 - val_loss: 0.3868 - val_accuracy: 0.8538\n",
            "Epoch 2/10\n",
            "1648/1648 [==============================] - 4s 2ms/step - loss: 0.3547 - accuracy: 0.8697 - val_loss: 0.3440 - val_accuracy: 0.8803\n",
            "Epoch 3/10\n",
            "1648/1648 [==============================] - 4s 3ms/step - loss: 0.3240 - accuracy: 0.8813 - val_loss: 0.3341 - val_accuracy: 0.8812\n",
            "Epoch 4/10\n",
            "1648/1648 [==============================] - 4s 3ms/step - loss: 0.3111 - accuracy: 0.8890 - val_loss: 0.3124 - val_accuracy: 0.8863\n",
            "Epoch 5/10\n",
            "1648/1648 [==============================] - 4s 3ms/step - loss: 0.3001 - accuracy: 0.8905 - val_loss: 0.3132 - val_accuracy: 0.8843\n",
            "Epoch 6/10\n",
            "1648/1648 [==============================] - 4s 2ms/step - loss: 0.2956 - accuracy: 0.8934 - val_loss: 0.3152 - val_accuracy: 0.8890\n",
            "Epoch 7/10\n",
            "1648/1648 [==============================] - 4s 3ms/step - loss: 0.2821 - accuracy: 0.8990 - val_loss: 0.3154 - val_accuracy: 0.8888\n",
            "Epoch 8/10\n",
            "1648/1648 [==============================] - 4s 3ms/step - loss: 0.2898 - accuracy: 0.8946 - val_loss: 0.3220 - val_accuracy: 0.8889\n",
            "Epoch 9/10\n",
            "1648/1648 [==============================] - 4s 3ms/step - loss: 0.2736 - accuracy: 0.9007 - val_loss: 0.3204 - val_accuracy: 0.8893\n",
            "Epoch 10/10\n",
            "1648/1648 [==============================] - 4s 2ms/step - loss: 0.2738 - accuracy: 0.9020 - val_loss: 0.3006 - val_accuracy: 0.8954\n"
          ],
          "name": "stdout"
        }
      ]
    },
    {
      "cell_type": "code",
      "metadata": {
        "colab": {
          "base_uri": "https://localhost:8080/",
          "height": 585
        },
        "id": "piG4w7F_hLFf",
        "outputId": "51f274c9-15a3-4902-e799-9cd9124c2978"
      },
      "source": [
        "sg.utils.plot_history(history)"
      ],
      "execution_count": null,
      "outputs": [
        {
          "output_type": "display_data",
          "data": {
            "image/png": "[encoded data removed]",
            "text/plain": [
              "<Figure size 504x576 with 2 Axes>"
            ]
          },
          "metadata": {
            "tags": [],
            "needs_background": "light"
          }
        }
      ]
    },
    {
      "cell_type": "code",
      "metadata": {
        "colab": {
          "base_uri": "https://localhost:8080/"
        },
        "id": "NuJCzrZCdvc6",
        "outputId": "39e9a5bd-b8a0-4c2f-ca65-fc4f61e392fc"
      },
      "source": [
        "y_pred = model.predict(tf.convert_to_tensor(np.stack(X_test)))\n",
        "y_pred = np.argmax(y_pred, axis=1)\n",
        "y_pred = le.inverse_transform(y_pred)\n",
        "\n",
        "y_pred[:10]"
      ],
      "execution_count": null,
      "outputs": [
        {
          "output_type": "execute_result",
          "data": {
            "text/plain": [
              "array(['Biologia', 'Biologia', 'Biologia', 'Fizyka', 'Biologia',\n",
              "       'Astronomia', 'Informatyka', 'Astronomia', 'Astronomia',\n",
              "       'Psychologia'], dtype='<U11')"
            ]
          },
          "metadata": {
            "tags": []
          },
          "execution_count": 28
        }
      ]
    },
    {
      "cell_type": "code",
      "metadata": {
        "colab": {
          "base_uri": "https://localhost:8080/"
        },
        "id": "5-U_psksj9IC",
        "outputId": "26b7991a-74be-4314-a17a-46f05d9c01bd"
      },
      "source": [
        "y_test = np.array(y_test)\n",
        "y_test = le.inverse_transform(y_test)\n",
        "\n",
        "y_test[:10]"
      ],
      "execution_count": null,
      "outputs": [
        {
          "output_type": "execute_result",
          "data": {
            "text/plain": [
              "array(['Biologia', 'Biologia', 'Biologia', 'Matematyka', 'Biologia',\n",
              "       'Astronomia', 'Informatyka', 'Astronomia', 'Astronomia',\n",
              "       'Psychologia'], dtype='<U11')"
            ]
          },
          "metadata": {
            "tags": []
          },
          "execution_count": 29
        }
      ]
    },
    {
      "cell_type": "code",
      "metadata": {
        "id": "7_aTTw92kQWo"
      },
      "source": [
        "with open('/content/drive/Shareddrives/GCN-PROJECT/gcn_2_results/nn_y_pred.pkl', 'wb') as f:\n",
        "    pickle.dump(y_pred, f)\n",
        "\n",
        "with open('/content/drive/Shareddrives/GCN-PROJECT/gcn_2_results/nn_y_test.pkl', 'wb') as f:\n",
        "    pickle.dump(y_test, f)"
      ],
      "execution_count": null,
      "outputs": []
    },
    {
      "cell_type": "code",
      "metadata": {
        "colab": {
          "base_uri": "https://localhost:8080/"
        },
        "id": "anq94suRkIIs",
        "outputId": "11df8a24-a3c2-4a60-92cb-03c2483d14a6"
      },
      "source": [
        "print(classification_report(y_test, y_pred))"
      ],
      "execution_count": null,
      "outputs": [
        {
          "output_type": "stream",
          "text": [
            "              precision    recall  f1-score   support\n",
            "\n",
            "  Astronomia       0.98      0.98      0.98      3830\n",
            "    Biologia       0.96      0.97      0.97      3509\n",
            "      Chemia       0.62      0.75      0.68       409\n",
            "      Fizyka       0.78      0.73      0.75       760\n",
            " Informatyka       0.69      0.77      0.73       732\n",
            "  Matematyka       0.82      0.72      0.77      1200\n",
            " Psychologia       0.81      0.81      0.81       855\n",
            "\n",
            "    accuracy                           0.90     11295\n",
            "   macro avg       0.81      0.82      0.81     11295\n",
            "weighted avg       0.90      0.90      0.90     11295\n",
            "\n"
          ],
          "name": "stdout"
        }
      ]
    },
    {
      "cell_type": "code",
      "metadata": {
        "colab": {
          "base_uri": "https://localhost:8080/",
          "height": 522
        },
        "id": "BHL3fI_Vkzv9",
        "outputId": "2286ce0b-eb2c-4fe5-afcb-522b85a9e30a"
      },
      "source": [
        "conf_matrix(\n",
        "    y_true=y_test,\n",
        "    y_pred=y_pred\n",
        ")"
      ],
      "execution_count": null,
      "outputs": [
        {
          "output_type": "display_data",
          "data": {
            "image/png": "[encoded data removed]",
            "text/plain": [
              "<Figure size 720x504 with 2 Axes>"
            ]
          },
          "metadata": {
            "tags": [],
            "needs_background": "light"
          }
        }
      ]
    },
    {
      "cell_type": "markdown",
      "metadata": {
        "id": "icOVcHUImRdh"
      },
      "source": [
        "## GNN Models"
      ]
    },
    {
      "cell_type": "markdown",
      "metadata": {
        "id": "6xC9FFw4COe2"
      },
      "source": [
        "### Data Preparation"
      ]
    },
    {
      "cell_type": "code",
      "metadata": {
        "id": "Wc9LTn3yk82W"
      },
      "source": [
        "node_data = data_vec[['title', 'doc_vec', 'category']]\n",
        "\n",
        "features_columns = ['x'+str(i+1) for i in range(node_data.iloc[0]['doc_vec'].shape[0])]\n",
        "\n",
        "node_data[features_columns] = pd.DataFrame(node_data['doc_vec'].tolist(), index=node_data.index)\n",
        "node_data = node_data.drop_duplicates(subset=['title'])\n",
        "node_data = node_data.set_index('title', drop=True)\n",
        "\n",
        "node_subjects = node_data['category']\n",
        "node_data = node_data.drop(columns=['doc_vec', 'category'])"
      ],
      "execution_count": null,
      "outputs": []
    },
    {
      "cell_type": "code",
      "metadata": {
        "colab": {
          "base_uri": "https://localhost:8080/",
          "height": 301
        },
        "id": "4yBl-fLU_i74",
        "outputId": "88bafe92-1b77-46e6-e23a-41a71c576830"
      },
      "source": [
        "print(node_data.shape)\n",
        "node_data.head()"
      ],
      "execution_count": null,
      "outputs": [
        {
          "output_type": "stream",
          "text": [
            "(75301, 768)\n"
          ],
          "name": "stdout"
        },
        {
          "output_type": "execute_result",
          "data": {
            "text/html": [
              "<div>\n",
              "<style scoped>\n",
              "    .dataframe tbody tr th:only-of-type {\n",
              "        vertical-align: middle;\n",
              "    }\n",
              "\n",
              "    .dataframe tbody tr th {\n",
              "        vertical-align: top;\n",
              "    }\n",
              "\n",
              "    .dataframe thead th {\n",
              "        text-align: right;\n",
              "    }\n",
              "</style>\n",
              "<table border=\"1\" class=\"dataframe\">\n",
              "  <thead>\n",
              "    <tr style=\"text-align: right;\">\n",
              "      <th></th>\n",
              "      <th>x1</th>\n",
              "      <th>x2</th>\n",
              "      <th>x3</th>\n",
              "      <th>x4</th>\n",
              "      <th>x5</th>\n",
              "      <th>x6</th>\n",
              "      <th>x7</th>\n",
              "      <th>x8</th>\n",
              "      <th>x9</th>\n",
              "      <th>x10</th>\n",
              "      <th>x11</th>\n",
              "      <th>x12</th>\n",
              "      <th>x13</th>\n",
              "      <th>x14</th>\n",
              "      <th>x15</th>\n",
              "      <th>x16</th>\n",
              "      <th>x17</th>\n",
              "      <th>x18</th>\n",
              "      <th>x19</th>\n",
              "      <th>x20</th>\n",
              "      <th>x21</th>\n",
              "      <th>x22</th>\n",
              "      <th>x23</th>\n",
              "      <th>x24</th>\n",
              "      <th>x25</th>\n",
              "      <th>x26</th>\n",
              "      <th>x27</th>\n",
              "      <th>x28</th>\n",
              "      <th>x29</th>\n",
              "      <th>x30</th>\n",
              "      <th>x31</th>\n",
              "      <th>x32</th>\n",
              "      <th>x33</th>\n",
              "      <th>x34</th>\n",
              "      <th>x35</th>\n",
              "      <th>x36</th>\n",
              "      <th>x37</th>\n",
              "      <th>x38</th>\n",
              "      <th>x39</th>\n",
              "      <th>x40</th>\n",
              "      <th>...</th>\n",
              "      <th>x729</th>\n",
              "      <th>x730</th>\n",
              "      <th>x731</th>\n",
              "      <th>x732</th>\n",
              "      <th>x733</th>\n",
              "      <th>x734</th>\n",
              "      <th>x735</th>\n",
              "      <th>x736</th>\n",
              "      <th>x737</th>\n",
              "      <th>x738</th>\n",
              "      <th>x739</th>\n",
              "      <th>x740</th>\n",
              "      <th>x741</th>\n",
              "      <th>x742</th>\n",
              "      <th>x743</th>\n",
              "      <th>x744</th>\n",
              "      <th>x745</th>\n",
              "      <th>x746</th>\n",
              "      <th>x747</th>\n",
              "      <th>x748</th>\n",
              "      <th>x749</th>\n",
              "      <th>x750</th>\n",
              "      <th>x751</th>\n",
              "      <th>x752</th>\n",
              "      <th>x753</th>\n",
              "      <th>x754</th>\n",
              "      <th>x755</th>\n",
              "      <th>x756</th>\n",
              "      <th>x757</th>\n",
              "      <th>x758</th>\n",
              "      <th>x759</th>\n",
              "      <th>x760</th>\n",
              "      <th>x761</th>\n",
              "      <th>x762</th>\n",
              "      <th>x763</th>\n",
              "      <th>x764</th>\n",
              "      <th>x765</th>\n",
              "      <th>x766</th>\n",
              "      <th>x767</th>\n",
              "      <th>x768</th>\n",
              "    </tr>\n",
              "    <tr>\n",
              "      <th>title</th>\n",
              "      <th></th>\n",
              "      <th></th>\n",
              "      <th></th>\n",
              "      <th></th>\n",
              "      <th></th>\n",
              "      <th></th>\n",
              "      <th></th>\n",
              "      <th></th>\n",
              "      <th></th>\n",
              "      <th></th>\n",
              "      <th></th>\n",
              "      <th></th>\n",
              "      <th></th>\n",
              "      <th></th>\n",
              "      <th></th>\n",
              "      <th></th>\n",
              "      <th></th>\n",
              "      <th></th>\n",
              "      <th></th>\n",
              "      <th></th>\n",
              "      <th></th>\n",
              "      <th></th>\n",
              "      <th></th>\n",
              "      <th></th>\n",
              "      <th></th>\n",
              "      <th></th>\n",
              "      <th></th>\n",
              "      <th></th>\n",
              "      <th></th>\n",
              "      <th></th>\n",
              "      <th></th>\n",
              "      <th></th>\n",
              "      <th></th>\n",
              "      <th></th>\n",
              "      <th></th>\n",
              "      <th></th>\n",
              "      <th></th>\n",
              "      <th></th>\n",
              "      <th></th>\n",
              "      <th></th>\n",
              "      <th></th>\n",
              "      <th></th>\n",
              "      <th></th>\n",
              "      <th></th>\n",
              "      <th></th>\n",
              "      <th></th>\n",
              "      <th></th>\n",
              "      <th></th>\n",
              "      <th></th>\n",
              "      <th></th>\n",
              "      <th></th>\n",
              "      <th></th>\n",
              "      <th></th>\n",
              "      <th></th>\n",
              "      <th></th>\n",
              "      <th></th>\n",
              "      <th></th>\n",
              "      <th></th>\n",
              "      <th></th>\n",
              "      <th></th>\n",
              "      <th></th>\n",
              "      <th></th>\n",
              "      <th></th>\n",
              "      <th></th>\n",
              "      <th></th>\n",
              "      <th></th>\n",
              "      <th></th>\n",
              "      <th></th>\n",
              "      <th></th>\n",
              "      <th></th>\n",
              "      <th></th>\n",
              "      <th></th>\n",
              "      <th></th>\n",
              "      <th></th>\n",
              "      <th></th>\n",
              "      <th></th>\n",
              "      <th></th>\n",
              "      <th></th>\n",
              "      <th></th>\n",
              "      <th></th>\n",
              "      <th></th>\n",
              "    </tr>\n",
              "  </thead>\n",
              "  <tbody>\n",
              "    <tr>\n",
              "      <th>Mirosław_Miller</th>\n",
              "      <td>-0.219926</td>\n",
              "      <td>-0.020758</td>\n",
              "      <td>-0.014616</td>\n",
              "      <td>0.394396</td>\n",
              "      <td>0.500316</td>\n",
              "      <td>-0.181580</td>\n",
              "      <td>-0.192722</td>\n",
              "      <td>-0.708210</td>\n",
              "      <td>0.473683</td>\n",
              "      <td>0.439326</td>\n",
              "      <td>0.530582</td>\n",
              "      <td>0.272025</td>\n",
              "      <td>0.634749</td>\n",
              "      <td>0.837265</td>\n",
              "      <td>0.808322</td>\n",
              "      <td>-0.125842</td>\n",
              "      <td>-0.271405</td>\n",
              "      <td>0.617461</td>\n",
              "      <td>0.115456</td>\n",
              "      <td>0.228076</td>\n",
              "      <td>0.463745</td>\n",
              "      <td>0.484825</td>\n",
              "      <td>-0.146430</td>\n",
              "      <td>-0.337708</td>\n",
              "      <td>-0.433751</td>\n",
              "      <td>-0.075304</td>\n",
              "      <td>0.705951</td>\n",
              "      <td>0.631060</td>\n",
              "      <td>0.363307</td>\n",
              "      <td>0.288020</td>\n",
              "      <td>-0.048990</td>\n",
              "      <td>-0.226470</td>\n",
              "      <td>-0.100440</td>\n",
              "      <td>-0.064261</td>\n",
              "      <td>0.232194</td>\n",
              "      <td>0.648149</td>\n",
              "      <td>0.368211</td>\n",
              "      <td>-0.013470</td>\n",
              "      <td>-0.317822</td>\n",
              "      <td>-0.060656</td>\n",
              "      <td>...</td>\n",
              "      <td>0.213190</td>\n",
              "      <td>-0.063614</td>\n",
              "      <td>0.005444</td>\n",
              "      <td>0.213546</td>\n",
              "      <td>0.181618</td>\n",
              "      <td>-0.802018</td>\n",
              "      <td>-0.196133</td>\n",
              "      <td>-0.596286</td>\n",
              "      <td>-0.405018</td>\n",
              "      <td>-0.074901</td>\n",
              "      <td>-0.119138</td>\n",
              "      <td>0.056574</td>\n",
              "      <td>-0.230043</td>\n",
              "      <td>0.504145</td>\n",
              "      <td>-0.108260</td>\n",
              "      <td>0.380613</td>\n",
              "      <td>-0.595839</td>\n",
              "      <td>0.187472</td>\n",
              "      <td>0.191988</td>\n",
              "      <td>0.597606</td>\n",
              "      <td>0.800470</td>\n",
              "      <td>0.386268</td>\n",
              "      <td>0.682949</td>\n",
              "      <td>0.712229</td>\n",
              "      <td>0.677780</td>\n",
              "      <td>-0.639878</td>\n",
              "      <td>0.196495</td>\n",
              "      <td>-0.221351</td>\n",
              "      <td>0.463456</td>\n",
              "      <td>0.331832</td>\n",
              "      <td>-0.671317</td>\n",
              "      <td>0.020494</td>\n",
              "      <td>0.668065</td>\n",
              "      <td>0.771456</td>\n",
              "      <td>0.031702</td>\n",
              "      <td>0.108481</td>\n",
              "      <td>-0.450070</td>\n",
              "      <td>-0.125325</td>\n",
              "      <td>0.289960</td>\n",
              "      <td>0.689580</td>\n",
              "    </tr>\n",
              "    <tr>\n",
              "      <th>Chimerokształtne</th>\n",
              "      <td>0.114831</td>\n",
              "      <td>0.409914</td>\n",
              "      <td>-0.024782</td>\n",
              "      <td>0.147265</td>\n",
              "      <td>0.317551</td>\n",
              "      <td>-0.199824</td>\n",
              "      <td>-0.122247</td>\n",
              "      <td>-0.535094</td>\n",
              "      <td>0.422980</td>\n",
              "      <td>0.346967</td>\n",
              "      <td>0.303326</td>\n",
              "      <td>-0.054668</td>\n",
              "      <td>0.672193</td>\n",
              "      <td>0.811492</td>\n",
              "      <td>0.202351</td>\n",
              "      <td>0.153528</td>\n",
              "      <td>-0.840887</td>\n",
              "      <td>0.754388</td>\n",
              "      <td>-0.021899</td>\n",
              "      <td>0.507661</td>\n",
              "      <td>0.335545</td>\n",
              "      <td>0.564200</td>\n",
              "      <td>-0.198836</td>\n",
              "      <td>0.131671</td>\n",
              "      <td>-0.755547</td>\n",
              "      <td>0.035302</td>\n",
              "      <td>0.711862</td>\n",
              "      <td>0.380230</td>\n",
              "      <td>0.467017</td>\n",
              "      <td>0.530130</td>\n",
              "      <td>0.280763</td>\n",
              "      <td>-0.051324</td>\n",
              "      <td>-0.088721</td>\n",
              "      <td>-0.389025</td>\n",
              "      <td>-0.232612</td>\n",
              "      <td>0.523665</td>\n",
              "      <td>0.113089</td>\n",
              "      <td>0.064074</td>\n",
              "      <td>-0.232191</td>\n",
              "      <td>0.006611</td>\n",
              "      <td>...</td>\n",
              "      <td>0.031356</td>\n",
              "      <td>-0.018578</td>\n",
              "      <td>0.332432</td>\n",
              "      <td>-0.196648</td>\n",
              "      <td>0.762116</td>\n",
              "      <td>-0.797382</td>\n",
              "      <td>-0.338181</td>\n",
              "      <td>-0.466067</td>\n",
              "      <td>-0.120869</td>\n",
              "      <td>-0.140519</td>\n",
              "      <td>-0.257714</td>\n",
              "      <td>-0.153664</td>\n",
              "      <td>-0.251419</td>\n",
              "      <td>0.425590</td>\n",
              "      <td>0.277819</td>\n",
              "      <td>0.038872</td>\n",
              "      <td>-0.229557</td>\n",
              "      <td>0.194886</td>\n",
              "      <td>-0.354827</td>\n",
              "      <td>0.601609</td>\n",
              "      <td>0.842410</td>\n",
              "      <td>-0.262562</td>\n",
              "      <td>0.480582</td>\n",
              "      <td>0.076605</td>\n",
              "      <td>-0.104705</td>\n",
              "      <td>-0.636899</td>\n",
              "      <td>0.305006</td>\n",
              "      <td>-0.257087</td>\n",
              "      <td>0.625114</td>\n",
              "      <td>0.616302</td>\n",
              "      <td>-0.737836</td>\n",
              "      <td>0.139394</td>\n",
              "      <td>0.598177</td>\n",
              "      <td>0.801906</td>\n",
              "      <td>-0.031240</td>\n",
              "      <td>0.137388</td>\n",
              "      <td>-0.135596</td>\n",
              "      <td>-0.185398</td>\n",
              "      <td>-0.099210</td>\n",
              "      <td>0.470500</td>\n",
              "    </tr>\n",
              "    <tr>\n",
              "      <th>(2855)_Bastian</th>\n",
              "      <td>-0.060400</td>\n",
              "      <td>-0.287020</td>\n",
              "      <td>0.524464</td>\n",
              "      <td>0.010869</td>\n",
              "      <td>0.361838</td>\n",
              "      <td>0.270922</td>\n",
              "      <td>-0.236963</td>\n",
              "      <td>-0.702777</td>\n",
              "      <td>0.067689</td>\n",
              "      <td>0.425118</td>\n",
              "      <td>0.442138</td>\n",
              "      <td>0.185016</td>\n",
              "      <td>0.655864</td>\n",
              "      <td>0.830952</td>\n",
              "      <td>0.150803</td>\n",
              "      <td>0.591725</td>\n",
              "      <td>-0.511207</td>\n",
              "      <td>0.330747</td>\n",
              "      <td>-0.401087</td>\n",
              "      <td>0.287391</td>\n",
              "      <td>-0.089807</td>\n",
              "      <td>0.378315</td>\n",
              "      <td>-0.566631</td>\n",
              "      <td>-0.413916</td>\n",
              "      <td>-0.776283</td>\n",
              "      <td>-0.603583</td>\n",
              "      <td>0.303189</td>\n",
              "      <td>-0.012703</td>\n",
              "      <td>0.590856</td>\n",
              "      <td>0.187999</td>\n",
              "      <td>-0.221558</td>\n",
              "      <td>0.223572</td>\n",
              "      <td>-0.469983</td>\n",
              "      <td>-0.083954</td>\n",
              "      <td>-0.071220</td>\n",
              "      <td>0.753422</td>\n",
              "      <td>-0.133702</td>\n",
              "      <td>0.581880</td>\n",
              "      <td>-0.587725</td>\n",
              "      <td>0.487189</td>\n",
              "      <td>...</td>\n",
              "      <td>0.630668</td>\n",
              "      <td>0.240670</td>\n",
              "      <td>0.202402</td>\n",
              "      <td>-0.318835</td>\n",
              "      <td>0.441645</td>\n",
              "      <td>-0.675024</td>\n",
              "      <td>-0.045359</td>\n",
              "      <td>-0.362277</td>\n",
              "      <td>-0.421742</td>\n",
              "      <td>-0.415869</td>\n",
              "      <td>-0.279742</td>\n",
              "      <td>-0.048752</td>\n",
              "      <td>-0.549688</td>\n",
              "      <td>0.557681</td>\n",
              "      <td>0.302163</td>\n",
              "      <td>0.136112</td>\n",
              "      <td>-0.253669</td>\n",
              "      <td>0.730310</td>\n",
              "      <td>-0.212954</td>\n",
              "      <td>0.617314</td>\n",
              "      <td>0.552607</td>\n",
              "      <td>-0.153099</td>\n",
              "      <td>0.589679</td>\n",
              "      <td>0.493204</td>\n",
              "      <td>0.287557</td>\n",
              "      <td>-0.131214</td>\n",
              "      <td>-0.066009</td>\n",
              "      <td>-0.468578</td>\n",
              "      <td>0.500029</td>\n",
              "      <td>0.368629</td>\n",
              "      <td>-0.822310</td>\n",
              "      <td>0.032054</td>\n",
              "      <td>0.242252</td>\n",
              "      <td>0.553949</td>\n",
              "      <td>-0.267992</td>\n",
              "      <td>-0.344484</td>\n",
              "      <td>-0.136683</td>\n",
              "      <td>-0.226183</td>\n",
              "      <td>0.323400</td>\n",
              "      <td>-0.046518</td>\n",
              "    </tr>\n",
              "    <tr>\n",
              "      <th>Cryptocephalus_celtibericus</th>\n",
              "      <td>0.202098</td>\n",
              "      <td>-0.145114</td>\n",
              "      <td>0.391447</td>\n",
              "      <td>0.021200</td>\n",
              "      <td>0.224448</td>\n",
              "      <td>0.032822</td>\n",
              "      <td>-0.430060</td>\n",
              "      <td>-0.290235</td>\n",
              "      <td>0.166879</td>\n",
              "      <td>0.617603</td>\n",
              "      <td>0.428709</td>\n",
              "      <td>0.202603</td>\n",
              "      <td>0.617266</td>\n",
              "      <td>0.769665</td>\n",
              "      <td>0.208997</td>\n",
              "      <td>0.333715</td>\n",
              "      <td>-0.816788</td>\n",
              "      <td>0.776852</td>\n",
              "      <td>-0.100071</td>\n",
              "      <td>0.611350</td>\n",
              "      <td>0.344158</td>\n",
              "      <td>0.621149</td>\n",
              "      <td>-0.235183</td>\n",
              "      <td>0.201298</td>\n",
              "      <td>-0.881020</td>\n",
              "      <td>-0.182275</td>\n",
              "      <td>0.611033</td>\n",
              "      <td>0.520459</td>\n",
              "      <td>0.431674</td>\n",
              "      <td>0.370501</td>\n",
              "      <td>0.067129</td>\n",
              "      <td>-0.278726</td>\n",
              "      <td>-0.125732</td>\n",
              "      <td>-0.575252</td>\n",
              "      <td>0.147851</td>\n",
              "      <td>0.472426</td>\n",
              "      <td>0.093926</td>\n",
              "      <td>0.281920</td>\n",
              "      <td>-0.310783</td>\n",
              "      <td>-0.396964</td>\n",
              "      <td>...</td>\n",
              "      <td>0.148287</td>\n",
              "      <td>-0.003908</td>\n",
              "      <td>0.443697</td>\n",
              "      <td>0.072537</td>\n",
              "      <td>0.438976</td>\n",
              "      <td>-0.864351</td>\n",
              "      <td>-0.243268</td>\n",
              "      <td>-0.407704</td>\n",
              "      <td>-0.162719</td>\n",
              "      <td>0.095343</td>\n",
              "      <td>-0.363262</td>\n",
              "      <td>0.231514</td>\n",
              "      <td>-0.206105</td>\n",
              "      <td>0.184530</td>\n",
              "      <td>0.464446</td>\n",
              "      <td>0.147684</td>\n",
              "      <td>-0.281584</td>\n",
              "      <td>0.328229</td>\n",
              "      <td>-0.450324</td>\n",
              "      <td>0.485036</td>\n",
              "      <td>0.701858</td>\n",
              "      <td>-0.243636</td>\n",
              "      <td>0.860521</td>\n",
              "      <td>0.600689</td>\n",
              "      <td>0.477260</td>\n",
              "      <td>-0.347431</td>\n",
              "      <td>0.265175</td>\n",
              "      <td>-0.420487</td>\n",
              "      <td>0.540403</td>\n",
              "      <td>0.643642</td>\n",
              "      <td>-0.733586</td>\n",
              "      <td>0.092182</td>\n",
              "      <td>0.571006</td>\n",
              "      <td>0.879470</td>\n",
              "      <td>0.016313</td>\n",
              "      <td>-0.177960</td>\n",
              "      <td>-0.367677</td>\n",
              "      <td>-0.120335</td>\n",
              "      <td>0.018981</td>\n",
              "      <td>0.555620</td>\n",
              "    </tr>\n",
              "    <tr>\n",
              "      <th>Język_maszynowy</th>\n",
              "      <td>0.524713</td>\n",
              "      <td>-0.094674</td>\n",
              "      <td>0.193831</td>\n",
              "      <td>0.392210</td>\n",
              "      <td>0.570837</td>\n",
              "      <td>-0.178284</td>\n",
              "      <td>-0.076394</td>\n",
              "      <td>-0.511447</td>\n",
              "      <td>0.148328</td>\n",
              "      <td>0.625187</td>\n",
              "      <td>0.195444</td>\n",
              "      <td>-0.005099</td>\n",
              "      <td>0.771912</td>\n",
              "      <td>0.642171</td>\n",
              "      <td>0.559426</td>\n",
              "      <td>-0.025839</td>\n",
              "      <td>-0.317238</td>\n",
              "      <td>0.916364</td>\n",
              "      <td>-0.126402</td>\n",
              "      <td>0.276977</td>\n",
              "      <td>0.355506</td>\n",
              "      <td>0.411032</td>\n",
              "      <td>-0.600609</td>\n",
              "      <td>-0.060925</td>\n",
              "      <td>-0.444267</td>\n",
              "      <td>-0.091692</td>\n",
              "      <td>0.523220</td>\n",
              "      <td>0.651013</td>\n",
              "      <td>0.429251</td>\n",
              "      <td>0.478760</td>\n",
              "      <td>-0.071204</td>\n",
              "      <td>-0.050796</td>\n",
              "      <td>-0.020467</td>\n",
              "      <td>-0.475437</td>\n",
              "      <td>0.168413</td>\n",
              "      <td>0.775962</td>\n",
              "      <td>0.091300</td>\n",
              "      <td>0.159182</td>\n",
              "      <td>-0.319989</td>\n",
              "      <td>-0.524489</td>\n",
              "      <td>...</td>\n",
              "      <td>0.302316</td>\n",
              "      <td>-0.413300</td>\n",
              "      <td>-0.021899</td>\n",
              "      <td>0.437491</td>\n",
              "      <td>0.362457</td>\n",
              "      <td>-0.829003</td>\n",
              "      <td>-0.073916</td>\n",
              "      <td>-0.291688</td>\n",
              "      <td>-0.613269</td>\n",
              "      <td>-0.015714</td>\n",
              "      <td>0.081635</td>\n",
              "      <td>-0.114934</td>\n",
              "      <td>-0.412266</td>\n",
              "      <td>0.639178</td>\n",
              "      <td>0.044080</td>\n",
              "      <td>0.009861</td>\n",
              "      <td>-0.234377</td>\n",
              "      <td>0.349733</td>\n",
              "      <td>0.196248</td>\n",
              "      <td>0.494294</td>\n",
              "      <td>0.625969</td>\n",
              "      <td>-0.032701</td>\n",
              "      <td>0.777739</td>\n",
              "      <td>0.544403</td>\n",
              "      <td>0.009164</td>\n",
              "      <td>-0.312855</td>\n",
              "      <td>0.254349</td>\n",
              "      <td>-0.101007</td>\n",
              "      <td>0.692936</td>\n",
              "      <td>0.304110</td>\n",
              "      <td>-0.744672</td>\n",
              "      <td>0.360402</td>\n",
              "      <td>0.726019</td>\n",
              "      <td>0.838541</td>\n",
              "      <td>-0.002974</td>\n",
              "      <td>0.277606</td>\n",
              "      <td>-0.531299</td>\n",
              "      <td>-0.074189</td>\n",
              "      <td>0.066945</td>\n",
              "      <td>0.488413</td>\n",
              "    </tr>\n",
              "  </tbody>\n",
              "</table>\n",
              "<p>5 rows × 768 columns</p>\n",
              "</div>"
            ],
            "text/plain": [
              "                                   x1        x2  ...      x767      x768\n",
              "title                                            ...                    \n",
              "Mirosław_Miller             -0.219926 -0.020758  ...  0.289960  0.689580\n",
              "Chimerokształtne             0.114831  0.409914  ... -0.099210  0.470500\n",
              "(2855)_Bastian              -0.060400 -0.287020  ...  0.323400 -0.046518\n",
              "Cryptocephalus_celtibericus  0.202098 -0.145114  ...  0.018981  0.555620\n",
              "Język_maszynowy              0.524713 -0.094674  ...  0.066945  0.488413\n",
              "\n",
              "[5 rows x 768 columns]"
            ]
          },
          "metadata": {
            "tags": []
          },
          "execution_count": 37
        }
      ]
    },
    {
      "cell_type": "code",
      "metadata": {
        "id": "hkre-dEQ8hIr"
      },
      "source": [
        "edges = pd.read_csv(\"/content/drive/Shareddrives/GCN-PROJECT/annotations.csv\", header=None)\n",
        "edges.columns = ['source', 'target']\n",
        "\n",
        "nodes_set = set(node_data.index)\n",
        "edges = edges[\n",
        "    (edges['source'].isin(nodes_set)) &\n",
        "    (edges['target'].isin(nodes_set))\n",
        "]"
      ],
      "execution_count": null,
      "outputs": []
    },
    {
      "cell_type": "code",
      "metadata": {
        "colab": {
          "base_uri": "https://localhost:8080/",
          "height": 221
        },
        "id": "_zIyChdF9mb_",
        "outputId": "29e57fc6-08de-40a0-bd24-61a786fc5f6e"
      },
      "source": [
        "print(edges.shape)\n",
        "edges.head()"
      ],
      "execution_count": null,
      "outputs": [
        {
          "output_type": "stream",
          "text": [
            "(346527, 2)\n"
          ],
          "name": "stdout"
        },
        {
          "output_type": "execute_result",
          "data": {
            "text/html": [
              "<div>\n",
              "<style scoped>\n",
              "    .dataframe tbody tr th:only-of-type {\n",
              "        vertical-align: middle;\n",
              "    }\n",
              "\n",
              "    .dataframe tbody tr th {\n",
              "        vertical-align: top;\n",
              "    }\n",
              "\n",
              "    .dataframe thead th {\n",
              "        text-align: right;\n",
              "    }\n",
              "</style>\n",
              "<table border=\"1\" class=\"dataframe\">\n",
              "  <thead>\n",
              "    <tr style=\"text-align: right;\">\n",
              "      <th></th>\n",
              "      <th>source</th>\n",
              "      <th>target</th>\n",
              "    </tr>\n",
              "  </thead>\n",
              "  <tbody>\n",
              "    <tr>\n",
              "      <th>0</th>\n",
              "      <td>AWK</td>\n",
              "      <td>Język_programowania</td>\n",
              "    </tr>\n",
              "    <tr>\n",
              "      <th>2</th>\n",
              "      <td>AWK</td>\n",
              "      <td>System_operacyjny</td>\n",
              "    </tr>\n",
              "    <tr>\n",
              "      <th>3</th>\n",
              "      <td>AWK</td>\n",
              "      <td>Unix</td>\n",
              "    </tr>\n",
              "    <tr>\n",
              "      <th>4</th>\n",
              "      <td>AWK</td>\n",
              "      <td>Tablica_asocjacyjna</td>\n",
              "    </tr>\n",
              "    <tr>\n",
              "      <th>6</th>\n",
              "      <td>AWK</td>\n",
              "      <td>Wyrażenie_regularne</td>\n",
              "    </tr>\n",
              "  </tbody>\n",
              "</table>\n",
              "</div>"
            ],
            "text/plain": [
              "  source               target\n",
              "0    AWK  Język_programowania\n",
              "2    AWK    System_operacyjny\n",
              "3    AWK                 Unix\n",
              "4    AWK  Tablica_asocjacyjna\n",
              "6    AWK  Wyrażenie_regularne"
            ]
          },
          "metadata": {
            "tags": []
          },
          "execution_count": 39
        }
      ]
    },
    {
      "cell_type": "markdown",
      "metadata": {
        "id": "Jm5es_VzC0-w"
      },
      "source": [
        "### StellarGraph"
      ]
    },
    {
      "cell_type": "code",
      "metadata": {
        "id": "XxqPjWww9p6D"
      },
      "source": [
        "stellar_graph = StellarGraph(\n",
        "    {'article': node_data},\n",
        "    {'annotation': edges}\n",
        ")"
      ],
      "execution_count": null,
      "outputs": []
    },
    {
      "cell_type": "code",
      "metadata": {
        "colab": {
          "base_uri": "https://localhost:8080/"
        },
        "id": "Prf472kaBByv",
        "outputId": "d67194c3-138f-4c4a-e3b3-72363a4961c8"
      },
      "source": [
        "print(stellar_graph.info())"
      ],
      "execution_count": null,
      "outputs": [
        {
          "output_type": "stream",
          "text": [
            "StellarGraph: Undirected multigraph\n",
            " Nodes: 75301, Edges: 346527\n",
            "\n",
            " Node types:\n",
            "  article: [75301]\n",
            "    Features: float32 vector, length 768\n",
            "    Edge types: article-annotation->article\n",
            "\n",
            " Edge types:\n",
            "    article-annotation->article: [346527]\n",
            "        Weights: all 1 (default)\n",
            "        Features: none\n"
          ],
          "name": "stdout"
        }
      ]
    },
    {
      "cell_type": "code",
      "metadata": {
        "colab": {
          "base_uri": "https://localhost:8080/"
        },
        "id": "wveHGTWT0VFI",
        "outputId": "47fddcb8-6a8b-4ecc-f9a9-e08e81dfafc8"
      },
      "source": [
        "print(set(node_subjects))\n",
        "print(len(node_subjects))"
      ],
      "execution_count": null,
      "outputs": [
        {
          "output_type": "stream",
          "text": [
            "{0, 1, 2, 3, 4, 5, 6}\n",
            "75301\n"
          ],
          "name": "stdout"
        }
      ]
    },
    {
      "cell_type": "markdown",
      "metadata": {
        "id": "19FsvqRA0vfk"
      },
      "source": [
        "### Data preparation"
      ]
    },
    {
      "cell_type": "code",
      "metadata": {
        "id": "fQDIV_mC03ji"
      },
      "source": [
        "# split node_subjects to train and test_val\n",
        "train_subjects, test_val_subjects = train_test_split(\n",
        "    node_subjects, test_size=0.3, stratify=node_subjects, random_state=seed_value\n",
        ")\n",
        "# split test_val_subjects to test_subjects and val_subjects\n",
        "test_subjects, val_subjects = train_test_split(\n",
        "    test_val_subjects, test_size=0.5, stratify=test_val_subjects, random_state=seed_value\n",
        ")\n",
        "# 0.5 x 0.3 = 0.15"
      ],
      "execution_count": null,
      "outputs": []
    },
    {
      "cell_type": "code",
      "metadata": {
        "colab": {
          "base_uri": "https://localhost:8080/"
        },
        "id": "Dif_miwY03Tq",
        "outputId": "4a663e9e-289a-4eb0-d232-52e97cf4a579"
      },
      "source": [
        "print(f'Train: {len(train_subjects)}')\n",
        "print(f'Test: {len(test_subjects)}')\n",
        "print(f'Val: {len(val_subjects)}')"
      ],
      "execution_count": null,
      "outputs": [
        {
          "output_type": "stream",
          "text": [
            "Train: 52710\n",
            "Test: 11295\n",
            "Val: 11296\n"
          ],
          "name": "stdout"
        }
      ]
    },
    {
      "cell_type": "code",
      "metadata": {
        "id": "5r7Ps3-Z07uK"
      },
      "source": [
        "target_encoding = LabelBinarizer()\n",
        "\n",
        "train_targets = target_encoding.fit_transform(train_subjects)\n",
        "test_targets = target_encoding.transform(test_subjects)\n",
        "val_targets = target_encoding.transform(val_subjects)"
      ],
      "execution_count": null,
      "outputs": []
    },
    {
      "cell_type": "markdown",
      "metadata": {
        "id": "AJUU3ClXDuOu"
      },
      "source": [
        "### GAT"
      ]
    },
    {
      "cell_type": "code",
      "metadata": {
        "id": "mqewfrOzHIX4"
      },
      "source": [
        "generator = FullBatchNodeGenerator(stellar_graph, method=\"gat\")\n",
        "\n",
        "train_gen = generator.flow(train_subjects.index, train_targets)\n",
        "test_gen = generator.flow(test_subjects.index, test_targets)\n",
        "val_gen = generator.flow(val_subjects.index, val_targets)"
      ],
      "execution_count": null,
      "outputs": []
    },
    {
      "cell_type": "code",
      "metadata": {
        "id": "DlXDNMq8HNj4"
      },
      "source": [
        "# gat = GAT(\n",
        "#     layer_sizes=[128, train_targets.shape[1]],\n",
        "#     activations=[\"elu\", \"softmax\"],\n",
        "#     attn_heads=8,\n",
        "#     generator=generator,\n",
        "#     in_dropout=0.5,\n",
        "#     attn_dropout=0.5,\n",
        "#     normalize=None,\n",
        "# )\n",
        "\n",
        "gat = GAT(\n",
        "    layer_sizes=[128, 128],\n",
        "    activations=[\"elu\", \"elu\"],\n",
        "    attn_heads=8,\n",
        "    generator=generator,\n",
        "    in_dropout=0.5,\n",
        "    attn_dropout=0.5,\n",
        "    normalize=None,\n",
        ")"
      ],
      "execution_count": null,
      "outputs": []
    },
    {
      "cell_type": "code",
      "metadata": {
        "id": "6XDOc86NHYuX"
      },
      "source": [
        "x_inp, x_out = gat.in_out_tensors()\n",
        "\n",
        "dense = tf.keras.layers.Dense(units=64, activation=\"relu\")(x_out)\n",
        "predictions = tf.keras.layers.Dense(units=train_targets.shape[1], activation=\"softmax\")(dense)"
      ],
      "execution_count": null,
      "outputs": []
    },
    {
      "cell_type": "code",
      "metadata": {
        "id": "FuHTf604H1Gq"
      },
      "source": [
        "model = Model(inputs=x_inp, outputs=predictions)\n",
        "\n",
        "model.compile(\n",
        "    optimizer=optimizers.Adam(lr=0.005),\n",
        "    loss=losses.categorical_crossentropy,\n",
        "    metrics=[\"acc\"],\n",
        ")"
      ],
      "execution_count": null,
      "outputs": []
    },
    {
      "cell_type": "code",
      "metadata": {
        "id": "pngUXC5EIGqc"
      },
      "source": [
        "# if not os.path.isdir(\"logs\"):\n",
        "#     os.makedirs(\"logs\")\n",
        "es_callback = EarlyStopping(\n",
        "    monitor=\"val_acc\", patience=20\n",
        ")  # patience is the number of epochs to wait before early stopping in case of no further improvement\n",
        "# mc_callback = ModelCheckpoint(\n",
        "#     \"logs/best_model.h5\", monitor=\"val_acc\", save_best_only=True, save_weights_only=True\n",
        "# )"
      ],
      "execution_count": null,
      "outputs": []
    },
    {
      "cell_type": "code",
      "metadata": {
        "colab": {
          "base_uri": "https://localhost:8080/"
        },
        "id": "f6Wm9UynILmP",
        "outputId": "7bb23882-d10d-40ee-bad7-5ff736733ff4"
      },
      "source": [
        "history_gat = model.fit(\n",
        "    train_gen,\n",
        "    epochs=100,\n",
        "    validation_data=val_gen,\n",
        "    verbose=2,\n",
        "    shuffle=False,  # this should be False, since shuffling data means shuffling the whole graph\n",
        "    # callbacks=[es_callback, mc_callback],\n",
        "    # callbacks=[es_callback],\n",
        ")"
      ],
      "execution_count": null,
      "outputs": [
        {
          "output_type": "stream",
          "text": [
            "Epoch 1/100\n",
            "1/1 - 5s - loss: 2.3566 - acc: 0.0873 - val_loss: 2.0442 - val_acc: 0.6404\n",
            "Epoch 2/100\n",
            "1/1 - 2s - loss: 2.4696 - acc: 0.5493 - val_loss: 4.6254 - val_acc: 0.0682\n",
            "Epoch 3/100\n",
            "1/1 - 2s - loss: 4.2108 - acc: 0.1138 - val_loss: 1.1609 - val_acc: 0.6879\n",
            "Epoch 4/100\n",
            "1/1 - 2s - loss: 1.8214 - acc: 0.5770 - val_loss: 2.9498 - val_acc: 0.5112\n",
            "Epoch 5/100\n",
            "1/1 - 2s - loss: 3.2771 - acc: 0.5116 - val_loss: 4.3727 - val_acc: 0.3391\n",
            "Epoch 6/100\n",
            "1/1 - 2s - loss: 3.9974 - acc: 0.3897 - val_loss: 0.9258 - val_acc: 0.7236\n",
            "Epoch 7/100\n",
            "1/1 - 2s - loss: 1.4691 - acc: 0.5549 - val_loss: 1.3712 - val_acc: 0.5812\n",
            "Epoch 8/100\n",
            "1/1 - 2s - loss: 1.6146 - acc: 0.5526 - val_loss: 1.2939 - val_acc: 0.5610\n",
            "Epoch 9/100\n",
            "1/1 - 2s - loss: 1.7383 - acc: 0.4571 - val_loss: 0.9340 - val_acc: 0.7071\n",
            "Epoch 10/100\n",
            "1/1 - 2s - loss: 1.1801 - acc: 0.6118 - val_loss: 0.9163 - val_acc: 0.7044\n",
            "Epoch 11/100\n",
            "1/1 - 2s - loss: 1.0600 - acc: 0.6252 - val_loss: 0.9429 - val_acc: 0.6758\n",
            "Epoch 12/100\n",
            "1/1 - 2s - loss: 0.9999 - acc: 0.6468 - val_loss: 0.8080 - val_acc: 0.7041\n",
            "Epoch 13/100\n",
            "1/1 - 2s - loss: 0.9285 - acc: 0.6901 - val_loss: 0.7653 - val_acc: 0.7269\n",
            "Epoch 14/100\n",
            "1/1 - 2s - loss: 0.9542 - acc: 0.6959 - val_loss: 0.7441 - val_acc: 0.7025\n",
            "Epoch 15/100\n",
            "1/1 - 2s - loss: 0.9012 - acc: 0.6909 - val_loss: 0.7613 - val_acc: 0.6729\n",
            "Epoch 16/100\n",
            "1/1 - 2s - loss: 0.8796 - acc: 0.6836 - val_loss: 0.7537 - val_acc: 0.6965\n",
            "Epoch 17/100\n",
            "1/1 - 2s - loss: 0.8282 - acc: 0.6937 - val_loss: 0.7144 - val_acc: 0.7267\n",
            "Epoch 18/100\n",
            "1/1 - 2s - loss: 0.8045 - acc: 0.7103 - val_loss: 0.6893 - val_acc: 0.7306\n",
            "Epoch 19/100\n",
            "1/1 - 2s - loss: 0.7898 - acc: 0.7148 - val_loss: 0.6688 - val_acc: 0.7443\n",
            "Epoch 20/100\n",
            "1/1 - 2s - loss: 0.7904 - acc: 0.7196 - val_loss: 0.6524 - val_acc: 0.7507\n",
            "Epoch 21/100\n",
            "1/1 - 2s - loss: 0.7693 - acc: 0.7234 - val_loss: 0.6414 - val_acc: 0.7518\n",
            "Epoch 22/100\n",
            "1/1 - 2s - loss: 0.7540 - acc: 0.7297 - val_loss: 0.6362 - val_acc: 0.7566\n",
            "Epoch 23/100\n",
            "1/1 - 2s - loss: 0.7422 - acc: 0.7273 - val_loss: 0.6308 - val_acc: 0.7576\n",
            "Epoch 24/100\n",
            "1/1 - 2s - loss: 0.7193 - acc: 0.7309 - val_loss: 0.6221 - val_acc: 0.7661\n",
            "Epoch 25/100\n",
            "1/1 - 2s - loss: 0.7167 - acc: 0.7318 - val_loss: 0.6086 - val_acc: 0.7659\n",
            "Epoch 26/100\n",
            "1/1 - 2s - loss: 0.7085 - acc: 0.7362 - val_loss: 0.5904 - val_acc: 0.7655\n",
            "Epoch 27/100\n",
            "1/1 - 2s - loss: 0.6948 - acc: 0.7407 - val_loss: 0.5720 - val_acc: 0.7666\n",
            "Epoch 28/100\n",
            "1/1 - 2s - loss: 0.6749 - acc: 0.7461 - val_loss: 0.5593 - val_acc: 0.7689\n",
            "Epoch 29/100\n",
            "1/1 - 2s - loss: 0.6662 - acc: 0.7486 - val_loss: 0.5521 - val_acc: 0.7711\n",
            "Epoch 30/100\n",
            "1/1 - 2s - loss: 0.6573 - acc: 0.7516 - val_loss: 0.5460 - val_acc: 0.7731\n",
            "Epoch 31/100\n",
            "1/1 - 2s - loss: 0.6453 - acc: 0.7551 - val_loss: 0.5411 - val_acc: 0.7808\n",
            "Epoch 32/100\n",
            "1/1 - 2s - loss: 0.6373 - acc: 0.7579 - val_loss: 0.5331 - val_acc: 0.8021\n",
            "Epoch 33/100\n",
            "1/1 - 2s - loss: 0.6228 - acc: 0.7675 - val_loss: 0.5182 - val_acc: 0.8198\n",
            "Epoch 34/100\n",
            "1/1 - 2s - loss: 0.6169 - acc: 0.7730 - val_loss: 0.5001 - val_acc: 0.8152\n",
            "Epoch 35/100\n",
            "1/1 - 2s - loss: 0.6005 - acc: 0.7809 - val_loss: 0.4846 - val_acc: 0.8068\n",
            "Epoch 36/100\n",
            "1/1 - 2s - loss: 0.5904 - acc: 0.7826 - val_loss: 0.4706 - val_acc: 0.8113\n",
            "Epoch 37/100\n",
            "1/1 - 2s - loss: 0.5842 - acc: 0.7849 - val_loss: 0.4610 - val_acc: 0.8264\n",
            "Epoch 38/100\n",
            "1/1 - 2s - loss: 0.5811 - acc: 0.7871 - val_loss: 0.4563 - val_acc: 0.8360\n",
            "Epoch 39/100\n",
            "1/1 - 2s - loss: 0.5673 - acc: 0.7951 - val_loss: 0.4502 - val_acc: 0.8338\n",
            "Epoch 40/100\n",
            "1/1 - 2s - loss: 0.5567 - acc: 0.7967 - val_loss: 0.4430 - val_acc: 0.8290\n",
            "Epoch 41/100\n",
            "1/1 - 2s - loss: 0.5484 - acc: 0.7979 - val_loss: 0.4383 - val_acc: 0.8234\n",
            "Epoch 42/100\n",
            "1/1 - 2s - loss: 0.5371 - acc: 0.7979 - val_loss: 0.4296 - val_acc: 0.8312\n",
            "Epoch 43/100\n",
            "1/1 - 2s - loss: 0.5315 - acc: 0.8024 - val_loss: 0.4236 - val_acc: 0.8384\n",
            "Epoch 44/100\n",
            "1/1 - 2s - loss: 0.5165 - acc: 0.8096 - val_loss: 0.4182 - val_acc: 0.8394\n",
            "Epoch 45/100\n",
            "1/1 - 2s - loss: 0.5162 - acc: 0.8109 - val_loss: 0.4121 - val_acc: 0.8414\n",
            "Epoch 46/100\n",
            "1/1 - 2s - loss: 0.5122 - acc: 0.8104 - val_loss: 0.4055 - val_acc: 0.8435\n",
            "Epoch 47/100\n",
            "1/1 - 2s - loss: 0.5049 - acc: 0.8138 - val_loss: 0.4017 - val_acc: 0.8440\n",
            "Epoch 48/100\n",
            "1/1 - 2s - loss: 0.4925 - acc: 0.8170 - val_loss: 0.3987 - val_acc: 0.8451\n",
            "Epoch 49/100\n",
            "1/1 - 2s - loss: 0.4897 - acc: 0.8201 - val_loss: 0.3937 - val_acc: 0.8470\n",
            "Epoch 50/100\n",
            "1/1 - 2s - loss: 0.4860 - acc: 0.8227 - val_loss: 0.3886 - val_acc: 0.8477\n",
            "Epoch 51/100\n",
            "1/1 - 2s - loss: 0.4771 - acc: 0.8238 - val_loss: 0.3856 - val_acc: 0.8499\n",
            "Epoch 52/100\n",
            "1/1 - 2s - loss: 0.4709 - acc: 0.8271 - val_loss: 0.3830 - val_acc: 0.8510\n",
            "Epoch 53/100\n",
            "1/1 - 2s - loss: 0.4677 - acc: 0.8292 - val_loss: 0.3806 - val_acc: 0.8521\n",
            "Epoch 54/100\n",
            "1/1 - 2s - loss: 0.4577 - acc: 0.8304 - val_loss: 0.3786 - val_acc: 0.8515\n",
            "Epoch 55/100\n",
            "1/1 - 2s - loss: 0.4588 - acc: 0.8313 - val_loss: 0.3762 - val_acc: 0.8538\n",
            "Epoch 56/100\n",
            "1/1 - 2s - loss: 0.4508 - acc: 0.8328 - val_loss: 0.3733 - val_acc: 0.8537\n",
            "Epoch 57/100\n",
            "1/1 - 2s - loss: 0.4478 - acc: 0.8352 - val_loss: 0.3699 - val_acc: 0.8560\n",
            "Epoch 58/100\n",
            "1/1 - 2s - loss: 0.4492 - acc: 0.8344 - val_loss: 0.3676 - val_acc: 0.8582\n",
            "Epoch 59/100\n",
            "1/1 - 2s - loss: 0.4439 - acc: 0.8382 - val_loss: 0.3654 - val_acc: 0.8588\n",
            "Epoch 60/100\n",
            "1/1 - 2s - loss: 0.4406 - acc: 0.8376 - val_loss: 0.3635 - val_acc: 0.8598\n",
            "Epoch 61/100\n",
            "1/1 - 2s - loss: 0.4310 - acc: 0.8419 - val_loss: 0.3622 - val_acc: 0.8605\n",
            "Epoch 62/100\n",
            "1/1 - 2s - loss: 0.4306 - acc: 0.8413 - val_loss: 0.3603 - val_acc: 0.8615\n",
            "Epoch 63/100\n",
            "1/1 - 2s - loss: 0.4256 - acc: 0.8408 - val_loss: 0.3570 - val_acc: 0.8620\n",
            "Epoch 64/100\n",
            "1/1 - 2s - loss: 0.4272 - acc: 0.8428 - val_loss: 0.3536 - val_acc: 0.8625\n",
            "Epoch 65/100\n",
            "1/1 - 2s - loss: 0.4231 - acc: 0.8448 - val_loss: 0.3518 - val_acc: 0.8632\n",
            "Epoch 66/100\n",
            "1/1 - 2s - loss: 0.4147 - acc: 0.8480 - val_loss: 0.3504 - val_acc: 0.8640\n",
            "Epoch 67/100\n",
            "1/1 - 2s - loss: 0.4204 - acc: 0.8459 - val_loss: 0.3497 - val_acc: 0.8638\n",
            "Epoch 68/100\n",
            "1/1 - 2s - loss: 0.4066 - acc: 0.8516 - val_loss: 0.3484 - val_acc: 0.8661\n",
            "Epoch 69/100\n",
            "1/1 - 2s - loss: 0.4125 - acc: 0.8477 - val_loss: 0.3469 - val_acc: 0.8666\n",
            "Epoch 70/100\n",
            "1/1 - 2s - loss: 0.4113 - acc: 0.8522 - val_loss: 0.3448 - val_acc: 0.8659\n",
            "Epoch 71/100\n",
            "1/1 - 2s - loss: 0.4051 - acc: 0.8536 - val_loss: 0.3433 - val_acc: 0.8673\n",
            "Epoch 72/100\n",
            "1/1 - 2s - loss: 0.4034 - acc: 0.8505 - val_loss: 0.3410 - val_acc: 0.8677\n",
            "Epoch 73/100\n",
            "1/1 - 2s - loss: 0.4073 - acc: 0.8524 - val_loss: 0.3391 - val_acc: 0.8684\n",
            "Epoch 74/100\n",
            "1/1 - 2s - loss: 0.4084 - acc: 0.8499 - val_loss: 0.3380 - val_acc: 0.8693\n",
            "Epoch 75/100\n",
            "1/1 - 2s - loss: 0.4114 - acc: 0.8519 - val_loss: 0.3376 - val_acc: 0.8681\n",
            "Epoch 76/100\n",
            "1/1 - 2s - loss: 0.4015 - acc: 0.8532 - val_loss: 0.3352 - val_acc: 0.8696\n",
            "Epoch 77/100\n",
            "1/1 - 2s - loss: 0.3932 - acc: 0.8575 - val_loss: 0.3314 - val_acc: 0.8723\n",
            "Epoch 78/100\n",
            "1/1 - 2s - loss: 0.4166 - acc: 0.8468 - val_loss: 0.3304 - val_acc: 0.8738\n",
            "Epoch 79/100\n",
            "1/1 - 2s - loss: 0.4086 - acc: 0.8537 - val_loss: 0.3301 - val_acc: 0.8738\n",
            "Epoch 80/100\n",
            "1/1 - 2s - loss: 0.4211 - acc: 0.8513 - val_loss: 0.3299 - val_acc: 0.8736\n",
            "Epoch 81/100\n",
            "1/1 - 2s - loss: 0.4097 - acc: 0.8533 - val_loss: 0.3317 - val_acc: 0.8719\n",
            "Epoch 82/100\n",
            "1/1 - 2s - loss: 0.4163 - acc: 0.8494 - val_loss: 0.3322 - val_acc: 0.8719\n",
            "Epoch 83/100\n",
            "1/1 - 2s - loss: 0.4194 - acc: 0.8492 - val_loss: 0.3298 - val_acc: 0.8729\n",
            "Epoch 84/100\n",
            "1/1 - 2s - loss: 0.4135 - acc: 0.8501 - val_loss: 0.3260 - val_acc: 0.8744\n",
            "Epoch 85/100\n",
            "1/1 - 2s - loss: 0.4123 - acc: 0.8535 - val_loss: 0.3248 - val_acc: 0.8768\n",
            "Epoch 86/100\n",
            "1/1 - 2s - loss: 0.4117 - acc: 0.8505 - val_loss: 0.3228 - val_acc: 0.8760\n",
            "Epoch 87/100\n",
            "1/1 - 2s - loss: 0.4023 - acc: 0.8546 - val_loss: 0.3235 - val_acc: 0.8738\n",
            "Epoch 88/100\n",
            "1/1 - 2s - loss: 0.4101 - acc: 0.8525 - val_loss: 0.3232 - val_acc: 0.8738\n",
            "Epoch 89/100\n",
            "1/1 - 2s - loss: 0.4051 - acc: 0.8536 - val_loss: 0.3222 - val_acc: 0.8760\n",
            "Epoch 90/100\n",
            "1/1 - 2s - loss: 0.4060 - acc: 0.8550 - val_loss: 0.3205 - val_acc: 0.8779\n",
            "Epoch 91/100\n",
            "1/1 - 2s - loss: 0.4036 - acc: 0.8546 - val_loss: 0.3180 - val_acc: 0.8779\n",
            "Epoch 92/100\n",
            "1/1 - 2s - loss: 0.4047 - acc: 0.8552 - val_loss: 0.3171 - val_acc: 0.8772\n",
            "Epoch 93/100\n",
            "1/1 - 2s - loss: 0.4043 - acc: 0.8575 - val_loss: 0.3156 - val_acc: 0.8798\n",
            "Epoch 94/100\n",
            "1/1 - 2s - loss: 0.3999 - acc: 0.8570 - val_loss: 0.3152 - val_acc: 0.8802\n",
            "Epoch 95/100\n",
            "1/1 - 2s - loss: 0.3958 - acc: 0.8596 - val_loss: 0.3150 - val_acc: 0.8805\n",
            "Epoch 96/100\n",
            "1/1 - 2s - loss: 0.3933 - acc: 0.8596 - val_loss: 0.3143 - val_acc: 0.8808\n",
            "Epoch 97/100\n",
            "1/1 - 2s - loss: 0.3918 - acc: 0.8605 - val_loss: 0.3133 - val_acc: 0.8808\n",
            "Epoch 98/100\n",
            "1/1 - 2s - loss: 0.3926 - acc: 0.8593 - val_loss: 0.3114 - val_acc: 0.8825\n",
            "Epoch 99/100\n",
            "1/1 - 2s - loss: 0.3894 - acc: 0.8608 - val_loss: 0.3100 - val_acc: 0.8823\n",
            "Epoch 100/100\n",
            "1/1 - 2s - loss: 0.3851 - acc: 0.8627 - val_loss: 0.3091 - val_acc: 0.8824\n"
          ],
          "name": "stdout"
        }
      ]
    },
    {
      "cell_type": "code",
      "metadata": {
        "colab": {
          "base_uri": "https://localhost:8080/",
          "height": 585
        },
        "id": "ZFZ7plxxIQ9g",
        "outputId": "86414a4e-a801-4616-eeba-c091cd6aaed1"
      },
      "source": [
        "sg.utils.plot_history(history_gat)"
      ],
      "execution_count": null,
      "outputs": [
        {
          "output_type": "display_data",
          "data": {
            "image/png": "[encoded data removed]",
            "text/plain": [
              "<Figure size 504x576 with 2 Axes>"
            ]
          },
          "metadata": {
            "tags": [],
            "needs_background": "light"
          }
        }
      ]
    },
    {
      "cell_type": "code",
      "metadata": {
        "colab": {
          "base_uri": "https://localhost:8080/"
        },
        "id": "lqe6AXs5JCiw",
        "outputId": "1c593130-e57d-45ff-87b8-4c862ff8a93b"
      },
      "source": [
        "test_metrics = model.evaluate(test_gen)\n",
        "\n",
        "print(\"\\nTest Set Metrics:\")\n",
        "for name, val in zip(model.metrics_names, test_metrics):\n",
        "    print(\"\\t{}: {:0.4f}\".format(name, val))"
      ],
      "execution_count": null,
      "outputs": [
        {
          "output_type": "stream",
          "text": [
            "1/1 [==============================] - 1s 697ms/step - loss: 0.3070 - acc: 0.8863\n",
            "\n",
            "Test Set Metrics:\n",
            "\tloss: 0.3070\n",
            "\tacc: 0.8863\n"
          ],
          "name": "stdout"
        }
      ]
    },
    {
      "cell_type": "code",
      "metadata": {
        "colab": {
          "base_uri": "https://localhost:8080/"
        },
        "id": "IQOWpgvI7jUJ",
        "outputId": "84e1bb27-7431-4007-a58c-84df94973f8f"
      },
      "source": [
        "y_pred = model.predict(test_gen)\n",
        "y_pred = target_encoding.inverse_transform(y_pred.squeeze())\n",
        "y_pred = le.inverse_transform(y_pred)\n",
        "\n",
        "y_pred[:10]"
      ],
      "execution_count": null,
      "outputs": [
        {
          "output_type": "execute_result",
          "data": {
            "text/plain": [
              "array(['Biologia', 'Biologia', 'Biologia', 'Matematyka', 'Biologia',\n",
              "       'Astronomia', 'Matematyka', 'Astronomia', 'Astronomia',\n",
              "       'Psychologia'], dtype='<U11')"
            ]
          },
          "metadata": {
            "tags": []
          },
          "execution_count": 54
        }
      ]
    },
    {
      "cell_type": "code",
      "metadata": {
        "colab": {
          "base_uri": "https://localhost:8080/"
        },
        "id": "PgbuEyoq7zGE",
        "outputId": "1a3c9bda-e3a6-46c0-e759-672e38dcebc2"
      },
      "source": [
        "y_test = target_encoding.inverse_transform(test_targets)\n",
        "y_test = le.inverse_transform(y_test)\n",
        "\n",
        "y_test[:10]"
      ],
      "execution_count": null,
      "outputs": [
        {
          "output_type": "execute_result",
          "data": {
            "text/plain": [
              "array(['Biologia', 'Biologia', 'Biologia', 'Matematyka', 'Biologia',\n",
              "       'Astronomia', 'Informatyka', 'Astronomia', 'Astronomia',\n",
              "       'Psychologia'], dtype='<U11')"
            ]
          },
          "metadata": {
            "tags": []
          },
          "execution_count": 55
        }
      ]
    },
    {
      "cell_type": "code",
      "metadata": {
        "id": "6z6E6Sf-ly8g"
      },
      "source": [
        "with open('/content/drive/Shareddrives/GCN-PROJECT/gcn_2_results/gat_y_pred.pkl', 'wb') as f:\n",
        "    pickle.dump(y_pred, f)\n",
        "\n",
        "with open('/content/drive/Shareddrives/GCN-PROJECT/gcn_2_results/gat_y_test.pkl', 'wb') as f:\n",
        "    pickle.dump(y_test, f)"
      ],
      "execution_count": null,
      "outputs": []
    },
    {
      "cell_type": "code",
      "metadata": {
        "colab": {
          "base_uri": "https://localhost:8080/"
        },
        "id": "JhyOrbsFKNtu",
        "outputId": "3e0d8527-cb00-4b63-c872-cc6315294726"
      },
      "source": [
        "print(classification_report(y_test, y_pred))"
      ],
      "execution_count": null,
      "outputs": [
        {
          "output_type": "stream",
          "text": [
            "              precision    recall  f1-score   support\n",
            "\n",
            "  Astronomia       0.98      0.99      0.98      3830\n",
            "    Biologia       0.96      0.96      0.96      3509\n",
            "      Chemia       0.62      0.51      0.56       409\n",
            "      Fizyka       0.74      0.80      0.77       760\n",
            " Informatyka       0.64      0.70      0.67       732\n",
            "  Matematyka       0.74      0.72      0.73      1200\n",
            " Psychologia       0.82      0.78      0.80       855\n",
            "\n",
            "    accuracy                           0.89     11295\n",
            "   macro avg       0.79      0.78      0.78     11295\n",
            "weighted avg       0.89      0.89      0.89     11295\n",
            "\n"
          ],
          "name": "stdout"
        }
      ]
    },
    {
      "cell_type": "code",
      "metadata": {
        "colab": {
          "base_uri": "https://localhost:8080/",
          "height": 522
        },
        "id": "XQzkeB9iNiuu",
        "outputId": "e70d675f-c9d2-4edd-b2ca-4ff68f9a96dd"
      },
      "source": [
        "conf_matrix(\n",
        "    y_true=y_test,\n",
        "    y_pred=y_pred\n",
        ")"
      ],
      "execution_count": null,
      "outputs": [
        {
          "output_type": "display_data",
          "data": {
            "image/png": "[encoded data removed]",
            "text/plain": [
              "<Figure size 720x504 with 2 Axes>"
            ]
          },
          "metadata": {
            "tags": [],
            "needs_background": "light"
          }
        }
      ]
    },
    {
      "cell_type": "markdown",
      "metadata": {
        "id": "9-cfGafF0Hec"
      },
      "source": [
        "### GCN"
      ]
    },
    {
      "cell_type": "code",
      "metadata": {
        "colab": {
          "base_uri": "https://localhost:8080/"
        },
        "id": "d0xeqQli1wcQ",
        "outputId": "577ed477-db51-4379-e5f3-9bff70f2333e"
      },
      "source": [
        "generator = FullBatchNodeGenerator(stellar_graph, method=\"gcn\")\n",
        "\n",
        "train_gen = generator.flow(train_subjects.index, train_targets)\n",
        "test_gen = generator.flow(test_subjects.index, test_targets)\n",
        "val_gen = generator.flow(val_subjects.index, val_targets)"
      ],
      "execution_count": null,
      "outputs": [
        {
          "output_type": "stream",
          "text": [
            "Using GCN (local pooling) filters...\n"
          ],
          "name": "stdout"
        }
      ]
    },
    {
      "cell_type": "code",
      "metadata": {
        "id": "Cjhb0jms0JWH"
      },
      "source": [
        "gcn = GCN(\n",
        "    layer_sizes=[128, 128],\n",
        "    activations=[\"elu\",\"elu\"],\n",
        "    generator=generator,\n",
        "    dropout=0.5\n",
        ")"
      ],
      "execution_count": null,
      "outputs": []
    },
    {
      "cell_type": "code",
      "metadata": {
        "id": "_gnGLipG0PP4"
      },
      "source": [
        "x_inp, x_out = gcn.in_out_tensors()\n",
        "\n",
        "dense = tf.keras.layers.Dense(units=64, activation=\"relu\")(x_out)\n",
        "predictions = tf.keras.layers.Dense(units=train_targets.shape[1], activation=\"softmax\")(dense)"
      ],
      "execution_count": null,
      "outputs": []
    },
    {
      "cell_type": "code",
      "metadata": {
        "id": "l-r-hqZ52Lqq"
      },
      "source": [
        "model = Model(inputs=x_inp, outputs=predictions)\n",
        "\n",
        "model.compile(\n",
        "    optimizer=optimizers.Adam(lr=0.005),\n",
        "    loss=losses.categorical_crossentropy,\n",
        "    metrics=[\"acc\"],\n",
        ")"
      ],
      "execution_count": null,
      "outputs": []
    },
    {
      "cell_type": "code",
      "metadata": {
        "id": "cALXucdk2Q0c"
      },
      "source": [
        "# if not os.path.isdir(\"logs\"):\n",
        "#     os.makedirs(\"logs\")\n",
        "es_callback = EarlyStopping(\n",
        "    monitor=\"val_acc\", patience=20\n",
        ")  # patience is the number of epochs to wait before early stopping in case of no further improvement\n",
        "# mc_callback = ModelCheckpoint(\n",
        "#     \"logs/best_model.h5\", monitor=\"val_acc\", save_best_only=True, save_weights_only=True\n",
        "# )"
      ],
      "execution_count": null,
      "outputs": []
    },
    {
      "cell_type": "code",
      "metadata": {
        "colab": {
          "base_uri": "https://localhost:8080/"
        },
        "id": "TIoxRSaX2Vn4",
        "outputId": "efbd400b-39a4-43bd-d279-a23c9fddbce0"
      },
      "source": [
        "history_gcn = model.fit(\n",
        "    train_gen,\n",
        "    epochs=100,\n",
        "    validation_data=val_gen,\n",
        "    verbose=2,\n",
        "    shuffle=False,  # this should be False, since shuffling data means shuffling the whole graph\n",
        "    # callbacks=[es_callback, mc_callback],\n",
        "    # callbacks=[es_callback],\n",
        ")"
      ],
      "execution_count": null,
      "outputs": [
        {
          "output_type": "stream",
          "text": [
            "Epoch 1/100\n",
            "1/1 - 1s - loss: 1.9466 - acc: 0.2918 - val_loss: 1.7081 - val_acc: 0.5494\n",
            "Epoch 2/100\n",
            "1/1 - 0s - loss: 1.7021 - acc: 0.5392 - val_loss: 2.8608 - val_acc: 0.3391\n",
            "Epoch 3/100\n",
            "1/1 - 0s - loss: 2.7967 - acc: 0.3398 - val_loss: 1.6521 - val_acc: 0.3405\n",
            "Epoch 4/100\n",
            "1/1 - 0s - loss: 1.6106 - acc: 0.3738 - val_loss: 1.5873 - val_acc: 0.4676\n",
            "Epoch 5/100\n",
            "1/1 - 0s - loss: 1.6332 - acc: 0.3313 - val_loss: 1.4222 - val_acc: 0.5017\n",
            "Epoch 6/100\n",
            "1/1 - 0s - loss: 1.5103 - acc: 0.4663 - val_loss: 1.1421 - val_acc: 0.6264\n",
            "Epoch 7/100\n",
            "1/1 - 0s - loss: 1.1755 - acc: 0.6207 - val_loss: 1.1680 - val_acc: 0.5705\n",
            "Epoch 8/100\n",
            "1/1 - 0s - loss: 1.1714 - acc: 0.5952 - val_loss: 1.0446 - val_acc: 0.6470\n",
            "Epoch 9/100\n",
            "1/1 - 0s - loss: 1.0730 - acc: 0.6375 - val_loss: 0.8970 - val_acc: 0.7230\n",
            "Epoch 10/100\n",
            "1/1 - 0s - loss: 0.9655 - acc: 0.6976 - val_loss: 0.8546 - val_acc: 0.7070\n",
            "Epoch 11/100\n",
            "1/1 - 0s - loss: 0.8982 - acc: 0.6888 - val_loss: 0.7819 - val_acc: 0.7220\n",
            "Epoch 12/100\n",
            "1/1 - 0s - loss: 0.8289 - acc: 0.7075 - val_loss: 0.7064 - val_acc: 0.7397\n",
            "Epoch 13/100\n",
            "1/1 - 0s - loss: 0.7511 - acc: 0.7274 - val_loss: 0.6673 - val_acc: 0.7697\n",
            "Epoch 14/100\n",
            "1/1 - 0s - loss: 0.7223 - acc: 0.7528 - val_loss: 0.6325 - val_acc: 0.7657\n",
            "Epoch 15/100\n",
            "1/1 - 0s - loss: 0.6961 - acc: 0.7469 - val_loss: 0.5945 - val_acc: 0.7668\n",
            "Epoch 16/100\n",
            "1/1 - 0s - loss: 0.6558 - acc: 0.7525 - val_loss: 0.5715 - val_acc: 0.7751\n",
            "Epoch 17/100\n",
            "1/1 - 0s - loss: 0.6294 - acc: 0.7566 - val_loss: 0.5667 - val_acc: 0.7728\n",
            "Epoch 18/100\n",
            "1/1 - 0s - loss: 0.6220 - acc: 0.7598 - val_loss: 0.5564 - val_acc: 0.7833\n",
            "Epoch 19/100\n",
            "1/1 - 0s - loss: 0.6037 - acc: 0.7694 - val_loss: 0.5362 - val_acc: 0.8005\n",
            "Epoch 20/100\n",
            "1/1 - 0s - loss: 0.5929 - acc: 0.7775 - val_loss: 0.5121 - val_acc: 0.8123\n",
            "Epoch 21/100\n",
            "1/1 - 0s - loss: 0.5657 - acc: 0.7890 - val_loss: 0.5025 - val_acc: 0.8225\n",
            "Epoch 22/100\n",
            "1/1 - 0s - loss: 0.5597 - acc: 0.7980 - val_loss: 0.4993 - val_acc: 0.8159\n",
            "Epoch 23/100\n",
            "1/1 - 0s - loss: 0.5551 - acc: 0.7999 - val_loss: 0.4894 - val_acc: 0.8223\n",
            "Epoch 24/100\n",
            "1/1 - 0s - loss: 0.5460 - acc: 0.8035 - val_loss: 0.4735 - val_acc: 0.8285\n",
            "Epoch 25/100\n",
            "1/1 - 0s - loss: 0.5302 - acc: 0.8095 - val_loss: 0.4661 - val_acc: 0.8348\n",
            "Epoch 26/100\n",
            "1/1 - 0s - loss: 0.5079 - acc: 0.8195 - val_loss: 0.4629 - val_acc: 0.8398\n",
            "Epoch 27/100\n",
            "1/1 - 0s - loss: 0.5099 - acc: 0.8208 - val_loss: 0.4520 - val_acc: 0.8416\n",
            "Epoch 28/100\n",
            "1/1 - 0s - loss: 0.4979 - acc: 0.8239 - val_loss: 0.4415 - val_acc: 0.8448\n",
            "Epoch 29/100\n",
            "1/1 - 0s - loss: 0.4867 - acc: 0.8287 - val_loss: 0.4356 - val_acc: 0.8445\n",
            "Epoch 30/100\n",
            "1/1 - 0s - loss: 0.4800 - acc: 0.8289 - val_loss: 0.4287 - val_acc: 0.8450\n",
            "Epoch 31/100\n",
            "1/1 - 0s - loss: 0.4727 - acc: 0.8314 - val_loss: 0.4194 - val_acc: 0.8459\n",
            "Epoch 32/100\n",
            "1/1 - 0s - loss: 0.4649 - acc: 0.8327 - val_loss: 0.4114 - val_acc: 0.8499\n",
            "Epoch 33/100\n",
            "1/1 - 0s - loss: 0.4517 - acc: 0.8368 - val_loss: 0.4069 - val_acc: 0.8525\n",
            "Epoch 34/100\n",
            "1/1 - 0s - loss: 0.4469 - acc: 0.8378 - val_loss: 0.4032 - val_acc: 0.8546\n",
            "Epoch 35/100\n",
            "1/1 - 0s - loss: 0.4447 - acc: 0.8389 - val_loss: 0.3978 - val_acc: 0.8556\n",
            "Epoch 36/100\n",
            "1/1 - 0s - loss: 0.4386 - acc: 0.8463 - val_loss: 0.3930 - val_acc: 0.8566\n",
            "Epoch 37/100\n",
            "1/1 - 0s - loss: 0.4267 - acc: 0.8480 - val_loss: 0.3885 - val_acc: 0.8571\n",
            "Epoch 38/100\n",
            "1/1 - 0s - loss: 0.4293 - acc: 0.8445 - val_loss: 0.3828 - val_acc: 0.8593\n",
            "Epoch 39/100\n",
            "1/1 - 0s - loss: 0.4238 - acc: 0.8484 - val_loss: 0.3776 - val_acc: 0.8619\n",
            "Epoch 40/100\n",
            "1/1 - 0s - loss: 0.4164 - acc: 0.8501 - val_loss: 0.3736 - val_acc: 0.8624\n",
            "Epoch 41/100\n",
            "1/1 - 0s - loss: 0.4134 - acc: 0.8515 - val_loss: 0.3696 - val_acc: 0.8649\n",
            "Epoch 42/100\n",
            "1/1 - 0s - loss: 0.4123 - acc: 0.8517 - val_loss: 0.3659 - val_acc: 0.8680\n",
            "Epoch 43/100\n",
            "1/1 - 0s - loss: 0.4035 - acc: 0.8572 - val_loss: 0.3629 - val_acc: 0.8697\n",
            "Epoch 44/100\n",
            "1/1 - 0s - loss: 0.3977 - acc: 0.8606 - val_loss: 0.3600 - val_acc: 0.8711\n",
            "Epoch 45/100\n",
            "1/1 - 0s - loss: 0.3966 - acc: 0.8599 - val_loss: 0.3572 - val_acc: 0.8710\n",
            "Epoch 46/100\n",
            "1/1 - 0s - loss: 0.3931 - acc: 0.8619 - val_loss: 0.3536 - val_acc: 0.8707\n",
            "Epoch 47/100\n",
            "1/1 - 0s - loss: 0.3919 - acc: 0.8604 - val_loss: 0.3497 - val_acc: 0.8731\n",
            "Epoch 48/100\n",
            "1/1 - 0s - loss: 0.3876 - acc: 0.8626 - val_loss: 0.3475 - val_acc: 0.8746\n",
            "Epoch 49/100\n",
            "1/1 - 0s - loss: 0.3835 - acc: 0.8634 - val_loss: 0.3448 - val_acc: 0.8766\n",
            "Epoch 50/100\n",
            "1/1 - 0s - loss: 0.3811 - acc: 0.8665 - val_loss: 0.3412 - val_acc: 0.8770\n",
            "Epoch 51/100\n",
            "1/1 - 0s - loss: 0.3775 - acc: 0.8679 - val_loss: 0.3391 - val_acc: 0.8762\n",
            "Epoch 52/100\n",
            "1/1 - 0s - loss: 0.3739 - acc: 0.8663 - val_loss: 0.3368 - val_acc: 0.8767\n",
            "Epoch 53/100\n",
            "1/1 - 0s - loss: 0.3724 - acc: 0.8698 - val_loss: 0.3339 - val_acc: 0.8798\n",
            "Epoch 54/100\n",
            "1/1 - 0s - loss: 0.3696 - acc: 0.8698 - val_loss: 0.3320 - val_acc: 0.8813\n",
            "Epoch 55/100\n",
            "1/1 - 0s - loss: 0.3681 - acc: 0.8714 - val_loss: 0.3301 - val_acc: 0.8839\n",
            "Epoch 56/100\n",
            "1/1 - 0s - loss: 0.3668 - acc: 0.8703 - val_loss: 0.3268 - val_acc: 0.8829\n",
            "Epoch 57/100\n",
            "1/1 - 0s - loss: 0.3652 - acc: 0.8710 - val_loss: 0.3245 - val_acc: 0.8822\n",
            "Epoch 58/100\n",
            "1/1 - 0s - loss: 0.3612 - acc: 0.8742 - val_loss: 0.3227 - val_acc: 0.8811\n",
            "Epoch 59/100\n",
            "1/1 - 0s - loss: 0.3601 - acc: 0.8734 - val_loss: 0.3203 - val_acc: 0.8835\n",
            "Epoch 60/100\n",
            "1/1 - 0s - loss: 0.3558 - acc: 0.8753 - val_loss: 0.3183 - val_acc: 0.8859\n",
            "Epoch 61/100\n",
            "1/1 - 0s - loss: 0.3565 - acc: 0.8757 - val_loss: 0.3163 - val_acc: 0.8855\n",
            "Epoch 62/100\n",
            "1/1 - 0s - loss: 0.3534 - acc: 0.8751 - val_loss: 0.3144 - val_acc: 0.8858\n",
            "Epoch 63/100\n",
            "1/1 - 0s - loss: 0.3492 - acc: 0.8786 - val_loss: 0.3124 - val_acc: 0.8871\n",
            "Epoch 64/100\n",
            "1/1 - 0s - loss: 0.3480 - acc: 0.8777 - val_loss: 0.3110 - val_acc: 0.8876\n",
            "Epoch 65/100\n",
            "1/1 - 0s - loss: 0.3458 - acc: 0.8796 - val_loss: 0.3093 - val_acc: 0.8891\n",
            "Epoch 66/100\n",
            "1/1 - 0s - loss: 0.3466 - acc: 0.8797 - val_loss: 0.3075 - val_acc: 0.8899\n",
            "Epoch 67/100\n",
            "1/1 - 0s - loss: 0.3479 - acc: 0.8788 - val_loss: 0.3058 - val_acc: 0.8894\n",
            "Epoch 68/100\n",
            "1/1 - 0s - loss: 0.3408 - acc: 0.8800 - val_loss: 0.3044 - val_acc: 0.8897\n",
            "Epoch 69/100\n",
            "1/1 - 0s - loss: 0.3409 - acc: 0.8813 - val_loss: 0.3033 - val_acc: 0.8900\n",
            "Epoch 70/100\n",
            "1/1 - 0s - loss: 0.3408 - acc: 0.8817 - val_loss: 0.3021 - val_acc: 0.8915\n",
            "Epoch 71/100\n",
            "1/1 - 0s - loss: 0.3364 - acc: 0.8832 - val_loss: 0.3006 - val_acc: 0.8910\n",
            "Epoch 72/100\n",
            "1/1 - 0s - loss: 0.3350 - acc: 0.8826 - val_loss: 0.2996 - val_acc: 0.8918\n",
            "Epoch 73/100\n",
            "1/1 - 0s - loss: 0.3365 - acc: 0.8845 - val_loss: 0.2983 - val_acc: 0.8911\n",
            "Epoch 74/100\n",
            "1/1 - 0s - loss: 0.3316 - acc: 0.8855 - val_loss: 0.2973 - val_acc: 0.8913\n",
            "Epoch 75/100\n",
            "1/1 - 0s - loss: 0.3312 - acc: 0.8847 - val_loss: 0.2962 - val_acc: 0.8924\n",
            "Epoch 76/100\n",
            "1/1 - 0s - loss: 0.3257 - acc: 0.8853 - val_loss: 0.2948 - val_acc: 0.8924\n",
            "Epoch 77/100\n",
            "1/1 - 0s - loss: 0.3288 - acc: 0.8841 - val_loss: 0.2935 - val_acc: 0.8929\n",
            "Epoch 78/100\n",
            "1/1 - 0s - loss: 0.3275 - acc: 0.8871 - val_loss: 0.2924 - val_acc: 0.8931\n",
            "Epoch 79/100\n",
            "1/1 - 0s - loss: 0.3256 - acc: 0.8868 - val_loss: 0.2911 - val_acc: 0.8940\n",
            "Epoch 80/100\n",
            "1/1 - 0s - loss: 0.3268 - acc: 0.8862 - val_loss: 0.2902 - val_acc: 0.8966\n",
            "Epoch 81/100\n",
            "1/1 - 0s - loss: 0.3275 - acc: 0.8858 - val_loss: 0.2891 - val_acc: 0.8953\n",
            "Epoch 82/100\n",
            "1/1 - 0s - loss: 0.3251 - acc: 0.8865 - val_loss: 0.2878 - val_acc: 0.8968\n",
            "Epoch 83/100\n",
            "1/1 - 0s - loss: 0.3216 - acc: 0.8885 - val_loss: 0.2869 - val_acc: 0.8970\n",
            "Epoch 84/100\n",
            "1/1 - 0s - loss: 0.3221 - acc: 0.8891 - val_loss: 0.2858 - val_acc: 0.8975\n",
            "Epoch 85/100\n",
            "1/1 - 0s - loss: 0.3230 - acc: 0.8891 - val_loss: 0.2852 - val_acc: 0.8980\n",
            "Epoch 86/100\n",
            "1/1 - 0s - loss: 0.3215 - acc: 0.8889 - val_loss: 0.2847 - val_acc: 0.8971\n",
            "Epoch 87/100\n",
            "1/1 - 0s - loss: 0.3199 - acc: 0.8889 - val_loss: 0.2838 - val_acc: 0.8985\n",
            "Epoch 88/100\n",
            "1/1 - 0s - loss: 0.3191 - acc: 0.8889 - val_loss: 0.2832 - val_acc: 0.8985\n",
            "Epoch 89/100\n",
            "1/1 - 0s - loss: 0.3210 - acc: 0.8888 - val_loss: 0.2828 - val_acc: 0.8976\n",
            "Epoch 90/100\n",
            "1/1 - 0s - loss: 0.3181 - acc: 0.8895 - val_loss: 0.2825 - val_acc: 0.8986\n",
            "Epoch 91/100\n",
            "1/1 - 0s - loss: 0.3150 - acc: 0.8927 - val_loss: 0.2816 - val_acc: 0.8989\n",
            "Epoch 92/100\n",
            "1/1 - 0s - loss: 0.3160 - acc: 0.8893 - val_loss: 0.2805 - val_acc: 0.9001\n",
            "Epoch 93/100\n",
            "1/1 - 0s - loss: 0.3132 - acc: 0.8924 - val_loss: 0.2799 - val_acc: 0.9003\n",
            "Epoch 94/100\n",
            "1/1 - 0s - loss: 0.3125 - acc: 0.8911 - val_loss: 0.2787 - val_acc: 0.9008\n",
            "Epoch 95/100\n",
            "1/1 - 0s - loss: 0.3132 - acc: 0.8908 - val_loss: 0.2783 - val_acc: 0.9005\n",
            "Epoch 96/100\n",
            "1/1 - 0s - loss: 0.3111 - acc: 0.8940 - val_loss: 0.2778 - val_acc: 0.9011\n",
            "Epoch 97/100\n",
            "1/1 - 0s - loss: 0.3112 - acc: 0.8934 - val_loss: 0.2765 - val_acc: 0.9012\n",
            "Epoch 98/100\n",
            "1/1 - 0s - loss: 0.3102 - acc: 0.8916 - val_loss: 0.2758 - val_acc: 0.9013\n",
            "Epoch 99/100\n",
            "1/1 - 0s - loss: 0.3094 - acc: 0.8926 - val_loss: 0.2752 - val_acc: 0.9016\n",
            "Epoch 100/100\n",
            "1/1 - 0s - loss: 0.3106 - acc: 0.8919 - val_loss: 0.2750 - val_acc: 0.9029\n"
          ],
          "name": "stdout"
        }
      ]
    },
    {
      "cell_type": "code",
      "metadata": {
        "colab": {
          "base_uri": "https://localhost:8080/",
          "height": 585
        },
        "id": "Na2oDKzp2bOM",
        "outputId": "decd2275-a0ae-4ae3-9e04-16bfa3d9efaa"
      },
      "source": [
        "sg.utils.plot_history(history_gcn)"
      ],
      "execution_count": null,
      "outputs": [
        {
          "output_type": "display_data",
          "data": {
            "image/png": "[encoded data removed]",
            "text/plain": [
              "<Figure size 504x576 with 2 Axes>"
            ]
          },
          "metadata": {
            "tags": [],
            "needs_background": "light"
          }
        }
      ]
    },
    {
      "cell_type": "code",
      "metadata": {
        "colab": {
          "base_uri": "https://localhost:8080/"
        },
        "id": "AgaP7jIs2ewB",
        "outputId": "7a92b6fe-0690-49e0-9d6c-60c99c56f040"
      },
      "source": [
        "test_metrics = model.evaluate(test_gen)\n",
        "\n",
        "print(\"\\nTest Set Metrics:\")\n",
        "for name, val in zip(model.metrics_names, test_metrics):\n",
        "    print(\"\\t{}: {:0.4f}\".format(name, val))"
      ],
      "execution_count": null,
      "outputs": [
        {
          "output_type": "stream",
          "text": [
            "1/1 [==============================] - 0s 150ms/step - loss: 0.2727 - acc: 0.9034\n",
            "\n",
            "Test Set Metrics:\n",
            "\tloss: 0.2727\n",
            "\tacc: 0.9034\n"
          ],
          "name": "stdout"
        }
      ]
    },
    {
      "cell_type": "code",
      "metadata": {
        "colab": {
          "base_uri": "https://localhost:8080/"
        },
        "id": "teRfcOWV2p6T",
        "outputId": "76689e57-ba11-4489-9b68-093087d71339"
      },
      "source": [
        "y_pred = model.predict(test_gen)\n",
        "y_pred = target_encoding.inverse_transform(y_pred.squeeze())\n",
        "y_pred = le.inverse_transform(y_pred)\n",
        "\n",
        "y_pred[:10]"
      ],
      "execution_count": null,
      "outputs": [
        {
          "output_type": "execute_result",
          "data": {
            "text/plain": [
              "array(['Biologia', 'Biologia', 'Biologia', 'Matematyka', 'Biologia',\n",
              "       'Astronomia', 'Matematyka', 'Astronomia', 'Astronomia',\n",
              "       'Psychologia'], dtype='<U11')"
            ]
          },
          "metadata": {
            "tags": []
          },
          "execution_count": 67
        }
      ]
    },
    {
      "cell_type": "code",
      "metadata": {
        "colab": {
          "base_uri": "https://localhost:8080/"
        },
        "id": "K6eefOj12tb-",
        "outputId": "64ee6bbc-4c15-48ba-b743-ed66e9cae107"
      },
      "source": [
        "y_test = target_encoding.inverse_transform(test_targets)\n",
        "y_test = le.inverse_transform(y_test)\n",
        "\n",
        "y_test[:10]"
      ],
      "execution_count": null,
      "outputs": [
        {
          "output_type": "execute_result",
          "data": {
            "text/plain": [
              "array(['Biologia', 'Biologia', 'Biologia', 'Matematyka', 'Biologia',\n",
              "       'Astronomia', 'Informatyka', 'Astronomia', 'Astronomia',\n",
              "       'Psychologia'], dtype='<U11')"
            ]
          },
          "metadata": {
            "tags": []
          },
          "execution_count": 68
        }
      ]
    },
    {
      "cell_type": "code",
      "metadata": {
        "id": "tffjxt8hmC7X"
      },
      "source": [
        "with open('/content/drive/Shareddrives/GCN-PROJECT/gcn_2_results/gcn_y_pred.pkl', 'wb') as f:\n",
        "    pickle.dump(y_pred, f)\n",
        "\n",
        "with open('/content/drive/Shareddrives/GCN-PROJECT/gcn_2_results/gcn_y_test.pkl', 'wb') as f:\n",
        "    pickle.dump(y_test, f)"
      ],
      "execution_count": null,
      "outputs": []
    },
    {
      "cell_type": "code",
      "metadata": {
        "colab": {
          "base_uri": "https://localhost:8080/"
        },
        "id": "sSA2Gt3z364Y",
        "outputId": "8015bc8a-c152-4d9e-868e-f5ac61ac14e1"
      },
      "source": [
        "print(classification_report(y_test, y_pred))"
      ],
      "execution_count": null,
      "outputs": [
        {
          "output_type": "stream",
          "text": [
            "              precision    recall  f1-score   support\n",
            "\n",
            "  Astronomia       0.98      0.99      0.98      3830\n",
            "    Biologia       0.95      0.98      0.96      3509\n",
            "      Chemia       0.69      0.59      0.63       409\n",
            "      Fizyka       0.81      0.79      0.80       760\n",
            " Informatyka       0.73      0.71      0.72       732\n",
            "  Matematyka       0.78      0.80      0.79      1200\n",
            " Psychologia       0.83      0.80      0.81       855\n",
            "\n",
            "    accuracy                           0.90     11295\n",
            "   macro avg       0.82      0.81      0.82     11295\n",
            "weighted avg       0.90      0.90      0.90     11295\n",
            "\n"
          ],
          "name": "stdout"
        }
      ]
    },
    {
      "cell_type": "code",
      "metadata": {
        "colab": {
          "base_uri": "https://localhost:8080/",
          "height": 522
        },
        "id": "AHgxoZbP4OfH",
        "outputId": "43591480-037e-4824-c476-ff127b5d3ed3"
      },
      "source": [
        "conf_matrix(\n",
        "    y_true=y_test,\n",
        "    y_pred=y_pred\n",
        ")"
      ],
      "execution_count": null,
      "outputs": [
        {
          "output_type": "display_data",
          "data": {
            "image/png": "[encoded data removed]",
            "text/plain": [
              "<Figure size 720x504 with 2 Axes>"
            ]
          },
          "metadata": {
            "tags": [],
            "needs_background": "light"
          }
        }
      ]
    },
    {
      "cell_type": "markdown",
      "metadata": {
        "id": "5Ff9Y8S7rvnn"
      },
      "source": [
        "# Inne"
      ]
    },
    {
      "cell_type": "code",
      "metadata": {
        "id": "p9kiVyTVskhx"
      },
      "source": [
        "import glob\n",
        "import itertools\n",
        "from os.path import join\n",
        "import pickle\n",
        "from typing import List\n",
        "\n",
        "import matplotlib.pyplot as plt\n",
        "import numpy as np\n",
        "import pandas as pd\n",
        "import seaborn as sn\n",
        "import stellargraph as sg\n",
        "import tensorflow as tf\n",
        "import torch\n",
        "import torch.optim as optim\n",
        "import torch.nn as nn\n",
        "import torch.nn.functional as F\n",
        "from sklearn.metrics import f1_score, confusion_matrix, accuracy_score, classification_report\n",
        "from sklearn.model_selection import train_test_split\n",
        "from sklearn.preprocessing import LabelEncoder, LabelBinarizer\n",
        "from stellargraph import StellarGraph\n",
        "from stellargraph.mapper import FullBatchNodeGenerator\n",
        "from stellargraph.layer import GAT, GCN\n",
        "from tensorflow.keras import layers, models, optimizers, losses, metrics, Model\n",
        "from tensorflow.keras.callbacks import EarlyStopping, ModelCheckpoint\n",
        "from torch.utils import data as data_utils\n",
        "from tqdm import tqdm\n",
        "\n",
        "from google.colab import drive\n",
        "\n",
        "tqdm.pandas()\n",
        "\n",
        "\n",
        "\n",
        "import pickle\n",
        "\n",
        "import matplotlib.pyplot as plt\n",
        "import numpy as np\n",
        "import pandas as pd\n",
        "import tensorflow as tf\n",
        "import seaborn as sn\n",
        "from sklearn.metrics import confusion_matrix, classification_report\n",
        "\n",
        "from google.colab import drive"
      ],
      "execution_count": null,
      "outputs": []
    },
    {
      "cell_type": "code",
      "metadata": {
        "id": "oXvFISwm4Tnp"
      },
      "source": [
        "with open('/content/drive/Shareddrives/GCN-PROJECT/gcn_2_results/nn_y_pred.pkl', 'rb') as f:\n",
        "    gcn_2_nn_pred = pickle.load(f)\n",
        "\n",
        "with open('/content/drive/Shareddrives/GCN-PROJECT/gcn_2_results/nn_y_test.pkl', 'rb') as f:\n",
        "    gcn_2_nn_true = pickle.load(f)\n",
        "\n",
        "with open('/content/drive/Shareddrives/GCN-PROJECT/gcn_2_results/gat_y_pred.pkl', 'rb') as f:\n",
        "    gcn_2_gat_pred = pickle.load(f)\n",
        "\n",
        "with open('/content/drive/Shareddrives/GCN-PROJECT/gcn_2_results/gat_y_test.pkl', 'rb') as f:\n",
        "    gcn_2_gat_true = pickle.load(f)\n",
        "\n",
        "with open('/content/drive/Shareddrives/GCN-PROJECT/gcn_2_results/gcn_y_pred.pkl', 'rb') as f:\n",
        "    gcn_2_gcn_pred = pickle.load(f)\n",
        "\n",
        "with open('/content/drive/Shareddrives/GCN-PROJECT/gcn_2_results/gcn_y_test.pkl', 'rb') as f:\n",
        "    gcn_2_gcn_true = pickle.load(f)\n",
        "\n",
        "# ---------------------------------------------------------------------------------------------\n",
        "with open('/content/drive/Shareddrives/GCN-PROJECT/gcn_3_results/onehot140_base_y_pred.pickle', 'rb') as f:\n",
        "    gcn_3_nn_pred = pickle.load(f)\n",
        "\n",
        "with open('/content/drive/Shareddrives/GCN-PROJECT/gcn_3_results/onehot140_base_y_true.pickle', 'rb') as f:\n",
        "    gcn_3_nn_true = pickle.load(f)\n",
        "\n",
        "with open('/content/drive/Shareddrives/GCN-PROJECT/gcn_3_results/onehot140_gat_y_pred.pickle', 'rb') as f:\n",
        "    gcn_3_gat_pred = pickle.load(f)\n",
        "\n",
        "with open('/content/drive/Shareddrives/GCN-PROJECT/gcn_3_results/onehot140_gat_y_true.pickle', 'rb') as f:\n",
        "    gcn_3_gat_true = pickle.load(f)\n",
        "\n",
        "with open('/content/drive/Shareddrives/GCN-PROJECT/gcn_3_results/onehot140_gcn_y_pred.pickle', 'rb') as f:\n",
        "    gcn_3_gcn_pred = pickle.load(f)\n",
        "\n",
        "with open('/content/drive/Shareddrives/GCN-PROJECT/gcn_3_results/onehot140_gcn_y_true.pickle', 'rb') as f:\n",
        "    gcn_3_gcn_true = pickle.load(f)"
      ],
      "execution_count": null,
      "outputs": []
    },
    {
      "cell_type": "code",
      "metadata": {
        "id": "OmE9Wnenrxx0"
      },
      "source": [
        "def get_classification_report(y_true, y_pred):\n",
        "    print(classification_report(y_true, y_pred))\n",
        "\n",
        "\n",
        "def get_conf_matrix(y_true, y_pred):\n",
        "    labels = tf.unique(y_true)[0].numpy()\n",
        "    labels.sort()\n",
        "\n",
        "    con_mat = confusion_matrix(y_true, y_pred)\n",
        "    con_mat_norm = np.around(con_mat.astype('float') / con_mat.sum(axis=1)[:, np.newaxis], decimals=2)\n",
        "\n",
        "    df_cm = pd.DataFrame(con_mat_norm,\n",
        "                        index = labels, \n",
        "                        columns = [i for i in labels])\n",
        "\n",
        "    plt.figure(figsize = (10,7))\n",
        "    plt.title(\"Confusion matrix\")\n",
        "    sn.heatmap(df_cm, annot=True, fmt='g')\n",
        "    plt.ylabel('True')\n",
        "    plt.xlabel('Predicted')\n",
        "    plt.show()"
      ],
      "execution_count": null,
      "outputs": []
    },
    {
      "cell_type": "markdown",
      "metadata": {
        "id": "PflC6FFDtXxR"
      },
      "source": [
        "## Podejście 1 - NN"
      ]
    },
    {
      "cell_type": "code",
      "metadata": {
        "colab": {
          "base_uri": "https://localhost:8080/",
          "height": 760
        },
        "id": "KxfjBRrmtUWZ",
        "outputId": "0122a825-314e-47d7-af2f-846ae66e815c"
      },
      "source": [
        "get_classification_report(gcn_2_nn_true, gcn_2_nn_pred)\n",
        "\n",
        "get_conf_matrix(gcn_2_nn_true, gcn_2_nn_pred)"
      ],
      "execution_count": null,
      "outputs": [
        {
          "output_type": "stream",
          "text": [
            "              precision    recall  f1-score   support\n",
            "\n",
            "  Astronomia       0.98      0.98      0.98      3830\n",
            "    Biologia       0.96      0.97      0.97      3509\n",
            "      Chemia       0.62      0.75      0.68       409\n",
            "      Fizyka       0.78      0.73      0.75       760\n",
            " Informatyka       0.69      0.77      0.73       732\n",
            "  Matematyka       0.82      0.72      0.77      1200\n",
            " Psychologia       0.81      0.81      0.81       855\n",
            "\n",
            "    accuracy                           0.90     11295\n",
            "   macro avg       0.81      0.82      0.81     11295\n",
            "weighted avg       0.90      0.90      0.90     11295\n",
            "\n"
          ],
          "name": "stdout"
        },
        {
          "output_type": "display_data",
          "data": {
            "image/png": "[encoded data removed]",
            "text/plain": [
              "<Figure size 720x504 with 2 Axes>"
            ]
          },
          "metadata": {
            "tags": [],
            "needs_background": "light"
          }
        }
      ]
    },
    {
      "cell_type": "code",
      "metadata": {
        "colab": {
          "base_uri": "https://localhost:8080/",
          "height": 760
        },
        "id": "Ptz7F5sgvR3i",
        "outputId": "786e253a-9c4a-4721-e44c-43264e2b44fd"
      },
      "source": [
        "get_classification_report(gcn_3_gat_true, gcn_3_gat_pred)\n",
        "\n",
        "get_conf_matrix(gcn_3_gat_true, gcn_3_gat_pred)"
      ],
      "execution_count": null,
      "outputs": [
        {
          "output_type": "stream",
          "text": [
            "              precision    recall  f1-score   support\n",
            "\n",
            "  Astronomia       0.98      0.99      0.98      3832\n",
            "    Biologia       0.88      0.97      0.92      3522\n",
            "      Chemia       0.71      0.53      0.61       416\n",
            "      Fizyka       0.79      0.69      0.74       768\n",
            " Informatyka       0.77      0.75      0.76       738\n",
            "  Matematyka       0.81      0.75      0.78      1211\n",
            " Psychologia       0.85      0.74      0.79       860\n",
            "\n",
            "    accuracy                           0.89     11347\n",
            "   macro avg       0.83      0.78      0.80     11347\n",
            "weighted avg       0.88      0.89      0.88     11347\n",
            "\n"
          ],
          "name": "stdout"
        },
        {
          "output_type": "display_data",
          "data": {
            "image/png": "[encoded data removed]",
            "text/plain": [
              "<Figure size 720x504 with 2 Axes>"
            ]
          },
          "metadata": {
            "tags": [],
            "needs_background": "light"
          }
        }
      ]
    },
    {
      "cell_type": "code",
      "metadata": {
        "colab": {
          "base_uri": "https://localhost:8080/",
          "height": 760
        },
        "id": "gWvGJuwUtrlX",
        "outputId": "3b82f28b-2c75-4040-81f2-1e305811ccf3"
      },
      "source": [
        "get_classification_report(gcn_3_gcn_true, gcn_3_gcn_pred)\n",
        "\n",
        "get_conf_matrix(gcn_3_gcn_true, gcn_3_gcn_pred)"
      ],
      "execution_count": null,
      "outputs": [
        {
          "output_type": "stream",
          "text": [
            "              precision    recall  f1-score   support\n",
            "\n",
            "  Astronomia       0.99      0.99      0.99      3832\n",
            "    Biologia       0.88      0.97      0.92      3522\n",
            "      Chemia       0.65      0.55      0.60       416\n",
            "      Fizyka       0.77      0.70      0.74       768\n",
            " Informatyka       0.75      0.74      0.74       738\n",
            "  Matematyka       0.82      0.73      0.77      1211\n",
            " Psychologia       0.83      0.73      0.78       860\n",
            "\n",
            "    accuracy                           0.88     11347\n",
            "   macro avg       0.81      0.77      0.79     11347\n",
            "weighted avg       0.88      0.88      0.88     11347\n",
            "\n"
          ],
          "name": "stdout"
        },
        {
          "output_type": "display_data",
          "data": {
            "image/png": "[encoded data removed]",
            "text/plain": [
              "<Figure size 720x504 with 2 Axes>"
            ]
          },
          "metadata": {
            "tags": [],
            "needs_background": "light"
          }
        }
      ]
    },
    {
      "cell_type": "markdown",
      "metadata": {
        "id": "TgJPziy2v-9W"
      },
      "source": [
        "## Podejście 2"
      ]
    },
    {
      "cell_type": "code",
      "metadata": {
        "id": "nWu4UG_TuPf2"
      },
      "source": [
        ""
      ],
      "execution_count": null,
      "outputs": []
    }
  ]
}