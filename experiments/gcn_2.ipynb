{
  "nbformat": 4,
  "nbformat_minor": 0,
  "metadata": {
    "accelerator": "GPU",
    "colab": {
      "name": "gcn_2.ipynb",
      "provenance": [],
      "collapsed_sections": []
    },
    "kernelspec": {
      "display_name": "Python 3",
      "language": "python",
      "name": "python3"
    },
    "language_info": {
      "codemirror_mode": {
        "name": "ipython",
        "version": 3
      },
      "file_extension": ".py",
      "mimetype": "text/x-python",
      "name": "python",
      "nbconvert_exporter": "python",
      "pygments_lexer": "ipython3",
      "version": "3.6.12"
    }
  },
  "cells": [
    {
      "cell_type": "code",
      "metadata": {
        "colab": {
          "base_uri": "https://localhost:8080/"
        },
        "id": "UEmMY9lX8L_L",
        "outputId": "064042f9-ed07-4263-93e1-320e38700b3e"
      },
      "source": [
        "!pip install stellargraph"
      ],
      "execution_count": null,
      "outputs": [
        {
          "output_type": "stream",
          "text": [
            "Requirement already satisfied: stellargraph in /usr/local/lib/python3.6/dist-packages (1.2.1)\n",
            "Requirement already satisfied: scikit-learn>=0.20 in /usr/local/lib/python3.6/dist-packages (from stellargraph) (0.22.2.post1)\n",
            "Requirement already satisfied: pandas>=0.24 in /usr/local/lib/python3.6/dist-packages (from stellargraph) (1.1.5)\n",
            "Requirement already satisfied: matplotlib>=2.2 in /usr/local/lib/python3.6/dist-packages (from stellargraph) (3.2.2)\n",
            "Requirement already satisfied: tensorflow>=2.1.0 in /usr/local/lib/python3.6/dist-packages (from stellargraph) (2.4.0)\n",
            "Requirement already satisfied: numpy>=1.14 in /usr/local/lib/python3.6/dist-packages (from stellargraph) (1.19.5)\n",
            "Requirement already satisfied: networkx>=2.2 in /usr/local/lib/python3.6/dist-packages (from stellargraph) (2.5)\n",
            "Requirement already satisfied: gensim>=3.4.0 in /usr/local/lib/python3.6/dist-packages (from stellargraph) (3.6.0)\n",
            "Requirement already satisfied: scipy>=1.1.0 in /usr/local/lib/python3.6/dist-packages (from stellargraph) (1.4.1)\n",
            "Requirement already satisfied: joblib>=0.11 in /usr/local/lib/python3.6/dist-packages (from scikit-learn>=0.20->stellargraph) (1.0.0)\n",
            "Requirement already satisfied: python-dateutil>=2.7.3 in /usr/local/lib/python3.6/dist-packages (from pandas>=0.24->stellargraph) (2.8.1)\n",
            "Requirement already satisfied: pytz>=2017.2 in /usr/local/lib/python3.6/dist-packages (from pandas>=0.24->stellargraph) (2018.9)\n",
            "Requirement already satisfied: pyparsing!=2.0.4,!=2.1.2,!=2.1.6,>=2.0.1 in /usr/local/lib/python3.6/dist-packages (from matplotlib>=2.2->stellargraph) (2.4.7)\n",
            "Requirement already satisfied: cycler>=0.10 in /usr/local/lib/python3.6/dist-packages (from matplotlib>=2.2->stellargraph) (0.10.0)\n",
            "Requirement already satisfied: kiwisolver>=1.0.1 in /usr/local/lib/python3.6/dist-packages (from matplotlib>=2.2->stellargraph) (1.3.1)\n",
            "Requirement already satisfied: termcolor~=1.1.0 in /usr/local/lib/python3.6/dist-packages (from tensorflow>=2.1.0->stellargraph) (1.1.0)\n",
            "Requirement already satisfied: opt-einsum~=3.3.0 in /usr/local/lib/python3.6/dist-packages (from tensorflow>=2.1.0->stellargraph) (3.3.0)\n",
            "Requirement already satisfied: wheel~=0.35 in /usr/local/lib/python3.6/dist-packages (from tensorflow>=2.1.0->stellargraph) (0.36.2)\n",
            "Requirement already satisfied: wrapt~=1.12.1 in /usr/local/lib/python3.6/dist-packages (from tensorflow>=2.1.0->stellargraph) (1.12.1)\n",
            "Requirement already satisfied: gast==0.3.3 in /usr/local/lib/python3.6/dist-packages (from tensorflow>=2.1.0->stellargraph) (0.3.3)\n",
            "Requirement already satisfied: astunparse~=1.6.3 in /usr/local/lib/python3.6/dist-packages (from tensorflow>=2.1.0->stellargraph) (1.6.3)\n",
            "Requirement already satisfied: six~=1.15.0 in /usr/local/lib/python3.6/dist-packages (from tensorflow>=2.1.0->stellargraph) (1.15.0)\n",
            "Requirement already satisfied: tensorboard~=2.4 in /usr/local/lib/python3.6/dist-packages (from tensorflow>=2.1.0->stellargraph) (2.4.0)\n",
            "Requirement already satisfied: absl-py~=0.10 in /usr/local/lib/python3.6/dist-packages (from tensorflow>=2.1.0->stellargraph) (0.10.0)\n",
            "Requirement already satisfied: h5py~=2.10.0 in /usr/local/lib/python3.6/dist-packages (from tensorflow>=2.1.0->stellargraph) (2.10.0)\n",
            "Requirement already satisfied: protobuf>=3.9.2 in /usr/local/lib/python3.6/dist-packages (from tensorflow>=2.1.0->stellargraph) (3.12.4)\n",
            "Requirement already satisfied: flatbuffers~=1.12.0 in /usr/local/lib/python3.6/dist-packages (from tensorflow>=2.1.0->stellargraph) (1.12)\n",
            "Requirement already satisfied: keras-preprocessing~=1.1.2 in /usr/local/lib/python3.6/dist-packages (from tensorflow>=2.1.0->stellargraph) (1.1.2)\n",
            "Requirement already satisfied: grpcio~=1.32.0 in /usr/local/lib/python3.6/dist-packages (from tensorflow>=2.1.0->stellargraph) (1.32.0)\n",
            "Requirement already satisfied: google-pasta~=0.2 in /usr/local/lib/python3.6/dist-packages (from tensorflow>=2.1.0->stellargraph) (0.2.0)\n",
            "Requirement already satisfied: typing-extensions~=3.7.4 in /usr/local/lib/python3.6/dist-packages (from tensorflow>=2.1.0->stellargraph) (3.7.4.3)\n",
            "Requirement already satisfied: tensorflow-estimator<2.5.0,>=2.4.0rc0 in /usr/local/lib/python3.6/dist-packages (from tensorflow>=2.1.0->stellargraph) (2.4.0)\n",
            "Requirement already satisfied: decorator>=4.3.0 in /usr/local/lib/python3.6/dist-packages (from networkx>=2.2->stellargraph) (4.4.2)\n",
            "Requirement already satisfied: smart-open>=1.2.1 in /usr/local/lib/python3.6/dist-packages (from gensim>=3.4.0->stellargraph) (4.1.0)\n",
            "Requirement already satisfied: werkzeug>=0.11.15 in /usr/local/lib/python3.6/dist-packages (from tensorboard~=2.4->tensorflow>=2.1.0->stellargraph) (1.0.1)\n",
            "Requirement already satisfied: google-auth<2,>=1.6.3 in /usr/local/lib/python3.6/dist-packages (from tensorboard~=2.4->tensorflow>=2.1.0->stellargraph) (1.17.2)\n",
            "Requirement already satisfied: setuptools>=41.0.0 in /usr/local/lib/python3.6/dist-packages (from tensorboard~=2.4->tensorflow>=2.1.0->stellargraph) (51.3.3)\n",
            "Requirement already satisfied: google-auth-oauthlib<0.5,>=0.4.1 in /usr/local/lib/python3.6/dist-packages (from tensorboard~=2.4->tensorflow>=2.1.0->stellargraph) (0.4.2)\n",
            "Requirement already satisfied: tensorboard-plugin-wit>=1.6.0 in /usr/local/lib/python3.6/dist-packages (from tensorboard~=2.4->tensorflow>=2.1.0->stellargraph) (1.7.0)\n",
            "Requirement already satisfied: markdown>=2.6.8 in /usr/local/lib/python3.6/dist-packages (from tensorboard~=2.4->tensorflow>=2.1.0->stellargraph) (3.3.3)\n",
            "Requirement already satisfied: requests<3,>=2.21.0 in /usr/local/lib/python3.6/dist-packages (from tensorboard~=2.4->tensorflow>=2.1.0->stellargraph) (2.23.0)\n",
            "Requirement already satisfied: cachetools<5.0,>=2.0.0 in /usr/local/lib/python3.6/dist-packages (from google-auth<2,>=1.6.3->tensorboard~=2.4->tensorflow>=2.1.0->stellargraph) (4.2.0)\n",
            "Requirement already satisfied: pyasn1-modules>=0.2.1 in /usr/local/lib/python3.6/dist-packages (from google-auth<2,>=1.6.3->tensorboard~=2.4->tensorflow>=2.1.0->stellargraph) (0.2.8)\n",
            "Requirement already satisfied: rsa<5,>=3.1.4; python_version >= \"3\" in /usr/local/lib/python3.6/dist-packages (from google-auth<2,>=1.6.3->tensorboard~=2.4->tensorflow>=2.1.0->stellargraph) (4.6)\n",
            "Requirement already satisfied: requests-oauthlib>=0.7.0 in /usr/local/lib/python3.6/dist-packages (from google-auth-oauthlib<0.5,>=0.4.1->tensorboard~=2.4->tensorflow>=2.1.0->stellargraph) (1.3.0)\n",
            "Requirement already satisfied: importlib-metadata; python_version < \"3.8\" in /usr/local/lib/python3.6/dist-packages (from markdown>=2.6.8->tensorboard~=2.4->tensorflow>=2.1.0->stellargraph) (3.3.0)\n",
            "Requirement already satisfied: certifi>=2017.4.17 in /usr/local/lib/python3.6/dist-packages (from requests<3,>=2.21.0->tensorboard~=2.4->tensorflow>=2.1.0->stellargraph) (2020.12.5)\n",
            "Requirement already satisfied: idna<3,>=2.5 in /usr/local/lib/python3.6/dist-packages (from requests<3,>=2.21.0->tensorboard~=2.4->tensorflow>=2.1.0->stellargraph) (2.10)\n",
            "Requirement already satisfied: urllib3!=1.25.0,!=1.25.1,<1.26,>=1.21.1 in /usr/local/lib/python3.6/dist-packages (from requests<3,>=2.21.0->tensorboard~=2.4->tensorflow>=2.1.0->stellargraph) (1.24.3)\n",
            "Requirement already satisfied: chardet<4,>=3.0.2 in /usr/local/lib/python3.6/dist-packages (from requests<3,>=2.21.0->tensorboard~=2.4->tensorflow>=2.1.0->stellargraph) (3.0.4)\n",
            "Requirement already satisfied: pyasn1<0.5.0,>=0.4.6 in /usr/local/lib/python3.6/dist-packages (from pyasn1-modules>=0.2.1->google-auth<2,>=1.6.3->tensorboard~=2.4->tensorflow>=2.1.0->stellargraph) (0.4.8)\n",
            "Requirement already satisfied: oauthlib>=3.0.0 in /usr/local/lib/python3.6/dist-packages (from requests-oauthlib>=0.7.0->google-auth-oauthlib<0.5,>=0.4.1->tensorboard~=2.4->tensorflow>=2.1.0->stellargraph) (3.1.0)\n",
            "Requirement already satisfied: zipp>=0.5 in /usr/local/lib/python3.6/dist-packages (from importlib-metadata; python_version < \"3.8\"->markdown>=2.6.8->tensorboard~=2.4->tensorflow>=2.1.0->stellargraph) (3.4.0)\n"
          ],
          "name": "stdout"
        }
      ]
    },
    {
      "cell_type": "code",
      "metadata": {
        "id": "rl3a91S8Biye"
      },
      "source": [
        "import glob\n",
        "import itertools\n",
        "from os.path import join\n",
        "import pickle\n",
        "from typing import List\n",
        "\n",
        "import matplotlib.pyplot as plt\n",
        "import numpy as np\n",
        "import pandas as pd\n",
        "import seaborn as sn\n",
        "import stellargraph as sg\n",
        "import tensorflow as tf\n",
        "import torch\n",
        "import torch.optim as optim\n",
        "import torch.nn as nn\n",
        "import torch.nn.functional as F\n",
        "from sklearn.metrics import f1_score, confusion_matrix, accuracy_score, classification_report\n",
        "from sklearn.model_selection import train_test_split\n",
        "from sklearn.preprocessing import LabelEncoder, LabelBinarizer\n",
        "from stellargraph import StellarGraph\n",
        "from stellargraph.mapper import FullBatchNodeGenerator\n",
        "from stellargraph.layer import GAT, GCN\n",
        "from tensorflow.keras import layers, models, optimizers, losses, metrics, Model\n",
        "from tensorflow.keras.callbacks import EarlyStopping, ModelCheckpoint\n",
        "from torch.utils import data as data_utils\n",
        "from tqdm import tqdm\n",
        "\n",
        "from google.colab import drive\n",
        "\n",
        "tqdm.pandas()"
      ],
      "execution_count": null,
      "outputs": []
    },
    {
      "cell_type": "markdown",
      "metadata": {
        "id": "YAaVMGcMkTjM"
      },
      "source": [
        "## Setting seed value"
      ]
    },
    {
      "cell_type": "code",
      "metadata": {
        "id": "ptuTrKBwkPV5"
      },
      "source": [
        "seed_value = 1234\n",
        "\n",
        "tf.random.set_seed(seed_value)\n",
        "np.random.seed(seed_value)"
      ],
      "execution_count": null,
      "outputs": []
    },
    {
      "cell_type": "markdown",
      "metadata": {
        "id": "2zsz5KNtCA95"
      },
      "source": [
        "## Mount Google Drive"
      ]
    },
    {
      "cell_type": "code",
      "metadata": {
        "id": "UsI7DpYzCFBU",
        "colab": {
          "base_uri": "https://localhost:8080/"
        },
        "outputId": "40b0db7c-eea2-4c48-d857-0f21c8a99c19"
      },
      "source": [
        "drive.mount('/content/drive')"
      ],
      "execution_count": null,
      "outputs": [
        {
          "output_type": "stream",
          "text": [
            "Drive already mounted at /content/drive; to attempt to forcibly remount, call drive.mount(\"/content/drive\", force_remount=True).\n"
          ],
          "name": "stdout"
        }
      ]
    },
    {
      "cell_type": "markdown",
      "metadata": {
        "id": "LlZ2qErtBseM"
      },
      "source": [
        "## Data loading and preparing"
      ]
    },
    {
      "cell_type": "code",
      "metadata": {
        "id": "G2c3CBBmXXW2"
      },
      "source": [
        "data_vec = pd.read_csv(\"/content/drive/Shareddrives/GCN-PROJECT/wiki_pages_vec_1.csv\", index_col=0)\n",
        "data_vec = pd.concat([data_vec, pd.read_csv(\"/content/drive/Shareddrives/GCN-PROJECT/wiki_pages_vec_2.csv\", index_col=0)])\n",
        "data_vec = pd.concat([data_vec, pd.read_csv(\"/content/drive/Shareddrives/GCN-PROJECT/wiki_pages_vec_3.csv\", index_col=0)])"
      ],
      "execution_count": null,
      "outputs": []
    },
    {
      "cell_type": "code",
      "metadata": {
        "colab": {
          "base_uri": "https://localhost:8080/",
          "height": 221
        },
        "id": "ibhGmsxKYnQ_",
        "outputId": "9f67ce18-7c24-4034-926d-14e1faf83374"
      },
      "source": [
        "print(data_vec.shape)\n",
        "data_vec.head()"
      ],
      "execution_count": null,
      "outputs": [
        {
          "output_type": "stream",
          "text": [
            "(75443, 4)\n"
          ],
          "name": "stdout"
        },
        {
          "output_type": "execute_result",
          "data": {
            "text/html": [
              "<div>\n",
              "<style scoped>\n",
              "    .dataframe tbody tr th:only-of-type {\n",
              "        vertical-align: middle;\n",
              "    }\n",
              "\n",
              "    .dataframe tbody tr th {\n",
              "        vertical-align: top;\n",
              "    }\n",
              "\n",
              "    .dataframe thead th {\n",
              "        text-align: right;\n",
              "    }\n",
              "</style>\n",
              "<table border=\"1\" class=\"dataframe\">\n",
              "  <thead>\n",
              "    <tr style=\"text-align: right;\">\n",
              "      <th></th>\n",
              "      <th>title</th>\n",
              "      <th>text</th>\n",
              "      <th>category</th>\n",
              "      <th>doc_vec</th>\n",
              "    </tr>\n",
              "  </thead>\n",
              "  <tbody>\n",
              "    <tr>\n",
              "      <th>0</th>\n",
              "      <td>Mirosław_Miller</td>\n",
              "      <td>Mirosław Miller – Dyrektor Międzynarodowego La...</td>\n",
              "      <td>Chemia</td>\n",
              "      <td>[-0.21992587 -0.02075839 -0.01461587  0.394395...</td>\n",
              "    </tr>\n",
              "    <tr>\n",
              "      <th>1</th>\n",
              "      <td>Chimerokształtne</td>\n",
              "      <td>Chimerokształtne, chimery, przerazy (Chimaerif...</td>\n",
              "      <td>Biologia</td>\n",
              "      <td>[ 1.14831321e-01  4.09914285e-01 -2.47822907e-...</td>\n",
              "    </tr>\n",
              "    <tr>\n",
              "      <th>2</th>\n",
              "      <td>(2855)_Bastian</td>\n",
              "      <td>(2855) Bastian (1931 TB2) – planetoida z grupy...</td>\n",
              "      <td>Astronomia</td>\n",
              "      <td>[-6.03997707e-02 -2.87019789e-01  5.24464190e-...</td>\n",
              "    </tr>\n",
              "    <tr>\n",
              "      <th>3</th>\n",
              "      <td>Cryptocephalus_celtibericus</td>\n",
              "      <td>\"Cryptocephalus celtibericus\" – gatunek chrząs...</td>\n",
              "      <td>Biologia</td>\n",
              "      <td>[ 2.02097625e-01 -1.45113677e-01  3.91446799e-...</td>\n",
              "    </tr>\n",
              "    <tr>\n",
              "      <th>4</th>\n",
              "      <td>Język_maszynowy</td>\n",
              "      <td>Język maszynowy, kod maszynowy – zestaw rozkaz...</td>\n",
              "      <td>Matematyka</td>\n",
              "      <td>[ 5.24712503e-01 -9.46738869e-02  1.93830967e-...</td>\n",
              "    </tr>\n",
              "  </tbody>\n",
              "</table>\n",
              "</div>"
            ],
            "text/plain": [
              "                         title  ...                                            doc_vec\n",
              "0              Mirosław_Miller  ...  [-0.21992587 -0.02075839 -0.01461587  0.394395...\n",
              "1             Chimerokształtne  ...  [ 1.14831321e-01  4.09914285e-01 -2.47822907e-...\n",
              "2               (2855)_Bastian  ...  [-6.03997707e-02 -2.87019789e-01  5.24464190e-...\n",
              "3  Cryptocephalus_celtibericus  ...  [ 2.02097625e-01 -1.45113677e-01  3.91446799e-...\n",
              "4              Język_maszynowy  ...  [ 5.24712503e-01 -9.46738869e-02  1.93830967e-...\n",
              "\n",
              "[5 rows x 4 columns]"
            ]
          },
          "metadata": {
            "tags": []
          },
          "execution_count": 90
        }
      ]
    },
    {
      "cell_type": "code",
      "metadata": {
        "id": "o7vebKlpWQFN"
      },
      "source": [
        "data_vec = data_vec.drop_duplicates(subset=['title'])\n",
        "data_vec = data_vec.reset_index(drop=True)"
      ],
      "execution_count": null,
      "outputs": []
    },
    {
      "cell_type": "code",
      "metadata": {
        "colab": {
          "base_uri": "https://localhost:8080/"
        },
        "id": "-ye37kz9ZcAw",
        "outputId": "7b09ea0f-26db-4cc7-b300-4b01d4663dac"
      },
      "source": [
        "# doc_vec column to list\n",
        "data_vec['doc_vec'] = data_vec['doc_vec'].progress_apply(\n",
        "    lambda vec: np.array(\n",
        "        list(\n",
        "            map(\n",
        "                lambda x: float(x),\n",
        "                vec[1:-1].replace('\\n', '').split()\n",
        "            )\n",
        "        )\n",
        "    )\n",
        ")"
      ],
      "execution_count": null,
      "outputs": [
        {
          "output_type": "stream",
          "text": [
            "100%|██████████| 75301/75301 [00:18<00:00, 3998.52it/s]\n"
          ],
          "name": "stderr"
        }
      ]
    },
    {
      "cell_type": "code",
      "metadata": {
        "colab": {
          "base_uri": "https://localhost:8080/"
        },
        "id": "Nh4Q1zyzcQ7c",
        "outputId": "59c24670-1815-4ba4-fad1-faccdd1f607a"
      },
      "source": [
        "data_vec.iloc[0]['doc_vec'].shape"
      ],
      "execution_count": null,
      "outputs": [
        {
          "output_type": "execute_result",
          "data": {
            "text/plain": [
              "(768,)"
            ]
          },
          "metadata": {
            "tags": []
          },
          "execution_count": 93
        }
      ]
    },
    {
      "cell_type": "code",
      "metadata": {
        "colab": {
          "base_uri": "https://localhost:8080/",
          "height": 204
        },
        "id": "K0-g4QdneHVi",
        "outputId": "11d90ab1-2f42-425d-9ad6-7c1fa3481148"
      },
      "source": [
        "# Encode target labels with value between 0 and n_classes-1\n",
        "le = LabelEncoder()\n",
        "le.fit(data_vec['category'].tolist())\n",
        "labels = le.transform(data_vec['category'].tolist())\n",
        "\n",
        "data_vec['category'] = labels\n",
        "\n",
        "data_vec.head()"
      ],
      "execution_count": null,
      "outputs": [
        {
          "output_type": "execute_result",
          "data": {
            "text/html": [
              "<div>\n",
              "<style scoped>\n",
              "    .dataframe tbody tr th:only-of-type {\n",
              "        vertical-align: middle;\n",
              "    }\n",
              "\n",
              "    .dataframe tbody tr th {\n",
              "        vertical-align: top;\n",
              "    }\n",
              "\n",
              "    .dataframe thead th {\n",
              "        text-align: right;\n",
              "    }\n",
              "</style>\n",
              "<table border=\"1\" class=\"dataframe\">\n",
              "  <thead>\n",
              "    <tr style=\"text-align: right;\">\n",
              "      <th></th>\n",
              "      <th>title</th>\n",
              "      <th>text</th>\n",
              "      <th>category</th>\n",
              "      <th>doc_vec</th>\n",
              "    </tr>\n",
              "  </thead>\n",
              "  <tbody>\n",
              "    <tr>\n",
              "      <th>0</th>\n",
              "      <td>Mirosław_Miller</td>\n",
              "      <td>Mirosław Miller – Dyrektor Międzynarodowego La...</td>\n",
              "      <td>2</td>\n",
              "      <td>[-0.21992587, -0.02075839, -0.01461587, 0.3943...</td>\n",
              "    </tr>\n",
              "    <tr>\n",
              "      <th>1</th>\n",
              "      <td>Chimerokształtne</td>\n",
              "      <td>Chimerokształtne, chimery, przerazy (Chimaerif...</td>\n",
              "      <td>1</td>\n",
              "      <td>[0.114831321, 0.409914285, -0.0247822907, 0.14...</td>\n",
              "    </tr>\n",
              "    <tr>\n",
              "      <th>2</th>\n",
              "      <td>(2855)_Bastian</td>\n",
              "      <td>(2855) Bastian (1931 TB2) – planetoida z grupy...</td>\n",
              "      <td>0</td>\n",
              "      <td>[-0.0603997707, -0.287019789, 0.52446419, 0.01...</td>\n",
              "    </tr>\n",
              "    <tr>\n",
              "      <th>3</th>\n",
              "      <td>Cryptocephalus_celtibericus</td>\n",
              "      <td>\"Cryptocephalus celtibericus\" – gatunek chrząs...</td>\n",
              "      <td>1</td>\n",
              "      <td>[0.202097625, -0.145113677, 0.391446799, 0.021...</td>\n",
              "    </tr>\n",
              "    <tr>\n",
              "      <th>4</th>\n",
              "      <td>Język_maszynowy</td>\n",
              "      <td>Język maszynowy, kod maszynowy – zestaw rozkaz...</td>\n",
              "      <td>5</td>\n",
              "      <td>[0.524712503, -0.0946738869, 0.193830967, 0.39...</td>\n",
              "    </tr>\n",
              "  </tbody>\n",
              "</table>\n",
              "</div>"
            ],
            "text/plain": [
              "                         title  ...                                            doc_vec\n",
              "0              Mirosław_Miller  ...  [-0.21992587, -0.02075839, -0.01461587, 0.3943...\n",
              "1             Chimerokształtne  ...  [0.114831321, 0.409914285, -0.0247822907, 0.14...\n",
              "2               (2855)_Bastian  ...  [-0.0603997707, -0.287019789, 0.52446419, 0.01...\n",
              "3  Cryptocephalus_celtibericus  ...  [0.202097625, -0.145113677, 0.391446799, 0.021...\n",
              "4              Język_maszynowy  ...  [0.524712503, -0.0946738869, 0.193830967, 0.39...\n",
              "\n",
              "[5 rows x 4 columns]"
            ]
          },
          "metadata": {
            "tags": []
          },
          "execution_count": 94
        }
      ]
    },
    {
      "cell_type": "code",
      "metadata": {
        "colab": {
          "base_uri": "https://localhost:8080/"
        },
        "id": "-_HgKVXZOS64",
        "outputId": "8a9de58e-dfd7-4c06-c721-8291948b6b8a"
      },
      "source": [
        "lookup_dict = dict(enumerate(le.inverse_transform(range(7))))\n",
        "print(lookup_dict)\n",
        "\n",
        "data_vec['category'].value_counts()"
      ],
      "execution_count": null,
      "outputs": [
        {
          "output_type": "stream",
          "text": [
            "{0: 'Astronomia', 1: 'Biologia', 2: 'Chemia', 3: 'Fizyka', 4: 'Informatyka', 5: 'Matematyka', 6: 'Psychologia'}\n"
          ],
          "name": "stdout"
        },
        {
          "output_type": "execute_result",
          "data": {
            "text/plain": [
              "0    25536\n",
              "1    23393\n",
              "5     7999\n",
              "6     5699\n",
              "3     5070\n",
              "4     4879\n",
              "2     2725\n",
              "Name: category, dtype: int64"
            ]
          },
          "metadata": {
            "tags": []
          },
          "execution_count": 95
        }
      ]
    },
    {
      "cell_type": "markdown",
      "metadata": {
        "id": "pUct2wH75M-2"
      },
      "source": [
        "## Helper functions"
      ]
    },
    {
      "cell_type": "code",
      "metadata": {
        "id": "wnh7g2k2439v"
      },
      "source": [
        "def conf_matrix(y_true, y_pred):\n",
        "    labels = tf.unique(y_true)[0].numpy()\n",
        "    labels.sort()\n",
        "\n",
        "    con_mat = confusion_matrix(y_true, y_pred)\n",
        "    con_mat_norm = np.around(con_mat.astype('float') / con_mat.sum(axis=1)[:, np.newaxis], decimals=2)\n",
        "\n",
        "    df_cm = pd.DataFrame(con_mat_norm,\n",
        "                        index = labels, \n",
        "                        columns = [i for i in labels])\n",
        "\n",
        "    plt.figure(figsize = (10,7))\n",
        "    plt.title(\"Confusion matrix\")\n",
        "    sn.heatmap(df_cm, annot=True, fmt='g')\n",
        "    plt.ylabel('True')\n",
        "    plt.xlabel('Predicted')\n",
        "    plt.show()"
      ],
      "execution_count": null,
      "outputs": []
    },
    {
      "cell_type": "markdown",
      "metadata": {
        "id": "_fFSCPKLbk19"
      },
      "source": [
        "## NN Model"
      ]
    },
    {
      "cell_type": "code",
      "metadata": {
        "id": "KVIaKjo1bgB0"
      },
      "source": [
        "model = tf.keras.Sequential([\n",
        "    tf.keras.layers.Dense(768, activation='relu'),\n",
        "    tf.keras.layers.Dense(128, activation='relu'),\n",
        "    tf.keras.layers.Dense(64, activation='relu'),\n",
        "    tf.keras.layers.Dense(7, activation='softmax')\n",
        "])"
      ],
      "execution_count": null,
      "outputs": []
    },
    {
      "cell_type": "code",
      "metadata": {
        "id": "4KAsUzG_blyg"
      },
      "source": [
        "model.compile(optimizer=optimizers.Adam(lr=0.005),\n",
        "              loss=tf.keras.losses.SparseCategoricalCrossentropy(from_logits=False),\n",
        "              metrics=['accuracy'])"
      ],
      "execution_count": null,
      "outputs": []
    },
    {
      "cell_type": "code",
      "metadata": {
        "id": "hEWFZZQac5j-"
      },
      "source": [
        "X = data_vec['doc_vec']\n",
        "y = data_vec['category']"
      ],
      "execution_count": null,
      "outputs": []
    },
    {
      "cell_type": "code",
      "metadata": {
        "id": "8mvRRCp-lZ3K"
      },
      "source": [
        "# split X, y to train and test_val\n",
        "X_train, X_test_val, y_train, y_test_val = train_test_split(\n",
        "    X, y, test_size=0.3, stratify=y, random_state=seed_value\n",
        ")\n",
        "# split test_val to test and val\n",
        "X_test, X_val, y_test, y_val = train_test_split(\n",
        "    X_test_val, y_test_val, test_size=0.5, stratify=y_test_val, random_state=seed_value\n",
        ")\n",
        "# 0.5 x 0.3 = 0.15"
      ],
      "execution_count": null,
      "outputs": []
    },
    {
      "cell_type": "code",
      "metadata": {
        "colab": {
          "base_uri": "https://localhost:8080/"
        },
        "id": "QhNlBUUPYSgP",
        "outputId": "72c6d208-3b37-4672-a9f9-74c165ac5048"
      },
      "source": [
        "print(f'Train: {len(y_train)}')\n",
        "print(f'Test: {len(y_test)}')\n",
        "print(f'Val: {len(y_val)}')"
      ],
      "execution_count": null,
      "outputs": [
        {
          "output_type": "stream",
          "text": [
            "Train: 52710\n",
            "Test: 11295\n",
            "Val: 11296\n"
          ],
          "name": "stdout"
        }
      ]
    },
    {
      "cell_type": "code",
      "metadata": {
        "colab": {
          "base_uri": "https://localhost:8080/"
        },
        "id": "7OgTlcO3dlde",
        "outputId": "8644774c-100f-4233-a4a0-a3cc3d0d0aba"
      },
      "source": [
        "history = model.fit(\n",
        "    tf.convert_to_tensor(np.stack(X_train)),\n",
        "    y_train,\n",
        "    epochs=200,\n",
        "    validation_data=(tf.convert_to_tensor(np.stack(X_val)), y_val)\n",
        ")"
      ],
      "execution_count": null,
      "outputs": [
        {
          "output_type": "stream",
          "text": [
            "Epoch 1/200\n",
            "1648/1648 [==============================] - 4s 2ms/step - loss: 0.5543 - accuracy: 0.8042 - val_loss: 0.3888 - val_accuracy: 0.8544\n",
            "Epoch 2/200\n",
            "1648/1648 [==============================] - 4s 3ms/step - loss: 0.3645 - accuracy: 0.8674 - val_loss: 0.3569 - val_accuracy: 0.8739\n",
            "Epoch 3/200\n",
            "1648/1648 [==============================] - 4s 3ms/step - loss: 0.3362 - accuracy: 0.8767 - val_loss: 0.3444 - val_accuracy: 0.8776\n",
            "Epoch 4/200\n",
            "1648/1648 [==============================] - 4s 2ms/step - loss: 0.3238 - accuracy: 0.8827 - val_loss: 0.3530 - val_accuracy: 0.8762\n",
            "Epoch 5/200\n",
            "1648/1648 [==============================] - 4s 2ms/step - loss: 0.3178 - accuracy: 0.8883 - val_loss: 0.3260 - val_accuracy: 0.8827\n",
            "Epoch 6/200\n",
            "1648/1648 [==============================] - 4s 3ms/step - loss: 0.3111 - accuracy: 0.8885 - val_loss: 0.3355 - val_accuracy: 0.8857\n",
            "Epoch 7/200\n",
            "1648/1648 [==============================] - 5s 3ms/step - loss: 0.2978 - accuracy: 0.8929 - val_loss: 0.3145 - val_accuracy: 0.8875\n",
            "Epoch 8/200\n",
            "1648/1648 [==============================] - 5s 3ms/step - loss: 0.2966 - accuracy: 0.8935 - val_loss: 0.3126 - val_accuracy: 0.8908\n",
            "Epoch 9/200\n",
            "1648/1648 [==============================] - 4s 3ms/step - loss: 0.2864 - accuracy: 0.8967 - val_loss: 0.3285 - val_accuracy: 0.8899\n",
            "Epoch 10/200\n",
            "1648/1648 [==============================] - 5s 3ms/step - loss: 0.2881 - accuracy: 0.8970 - val_loss: 0.3153 - val_accuracy: 0.8902\n",
            "Epoch 11/200\n",
            "1648/1648 [==============================] - 4s 3ms/step - loss: 0.2759 - accuracy: 0.9023 - val_loss: 0.3303 - val_accuracy: 0.8825\n",
            "Epoch 12/200\n",
            "1648/1648 [==============================] - 4s 3ms/step - loss: 0.2748 - accuracy: 0.9019 - val_loss: 0.3117 - val_accuracy: 0.8909\n",
            "Epoch 13/200\n",
            "1648/1648 [==============================] - 4s 3ms/step - loss: 0.2678 - accuracy: 0.9043 - val_loss: 0.3161 - val_accuracy: 0.8932\n",
            "Epoch 14/200\n",
            "1648/1648 [==============================] - 4s 3ms/step - loss: 0.2720 - accuracy: 0.9015 - val_loss: 0.3316 - val_accuracy: 0.8803\n",
            "Epoch 15/200\n",
            "1648/1648 [==============================] - 4s 3ms/step - loss: 0.2678 - accuracy: 0.9068 - val_loss: 0.3132 - val_accuracy: 0.8892\n",
            "Epoch 16/200\n",
            "1648/1648 [==============================] - 4s 3ms/step - loss: 0.2617 - accuracy: 0.9087 - val_loss: 0.3065 - val_accuracy: 0.8947\n",
            "Epoch 17/200\n",
            "1648/1648 [==============================] - 4s 3ms/step - loss: 0.2585 - accuracy: 0.9068 - val_loss: 0.3014 - val_accuracy: 0.8977\n",
            "Epoch 18/200\n",
            "1648/1648 [==============================] - 4s 3ms/step - loss: 0.2553 - accuracy: 0.9091 - val_loss: 0.3056 - val_accuracy: 0.8936\n",
            "Epoch 19/200\n",
            "1648/1648 [==============================] - 4s 3ms/step - loss: 0.2581 - accuracy: 0.9106 - val_loss: 0.3092 - val_accuracy: 0.8970\n",
            "Epoch 20/200\n",
            "1648/1648 [==============================] - 4s 3ms/step - loss: 0.2533 - accuracy: 0.9109 - val_loss: 0.3081 - val_accuracy: 0.8965\n",
            "Epoch 21/200\n",
            "1648/1648 [==============================] - 4s 3ms/step - loss: 0.2574 - accuracy: 0.9093 - val_loss: 0.3060 - val_accuracy: 0.9009\n",
            "Epoch 22/200\n",
            "1648/1648 [==============================] - 4s 3ms/step - loss: 0.2503 - accuracy: 0.9114 - val_loss: 0.3033 - val_accuracy: 0.8993\n",
            "Epoch 23/200\n",
            "1648/1648 [==============================] - 4s 2ms/step - loss: 0.2517 - accuracy: 0.9105 - val_loss: 0.3152 - val_accuracy: 0.8895\n",
            "Epoch 24/200\n",
            "1648/1648 [==============================] - 4s 2ms/step - loss: 0.2453 - accuracy: 0.9137 - val_loss: 0.3207 - val_accuracy: 0.8932\n",
            "Epoch 25/200\n",
            "1648/1648 [==============================] - 4s 3ms/step - loss: 0.2444 - accuracy: 0.9144 - val_loss: 0.2966 - val_accuracy: 0.9029\n",
            "Epoch 26/200\n",
            "1648/1648 [==============================] - 4s 3ms/step - loss: 0.2425 - accuracy: 0.9144 - val_loss: 0.2951 - val_accuracy: 0.9016\n",
            "Epoch 27/200\n",
            "1648/1648 [==============================] - 4s 3ms/step - loss: 0.2448 - accuracy: 0.9119 - val_loss: 0.3031 - val_accuracy: 0.8981\n",
            "Epoch 28/200\n",
            "1648/1648 [==============================] - 4s 2ms/step - loss: 0.2395 - accuracy: 0.9183 - val_loss: 0.3245 - val_accuracy: 0.8857\n",
            "Epoch 29/200\n",
            "1648/1648 [==============================] - 4s 2ms/step - loss: 0.2369 - accuracy: 0.9167 - val_loss: 0.3184 - val_accuracy: 0.8970\n",
            "Epoch 30/200\n",
            "1648/1648 [==============================] - 4s 2ms/step - loss: 0.2310 - accuracy: 0.9205 - val_loss: 0.3084 - val_accuracy: 0.8965\n",
            "Epoch 31/200\n",
            "1648/1648 [==============================] - 4s 3ms/step - loss: 0.2346 - accuracy: 0.9176 - val_loss: 0.3208 - val_accuracy: 0.8890\n",
            "Epoch 32/200\n",
            "1648/1648 [==============================] - 4s 2ms/step - loss: 0.2510 - accuracy: 0.9138 - val_loss: 0.3345 - val_accuracy: 0.8854\n",
            "Epoch 33/200\n",
            "1648/1648 [==============================] - 4s 3ms/step - loss: 0.2336 - accuracy: 0.9181 - val_loss: 0.3096 - val_accuracy: 0.9004\n",
            "Epoch 34/200\n",
            "1648/1648 [==============================] - 4s 3ms/step - loss: 0.2265 - accuracy: 0.9197 - val_loss: 0.3099 - val_accuracy: 0.8996\n",
            "Epoch 35/200\n",
            "1648/1648 [==============================] - 4s 2ms/step - loss: 0.2296 - accuracy: 0.9189 - val_loss: 0.3218 - val_accuracy: 0.8893\n",
            "Epoch 36/200\n",
            "1648/1648 [==============================] - 5s 3ms/step - loss: 0.2332 - accuracy: 0.9179 - val_loss: 0.3275 - val_accuracy: 0.8956\n",
            "Epoch 37/200\n",
            "1648/1648 [==============================] - 4s 3ms/step - loss: 0.2371 - accuracy: 0.9194 - val_loss: 0.3634 - val_accuracy: 0.8974\n",
            "Epoch 38/200\n",
            "1648/1648 [==============================] - 4s 3ms/step - loss: 0.2275 - accuracy: 0.9206 - val_loss: 0.2944 - val_accuracy: 0.8996\n",
            "Epoch 39/200\n",
            "1648/1648 [==============================] - 4s 3ms/step - loss: 0.2229 - accuracy: 0.9221 - val_loss: 0.3083 - val_accuracy: 0.8986\n",
            "Epoch 40/200\n",
            "1648/1648 [==============================] - 4s 3ms/step - loss: 0.2287 - accuracy: 0.9204 - val_loss: 0.3287 - val_accuracy: 0.8918\n",
            "Epoch 41/200\n",
            "1648/1648 [==============================] - 4s 3ms/step - loss: 0.2251 - accuracy: 0.9210 - val_loss: 0.3099 - val_accuracy: 0.8954\n",
            "Epoch 42/200\n",
            "1648/1648 [==============================] - 4s 3ms/step - loss: 0.2229 - accuracy: 0.9221 - val_loss: 0.3389 - val_accuracy: 0.8904\n",
            "Epoch 43/200\n",
            "1648/1648 [==============================] - 4s 3ms/step - loss: 0.2241 - accuracy: 0.9219 - val_loss: 0.3671 - val_accuracy: 0.8845\n",
            "Epoch 44/200\n",
            "1648/1648 [==============================] - 4s 3ms/step - loss: 0.2389 - accuracy: 0.9177 - val_loss: 0.3465 - val_accuracy: 0.8987\n",
            "Epoch 45/200\n",
            "1648/1648 [==============================] - 5s 3ms/step - loss: 0.2232 - accuracy: 0.9212 - val_loss: 0.3109 - val_accuracy: 0.8972\n",
            "Epoch 46/200\n",
            "1648/1648 [==============================] - 4s 2ms/step - loss: 0.2292 - accuracy: 0.9216 - val_loss: 0.3111 - val_accuracy: 0.8978\n",
            "Epoch 47/200\n",
            "1648/1648 [==============================] - 4s 3ms/step - loss: 0.2256 - accuracy: 0.9229 - val_loss: 0.3451 - val_accuracy: 0.8947\n",
            "Epoch 48/200\n",
            "1648/1648 [==============================] - 4s 3ms/step - loss: 0.2206 - accuracy: 0.9234 - val_loss: 0.3164 - val_accuracy: 0.8998\n",
            "Epoch 49/200\n",
            "1648/1648 [==============================] - 4s 2ms/step - loss: 0.2217 - accuracy: 0.9226 - val_loss: 0.3298 - val_accuracy: 0.8948\n",
            "Epoch 50/200\n",
            "1648/1648 [==============================] - 4s 2ms/step - loss: 0.2270 - accuracy: 0.9213 - val_loss: 0.3079 - val_accuracy: 0.9017\n",
            "Epoch 51/200\n",
            "1648/1648 [==============================] - 4s 3ms/step - loss: 0.2206 - accuracy: 0.9226 - val_loss: 0.3696 - val_accuracy: 0.8934\n",
            "Epoch 52/200\n",
            "1648/1648 [==============================] - 4s 3ms/step - loss: 0.2278 - accuracy: 0.9224 - val_loss: 0.3200 - val_accuracy: 0.9029\n",
            "Epoch 53/200\n",
            "1648/1648 [==============================] - 4s 3ms/step - loss: 0.2157 - accuracy: 0.9267 - val_loss: 0.3297 - val_accuracy: 0.8988\n",
            "Epoch 54/200\n",
            "1648/1648 [==============================] - 4s 2ms/step - loss: 0.2166 - accuracy: 0.9252 - val_loss: 0.3091 - val_accuracy: 0.9013\n",
            "Epoch 55/200\n",
            "1648/1648 [==============================] - 4s 3ms/step - loss: 0.2127 - accuracy: 0.9250 - val_loss: 0.3069 - val_accuracy: 0.9025\n",
            "Epoch 56/200\n",
            "1648/1648 [==============================] - 5s 3ms/step - loss: 0.2191 - accuracy: 0.9246 - val_loss: 0.3309 - val_accuracy: 0.8982\n",
            "Epoch 57/200\n",
            "1648/1648 [==============================] - 4s 3ms/step - loss: 0.2303 - accuracy: 0.9208 - val_loss: 0.3370 - val_accuracy: 0.9013\n",
            "Epoch 58/200\n",
            "1648/1648 [==============================] - 4s 3ms/step - loss: 0.2163 - accuracy: 0.9264 - val_loss: 0.3146 - val_accuracy: 0.9035\n",
            "Epoch 59/200\n",
            "1648/1648 [==============================] - 4s 3ms/step - loss: 0.2128 - accuracy: 0.9262 - val_loss: 0.3147 - val_accuracy: 0.9037\n",
            "Epoch 60/200\n",
            "1648/1648 [==============================] - 5s 3ms/step - loss: 0.2117 - accuracy: 0.9252 - val_loss: 0.3119 - val_accuracy: 0.8999\n",
            "Epoch 61/200\n",
            "1648/1648 [==============================] - 4s 3ms/step - loss: 0.2330 - accuracy: 0.9218 - val_loss: 0.3136 - val_accuracy: 0.8979\n",
            "Epoch 62/200\n",
            "1648/1648 [==============================] - 4s 3ms/step - loss: 0.2125 - accuracy: 0.9269 - val_loss: 0.3227 - val_accuracy: 0.8975\n",
            "Epoch 63/200\n",
            "1648/1648 [==============================] - 5s 3ms/step - loss: 0.2130 - accuracy: 0.9277 - val_loss: 0.3106 - val_accuracy: 0.9001\n",
            "Epoch 64/200\n",
            "1648/1648 [==============================] - 4s 3ms/step - loss: 0.2105 - accuracy: 0.9256 - val_loss: 0.3180 - val_accuracy: 0.9030\n",
            "Epoch 65/200\n",
            "1648/1648 [==============================] - 5s 3ms/step - loss: 0.2045 - accuracy: 0.9296 - val_loss: 0.3378 - val_accuracy: 0.8928\n",
            "Epoch 66/200\n",
            "1648/1648 [==============================] - 5s 3ms/step - loss: 0.2107 - accuracy: 0.9289 - val_loss: 0.3118 - val_accuracy: 0.9032\n",
            "Epoch 67/200\n",
            "1648/1648 [==============================] - 5s 3ms/step - loss: 0.2115 - accuracy: 0.9276 - val_loss: 0.3278 - val_accuracy: 0.8989\n",
            "Epoch 68/200\n",
            "1648/1648 [==============================] - 4s 3ms/step - loss: 0.2078 - accuracy: 0.9296 - val_loss: 0.3470 - val_accuracy: 0.8996\n",
            "Epoch 69/200\n",
            "1648/1648 [==============================] - 4s 3ms/step - loss: 0.2104 - accuracy: 0.9271 - val_loss: 0.3366 - val_accuracy: 0.8977\n",
            "Epoch 70/200\n",
            "1648/1648 [==============================] - 5s 3ms/step - loss: 0.2022 - accuracy: 0.9303 - val_loss: 0.3262 - val_accuracy: 0.9022\n",
            "Epoch 71/200\n",
            "1648/1648 [==============================] - 5s 3ms/step - loss: 0.1989 - accuracy: 0.9298 - val_loss: 0.3245 - val_accuracy: 0.8996\n",
            "Epoch 72/200\n",
            "1648/1648 [==============================] - 4s 3ms/step - loss: 0.2120 - accuracy: 0.9284 - val_loss: 0.3572 - val_accuracy: 0.8905\n",
            "Epoch 73/200\n",
            "1648/1648 [==============================] - 4s 3ms/step - loss: 0.2041 - accuracy: 0.9293 - val_loss: 0.3294 - val_accuracy: 0.9027\n",
            "Epoch 74/200\n",
            "1648/1648 [==============================] - 4s 2ms/step - loss: 0.1989 - accuracy: 0.9315 - val_loss: 0.3205 - val_accuracy: 0.9033\n",
            "Epoch 75/200\n",
            "1648/1648 [==============================] - 4s 3ms/step - loss: 0.1992 - accuracy: 0.9310 - val_loss: 0.3262 - val_accuracy: 0.8998\n",
            "Epoch 76/200\n",
            "1648/1648 [==============================] - 4s 3ms/step - loss: 0.1946 - accuracy: 0.9326 - val_loss: 0.3561 - val_accuracy: 0.8937\n",
            "Epoch 77/200\n",
            "1648/1648 [==============================] - 4s 3ms/step - loss: 0.2108 - accuracy: 0.9285 - val_loss: 0.3339 - val_accuracy: 0.8942\n",
            "Epoch 78/200\n",
            "1648/1648 [==============================] - 4s 3ms/step - loss: 0.1954 - accuracy: 0.9341 - val_loss: 0.3234 - val_accuracy: 0.8991\n",
            "Epoch 79/200\n",
            "1648/1648 [==============================] - 4s 3ms/step - loss: 0.1996 - accuracy: 0.9314 - val_loss: 0.3325 - val_accuracy: 0.9039\n",
            "Epoch 80/200\n",
            "1648/1648 [==============================] - 4s 3ms/step - loss: 0.1982 - accuracy: 0.9330 - val_loss: 0.3216 - val_accuracy: 0.9006\n",
            "Epoch 81/200\n",
            "1648/1648 [==============================] - 4s 3ms/step - loss: 0.2020 - accuracy: 0.9308 - val_loss: 0.3208 - val_accuracy: 0.9023\n",
            "Epoch 82/200\n",
            "1648/1648 [==============================] - 4s 3ms/step - loss: 0.2040 - accuracy: 0.9311 - val_loss: 0.3275 - val_accuracy: 0.9026\n",
            "Epoch 83/200\n",
            "1648/1648 [==============================] - 4s 2ms/step - loss: 0.1934 - accuracy: 0.9337 - val_loss: 0.3691 - val_accuracy: 0.8978\n",
            "Epoch 84/200\n",
            "1648/1648 [==============================] - 4s 2ms/step - loss: 0.1980 - accuracy: 0.9321 - val_loss: 0.3256 - val_accuracy: 0.9028\n",
            "Epoch 85/200\n",
            "1648/1648 [==============================] - 4s 3ms/step - loss: 0.1935 - accuracy: 0.9363 - val_loss: 0.3748 - val_accuracy: 0.8923\n",
            "Epoch 86/200\n",
            "1648/1648 [==============================] - 4s 3ms/step - loss: 0.2038 - accuracy: 0.9280 - val_loss: 0.3489 - val_accuracy: 0.8989\n",
            "Epoch 87/200\n",
            "1648/1648 [==============================] - 4s 3ms/step - loss: 0.1906 - accuracy: 0.9341 - val_loss: 0.3638 - val_accuracy: 0.8948\n",
            "Epoch 88/200\n",
            "1648/1648 [==============================] - 4s 3ms/step - loss: 0.1927 - accuracy: 0.9338 - val_loss: 0.3614 - val_accuracy: 0.8974\n",
            "Epoch 89/200\n",
            "1648/1648 [==============================] - 4s 3ms/step - loss: 0.1996 - accuracy: 0.9310 - val_loss: 0.4005 - val_accuracy: 0.8960\n",
            "Epoch 90/200\n",
            "1648/1648 [==============================] - 4s 3ms/step - loss: 0.1885 - accuracy: 0.9366 - val_loss: 0.4098 - val_accuracy: 0.8957\n",
            "Epoch 91/200\n",
            "1648/1648 [==============================] - 4s 3ms/step - loss: 0.1998 - accuracy: 0.9327 - val_loss: 0.3302 - val_accuracy: 0.8931\n",
            "Epoch 92/200\n",
            "1648/1648 [==============================] - 4s 3ms/step - loss: 0.2018 - accuracy: 0.9331 - val_loss: 0.3381 - val_accuracy: 0.9016\n",
            "Epoch 93/200\n",
            "1648/1648 [==============================] - 4s 3ms/step - loss: 0.1849 - accuracy: 0.9366 - val_loss: 0.3293 - val_accuracy: 0.8934\n",
            "Epoch 94/200\n",
            "1648/1648 [==============================] - 4s 3ms/step - loss: 0.1902 - accuracy: 0.9340 - val_loss: 0.3602 - val_accuracy: 0.8990\n",
            "Epoch 95/200\n",
            "1648/1648 [==============================] - 4s 3ms/step - loss: 0.1906 - accuracy: 0.9359 - val_loss: 0.3584 - val_accuracy: 0.8993\n",
            "Epoch 96/200\n",
            "1648/1648 [==============================] - 4s 3ms/step - loss: 0.1951 - accuracy: 0.9344 - val_loss: 0.3819 - val_accuracy: 0.8932\n",
            "Epoch 97/200\n",
            "1648/1648 [==============================] - 4s 3ms/step - loss: 0.2013 - accuracy: 0.9321 - val_loss: 0.3425 - val_accuracy: 0.9034\n",
            "Epoch 98/200\n",
            "1648/1648 [==============================] - 4s 2ms/step - loss: 0.1994 - accuracy: 0.9329 - val_loss: 0.3346 - val_accuracy: 0.9001\n",
            "Epoch 99/200\n",
            "1648/1648 [==============================] - 4s 3ms/step - loss: 0.1850 - accuracy: 0.9356 - val_loss: 0.3432 - val_accuracy: 0.9002\n",
            "Epoch 100/200\n",
            "1648/1648 [==============================] - 4s 3ms/step - loss: 0.1893 - accuracy: 0.9336 - val_loss: 0.3565 - val_accuracy: 0.9027\n",
            "Epoch 101/200\n",
            "1648/1648 [==============================] - 4s 3ms/step - loss: 0.1872 - accuracy: 0.9346 - val_loss: 0.4157 - val_accuracy: 0.8844\n",
            "Epoch 102/200\n",
            "1648/1648 [==============================] - 4s 3ms/step - loss: 0.2122 - accuracy: 0.9294 - val_loss: 0.3557 - val_accuracy: 0.8968\n",
            "Epoch 103/200\n",
            "1648/1648 [==============================] - 4s 3ms/step - loss: 0.1893 - accuracy: 0.9358 - val_loss: 0.3482 - val_accuracy: 0.8962\n",
            "Epoch 104/200\n",
            "1648/1648 [==============================] - 4s 3ms/step - loss: 0.1868 - accuracy: 0.9360 - val_loss: 0.3642 - val_accuracy: 0.9013\n",
            "Epoch 105/200\n",
            "1648/1648 [==============================] - 4s 3ms/step - loss: 0.1975 - accuracy: 0.9326 - val_loss: 0.3419 - val_accuracy: 0.8985\n",
            "Epoch 106/200\n",
            "1648/1648 [==============================] - 4s 3ms/step - loss: 0.1962 - accuracy: 0.9333 - val_loss: 0.3563 - val_accuracy: 0.8978\n",
            "Epoch 107/200\n",
            "1648/1648 [==============================] - 4s 3ms/step - loss: 0.1872 - accuracy: 0.9367 - val_loss: 0.3593 - val_accuracy: 0.9006\n",
            "Epoch 108/200\n",
            "1648/1648 [==============================] - 4s 3ms/step - loss: 0.1905 - accuracy: 0.9343 - val_loss: 0.3373 - val_accuracy: 0.9019\n",
            "Epoch 109/200\n",
            "1648/1648 [==============================] - 4s 3ms/step - loss: 0.1822 - accuracy: 0.9369 - val_loss: 0.3686 - val_accuracy: 0.8962\n",
            "Epoch 110/200\n",
            "1648/1648 [==============================] - 4s 2ms/step - loss: 0.1943 - accuracy: 0.9331 - val_loss: 0.3781 - val_accuracy: 0.9006\n",
            "Epoch 111/200\n",
            "1648/1648 [==============================] - 4s 3ms/step - loss: 0.1989 - accuracy: 0.9328 - val_loss: 0.4056 - val_accuracy: 0.8941\n",
            "Epoch 112/200\n",
            "1648/1648 [==============================] - 4s 3ms/step - loss: 0.1942 - accuracy: 0.9345 - val_loss: 0.4042 - val_accuracy: 0.8998\n",
            "Epoch 113/200\n",
            "1648/1648 [==============================] - 5s 3ms/step - loss: 0.1999 - accuracy: 0.9346 - val_loss: 0.3606 - val_accuracy: 0.9012\n",
            "Epoch 114/200\n",
            "1648/1648 [==============================] - 4s 3ms/step - loss: 0.1743 - accuracy: 0.9409 - val_loss: 0.3692 - val_accuracy: 0.9015\n",
            "Epoch 115/200\n",
            "1648/1648 [==============================] - 4s 2ms/step - loss: 0.1743 - accuracy: 0.9400 - val_loss: 0.3827 - val_accuracy: 0.9006\n",
            "Epoch 116/200\n",
            "1648/1648 [==============================] - 4s 3ms/step - loss: 0.1823 - accuracy: 0.9394 - val_loss: 0.3553 - val_accuracy: 0.9046\n",
            "Epoch 117/200\n",
            "1648/1648 [==============================] - 4s 2ms/step - loss: 0.1824 - accuracy: 0.9360 - val_loss: 0.3984 - val_accuracy: 0.9003\n",
            "Epoch 118/200\n",
            "1648/1648 [==============================] - 4s 2ms/step - loss: 0.1852 - accuracy: 0.9375 - val_loss: 0.4138 - val_accuracy: 0.8993\n",
            "Epoch 119/200\n",
            "1648/1648 [==============================] - 4s 2ms/step - loss: 0.1905 - accuracy: 0.9357 - val_loss: 0.4442 - val_accuracy: 0.8979\n",
            "Epoch 120/200\n",
            "1648/1648 [==============================] - 4s 3ms/step - loss: 0.1752 - accuracy: 0.9398 - val_loss: 0.4040 - val_accuracy: 0.8993\n",
            "Epoch 121/200\n",
            "1648/1648 [==============================] - 4s 2ms/step - loss: 0.1937 - accuracy: 0.9368 - val_loss: 0.4048 - val_accuracy: 0.8954\n",
            "Epoch 122/200\n",
            "1648/1648 [==============================] - 4s 3ms/step - loss: 0.1956 - accuracy: 0.9350 - val_loss: 0.3872 - val_accuracy: 0.8963\n",
            "Epoch 123/200\n",
            "1648/1648 [==============================] - 4s 3ms/step - loss: 0.1885 - accuracy: 0.9352 - val_loss: 0.3607 - val_accuracy: 0.9012\n",
            "Epoch 124/200\n",
            "1648/1648 [==============================] - 4s 3ms/step - loss: 0.2029 - accuracy: 0.9312 - val_loss: 0.3894 - val_accuracy: 0.9026\n",
            "Epoch 125/200\n",
            "1648/1648 [==============================] - 4s 3ms/step - loss: 0.1769 - accuracy: 0.9414 - val_loss: 0.3923 - val_accuracy: 0.9008\n",
            "Epoch 126/200\n",
            "1648/1648 [==============================] - 4s 3ms/step - loss: 0.1763 - accuracy: 0.9403 - val_loss: 0.4109 - val_accuracy: 0.8921\n",
            "Epoch 127/200\n",
            "1648/1648 [==============================] - 4s 3ms/step - loss: 0.1813 - accuracy: 0.9384 - val_loss: 0.3742 - val_accuracy: 0.9027\n",
            "Epoch 128/200\n",
            "1648/1648 [==============================] - 4s 3ms/step - loss: 0.1799 - accuracy: 0.9386 - val_loss: 0.4192 - val_accuracy: 0.8975\n",
            "Epoch 129/200\n",
            "1648/1648 [==============================] - 4s 3ms/step - loss: 0.1880 - accuracy: 0.9369 - val_loss: 0.3675 - val_accuracy: 0.8908\n",
            "Epoch 130/200\n",
            "1648/1648 [==============================] - 4s 2ms/step - loss: 0.2067 - accuracy: 0.9291 - val_loss: 0.3453 - val_accuracy: 0.8971\n",
            "Epoch 131/200\n",
            "1648/1648 [==============================] - 4s 3ms/step - loss: 0.1775 - accuracy: 0.9389 - val_loss: 0.3786 - val_accuracy: 0.9024\n",
            "Epoch 132/200\n",
            "1648/1648 [==============================] - 4s 3ms/step - loss: 0.1762 - accuracy: 0.9405 - val_loss: 0.3844 - val_accuracy: 0.8987\n",
            "Epoch 133/200\n",
            "1648/1648 [==============================] - 4s 3ms/step - loss: 0.1748 - accuracy: 0.9393 - val_loss: 0.3731 - val_accuracy: 0.9004\n",
            "Epoch 134/200\n",
            "1648/1648 [==============================] - 4s 3ms/step - loss: 0.1810 - accuracy: 0.9384 - val_loss: 0.3962 - val_accuracy: 0.9029\n",
            "Epoch 135/200\n",
            "1648/1648 [==============================] - 4s 3ms/step - loss: 0.1883 - accuracy: 0.9373 - val_loss: 0.4738 - val_accuracy: 0.8944\n",
            "Epoch 136/200\n",
            "1648/1648 [==============================] - 4s 3ms/step - loss: 0.1997 - accuracy: 0.9307 - val_loss: 0.4151 - val_accuracy: 0.8958\n",
            "Epoch 137/200\n",
            "1648/1648 [==============================] - 4s 2ms/step - loss: 0.1860 - accuracy: 0.9377 - val_loss: 0.3525 - val_accuracy: 0.9026\n",
            "Epoch 138/200\n",
            "1648/1648 [==============================] - 4s 3ms/step - loss: 0.1749 - accuracy: 0.9421 - val_loss: 0.3934 - val_accuracy: 0.8993\n",
            "Epoch 139/200\n",
            "1648/1648 [==============================] - 4s 3ms/step - loss: 0.1794 - accuracy: 0.9393 - val_loss: 0.3919 - val_accuracy: 0.8989\n",
            "Epoch 140/200\n",
            "1648/1648 [==============================] - 4s 3ms/step - loss: 0.1799 - accuracy: 0.9365 - val_loss: 0.4166 - val_accuracy: 0.9011\n",
            "Epoch 141/200\n",
            "1648/1648 [==============================] - 4s 2ms/step - loss: 0.1877 - accuracy: 0.9365 - val_loss: 0.3922 - val_accuracy: 0.8915\n",
            "Epoch 142/200\n",
            "1648/1648 [==============================] - 4s 2ms/step - loss: 0.1811 - accuracy: 0.9396 - val_loss: 0.4241 - val_accuracy: 0.9033\n",
            "Epoch 143/200\n",
            "1648/1648 [==============================] - 4s 3ms/step - loss: 0.1913 - accuracy: 0.9341 - val_loss: 0.4973 - val_accuracy: 0.8873\n",
            "Epoch 144/200\n",
            "1648/1648 [==============================] - 4s 3ms/step - loss: 0.1816 - accuracy: 0.9380 - val_loss: 0.4742 - val_accuracy: 0.9021\n",
            "Epoch 145/200\n",
            "1648/1648 [==============================] - 5s 3ms/step - loss: 0.2083 - accuracy: 0.9286 - val_loss: 0.3950 - val_accuracy: 0.9003\n",
            "Epoch 146/200\n",
            "1648/1648 [==============================] - 5s 3ms/step - loss: 0.1731 - accuracy: 0.9404 - val_loss: 0.4214 - val_accuracy: 0.8983\n",
            "Epoch 147/200\n",
            "1648/1648 [==============================] - 4s 2ms/step - loss: 0.1783 - accuracy: 0.9402 - val_loss: 0.3986 - val_accuracy: 0.8979\n",
            "Epoch 148/200\n",
            "1648/1648 [==============================] - 4s 3ms/step - loss: 0.1937 - accuracy: 0.9357 - val_loss: 0.3668 - val_accuracy: 0.9002\n",
            "Epoch 149/200\n",
            "1648/1648 [==============================] - 4s 3ms/step - loss: 0.1756 - accuracy: 0.9399 - val_loss: 0.3749 - val_accuracy: 0.8945\n",
            "Epoch 150/200\n",
            "1648/1648 [==============================] - 4s 3ms/step - loss: 0.1693 - accuracy: 0.9416 - val_loss: 0.4157 - val_accuracy: 0.8991\n",
            "Epoch 151/200\n",
            "1648/1648 [==============================] - 5s 3ms/step - loss: 0.1950 - accuracy: 0.9347 - val_loss: 0.3960 - val_accuracy: 0.8966\n",
            "Epoch 152/200\n",
            "1648/1648 [==============================] - 4s 3ms/step - loss: 0.1851 - accuracy: 0.9373 - val_loss: 0.3564 - val_accuracy: 0.9024\n",
            "Epoch 153/200\n",
            "1648/1648 [==============================] - 4s 2ms/step - loss: 0.1848 - accuracy: 0.9374 - val_loss: 0.3776 - val_accuracy: 0.8951\n",
            "Epoch 154/200\n",
            "1648/1648 [==============================] - 4s 3ms/step - loss: 0.1837 - accuracy: 0.9385 - val_loss: 0.3855 - val_accuracy: 0.8974\n",
            "Epoch 155/200\n",
            "1648/1648 [==============================] - 4s 3ms/step - loss: 0.1855 - accuracy: 0.9379 - val_loss: 0.4148 - val_accuracy: 0.8969\n",
            "Epoch 156/200\n",
            "1648/1648 [==============================] - 4s 3ms/step - loss: 0.1677 - accuracy: 0.9422 - val_loss: 0.4446 - val_accuracy: 0.8794\n",
            "Epoch 157/200\n",
            "1648/1648 [==============================] - 4s 3ms/step - loss: 0.1944 - accuracy: 0.9350 - val_loss: 0.5743 - val_accuracy: 0.8871\n",
            "Epoch 158/200\n",
            "1648/1648 [==============================] - 5s 3ms/step - loss: 0.1947 - accuracy: 0.9338 - val_loss: 0.4247 - val_accuracy: 0.8967\n",
            "Epoch 159/200\n",
            "1648/1648 [==============================] - 5s 3ms/step - loss: 0.1895 - accuracy: 0.9362 - val_loss: 0.5058 - val_accuracy: 0.8884\n",
            "Epoch 160/200\n",
            "1648/1648 [==============================] - 4s 2ms/step - loss: 0.1861 - accuracy: 0.9384 - val_loss: 0.5201 - val_accuracy: 0.8959\n",
            "Epoch 161/200\n",
            "1648/1648 [==============================] - 4s 3ms/step - loss: 0.1916 - accuracy: 0.9363 - val_loss: 0.3855 - val_accuracy: 0.8970\n",
            "Epoch 162/200\n",
            "1648/1648 [==============================] - 4s 3ms/step - loss: 0.1835 - accuracy: 0.9371 - val_loss: 0.3625 - val_accuracy: 0.9016\n",
            "Epoch 163/200\n",
            "1648/1648 [==============================] - 4s 3ms/step - loss: 0.1708 - accuracy: 0.9429 - val_loss: 0.4909 - val_accuracy: 0.8943\n",
            "Epoch 164/200\n",
            "1648/1648 [==============================] - 5s 3ms/step - loss: 0.1862 - accuracy: 0.9384 - val_loss: 0.3656 - val_accuracy: 0.8940\n",
            "Epoch 165/200\n",
            "1648/1648 [==============================] - 4s 3ms/step - loss: 0.1813 - accuracy: 0.9374 - val_loss: 0.5622 - val_accuracy: 0.8939\n",
            "Epoch 166/200\n",
            "1648/1648 [==============================] - 4s 3ms/step - loss: 0.1834 - accuracy: 0.9372 - val_loss: 0.4904 - val_accuracy: 0.9004\n",
            "Epoch 167/200\n",
            "1648/1648 [==============================] - 4s 3ms/step - loss: 0.1870 - accuracy: 0.9364 - val_loss: 0.5277 - val_accuracy: 0.9005\n",
            "Epoch 168/200\n",
            "1648/1648 [==============================] - 4s 3ms/step - loss: 0.2058 - accuracy: 0.9318 - val_loss: 0.3978 - val_accuracy: 0.8970\n",
            "Epoch 169/200\n",
            "1648/1648 [==============================] - 4s 3ms/step - loss: 0.1828 - accuracy: 0.9387 - val_loss: 0.4297 - val_accuracy: 0.8984\n",
            "Epoch 170/200\n",
            "1648/1648 [==============================] - 5s 3ms/step - loss: 0.1652 - accuracy: 0.9446 - val_loss: 0.4234 - val_accuracy: 0.9004\n",
            "Epoch 171/200\n",
            "1648/1648 [==============================] - 5s 3ms/step - loss: 0.1658 - accuracy: 0.9430 - val_loss: 0.4139 - val_accuracy: 0.8989\n",
            "Epoch 172/200\n",
            "1648/1648 [==============================] - 5s 3ms/step - loss: 0.1742 - accuracy: 0.9402 - val_loss: 0.3864 - val_accuracy: 0.8961\n",
            "Epoch 173/200\n",
            "1648/1648 [==============================] - 5s 3ms/step - loss: 0.1803 - accuracy: 0.9372 - val_loss: 0.3948 - val_accuracy: 0.8973\n",
            "Epoch 174/200\n",
            "1648/1648 [==============================] - 5s 3ms/step - loss: 0.1604 - accuracy: 0.9457 - val_loss: 0.4542 - val_accuracy: 0.9006\n",
            "Epoch 175/200\n",
            "1648/1648 [==============================] - 4s 3ms/step - loss: 0.1837 - accuracy: 0.9384 - val_loss: 0.4863 - val_accuracy: 0.8979\n",
            "Epoch 176/200\n",
            "1648/1648 [==============================] - 4s 3ms/step - loss: 0.1781 - accuracy: 0.9392 - val_loss: 0.4486 - val_accuracy: 0.8994\n",
            "Epoch 177/200\n",
            "1648/1648 [==============================] - 5s 3ms/step - loss: 0.1655 - accuracy: 0.9440 - val_loss: 0.3902 - val_accuracy: 0.8969\n",
            "Epoch 178/200\n",
            "1648/1648 [==============================] - 5s 3ms/step - loss: 0.1695 - accuracy: 0.9428 - val_loss: 0.4774 - val_accuracy: 0.8959\n",
            "Epoch 179/200\n",
            "1648/1648 [==============================] - 5s 3ms/step - loss: 0.1696 - accuracy: 0.9418 - val_loss: 0.3996 - val_accuracy: 0.8985\n",
            "Epoch 180/200\n",
            "1648/1648 [==============================] - 4s 3ms/step - loss: 0.1882 - accuracy: 0.9399 - val_loss: 0.4034 - val_accuracy: 0.8982\n",
            "Epoch 181/200\n",
            "1648/1648 [==============================] - 4s 3ms/step - loss: 0.1709 - accuracy: 0.9419 - val_loss: 0.4685 - val_accuracy: 0.8813\n",
            "Epoch 182/200\n",
            "1648/1648 [==============================] - 4s 3ms/step - loss: 0.1939 - accuracy: 0.9366 - val_loss: 0.4053 - val_accuracy: 0.8988\n",
            "Epoch 183/200\n",
            "1648/1648 [==============================] - 4s 3ms/step - loss: 0.1699 - accuracy: 0.9425 - val_loss: 0.4876 - val_accuracy: 0.8965\n",
            "Epoch 184/200\n",
            "1648/1648 [==============================] - 4s 2ms/step - loss: 0.1722 - accuracy: 0.9421 - val_loss: 0.4041 - val_accuracy: 0.8769\n",
            "Epoch 185/200\n",
            "1648/1648 [==============================] - 4s 3ms/step - loss: 0.2111 - accuracy: 0.9246 - val_loss: 0.4269 - val_accuracy: 0.9013\n",
            "Epoch 186/200\n",
            "1648/1648 [==============================] - 4s 3ms/step - loss: 0.1647 - accuracy: 0.9435 - val_loss: 0.4388 - val_accuracy: 0.8958\n",
            "Epoch 187/200\n",
            "1648/1648 [==============================] - 4s 2ms/step - loss: 0.1717 - accuracy: 0.9430 - val_loss: 0.4678 - val_accuracy: 0.8983\n",
            "Epoch 188/200\n",
            "1648/1648 [==============================] - 4s 3ms/step - loss: 0.1705 - accuracy: 0.9430 - val_loss: 0.3788 - val_accuracy: 0.8908\n",
            "Epoch 189/200\n",
            "1648/1648 [==============================] - 4s 3ms/step - loss: 0.1684 - accuracy: 0.9421 - val_loss: 0.4643 - val_accuracy: 0.8982\n",
            "Epoch 190/200\n",
            "1648/1648 [==============================] - 5s 3ms/step - loss: 0.1606 - accuracy: 0.9458 - val_loss: 0.4995 - val_accuracy: 0.8956\n",
            "Epoch 191/200\n",
            "1648/1648 [==============================] - 4s 3ms/step - loss: 0.1702 - accuracy: 0.9430 - val_loss: 0.4017 - val_accuracy: 0.9016\n",
            "Epoch 192/200\n",
            "1648/1648 [==============================] - 4s 3ms/step - loss: 0.1741 - accuracy: 0.9424 - val_loss: 0.4707 - val_accuracy: 0.8962\n",
            "Epoch 193/200\n",
            "1648/1648 [==============================] - 4s 3ms/step - loss: 0.1764 - accuracy: 0.9412 - val_loss: 0.5081 - val_accuracy: 0.8938\n",
            "Epoch 194/200\n",
            "1648/1648 [==============================] - 4s 3ms/step - loss: 0.1689 - accuracy: 0.9442 - val_loss: 0.4047 - val_accuracy: 0.9012\n",
            "Epoch 195/200\n",
            "1648/1648 [==============================] - 4s 3ms/step - loss: 0.1615 - accuracy: 0.9448 - val_loss: 0.4039 - val_accuracy: 0.8853\n",
            "Epoch 196/200\n",
            "1648/1648 [==============================] - 4s 3ms/step - loss: 0.2302 - accuracy: 0.9240 - val_loss: 0.4107 - val_accuracy: 0.8960\n",
            "Epoch 197/200\n",
            "1648/1648 [==============================] - 5s 3ms/step - loss: 0.1784 - accuracy: 0.9389 - val_loss: 0.4797 - val_accuracy: 0.8944\n",
            "Epoch 198/200\n",
            "1648/1648 [==============================] - 5s 3ms/step - loss: 0.1769 - accuracy: 0.9427 - val_loss: 0.4217 - val_accuracy: 0.8969\n",
            "Epoch 199/200\n",
            "1648/1648 [==============================] - 5s 3ms/step - loss: 0.1635 - accuracy: 0.9431 - val_loss: 0.4222 - val_accuracy: 0.8937\n",
            "Epoch 200/200\n",
            "1648/1648 [==============================] - 5s 3ms/step - loss: 0.1741 - accuracy: 0.9424 - val_loss: 0.4116 - val_accuracy: 0.8945\n"
          ],
          "name": "stdout"
        }
      ]
    },
    {
      "cell_type": "code",
      "metadata": {
        "colab": {
          "base_uri": "https://localhost:8080/",
          "height": 585
        },
        "id": "piG4w7F_hLFf",
        "outputId": "c81e9c49-5a09-42d4-c4a2-fc03c53c8646"
      },
      "source": [
        "sg.utils.plot_history(history)"
      ],
      "execution_count": null,
      "outputs": [
        {
          "output_type": "display_data",
          "data": {
            "image/png": "[encoded data removed]",
            "text/plain": [
              "<Figure size 504x576 with 2 Axes>"
            ]
          },
          "metadata": {
            "tags": [],
            "needs_background": "light"
          }
        }
      ]
    },
    {
      "cell_type": "code",
      "metadata": {
        "colab": {
          "base_uri": "https://localhost:8080/"
        },
        "id": "NuJCzrZCdvc6",
        "outputId": "0c3cf835-0677-4eee-bf2f-c578d8612bb7"
      },
      "source": [
        "y_pred = model.predict(tf.convert_to_tensor(np.stack(X_test)))\n",
        "y_pred = np.argmax(y_pred, axis=1)\n",
        "y_pred = le.inverse_transform(y_pred)\n",
        "\n",
        "y_pred[:10]"
      ],
      "execution_count": null,
      "outputs": [
        {
          "output_type": "execute_result",
          "data": {
            "text/plain": [
              "array(['Biologia', 'Biologia', 'Biologia', 'Matematyka', 'Biologia',\n",
              "       'Astronomia', 'Informatyka', 'Astronomia', 'Astronomia',\n",
              "       'Psychologia'], dtype='<U11')"
            ]
          },
          "metadata": {
            "tags": []
          },
          "execution_count": 104
        }
      ]
    },
    {
      "cell_type": "code",
      "metadata": {
        "colab": {
          "base_uri": "https://localhost:8080/"
        },
        "id": "5-U_psksj9IC",
        "outputId": "d35238fe-f930-4213-e62f-55aced424b32"
      },
      "source": [
        "y_test = np.array(y_test)\n",
        "y_test = le.inverse_transform(y_test)\n",
        "\n",
        "y_test[:10]"
      ],
      "execution_count": null,
      "outputs": [
        {
          "output_type": "execute_result",
          "data": {
            "text/plain": [
              "array(['Biologia', 'Biologia', 'Biologia', 'Matematyka', 'Biologia',\n",
              "       'Astronomia', 'Informatyka', 'Astronomia', 'Astronomia',\n",
              "       'Psychologia'], dtype='<U11')"
            ]
          },
          "metadata": {
            "tags": []
          },
          "execution_count": 105
        }
      ]
    },
    {
      "cell_type": "code",
      "metadata": {
        "id": "7_aTTw92kQWo"
      },
      "source": [
        "with open('/content/drive/Shareddrives/GCN-PROJECT/gcn_2_results/nn_y_pred.pkl', 'wb') as f:\n",
        "    pickle.dump(y_pred, f)\n",
        "\n",
        "with open('/content/drive/Shareddrives/GCN-PROJECT/gcn_2_results/nn_y_test.pkl', 'wb') as f:\n",
        "    pickle.dump(y_test, f)"
      ],
      "execution_count": null,
      "outputs": []
    },
    {
      "cell_type": "code",
      "metadata": {
        "colab": {
          "base_uri": "https://localhost:8080/"
        },
        "id": "anq94suRkIIs",
        "outputId": "7b470d6c-c78b-4c71-f09a-9b0151b0c397"
      },
      "source": [
        "print(classification_report(y_test, y_pred))"
      ],
      "execution_count": null,
      "outputs": [
        {
          "output_type": "stream",
          "text": [
            "              precision    recall  f1-score   support\n",
            "\n",
            "  Astronomia       0.98      0.98      0.98      3830\n",
            "    Biologia       0.97      0.96      0.97      3509\n",
            "      Chemia       0.77      0.63      0.69       409\n",
            "      Fizyka       0.77      0.78      0.77       760\n",
            " Informatyka       0.73      0.65      0.69       732\n",
            "  Matematyka       0.74      0.79      0.76      1200\n",
            " Psychologia       0.74      0.81      0.77       855\n",
            "\n",
            "    accuracy                           0.89     11295\n",
            "   macro avg       0.81      0.80      0.80     11295\n",
            "weighted avg       0.89      0.89      0.89     11295\n",
            "\n"
          ],
          "name": "stdout"
        }
      ]
    },
    {
      "cell_type": "code",
      "metadata": {
        "colab": {
          "base_uri": "https://localhost:8080/",
          "height": 522
        },
        "id": "BHL3fI_Vkzv9",
        "outputId": "184a4f51-fe61-4e8f-fcdd-698d24317d47"
      },
      "source": [
        "conf_matrix(\n",
        "    y_true=y_test,\n",
        "    y_pred=y_pred\n",
        ")"
      ],
      "execution_count": null,
      "outputs": [
        {
          "output_type": "display_data",
          "data": {
            "image/png": "[encoded data removed]",
            "text/plain": [
              "<Figure size 720x504 with 2 Axes>"
            ]
          },
          "metadata": {
            "tags": [],
            "needs_background": "light"
          }
        }
      ]
    },
    {
      "cell_type": "markdown",
      "metadata": {
        "id": "icOVcHUImRdh"
      },
      "source": [
        "## GNN Models"
      ]
    },
    {
      "cell_type": "markdown",
      "metadata": {
        "id": "6xC9FFw4COe2"
      },
      "source": [
        "### Data Preparation"
      ]
    },
    {
      "cell_type": "code",
      "metadata": {
        "id": "Wc9LTn3yk82W"
      },
      "source": [
        "node_data = data_vec[['title', 'doc_vec', 'category']]\n",
        "\n",
        "features_columns = ['x'+str(i+1) for i in range(node_data.iloc[0]['doc_vec'].shape[0])]\n",
        "\n",
        "node_data[features_columns] = pd.DataFrame(node_data['doc_vec'].tolist(), index=node_data.index)\n",
        "node_data = node_data.drop_duplicates(subset=['title'])\n",
        "node_data = node_data.set_index('title', drop=True)\n",
        "\n",
        "node_subjects = node_data['category']\n",
        "node_data = node_data.drop(columns=['doc_vec', 'category'])"
      ],
      "execution_count": null,
      "outputs": []
    },
    {
      "cell_type": "code",
      "metadata": {
        "colab": {
          "base_uri": "https://localhost:8080/",
          "height": 301
        },
        "id": "4yBl-fLU_i74",
        "outputId": "cdf012eb-3bf3-4b28-aee6-425b23fb8db9"
      },
      "source": [
        "print(node_data.shape)\n",
        "node_data.head()"
      ],
      "execution_count": null,
      "outputs": [
        {
          "output_type": "stream",
          "text": [
            "(75301, 768)\n"
          ],
          "name": "stdout"
        },
        {
          "output_type": "execute_result",
          "data": {
            "text/html": [
              "<div>\n",
              "<style scoped>\n",
              "    .dataframe tbody tr th:only-of-type {\n",
              "        vertical-align: middle;\n",
              "    }\n",
              "\n",
              "    .dataframe tbody tr th {\n",
              "        vertical-align: top;\n",
              "    }\n",
              "\n",
              "    .dataframe thead th {\n",
              "        text-align: right;\n",
              "    }\n",
              "</style>\n",
              "<table border=\"1\" class=\"dataframe\">\n",
              "  <thead>\n",
              "    <tr style=\"text-align: right;\">\n",
              "      <th></th>\n",
              "      <th>x1</th>\n",
              "      <th>x2</th>\n",
              "      <th>x3</th>\n",
              "      <th>x4</th>\n",
              "      <th>x5</th>\n",
              "      <th>x6</th>\n",
              "      <th>x7</th>\n",
              "      <th>x8</th>\n",
              "      <th>x9</th>\n",
              "      <th>x10</th>\n",
              "      <th>x11</th>\n",
              "      <th>x12</th>\n",
              "      <th>x13</th>\n",
              "      <th>x14</th>\n",
              "      <th>x15</th>\n",
              "      <th>x16</th>\n",
              "      <th>x17</th>\n",
              "      <th>x18</th>\n",
              "      <th>x19</th>\n",
              "      <th>x20</th>\n",
              "      <th>x21</th>\n",
              "      <th>x22</th>\n",
              "      <th>x23</th>\n",
              "      <th>x24</th>\n",
              "      <th>x25</th>\n",
              "      <th>x26</th>\n",
              "      <th>x27</th>\n",
              "      <th>x28</th>\n",
              "      <th>x29</th>\n",
              "      <th>x30</th>\n",
              "      <th>x31</th>\n",
              "      <th>x32</th>\n",
              "      <th>x33</th>\n",
              "      <th>x34</th>\n",
              "      <th>x35</th>\n",
              "      <th>x36</th>\n",
              "      <th>x37</th>\n",
              "      <th>x38</th>\n",
              "      <th>x39</th>\n",
              "      <th>x40</th>\n",
              "      <th>...</th>\n",
              "      <th>x729</th>\n",
              "      <th>x730</th>\n",
              "      <th>x731</th>\n",
              "      <th>x732</th>\n",
              "      <th>x733</th>\n",
              "      <th>x734</th>\n",
              "      <th>x735</th>\n",
              "      <th>x736</th>\n",
              "      <th>x737</th>\n",
              "      <th>x738</th>\n",
              "      <th>x739</th>\n",
              "      <th>x740</th>\n",
              "      <th>x741</th>\n",
              "      <th>x742</th>\n",
              "      <th>x743</th>\n",
              "      <th>x744</th>\n",
              "      <th>x745</th>\n",
              "      <th>x746</th>\n",
              "      <th>x747</th>\n",
              "      <th>x748</th>\n",
              "      <th>x749</th>\n",
              "      <th>x750</th>\n",
              "      <th>x751</th>\n",
              "      <th>x752</th>\n",
              "      <th>x753</th>\n",
              "      <th>x754</th>\n",
              "      <th>x755</th>\n",
              "      <th>x756</th>\n",
              "      <th>x757</th>\n",
              "      <th>x758</th>\n",
              "      <th>x759</th>\n",
              "      <th>x760</th>\n",
              "      <th>x761</th>\n",
              "      <th>x762</th>\n",
              "      <th>x763</th>\n",
              "      <th>x764</th>\n",
              "      <th>x765</th>\n",
              "      <th>x766</th>\n",
              "      <th>x767</th>\n",
              "      <th>x768</th>\n",
              "    </tr>\n",
              "    <tr>\n",
              "      <th>title</th>\n",
              "      <th></th>\n",
              "      <th></th>\n",
              "      <th></th>\n",
              "      <th></th>\n",
              "      <th></th>\n",
              "      <th></th>\n",
              "      <th></th>\n",
              "      <th></th>\n",
              "      <th></th>\n",
              "      <th></th>\n",
              "      <th></th>\n",
              "      <th></th>\n",
              "      <th></th>\n",
              "      <th></th>\n",
              "      <th></th>\n",
              "      <th></th>\n",
              "      <th></th>\n",
              "      <th></th>\n",
              "      <th></th>\n",
              "      <th></th>\n",
              "      <th></th>\n",
              "      <th></th>\n",
              "      <th></th>\n",
              "      <th></th>\n",
              "      <th></th>\n",
              "      <th></th>\n",
              "      <th></th>\n",
              "      <th></th>\n",
              "      <th></th>\n",
              "      <th></th>\n",
              "      <th></th>\n",
              "      <th></th>\n",
              "      <th></th>\n",
              "      <th></th>\n",
              "      <th></th>\n",
              "      <th></th>\n",
              "      <th></th>\n",
              "      <th></th>\n",
              "      <th></th>\n",
              "      <th></th>\n",
              "      <th></th>\n",
              "      <th></th>\n",
              "      <th></th>\n",
              "      <th></th>\n",
              "      <th></th>\n",
              "      <th></th>\n",
              "      <th></th>\n",
              "      <th></th>\n",
              "      <th></th>\n",
              "      <th></th>\n",
              "      <th></th>\n",
              "      <th></th>\n",
              "      <th></th>\n",
              "      <th></th>\n",
              "      <th></th>\n",
              "      <th></th>\n",
              "      <th></th>\n",
              "      <th></th>\n",
              "      <th></th>\n",
              "      <th></th>\n",
              "      <th></th>\n",
              "      <th></th>\n",
              "      <th></th>\n",
              "      <th></th>\n",
              "      <th></th>\n",
              "      <th></th>\n",
              "      <th></th>\n",
              "      <th></th>\n",
              "      <th></th>\n",
              "      <th></th>\n",
              "      <th></th>\n",
              "      <th></th>\n",
              "      <th></th>\n",
              "      <th></th>\n",
              "      <th></th>\n",
              "      <th></th>\n",
              "      <th></th>\n",
              "      <th></th>\n",
              "      <th></th>\n",
              "      <th></th>\n",
              "      <th></th>\n",
              "    </tr>\n",
              "  </thead>\n",
              "  <tbody>\n",
              "    <tr>\n",
              "      <th>Mirosław_Miller</th>\n",
              "      <td>-0.219926</td>\n",
              "      <td>-0.020758</td>\n",
              "      <td>-0.014616</td>\n",
              "      <td>0.394396</td>\n",
              "      <td>0.500316</td>\n",
              "      <td>-0.181580</td>\n",
              "      <td>-0.192722</td>\n",
              "      <td>-0.708210</td>\n",
              "      <td>0.473683</td>\n",
              "      <td>0.439326</td>\n",
              "      <td>0.530582</td>\n",
              "      <td>0.272025</td>\n",
              "      <td>0.634749</td>\n",
              "      <td>0.837265</td>\n",
              "      <td>0.808322</td>\n",
              "      <td>-0.125842</td>\n",
              "      <td>-0.271405</td>\n",
              "      <td>0.617461</td>\n",
              "      <td>0.115456</td>\n",
              "      <td>0.228076</td>\n",
              "      <td>0.463745</td>\n",
              "      <td>0.484825</td>\n",
              "      <td>-0.146430</td>\n",
              "      <td>-0.337708</td>\n",
              "      <td>-0.433751</td>\n",
              "      <td>-0.075304</td>\n",
              "      <td>0.705951</td>\n",
              "      <td>0.631060</td>\n",
              "      <td>0.363307</td>\n",
              "      <td>0.288020</td>\n",
              "      <td>-0.048990</td>\n",
              "      <td>-0.226470</td>\n",
              "      <td>-0.100440</td>\n",
              "      <td>-0.064261</td>\n",
              "      <td>0.232194</td>\n",
              "      <td>0.648149</td>\n",
              "      <td>0.368211</td>\n",
              "      <td>-0.013470</td>\n",
              "      <td>-0.317822</td>\n",
              "      <td>-0.060656</td>\n",
              "      <td>...</td>\n",
              "      <td>0.213190</td>\n",
              "      <td>-0.063614</td>\n",
              "      <td>0.005444</td>\n",
              "      <td>0.213546</td>\n",
              "      <td>0.181618</td>\n",
              "      <td>-0.802018</td>\n",
              "      <td>-0.196133</td>\n",
              "      <td>-0.596286</td>\n",
              "      <td>-0.405018</td>\n",
              "      <td>-0.074901</td>\n",
              "      <td>-0.119138</td>\n",
              "      <td>0.056574</td>\n",
              "      <td>-0.230043</td>\n",
              "      <td>0.504145</td>\n",
              "      <td>-0.108260</td>\n",
              "      <td>0.380613</td>\n",
              "      <td>-0.595839</td>\n",
              "      <td>0.187472</td>\n",
              "      <td>0.191988</td>\n",
              "      <td>0.597606</td>\n",
              "      <td>0.800470</td>\n",
              "      <td>0.386268</td>\n",
              "      <td>0.682949</td>\n",
              "      <td>0.712229</td>\n",
              "      <td>0.677780</td>\n",
              "      <td>-0.639878</td>\n",
              "      <td>0.196495</td>\n",
              "      <td>-0.221351</td>\n",
              "      <td>0.463456</td>\n",
              "      <td>0.331832</td>\n",
              "      <td>-0.671317</td>\n",
              "      <td>0.020494</td>\n",
              "      <td>0.668065</td>\n",
              "      <td>0.771456</td>\n",
              "      <td>0.031702</td>\n",
              "      <td>0.108481</td>\n",
              "      <td>-0.450070</td>\n",
              "      <td>-0.125325</td>\n",
              "      <td>0.289960</td>\n",
              "      <td>0.689580</td>\n",
              "    </tr>\n",
              "    <tr>\n",
              "      <th>Chimerokształtne</th>\n",
              "      <td>0.114831</td>\n",
              "      <td>0.409914</td>\n",
              "      <td>-0.024782</td>\n",
              "      <td>0.147265</td>\n",
              "      <td>0.317551</td>\n",
              "      <td>-0.199824</td>\n",
              "      <td>-0.122247</td>\n",
              "      <td>-0.535094</td>\n",
              "      <td>0.422980</td>\n",
              "      <td>0.346967</td>\n",
              "      <td>0.303326</td>\n",
              "      <td>-0.054668</td>\n",
              "      <td>0.672193</td>\n",
              "      <td>0.811492</td>\n",
              "      <td>0.202351</td>\n",
              "      <td>0.153528</td>\n",
              "      <td>-0.840887</td>\n",
              "      <td>0.754388</td>\n",
              "      <td>-0.021899</td>\n",
              "      <td>0.507661</td>\n",
              "      <td>0.335545</td>\n",
              "      <td>0.564200</td>\n",
              "      <td>-0.198836</td>\n",
              "      <td>0.131671</td>\n",
              "      <td>-0.755547</td>\n",
              "      <td>0.035302</td>\n",
              "      <td>0.711862</td>\n",
              "      <td>0.380230</td>\n",
              "      <td>0.467017</td>\n",
              "      <td>0.530130</td>\n",
              "      <td>0.280763</td>\n",
              "      <td>-0.051324</td>\n",
              "      <td>-0.088721</td>\n",
              "      <td>-0.389025</td>\n",
              "      <td>-0.232612</td>\n",
              "      <td>0.523665</td>\n",
              "      <td>0.113089</td>\n",
              "      <td>0.064074</td>\n",
              "      <td>-0.232191</td>\n",
              "      <td>0.006611</td>\n",
              "      <td>...</td>\n",
              "      <td>0.031356</td>\n",
              "      <td>-0.018578</td>\n",
              "      <td>0.332432</td>\n",
              "      <td>-0.196648</td>\n",
              "      <td>0.762116</td>\n",
              "      <td>-0.797382</td>\n",
              "      <td>-0.338181</td>\n",
              "      <td>-0.466067</td>\n",
              "      <td>-0.120869</td>\n",
              "      <td>-0.140519</td>\n",
              "      <td>-0.257714</td>\n",
              "      <td>-0.153664</td>\n",
              "      <td>-0.251419</td>\n",
              "      <td>0.425590</td>\n",
              "      <td>0.277819</td>\n",
              "      <td>0.038872</td>\n",
              "      <td>-0.229557</td>\n",
              "      <td>0.194886</td>\n",
              "      <td>-0.354827</td>\n",
              "      <td>0.601609</td>\n",
              "      <td>0.842410</td>\n",
              "      <td>-0.262562</td>\n",
              "      <td>0.480582</td>\n",
              "      <td>0.076605</td>\n",
              "      <td>-0.104705</td>\n",
              "      <td>-0.636899</td>\n",
              "      <td>0.305006</td>\n",
              "      <td>-0.257087</td>\n",
              "      <td>0.625114</td>\n",
              "      <td>0.616302</td>\n",
              "      <td>-0.737836</td>\n",
              "      <td>0.139394</td>\n",
              "      <td>0.598177</td>\n",
              "      <td>0.801906</td>\n",
              "      <td>-0.031240</td>\n",
              "      <td>0.137388</td>\n",
              "      <td>-0.135596</td>\n",
              "      <td>-0.185398</td>\n",
              "      <td>-0.099210</td>\n",
              "      <td>0.470500</td>\n",
              "    </tr>\n",
              "    <tr>\n",
              "      <th>(2855)_Bastian</th>\n",
              "      <td>-0.060400</td>\n",
              "      <td>-0.287020</td>\n",
              "      <td>0.524464</td>\n",
              "      <td>0.010869</td>\n",
              "      <td>0.361838</td>\n",
              "      <td>0.270922</td>\n",
              "      <td>-0.236963</td>\n",
              "      <td>-0.702777</td>\n",
              "      <td>0.067689</td>\n",
              "      <td>0.425118</td>\n",
              "      <td>0.442138</td>\n",
              "      <td>0.185016</td>\n",
              "      <td>0.655864</td>\n",
              "      <td>0.830952</td>\n",
              "      <td>0.150803</td>\n",
              "      <td>0.591725</td>\n",
              "      <td>-0.511207</td>\n",
              "      <td>0.330747</td>\n",
              "      <td>-0.401087</td>\n",
              "      <td>0.287391</td>\n",
              "      <td>-0.089807</td>\n",
              "      <td>0.378315</td>\n",
              "      <td>-0.566631</td>\n",
              "      <td>-0.413916</td>\n",
              "      <td>-0.776283</td>\n",
              "      <td>-0.603583</td>\n",
              "      <td>0.303189</td>\n",
              "      <td>-0.012703</td>\n",
              "      <td>0.590856</td>\n",
              "      <td>0.187999</td>\n",
              "      <td>-0.221558</td>\n",
              "      <td>0.223572</td>\n",
              "      <td>-0.469983</td>\n",
              "      <td>-0.083954</td>\n",
              "      <td>-0.071220</td>\n",
              "      <td>0.753422</td>\n",
              "      <td>-0.133702</td>\n",
              "      <td>0.581880</td>\n",
              "      <td>-0.587725</td>\n",
              "      <td>0.487189</td>\n",
              "      <td>...</td>\n",
              "      <td>0.630668</td>\n",
              "      <td>0.240670</td>\n",
              "      <td>0.202402</td>\n",
              "      <td>-0.318835</td>\n",
              "      <td>0.441645</td>\n",
              "      <td>-0.675024</td>\n",
              "      <td>-0.045359</td>\n",
              "      <td>-0.362277</td>\n",
              "      <td>-0.421742</td>\n",
              "      <td>-0.415869</td>\n",
              "      <td>-0.279742</td>\n",
              "      <td>-0.048752</td>\n",
              "      <td>-0.549688</td>\n",
              "      <td>0.557681</td>\n",
              "      <td>0.302163</td>\n",
              "      <td>0.136112</td>\n",
              "      <td>-0.253669</td>\n",
              "      <td>0.730310</td>\n",
              "      <td>-0.212954</td>\n",
              "      <td>0.617314</td>\n",
              "      <td>0.552607</td>\n",
              "      <td>-0.153099</td>\n",
              "      <td>0.589679</td>\n",
              "      <td>0.493204</td>\n",
              "      <td>0.287557</td>\n",
              "      <td>-0.131214</td>\n",
              "      <td>-0.066009</td>\n",
              "      <td>-0.468578</td>\n",
              "      <td>0.500029</td>\n",
              "      <td>0.368629</td>\n",
              "      <td>-0.822310</td>\n",
              "      <td>0.032054</td>\n",
              "      <td>0.242252</td>\n",
              "      <td>0.553949</td>\n",
              "      <td>-0.267992</td>\n",
              "      <td>-0.344484</td>\n",
              "      <td>-0.136683</td>\n",
              "      <td>-0.226183</td>\n",
              "      <td>0.323400</td>\n",
              "      <td>-0.046518</td>\n",
              "    </tr>\n",
              "    <tr>\n",
              "      <th>Cryptocephalus_celtibericus</th>\n",
              "      <td>0.202098</td>\n",
              "      <td>-0.145114</td>\n",
              "      <td>0.391447</td>\n",
              "      <td>0.021200</td>\n",
              "      <td>0.224448</td>\n",
              "      <td>0.032822</td>\n",
              "      <td>-0.430060</td>\n",
              "      <td>-0.290235</td>\n",
              "      <td>0.166879</td>\n",
              "      <td>0.617603</td>\n",
              "      <td>0.428709</td>\n",
              "      <td>0.202603</td>\n",
              "      <td>0.617266</td>\n",
              "      <td>0.769665</td>\n",
              "      <td>0.208997</td>\n",
              "      <td>0.333715</td>\n",
              "      <td>-0.816788</td>\n",
              "      <td>0.776852</td>\n",
              "      <td>-0.100071</td>\n",
              "      <td>0.611350</td>\n",
              "      <td>0.344158</td>\n",
              "      <td>0.621149</td>\n",
              "      <td>-0.235183</td>\n",
              "      <td>0.201298</td>\n",
              "      <td>-0.881020</td>\n",
              "      <td>-0.182275</td>\n",
              "      <td>0.611033</td>\n",
              "      <td>0.520459</td>\n",
              "      <td>0.431674</td>\n",
              "      <td>0.370501</td>\n",
              "      <td>0.067129</td>\n",
              "      <td>-0.278726</td>\n",
              "      <td>-0.125732</td>\n",
              "      <td>-0.575252</td>\n",
              "      <td>0.147851</td>\n",
              "      <td>0.472426</td>\n",
              "      <td>0.093926</td>\n",
              "      <td>0.281920</td>\n",
              "      <td>-0.310783</td>\n",
              "      <td>-0.396964</td>\n",
              "      <td>...</td>\n",
              "      <td>0.148287</td>\n",
              "      <td>-0.003908</td>\n",
              "      <td>0.443697</td>\n",
              "      <td>0.072537</td>\n",
              "      <td>0.438976</td>\n",
              "      <td>-0.864351</td>\n",
              "      <td>-0.243268</td>\n",
              "      <td>-0.407704</td>\n",
              "      <td>-0.162719</td>\n",
              "      <td>0.095343</td>\n",
              "      <td>-0.363262</td>\n",
              "      <td>0.231514</td>\n",
              "      <td>-0.206105</td>\n",
              "      <td>0.184530</td>\n",
              "      <td>0.464446</td>\n",
              "      <td>0.147684</td>\n",
              "      <td>-0.281584</td>\n",
              "      <td>0.328229</td>\n",
              "      <td>-0.450324</td>\n",
              "      <td>0.485036</td>\n",
              "      <td>0.701858</td>\n",
              "      <td>-0.243636</td>\n",
              "      <td>0.860521</td>\n",
              "      <td>0.600689</td>\n",
              "      <td>0.477260</td>\n",
              "      <td>-0.347431</td>\n",
              "      <td>0.265175</td>\n",
              "      <td>-0.420487</td>\n",
              "      <td>0.540403</td>\n",
              "      <td>0.643642</td>\n",
              "      <td>-0.733586</td>\n",
              "      <td>0.092182</td>\n",
              "      <td>0.571006</td>\n",
              "      <td>0.879470</td>\n",
              "      <td>0.016313</td>\n",
              "      <td>-0.177960</td>\n",
              "      <td>-0.367677</td>\n",
              "      <td>-0.120335</td>\n",
              "      <td>0.018981</td>\n",
              "      <td>0.555620</td>\n",
              "    </tr>\n",
              "    <tr>\n",
              "      <th>Język_maszynowy</th>\n",
              "      <td>0.524713</td>\n",
              "      <td>-0.094674</td>\n",
              "      <td>0.193831</td>\n",
              "      <td>0.392210</td>\n",
              "      <td>0.570837</td>\n",
              "      <td>-0.178284</td>\n",
              "      <td>-0.076394</td>\n",
              "      <td>-0.511447</td>\n",
              "      <td>0.148328</td>\n",
              "      <td>0.625187</td>\n",
              "      <td>0.195444</td>\n",
              "      <td>-0.005099</td>\n",
              "      <td>0.771912</td>\n",
              "      <td>0.642171</td>\n",
              "      <td>0.559426</td>\n",
              "      <td>-0.025839</td>\n",
              "      <td>-0.317238</td>\n",
              "      <td>0.916364</td>\n",
              "      <td>-0.126402</td>\n",
              "      <td>0.276977</td>\n",
              "      <td>0.355506</td>\n",
              "      <td>0.411032</td>\n",
              "      <td>-0.600609</td>\n",
              "      <td>-0.060925</td>\n",
              "      <td>-0.444267</td>\n",
              "      <td>-0.091692</td>\n",
              "      <td>0.523220</td>\n",
              "      <td>0.651013</td>\n",
              "      <td>0.429251</td>\n",
              "      <td>0.478760</td>\n",
              "      <td>-0.071204</td>\n",
              "      <td>-0.050796</td>\n",
              "      <td>-0.020467</td>\n",
              "      <td>-0.475437</td>\n",
              "      <td>0.168413</td>\n",
              "      <td>0.775962</td>\n",
              "      <td>0.091300</td>\n",
              "      <td>0.159182</td>\n",
              "      <td>-0.319989</td>\n",
              "      <td>-0.524489</td>\n",
              "      <td>...</td>\n",
              "      <td>0.302316</td>\n",
              "      <td>-0.413300</td>\n",
              "      <td>-0.021899</td>\n",
              "      <td>0.437491</td>\n",
              "      <td>0.362457</td>\n",
              "      <td>-0.829003</td>\n",
              "      <td>-0.073916</td>\n",
              "      <td>-0.291688</td>\n",
              "      <td>-0.613269</td>\n",
              "      <td>-0.015714</td>\n",
              "      <td>0.081635</td>\n",
              "      <td>-0.114934</td>\n",
              "      <td>-0.412266</td>\n",
              "      <td>0.639178</td>\n",
              "      <td>0.044080</td>\n",
              "      <td>0.009861</td>\n",
              "      <td>-0.234377</td>\n",
              "      <td>0.349733</td>\n",
              "      <td>0.196248</td>\n",
              "      <td>0.494294</td>\n",
              "      <td>0.625969</td>\n",
              "      <td>-0.032701</td>\n",
              "      <td>0.777739</td>\n",
              "      <td>0.544403</td>\n",
              "      <td>0.009164</td>\n",
              "      <td>-0.312855</td>\n",
              "      <td>0.254349</td>\n",
              "      <td>-0.101007</td>\n",
              "      <td>0.692936</td>\n",
              "      <td>0.304110</td>\n",
              "      <td>-0.744672</td>\n",
              "      <td>0.360402</td>\n",
              "      <td>0.726019</td>\n",
              "      <td>0.838541</td>\n",
              "      <td>-0.002974</td>\n",
              "      <td>0.277606</td>\n",
              "      <td>-0.531299</td>\n",
              "      <td>-0.074189</td>\n",
              "      <td>0.066945</td>\n",
              "      <td>0.488413</td>\n",
              "    </tr>\n",
              "  </tbody>\n",
              "</table>\n",
              "<p>5 rows × 768 columns</p>\n",
              "</div>"
            ],
            "text/plain": [
              "                                   x1        x2  ...      x767      x768\n",
              "title                                            ...                    \n",
              "Mirosław_Miller             -0.219926 -0.020758  ...  0.289960  0.689580\n",
              "Chimerokształtne             0.114831  0.409914  ... -0.099210  0.470500\n",
              "(2855)_Bastian              -0.060400 -0.287020  ...  0.323400 -0.046518\n",
              "Cryptocephalus_celtibericus  0.202098 -0.145114  ...  0.018981  0.555620\n",
              "Język_maszynowy              0.524713 -0.094674  ...  0.066945  0.488413\n",
              "\n",
              "[5 rows x 768 columns]"
            ]
          },
          "metadata": {
            "tags": []
          },
          "execution_count": 110
        }
      ]
    },
    {
      "cell_type": "code",
      "metadata": {
        "id": "hkre-dEQ8hIr"
      },
      "source": [
        "edges = pd.read_csv(\"/content/drive/Shareddrives/GCN-PROJECT/annotations.csv\", header=None)\n",
        "edges.columns = ['source', 'target']\n",
        "\n",
        "nodes_set = set(node_data.index)\n",
        "edges = edges[\n",
        "    (edges['source'].isin(nodes_set)) &\n",
        "    (edges['target'].isin(nodes_set))\n",
        "]"
      ],
      "execution_count": null,
      "outputs": []
    },
    {
      "cell_type": "code",
      "metadata": {
        "colab": {
          "base_uri": "https://localhost:8080/",
          "height": 221
        },
        "id": "_zIyChdF9mb_",
        "outputId": "870d5d6f-8f4f-45d8-bfe1-edbb90a490ed"
      },
      "source": [
        "print(edges.shape)\n",
        "edges.head()"
      ],
      "execution_count": null,
      "outputs": [
        {
          "output_type": "stream",
          "text": [
            "(346527, 2)\n"
          ],
          "name": "stdout"
        },
        {
          "output_type": "execute_result",
          "data": {
            "text/html": [
              "<div>\n",
              "<style scoped>\n",
              "    .dataframe tbody tr th:only-of-type {\n",
              "        vertical-align: middle;\n",
              "    }\n",
              "\n",
              "    .dataframe tbody tr th {\n",
              "        vertical-align: top;\n",
              "    }\n",
              "\n",
              "    .dataframe thead th {\n",
              "        text-align: right;\n",
              "    }\n",
              "</style>\n",
              "<table border=\"1\" class=\"dataframe\">\n",
              "  <thead>\n",
              "    <tr style=\"text-align: right;\">\n",
              "      <th></th>\n",
              "      <th>source</th>\n",
              "      <th>target</th>\n",
              "    </tr>\n",
              "  </thead>\n",
              "  <tbody>\n",
              "    <tr>\n",
              "      <th>0</th>\n",
              "      <td>AWK</td>\n",
              "      <td>Język_programowania</td>\n",
              "    </tr>\n",
              "    <tr>\n",
              "      <th>2</th>\n",
              "      <td>AWK</td>\n",
              "      <td>System_operacyjny</td>\n",
              "    </tr>\n",
              "    <tr>\n",
              "      <th>3</th>\n",
              "      <td>AWK</td>\n",
              "      <td>Unix</td>\n",
              "    </tr>\n",
              "    <tr>\n",
              "      <th>4</th>\n",
              "      <td>AWK</td>\n",
              "      <td>Tablica_asocjacyjna</td>\n",
              "    </tr>\n",
              "    <tr>\n",
              "      <th>6</th>\n",
              "      <td>AWK</td>\n",
              "      <td>Wyrażenie_regularne</td>\n",
              "    </tr>\n",
              "  </tbody>\n",
              "</table>\n",
              "</div>"
            ],
            "text/plain": [
              "  source               target\n",
              "0    AWK  Język_programowania\n",
              "2    AWK    System_operacyjny\n",
              "3    AWK                 Unix\n",
              "4    AWK  Tablica_asocjacyjna\n",
              "6    AWK  Wyrażenie_regularne"
            ]
          },
          "metadata": {
            "tags": []
          },
          "execution_count": 112
        }
      ]
    },
    {
      "cell_type": "markdown",
      "metadata": {
        "id": "Jm5es_VzC0-w"
      },
      "source": [
        "### StellarGraph"
      ]
    },
    {
      "cell_type": "code",
      "metadata": {
        "id": "XxqPjWww9p6D"
      },
      "source": [
        "stellar_graph = StellarGraph(\n",
        "    {'article': node_data},\n",
        "    {'annotation': edges}\n",
        ")"
      ],
      "execution_count": null,
      "outputs": []
    },
    {
      "cell_type": "code",
      "metadata": {
        "colab": {
          "base_uri": "https://localhost:8080/"
        },
        "id": "Prf472kaBByv",
        "outputId": "e7e84a4a-4023-4dec-f776-5d24fa4a3f97"
      },
      "source": [
        "print(stellar_graph.info())"
      ],
      "execution_count": null,
      "outputs": [
        {
          "output_type": "stream",
          "text": [
            "StellarGraph: Undirected multigraph\n",
            " Nodes: 75301, Edges: 346527\n",
            "\n",
            " Node types:\n",
            "  article: [75301]\n",
            "    Features: float32 vector, length 768\n",
            "    Edge types: article-annotation->article\n",
            "\n",
            " Edge types:\n",
            "    article-annotation->article: [346527]\n",
            "        Weights: all 1 (default)\n",
            "        Features: none\n"
          ],
          "name": "stdout"
        }
      ]
    },
    {
      "cell_type": "code",
      "metadata": {
        "colab": {
          "base_uri": "https://localhost:8080/"
        },
        "id": "wveHGTWT0VFI",
        "outputId": "bb222918-35aa-4d90-a426-7ac2405586a4"
      },
      "source": [
        "print(set(node_subjects))\n",
        "print(len(node_subjects))"
      ],
      "execution_count": null,
      "outputs": [
        {
          "output_type": "stream",
          "text": [
            "{0, 1, 2, 3, 4, 5, 6}\n",
            "75301\n"
          ],
          "name": "stdout"
        }
      ]
    },
    {
      "cell_type": "markdown",
      "metadata": {
        "id": "19FsvqRA0vfk"
      },
      "source": [
        "### Data preparation"
      ]
    },
    {
      "cell_type": "code",
      "metadata": {
        "id": "fQDIV_mC03ji"
      },
      "source": [
        "# split node_subjects to train and test_val\n",
        "train_subjects, test_val_subjects = train_test_split(\n",
        "    node_subjects, test_size=0.3, stratify=node_subjects, random_state=seed_value\n",
        ")\n",
        "# split test_val_subjects to test_subjects and val_subjects\n",
        "test_subjects, val_subjects = train_test_split(\n",
        "    test_val_subjects, test_size=0.5, stratify=test_val_subjects, random_state=seed_value\n",
        ")\n",
        "# 0.5 x 0.3 = 0.15"
      ],
      "execution_count": null,
      "outputs": []
    },
    {
      "cell_type": "code",
      "metadata": {
        "colab": {
          "base_uri": "https://localhost:8080/"
        },
        "id": "Dif_miwY03Tq",
        "outputId": "0a23a12d-0914-4a37-ebc5-bc60d1e46e19"
      },
      "source": [
        "print(f'Train: {len(train_subjects)}')\n",
        "print(f'Test: {len(test_subjects)}')\n",
        "print(f'Val: {len(val_subjects)}')"
      ],
      "execution_count": null,
      "outputs": [
        {
          "output_type": "stream",
          "text": [
            "Train: 52710\n",
            "Test: 11295\n",
            "Val: 11296\n"
          ],
          "name": "stdout"
        }
      ]
    },
    {
      "cell_type": "code",
      "metadata": {
        "id": "5r7Ps3-Z07uK"
      },
      "source": [
        "target_encoding = LabelBinarizer()\n",
        "\n",
        "train_targets = target_encoding.fit_transform(train_subjects)\n",
        "test_targets = target_encoding.transform(test_subjects)\n",
        "val_targets = target_encoding.transform(val_subjects)"
      ],
      "execution_count": null,
      "outputs": []
    },
    {
      "cell_type": "markdown",
      "metadata": {
        "id": "AJUU3ClXDuOu"
      },
      "source": [
        "### GAT"
      ]
    },
    {
      "cell_type": "code",
      "metadata": {
        "id": "mqewfrOzHIX4"
      },
      "source": [
        "generator = FullBatchNodeGenerator(stellar_graph, method=\"gat\")\n",
        "\n",
        "train_gen = generator.flow(train_subjects.index, train_targets)\n",
        "test_gen = generator.flow(test_subjects.index, test_targets)\n",
        "val_gen = generator.flow(val_subjects.index, val_targets)"
      ],
      "execution_count": null,
      "outputs": []
    },
    {
      "cell_type": "code",
      "metadata": {
        "id": "DlXDNMq8HNj4"
      },
      "source": [
        "# gat = GAT(\n",
        "#     layer_sizes=[128, train_targets.shape[1]],\n",
        "#     activations=[\"elu\", \"softmax\"],\n",
        "#     attn_heads=8,\n",
        "#     generator=generator,\n",
        "#     in_dropout=0.5,\n",
        "#     attn_dropout=0.5,\n",
        "#     normalize=None,\n",
        "# )\n",
        "\n",
        "gat = GAT(\n",
        "    layer_sizes=[128, 128],\n",
        "    activations=[\"elu\", \"elu\"],\n",
        "    attn_heads=8,\n",
        "    generator=generator,\n",
        "    in_dropout=0.5,\n",
        "    attn_dropout=0.5,\n",
        "    normalize=None,\n",
        ")"
      ],
      "execution_count": null,
      "outputs": []
    },
    {
      "cell_type": "code",
      "metadata": {
        "id": "6XDOc86NHYuX"
      },
      "source": [
        "x_inp, x_out = gat.in_out_tensors()\n",
        "\n",
        "dense = tf.keras.layers.Dense(units=64, activation=\"relu\")(x_out)\n",
        "predictions = tf.keras.layers.Dense(units=train_targets.shape[1], activation=\"softmax\")(dense)"
      ],
      "execution_count": null,
      "outputs": []
    },
    {
      "cell_type": "code",
      "metadata": {
        "id": "FuHTf604H1Gq"
      },
      "source": [
        "model = Model(inputs=x_inp, outputs=predictions)\n",
        "\n",
        "model.compile(\n",
        "    optimizer=optimizers.Adam(lr=0.005),\n",
        "    loss=losses.categorical_crossentropy,\n",
        "    metrics=[\"acc\"],\n",
        ")"
      ],
      "execution_count": null,
      "outputs": []
    },
    {
      "cell_type": "code",
      "metadata": {
        "id": "pngUXC5EIGqc"
      },
      "source": [
        "# if not os.path.isdir(\"logs\"):\n",
        "#     os.makedirs(\"logs\")\n",
        "es_callback = EarlyStopping(\n",
        "    monitor=\"val_acc\", patience=20\n",
        ")  # patience is the number of epochs to wait before early stopping in case of no further improvement\n",
        "# mc_callback = ModelCheckpoint(\n",
        "#     \"logs/best_model.h5\", monitor=\"val_acc\", save_best_only=True, save_weights_only=True\n",
        "# )"
      ],
      "execution_count": null,
      "outputs": []
    },
    {
      "cell_type": "code",
      "metadata": {
        "colab": {
          "base_uri": "https://localhost:8080/"
        },
        "id": "f6Wm9UynILmP",
        "outputId": "52430aa4-3ad4-4a17-9b46-c3275573c9ff"
      },
      "source": [
        "history_gat = model.fit(\n",
        "    train_gen,\n",
        "    epochs=200,\n",
        "    validation_data=val_gen,\n",
        "    verbose=2,\n",
        "    shuffle=False,  # this should be False, since shuffling data means shuffling the whole graph\n",
        "    # callbacks=[es_callback, mc_callback],\n",
        "    # callbacks=[es_callback],\n",
        ")"
      ],
      "execution_count": null,
      "outputs": [
        {
          "output_type": "stream",
          "text": [
            "Epoch 1/200\n",
            "1/1 - 5s - loss: 2.3399 - acc: 0.1164 - val_loss: 4.4931 - val_acc: 0.3391\n",
            "Epoch 2/200\n",
            "1/1 - 2s - loss: 4.2635 - acc: 0.3795 - val_loss: 7.8842 - val_acc: 0.3106\n",
            "Epoch 3/200\n",
            "1/1 - 2s - loss: 8.6161 - acc: 0.3033 - val_loss: 5.2749 - val_acc: 0.0674\n",
            "Epoch 4/200\n",
            "1/1 - 2s - loss: 5.9825 - acc: 0.1370 - val_loss: 2.2667 - val_acc: 0.1062\n",
            "Epoch 5/200\n",
            "1/1 - 2s - loss: 3.5068 - acc: 0.1291 - val_loss: 2.1309 - val_acc: 0.3391\n",
            "Epoch 6/200\n",
            "1/1 - 2s - loss: 2.6865 - acc: 0.1772 - val_loss: 1.8658 - val_acc: 0.3396\n",
            "Epoch 7/200\n",
            "1/1 - 2s - loss: 1.9760 - acc: 0.4460 - val_loss: 1.5863 - val_acc: 0.6255\n",
            "Epoch 8/200\n",
            "1/1 - 2s - loss: 2.0494 - acc: 0.4868 - val_loss: 1.5629 - val_acc: 0.5097\n",
            "Epoch 9/200\n",
            "1/1 - 2s - loss: 1.8425 - acc: 0.5189 - val_loss: 1.0103 - val_acc: 0.7288\n",
            "Epoch 10/200\n",
            "1/1 - 2s - loss: 1.6956 - acc: 0.5241 - val_loss: 1.0986 - val_acc: 0.6481\n",
            "Epoch 11/200\n",
            "1/1 - 2s - loss: 1.5936 - acc: 0.5387 - val_loss: 1.0350 - val_acc: 0.6884\n",
            "Epoch 12/200\n",
            "1/1 - 2s - loss: 1.3920 - acc: 0.5982 - val_loss: 1.0039 - val_acc: 0.6434\n",
            "Epoch 13/200\n",
            "1/1 - 2s - loss: 1.2481 - acc: 0.6227 - val_loss: 1.0434 - val_acc: 0.6422\n",
            "Epoch 14/200\n",
            "1/1 - 2s - loss: 1.2074 - acc: 0.6276 - val_loss: 0.9316 - val_acc: 0.6856\n",
            "Epoch 15/200\n",
            "1/1 - 2s - loss: 1.1440 - acc: 0.6473 - val_loss: 0.8008 - val_acc: 0.7188\n",
            "Epoch 16/200\n",
            "1/1 - 2s - loss: 1.0925 - acc: 0.6574 - val_loss: 0.7664 - val_acc: 0.7492\n",
            "Epoch 17/200\n",
            "1/1 - 2s - loss: 1.0225 - acc: 0.6703 - val_loss: 0.7659 - val_acc: 0.7396\n",
            "Epoch 18/200\n",
            "1/1 - 2s - loss: 0.9604 - acc: 0.6779 - val_loss: 0.7849 - val_acc: 0.7226\n",
            "Epoch 19/200\n",
            "1/1 - 2s - loss: 0.9370 - acc: 0.6806 - val_loss: 0.7624 - val_acc: 0.7256\n",
            "Epoch 20/200\n",
            "1/1 - 2s - loss: 0.9026 - acc: 0.6892 - val_loss: 0.7003 - val_acc: 0.7330\n",
            "Epoch 21/200\n",
            "1/1 - 2s - loss: 0.8686 - acc: 0.7000 - val_loss: 0.6430 - val_acc: 0.7561\n",
            "Epoch 22/200\n",
            "1/1 - 2s - loss: 0.8295 - acc: 0.7079 - val_loss: 0.6189 - val_acc: 0.7635\n",
            "Epoch 23/200\n",
            "1/1 - 2s - loss: 0.7987 - acc: 0.7191 - val_loss: 0.6173 - val_acc: 0.7563\n",
            "Epoch 24/200\n",
            "1/1 - 2s - loss: 0.7690 - acc: 0.7256 - val_loss: 0.6240 - val_acc: 0.7495\n",
            "Epoch 25/200\n",
            "1/1 - 2s - loss: 0.7561 - acc: 0.7258 - val_loss: 0.6210 - val_acc: 0.7479\n",
            "Epoch 26/200\n",
            "1/1 - 2s - loss: 0.7407 - acc: 0.7297 - val_loss: 0.6053 - val_acc: 0.7514\n",
            "Epoch 27/200\n",
            "1/1 - 2s - loss: 0.7234 - acc: 0.7318 - val_loss: 0.5838 - val_acc: 0.7596\n",
            "Epoch 28/200\n",
            "1/1 - 2s - loss: 0.7037 - acc: 0.7396 - val_loss: 0.5671 - val_acc: 0.7741\n",
            "Epoch 29/200\n",
            "1/1 - 2s - loss: 0.6937 - acc: 0.7426 - val_loss: 0.5625 - val_acc: 0.7817\n",
            "Epoch 30/200\n",
            "1/1 - 2s - loss: 0.6763 - acc: 0.7508 - val_loss: 0.5688 - val_acc: 0.7843\n",
            "Epoch 31/200\n",
            "1/1 - 2s - loss: 0.6697 - acc: 0.7526 - val_loss: 0.5757 - val_acc: 0.7840\n",
            "Epoch 32/200\n",
            "1/1 - 2s - loss: 0.6603 - acc: 0.7524 - val_loss: 0.5747 - val_acc: 0.7836\n",
            "Epoch 33/200\n",
            "1/1 - 2s - loss: 0.6424 - acc: 0.7590 - val_loss: 0.5621 - val_acc: 0.7901\n",
            "Epoch 34/200\n",
            "1/1 - 2s - loss: 0.6338 - acc: 0.7641 - val_loss: 0.5448 - val_acc: 0.7972\n",
            "Epoch 35/200\n",
            "1/1 - 2s - loss: 0.6235 - acc: 0.7709 - val_loss: 0.5300 - val_acc: 0.8029\n",
            "Epoch 36/200\n",
            "1/1 - 2s - loss: 0.6261 - acc: 0.7662 - val_loss: 0.5225 - val_acc: 0.8054\n",
            "Epoch 37/200\n",
            "1/1 - 2s - loss: 0.6036 - acc: 0.7751 - val_loss: 0.5195 - val_acc: 0.8085\n",
            "Epoch 38/200\n",
            "1/1 - 2s - loss: 0.6031 - acc: 0.7746 - val_loss: 0.5176 - val_acc: 0.8098\n",
            "Epoch 39/200\n",
            "1/1 - 2s - loss: 0.5895 - acc: 0.7780 - val_loss: 0.5150 - val_acc: 0.8126\n",
            "Epoch 40/200\n",
            "1/1 - 2s - loss: 0.5864 - acc: 0.7818 - val_loss: 0.5098 - val_acc: 0.8148\n",
            "Epoch 41/200\n",
            "1/1 - 2s - loss: 0.5782 - acc: 0.7859 - val_loss: 0.5029 - val_acc: 0.8175\n",
            "Epoch 42/200\n",
            "1/1 - 2s - loss: 0.5732 - acc: 0.7870 - val_loss: 0.4955 - val_acc: 0.8182\n",
            "Epoch 43/200\n",
            "1/1 - 2s - loss: 0.5679 - acc: 0.7915 - val_loss: 0.4892 - val_acc: 0.8196\n",
            "Epoch 44/200\n",
            "1/1 - 2s - loss: 0.5586 - acc: 0.7904 - val_loss: 0.4833 - val_acc: 0.8226\n",
            "Epoch 45/200\n",
            "1/1 - 2s - loss: 0.5559 - acc: 0.7960 - val_loss: 0.4786 - val_acc: 0.8232\n",
            "Epoch 46/200\n",
            "1/1 - 2s - loss: 0.5549 - acc: 0.7916 - val_loss: 0.4757 - val_acc: 0.8236\n",
            "Epoch 47/200\n",
            "1/1 - 2s - loss: 0.5461 - acc: 0.7959 - val_loss: 0.4726 - val_acc: 0.8228\n",
            "Epoch 48/200\n",
            "1/1 - 2s - loss: 0.5361 - acc: 0.7987 - val_loss: 0.4689 - val_acc: 0.8221\n",
            "Epoch 49/200\n",
            "1/1 - 2s - loss: 0.5296 - acc: 0.8023 - val_loss: 0.4634 - val_acc: 0.8236\n",
            "Epoch 50/200\n",
            "1/1 - 2s - loss: 0.5294 - acc: 0.8042 - val_loss: 0.4574 - val_acc: 0.8250\n",
            "Epoch 51/200\n",
            "1/1 - 2s - loss: 0.5247 - acc: 0.8037 - val_loss: 0.4526 - val_acc: 0.8267\n",
            "Epoch 52/200\n",
            "1/1 - 2s - loss: 0.5120 - acc: 0.8107 - val_loss: 0.4489 - val_acc: 0.8268\n",
            "Epoch 53/200\n",
            "1/1 - 2s - loss: 0.5156 - acc: 0.8081 - val_loss: 0.4466 - val_acc: 0.8269\n",
            "Epoch 54/200\n",
            "1/1 - 2s - loss: 0.5090 - acc: 0.8118 - val_loss: 0.4452 - val_acc: 0.8268\n",
            "Epoch 55/200\n",
            "1/1 - 2s - loss: 0.5038 - acc: 0.8138 - val_loss: 0.4457 - val_acc: 0.8273\n",
            "Epoch 56/200\n",
            "1/1 - 2s - loss: 0.5039 - acc: 0.8131 - val_loss: 0.4454 - val_acc: 0.8271\n",
            "Epoch 57/200\n",
            "1/1 - 2s - loss: 0.5047 - acc: 0.8138 - val_loss: 0.4404 - val_acc: 0.8282\n",
            "Epoch 58/200\n",
            "1/1 - 2s - loss: 0.4918 - acc: 0.8172 - val_loss: 0.4334 - val_acc: 0.8321\n",
            "Epoch 59/200\n",
            "1/1 - 2s - loss: 0.4926 - acc: 0.8171 - val_loss: 0.4268 - val_acc: 0.8338\n",
            "Epoch 60/200\n",
            "1/1 - 2s - loss: 0.4905 - acc: 0.8184 - val_loss: 0.4230 - val_acc: 0.8358\n",
            "Epoch 61/200\n",
            "1/1 - 2s - loss: 0.4869 - acc: 0.8181 - val_loss: 0.4232 - val_acc: 0.8356\n",
            "Epoch 62/200\n",
            "1/1 - 2s - loss: 0.4842 - acc: 0.8196 - val_loss: 0.4253 - val_acc: 0.8349\n",
            "Epoch 63/200\n",
            "1/1 - 2s - loss: 0.4812 - acc: 0.8178 - val_loss: 0.4260 - val_acc: 0.8344\n",
            "Epoch 64/200\n",
            "1/1 - 2s - loss: 0.4786 - acc: 0.8225 - val_loss: 0.4214 - val_acc: 0.8353\n",
            "Epoch 65/200\n",
            "1/1 - 2s - loss: 0.4717 - acc: 0.8240 - val_loss: 0.4188 - val_acc: 0.8364\n",
            "Epoch 66/200\n",
            "1/1 - 2s - loss: 0.4719 - acc: 0.8248 - val_loss: 0.4149 - val_acc: 0.8371\n",
            "Epoch 67/200\n",
            "1/1 - 2s - loss: 0.4704 - acc: 0.8243 - val_loss: 0.4145 - val_acc: 0.8380\n",
            "Epoch 68/200\n",
            "1/1 - 2s - loss: 0.4646 - acc: 0.8281 - val_loss: 0.4150 - val_acc: 0.8380\n",
            "Epoch 69/200\n",
            "1/1 - 2s - loss: 0.4670 - acc: 0.8254 - val_loss: 0.4113 - val_acc: 0.8396\n",
            "Epoch 70/200\n",
            "1/1 - 2s - loss: 0.4661 - acc: 0.8242 - val_loss: 0.4075 - val_acc: 0.8408\n",
            "Epoch 71/200\n",
            "1/1 - 2s - loss: 0.4583 - acc: 0.8278 - val_loss: 0.4053 - val_acc: 0.8412\n",
            "Epoch 72/200\n",
            "1/1 - 2s - loss: 0.4544 - acc: 0.8304 - val_loss: 0.4052 - val_acc: 0.8405\n",
            "Epoch 73/200\n",
            "1/1 - 2s - loss: 0.4591 - acc: 0.8292 - val_loss: 0.4038 - val_acc: 0.8414\n",
            "Epoch 74/200\n",
            "1/1 - 2s - loss: 0.4536 - acc: 0.8287 - val_loss: 0.4032 - val_acc: 0.8412\n",
            "Epoch 75/200\n",
            "1/1 - 2s - loss: 0.4539 - acc: 0.8301 - val_loss: 0.4016 - val_acc: 0.8414\n",
            "Epoch 76/200\n",
            "1/1 - 2s - loss: 0.4480 - acc: 0.8319 - val_loss: 0.3999 - val_acc: 0.8414\n",
            "Epoch 77/200\n",
            "1/1 - 2s - loss: 0.4469 - acc: 0.8315 - val_loss: 0.3958 - val_acc: 0.8433\n",
            "Epoch 78/200\n",
            "1/1 - 2s - loss: 0.4430 - acc: 0.8319 - val_loss: 0.3931 - val_acc: 0.8444\n",
            "Epoch 79/200\n",
            "1/1 - 2s - loss: 0.4439 - acc: 0.8319 - val_loss: 0.3918 - val_acc: 0.8447\n",
            "Epoch 80/200\n",
            "1/1 - 2s - loss: 0.4496 - acc: 0.8338 - val_loss: 0.3923 - val_acc: 0.8451\n",
            "Epoch 81/200\n",
            "1/1 - 2s - loss: 0.4367 - acc: 0.8345 - val_loss: 0.3922 - val_acc: 0.8456\n",
            "Epoch 82/200\n",
            "1/1 - 2s - loss: 0.4384 - acc: 0.8362 - val_loss: 0.3910 - val_acc: 0.8453\n",
            "Epoch 83/200\n",
            "1/1 - 2s - loss: 0.4416 - acc: 0.8354 - val_loss: 0.3909 - val_acc: 0.8457\n",
            "Epoch 84/200\n",
            "1/1 - 2s - loss: 0.4374 - acc: 0.8344 - val_loss: 0.3890 - val_acc: 0.8463\n",
            "Epoch 85/200\n",
            "1/1 - 2s - loss: 0.4361 - acc: 0.8370 - val_loss: 0.3898 - val_acc: 0.8469\n",
            "Epoch 86/200\n",
            "1/1 - 2s - loss: 0.4312 - acc: 0.8393 - val_loss: 0.3881 - val_acc: 0.8468\n",
            "Epoch 87/200\n",
            "1/1 - 2s - loss: 0.4313 - acc: 0.8386 - val_loss: 0.3874 - val_acc: 0.8473\n",
            "Epoch 88/200\n",
            "1/1 - 2s - loss: 0.4330 - acc: 0.8389 - val_loss: 0.3857 - val_acc: 0.8477\n",
            "Epoch 89/200\n",
            "1/1 - 2s - loss: 0.4279 - acc: 0.8381 - val_loss: 0.3857 - val_acc: 0.8494\n",
            "Epoch 90/200\n",
            "1/1 - 2s - loss: 0.4239 - acc: 0.8440 - val_loss: 0.3880 - val_acc: 0.8483\n",
            "Epoch 91/200\n",
            "1/1 - 2s - loss: 0.4319 - acc: 0.8374 - val_loss: 0.3872 - val_acc: 0.8486\n",
            "Epoch 92/200\n",
            "1/1 - 2s - loss: 0.4261 - acc: 0.8396 - val_loss: 0.3821 - val_acc: 0.8507\n",
            "Epoch 93/200\n",
            "1/1 - 2s - loss: 0.4212 - acc: 0.8447 - val_loss: 0.3766 - val_acc: 0.8519\n",
            "Epoch 94/200\n",
            "1/1 - 2s - loss: 0.4200 - acc: 0.8438 - val_loss: 0.3741 - val_acc: 0.8537\n",
            "Epoch 95/200\n",
            "1/1 - 2s - loss: 0.4189 - acc: 0.8434 - val_loss: 0.3771 - val_acc: 0.8528\n",
            "Epoch 96/200\n",
            "1/1 - 2s - loss: 0.4185 - acc: 0.8448 - val_loss: 0.3801 - val_acc: 0.8522\n",
            "Epoch 97/200\n",
            "1/1 - 2s - loss: 0.4195 - acc: 0.8435 - val_loss: 0.3800 - val_acc: 0.8512\n",
            "Epoch 98/200\n",
            "1/1 - 2s - loss: 0.4189 - acc: 0.8425 - val_loss: 0.3773 - val_acc: 0.8535\n",
            "Epoch 99/200\n",
            "1/1 - 2s - loss: 0.4157 - acc: 0.8468 - val_loss: 0.3743 - val_acc: 0.8549\n",
            "Epoch 100/200\n",
            "1/1 - 2s - loss: 0.4115 - acc: 0.8470 - val_loss: 0.3702 - val_acc: 0.8564\n",
            "Epoch 101/200\n",
            "1/1 - 2s - loss: 0.4128 - acc: 0.8453 - val_loss: 0.3695 - val_acc: 0.8583\n",
            "Epoch 102/200\n",
            "1/1 - 2s - loss: 0.4120 - acc: 0.8463 - val_loss: 0.3711 - val_acc: 0.8575\n",
            "Epoch 103/200\n",
            "1/1 - 2s - loss: 0.4103 - acc: 0.8476 - val_loss: 0.3728 - val_acc: 0.8581\n",
            "Epoch 104/200\n",
            "1/1 - 2s - loss: 0.4096 - acc: 0.8489 - val_loss: 0.3732 - val_acc: 0.8588\n",
            "Epoch 105/200\n",
            "1/1 - 2s - loss: 0.4077 - acc: 0.8493 - val_loss: 0.3713 - val_acc: 0.8593\n",
            "Epoch 106/200\n",
            "1/1 - 2s - loss: 0.4075 - acc: 0.8514 - val_loss: 0.3696 - val_acc: 0.8600\n",
            "Epoch 107/200\n",
            "1/1 - 2s - loss: 0.4038 - acc: 0.8530 - val_loss: 0.3694 - val_acc: 0.8602\n",
            "Epoch 108/200\n",
            "1/1 - 2s - loss: 0.4025 - acc: 0.8505 - val_loss: 0.3689 - val_acc: 0.8607\n",
            "Epoch 109/200\n",
            "1/1 - 2s - loss: 0.4062 - acc: 0.8527 - val_loss: 0.3685 - val_acc: 0.8603\n",
            "Epoch 110/200\n",
            "1/1 - 2s - loss: 0.4081 - acc: 0.8519 - val_loss: 0.3673 - val_acc: 0.8616\n",
            "Epoch 111/200\n",
            "1/1 - 2s - loss: 0.3988 - acc: 0.8527 - val_loss: 0.3683 - val_acc: 0.8613\n",
            "Epoch 112/200\n",
            "1/1 - 2s - loss: 0.4010 - acc: 0.8541 - val_loss: 0.3732 - val_acc: 0.8602\n",
            "Epoch 113/200\n",
            "1/1 - 2s - loss: 0.3998 - acc: 0.8541 - val_loss: 0.3722 - val_acc: 0.8610\n",
            "Epoch 114/200\n",
            "1/1 - 2s - loss: 0.4054 - acc: 0.8522 - val_loss: 0.3703 - val_acc: 0.8603\n",
            "Epoch 115/200\n",
            "1/1 - 2s - loss: 0.3966 - acc: 0.8568 - val_loss: 0.3629 - val_acc: 0.8635\n",
            "Epoch 116/200\n",
            "1/1 - 2s - loss: 0.3962 - acc: 0.8559 - val_loss: 0.3591 - val_acc: 0.8649\n",
            "Epoch 117/200\n",
            "1/1 - 2s - loss: 0.3950 - acc: 0.8548 - val_loss: 0.3583 - val_acc: 0.8656\n",
            "Epoch 118/200\n",
            "1/1 - 2s - loss: 0.3924 - acc: 0.8586 - val_loss: 0.3580 - val_acc: 0.8659\n",
            "Epoch 119/200\n",
            "1/1 - 2s - loss: 0.3925 - acc: 0.8596 - val_loss: 0.3637 - val_acc: 0.8642\n",
            "Epoch 120/200\n",
            "1/1 - 2s - loss: 0.3904 - acc: 0.8585 - val_loss: 0.3667 - val_acc: 0.8630\n",
            "Epoch 121/200\n",
            "1/1 - 2s - loss: 0.3925 - acc: 0.8557 - val_loss: 0.3654 - val_acc: 0.8634\n",
            "Epoch 122/200\n",
            "1/1 - 2s - loss: 0.3917 - acc: 0.8592 - val_loss: 0.3632 - val_acc: 0.8646\n",
            "Epoch 123/200\n",
            "1/1 - 2s - loss: 0.3954 - acc: 0.8552 - val_loss: 0.3566 - val_acc: 0.8661\n",
            "Epoch 124/200\n",
            "1/1 - 2s - loss: 0.3922 - acc: 0.8580 - val_loss: 0.3528 - val_acc: 0.8683\n",
            "Epoch 125/200\n",
            "1/1 - 2s - loss: 0.3901 - acc: 0.8598 - val_loss: 0.3533 - val_acc: 0.8677\n",
            "Epoch 126/200\n",
            "1/1 - 2s - loss: 0.3903 - acc: 0.8580 - val_loss: 0.3570 - val_acc: 0.8683\n",
            "Epoch 127/200\n",
            "1/1 - 2s - loss: 0.3893 - acc: 0.8588 - val_loss: 0.3623 - val_acc: 0.8655\n",
            "Epoch 128/200\n",
            "1/1 - 2s - loss: 0.3897 - acc: 0.8581 - val_loss: 0.3619 - val_acc: 0.8656\n",
            "Epoch 129/200\n",
            "1/1 - 2s - loss: 0.3840 - acc: 0.8612 - val_loss: 0.3562 - val_acc: 0.8680\n",
            "Epoch 130/200\n",
            "1/1 - 2s - loss: 0.3809 - acc: 0.8619 - val_loss: 0.3511 - val_acc: 0.8711\n",
            "Epoch 131/200\n",
            "1/1 - 2s - loss: 0.3850 - acc: 0.8626 - val_loss: 0.3504 - val_acc: 0.8714\n",
            "Epoch 132/200\n",
            "1/1 - 2s - loss: 0.3856 - acc: 0.8619 - val_loss: 0.3537 - val_acc: 0.8706\n",
            "Epoch 133/200\n",
            "1/1 - 2s - loss: 0.3814 - acc: 0.8620 - val_loss: 0.3572 - val_acc: 0.8688\n",
            "Epoch 134/200\n",
            "1/1 - 2s - loss: 0.3852 - acc: 0.8635 - val_loss: 0.3575 - val_acc: 0.8683\n",
            "Epoch 135/200\n",
            "1/1 - 2s - loss: 0.3792 - acc: 0.8642 - val_loss: 0.3527 - val_acc: 0.8701\n",
            "Epoch 136/200\n",
            "1/1 - 2s - loss: 0.3836 - acc: 0.8620 - val_loss: 0.3484 - val_acc: 0.8716\n",
            "Epoch 137/200\n",
            "1/1 - 2s - loss: 0.3828 - acc: 0.8648 - val_loss: 0.3483 - val_acc: 0.8720\n",
            "Epoch 138/200\n",
            "1/1 - 2s - loss: 0.3822 - acc: 0.8646 - val_loss: 0.3451 - val_acc: 0.8732\n",
            "Epoch 139/200\n",
            "1/1 - 2s - loss: 0.3792 - acc: 0.8662 - val_loss: 0.3478 - val_acc: 0.8724\n",
            "Epoch 140/200\n",
            "1/1 - 2s - loss: 0.3785 - acc: 0.8646 - val_loss: 0.3476 - val_acc: 0.8729\n",
            "Epoch 141/200\n",
            "1/1 - 2s - loss: 0.3804 - acc: 0.8656 - val_loss: 0.3439 - val_acc: 0.8754\n",
            "Epoch 142/200\n",
            "1/1 - 2s - loss: 0.3751 - acc: 0.8659 - val_loss: 0.3423 - val_acc: 0.8766\n",
            "Epoch 143/200\n",
            "1/1 - 2s - loss: 0.3782 - acc: 0.8671 - val_loss: 0.3488 - val_acc: 0.8714\n",
            "Epoch 144/200\n",
            "1/1 - 2s - loss: 0.3767 - acc: 0.8656 - val_loss: 0.3497 - val_acc: 0.8703\n",
            "Epoch 145/200\n",
            "1/1 - 2s - loss: 0.3735 - acc: 0.8666 - val_loss: 0.3429 - val_acc: 0.8739\n",
            "Epoch 146/200\n",
            "1/1 - 2s - loss: 0.3739 - acc: 0.8670 - val_loss: 0.3352 - val_acc: 0.8793\n",
            "Epoch 147/200\n",
            "1/1 - 2s - loss: 0.3777 - acc: 0.8667 - val_loss: 0.3348 - val_acc: 0.8777\n",
            "Epoch 148/200\n",
            "1/1 - 2s - loss: 0.3744 - acc: 0.8671 - val_loss: 0.3431 - val_acc: 0.8738\n",
            "Epoch 149/200\n",
            "1/1 - 2s - loss: 0.3728 - acc: 0.8670 - val_loss: 0.3431 - val_acc: 0.8738\n",
            "Epoch 150/200\n",
            "1/1 - 2s - loss: 0.3770 - acc: 0.8667 - val_loss: 0.3341 - val_acc: 0.8783\n",
            "Epoch 151/200\n",
            "1/1 - 2s - loss: 0.3768 - acc: 0.8682 - val_loss: 0.3333 - val_acc: 0.8777\n",
            "Epoch 152/200\n",
            "1/1 - 2s - loss: 0.3718 - acc: 0.8696 - val_loss: 0.3344 - val_acc: 0.8775\n",
            "Epoch 153/200\n",
            "1/1 - 2s - loss: 0.3741 - acc: 0.8665 - val_loss: 0.3334 - val_acc: 0.8776\n",
            "Epoch 154/200\n",
            "1/1 - 2s - loss: 0.3701 - acc: 0.8678 - val_loss: 0.3335 - val_acc: 0.8782\n",
            "Epoch 155/200\n",
            "1/1 - 2s - loss: 0.3668 - acc: 0.8707 - val_loss: 0.3341 - val_acc: 0.8777\n",
            "Epoch 156/200\n",
            "1/1 - 2s - loss: 0.3672 - acc: 0.8733 - val_loss: 0.3359 - val_acc: 0.8773\n",
            "Epoch 157/200\n",
            "1/1 - 2s - loss: 0.3689 - acc: 0.8721 - val_loss: 0.3368 - val_acc: 0.8758\n",
            "Epoch 158/200\n",
            "1/1 - 2s - loss: 0.3688 - acc: 0.8680 - val_loss: 0.3311 - val_acc: 0.8779\n",
            "Epoch 159/200\n",
            "1/1 - 2s - loss: 0.3688 - acc: 0.8699 - val_loss: 0.3268 - val_acc: 0.8809\n",
            "Epoch 160/200\n",
            "1/1 - 2s - loss: 0.3708 - acc: 0.8711 - val_loss: 0.3267 - val_acc: 0.8803\n",
            "Epoch 161/200\n",
            "1/1 - 2s - loss: 0.3693 - acc: 0.8712 - val_loss: 0.3305 - val_acc: 0.8797\n",
            "Epoch 162/200\n",
            "1/1 - 2s - loss: 0.3667 - acc: 0.8715 - val_loss: 0.3288 - val_acc: 0.8794\n",
            "Epoch 163/200\n",
            "1/1 - 2s - loss: 0.3657 - acc: 0.8710 - val_loss: 0.3244 - val_acc: 0.8800\n",
            "Epoch 164/200\n",
            "1/1 - 2s - loss: 0.3631 - acc: 0.8730 - val_loss: 0.3242 - val_acc: 0.8800\n",
            "Epoch 165/200\n",
            "1/1 - 2s - loss: 0.3646 - acc: 0.8743 - val_loss: 0.3251 - val_acc: 0.8804\n",
            "Epoch 166/200\n",
            "1/1 - 2s - loss: 0.3621 - acc: 0.8728 - val_loss: 0.3222 - val_acc: 0.8816\n",
            "Epoch 167/200\n",
            "1/1 - 2s - loss: 0.3637 - acc: 0.8737 - val_loss: 0.3239 - val_acc: 0.8815\n",
            "Epoch 168/200\n",
            "1/1 - 2s - loss: 0.3616 - acc: 0.8736 - val_loss: 0.3193 - val_acc: 0.8829\n",
            "Epoch 169/200\n",
            "1/1 - 2s - loss: 0.3626 - acc: 0.8737 - val_loss: 0.3205 - val_acc: 0.8820\n",
            "Epoch 170/200\n",
            "1/1 - 2s - loss: 0.3625 - acc: 0.8742 - val_loss: 0.3270 - val_acc: 0.8788\n",
            "Epoch 171/200\n",
            "1/1 - 2s - loss: 0.3625 - acc: 0.8721 - val_loss: 0.3257 - val_acc: 0.8796\n",
            "Epoch 172/200\n",
            "1/1 - 2s - loss: 0.3620 - acc: 0.8732 - val_loss: 0.3168 - val_acc: 0.8831\n",
            "Epoch 173/200\n",
            "1/1 - 2s - loss: 0.3608 - acc: 0.8746 - val_loss: 0.3135 - val_acc: 0.8843\n",
            "Epoch 174/200\n",
            "1/1 - 2s - loss: 0.3579 - acc: 0.8738 - val_loss: 0.3176 - val_acc: 0.8834\n",
            "Epoch 175/200\n",
            "1/1 - 2s - loss: 0.3591 - acc: 0.8743 - val_loss: 0.3178 - val_acc: 0.8815\n",
            "Epoch 176/200\n",
            "1/1 - 2s - loss: 0.3587 - acc: 0.8747 - val_loss: 0.3127 - val_acc: 0.8849\n",
            "Epoch 177/200\n",
            "1/1 - 2s - loss: 0.3614 - acc: 0.8738 - val_loss: 0.3105 - val_acc: 0.8854\n",
            "Epoch 178/200\n",
            "1/1 - 2s - loss: 0.3581 - acc: 0.8729 - val_loss: 0.3107 - val_acc: 0.8855\n",
            "Epoch 179/200\n",
            "1/1 - 2s - loss: 0.3564 - acc: 0.8744 - val_loss: 0.3125 - val_acc: 0.8844\n",
            "Epoch 180/200\n",
            "1/1 - 2s - loss: 0.3562 - acc: 0.8758 - val_loss: 0.3138 - val_acc: 0.8850\n",
            "Epoch 181/200\n",
            "1/1 - 2s - loss: 0.3545 - acc: 0.8762 - val_loss: 0.3172 - val_acc: 0.8836\n",
            "Epoch 182/200\n",
            "1/1 - 2s - loss: 0.3529 - acc: 0.8766 - val_loss: 0.3183 - val_acc: 0.8818\n",
            "Epoch 183/200\n",
            "1/1 - 2s - loss: 0.3555 - acc: 0.8748 - val_loss: 0.3133 - val_acc: 0.8834\n",
            "Epoch 184/200\n",
            "1/1 - 2s - loss: 0.3553 - acc: 0.8779 - val_loss: 0.3147 - val_acc: 0.8829\n",
            "Epoch 185/200\n",
            "1/1 - 2s - loss: 0.3559 - acc: 0.8763 - val_loss: 0.3182 - val_acc: 0.8819\n",
            "Epoch 186/200\n",
            "1/1 - 2s - loss: 0.3533 - acc: 0.8760 - val_loss: 0.3124 - val_acc: 0.8853\n",
            "Epoch 187/200\n",
            "1/1 - 2s - loss: 0.3523 - acc: 0.8780 - val_loss: 0.3111 - val_acc: 0.8863\n",
            "Epoch 188/200\n",
            "1/1 - 2s - loss: 0.3514 - acc: 0.8788 - val_loss: 0.3114 - val_acc: 0.8854\n",
            "Epoch 189/200\n",
            "1/1 - 2s - loss: 0.3561 - acc: 0.8765 - val_loss: 0.3108 - val_acc: 0.8847\n",
            "Epoch 190/200\n",
            "1/1 - 2s - loss: 0.3522 - acc: 0.8780 - val_loss: 0.3067 - val_acc: 0.8870\n",
            "Epoch 191/200\n",
            "1/1 - 2s - loss: 0.3541 - acc: 0.8780 - val_loss: 0.3033 - val_acc: 0.8893\n",
            "Epoch 192/200\n",
            "1/1 - 2s - loss: 0.3489 - acc: 0.8794 - val_loss: 0.3088 - val_acc: 0.8873\n",
            "Epoch 193/200\n",
            "1/1 - 2s - loss: 0.3502 - acc: 0.8782 - val_loss: 0.3165 - val_acc: 0.8856\n",
            "Epoch 194/200\n",
            "1/1 - 2s - loss: 0.3504 - acc: 0.8777 - val_loss: 0.3081 - val_acc: 0.8870\n",
            "Epoch 195/200\n",
            "1/1 - 2s - loss: 0.3443 - acc: 0.8802 - val_loss: 0.3061 - val_acc: 0.8874\n",
            "Epoch 196/200\n",
            "1/1 - 2s - loss: 0.3473 - acc: 0.8793 - val_loss: 0.3114 - val_acc: 0.8846\n",
            "Epoch 197/200\n",
            "1/1 - 2s - loss: 0.3531 - acc: 0.8769 - val_loss: 0.3044 - val_acc: 0.8868\n",
            "Epoch 198/200\n",
            "1/1 - 2s - loss: 0.3486 - acc: 0.8791 - val_loss: 0.2952 - val_acc: 0.8921\n",
            "Epoch 199/200\n",
            "1/1 - 2s - loss: 0.3497 - acc: 0.8810 - val_loss: 0.3019 - val_acc: 0.8903\n",
            "Epoch 200/200\n",
            "1/1 - 2s - loss: 0.3470 - acc: 0.8807 - val_loss: 0.3029 - val_acc: 0.8897\n"
          ],
          "name": "stdout"
        }
      ]
    },
    {
      "cell_type": "code",
      "metadata": {
        "colab": {
          "base_uri": "https://localhost:8080/",
          "height": 585
        },
        "id": "ZFZ7plxxIQ9g",
        "outputId": "a53fffc4-b054-4db9-92b1-f1ea3ce56f4e"
      },
      "source": [
        "sg.utils.plot_history(history_gat)"
      ],
      "execution_count": null,
      "outputs": [
        {
          "output_type": "display_data",
          "data": {
            "image/png": "[encoded data removed]",
            "text/plain": [
              "<Figure size 504x576 with 2 Axes>"
            ]
          },
          "metadata": {
            "tags": [],
            "needs_background": "light"
          }
        }
      ]
    },
    {
      "cell_type": "code",
      "metadata": {
        "colab": {
          "base_uri": "https://localhost:8080/"
        },
        "id": "lqe6AXs5JCiw",
        "outputId": "67914b3a-50ee-4872-9ee1-4ff1586402b2"
      },
      "source": [
        "test_metrics = model.evaluate(test_gen)\n",
        "\n",
        "print(\"\\nTest Set Metrics:\")\n",
        "for name, val in zip(model.metrics_names, test_metrics):\n",
        "    print(\"\\t{}: {:0.4f}\".format(name, val))"
      ],
      "execution_count": null,
      "outputs": [
        {
          "output_type": "stream",
          "text": [
            "1/1 [==============================] - 1s 711ms/step - loss: 0.3037 - acc: 0.8915\n",
            "\n",
            "Test Set Metrics:\n",
            "\tloss: 0.3037\n",
            "\tacc: 0.8915\n"
          ],
          "name": "stdout"
        }
      ]
    },
    {
      "cell_type": "code",
      "metadata": {
        "colab": {
          "base_uri": "https://localhost:8080/"
        },
        "id": "IQOWpgvI7jUJ",
        "outputId": "2d2a0f16-d115-42b5-fffd-29b87ac1f128"
      },
      "source": [
        "y_pred = model.predict(test_gen)\n",
        "y_pred = target_encoding.inverse_transform(y_pred.squeeze())\n",
        "y_pred = le.inverse_transform(y_pred)\n",
        "\n",
        "y_pred[:10]"
      ],
      "execution_count": null,
      "outputs": [
        {
          "output_type": "execute_result",
          "data": {
            "text/plain": [
              "array(['Biologia', 'Biologia', 'Biologia', 'Matematyka', 'Biologia',\n",
              "       'Astronomia', 'Informatyka', 'Astronomia', 'Astronomia',\n",
              "       'Psychologia'], dtype='<U11')"
            ]
          },
          "metadata": {
            "tags": []
          },
          "execution_count": 127
        }
      ]
    },
    {
      "cell_type": "code",
      "metadata": {
        "colab": {
          "base_uri": "https://localhost:8080/"
        },
        "id": "PgbuEyoq7zGE",
        "outputId": "d57d0d31-da52-4f04-f733-0cac6253a8f5"
      },
      "source": [
        "y_test = target_encoding.inverse_transform(test_targets)\n",
        "y_test = le.inverse_transform(y_test)\n",
        "\n",
        "y_test[:10]"
      ],
      "execution_count": null,
      "outputs": [
        {
          "output_type": "execute_result",
          "data": {
            "text/plain": [
              "array(['Biologia', 'Biologia', 'Biologia', 'Matematyka', 'Biologia',\n",
              "       'Astronomia', 'Informatyka', 'Astronomia', 'Astronomia',\n",
              "       'Psychologia'], dtype='<U11')"
            ]
          },
          "metadata": {
            "tags": []
          },
          "execution_count": 128
        }
      ]
    },
    {
      "cell_type": "code",
      "metadata": {
        "id": "6z6E6Sf-ly8g"
      },
      "source": [
        "with open('/content/drive/Shareddrives/GCN-PROJECT/gcn_2_results/gat_y_pred.pkl', 'wb') as f:\n",
        "    pickle.dump(y_pred, f)\n",
        "\n",
        "with open('/content/drive/Shareddrives/GCN-PROJECT/gcn_2_results/gat_y_test.pkl', 'wb') as f:\n",
        "    pickle.dump(y_test, f)"
      ],
      "execution_count": null,
      "outputs": []
    },
    {
      "cell_type": "code",
      "metadata": {
        "colab": {
          "base_uri": "https://localhost:8080/"
        },
        "id": "JhyOrbsFKNtu",
        "outputId": "03597622-76c1-4971-b911-7ec6b96e04fe"
      },
      "source": [
        "print(classification_report(y_test, y_pred))"
      ],
      "execution_count": null,
      "outputs": [
        {
          "output_type": "stream",
          "text": [
            "              precision    recall  f1-score   support\n",
            "\n",
            "  Astronomia       0.99      0.98      0.98      3830\n",
            "    Biologia       0.97      0.96      0.96      3509\n",
            "      Chemia       0.60      0.64      0.62       409\n",
            "      Fizyka       0.70      0.85      0.77       760\n",
            " Informatyka       0.65      0.82      0.73       732\n",
            "  Matematyka       0.83      0.64      0.72      1200\n",
            " Psychologia       0.85      0.77      0.81       855\n",
            "\n",
            "    accuracy                           0.89     11295\n",
            "   macro avg       0.80      0.81      0.80     11295\n",
            "weighted avg       0.90      0.89      0.89     11295\n",
            "\n"
          ],
          "name": "stdout"
        }
      ]
    },
    {
      "cell_type": "code",
      "metadata": {
        "colab": {
          "base_uri": "https://localhost:8080/",
          "height": 522
        },
        "id": "XQzkeB9iNiuu",
        "outputId": "c33b708b-fec2-400c-b3d0-4d2d455b8366"
      },
      "source": [
        "conf_matrix(\n",
        "    y_true=y_test,\n",
        "    y_pred=y_pred\n",
        ")"
      ],
      "execution_count": null,
      "outputs": [
        {
          "output_type": "display_data",
          "data": {
            "image/png": "[encoded data removed]",
            "text/plain": [
              "<Figure size 720x504 with 2 Axes>"
            ]
          },
          "metadata": {
            "tags": [],
            "needs_background": "light"
          }
        }
      ]
    },
    {
      "cell_type": "markdown",
      "metadata": {
        "id": "9-cfGafF0Hec"
      },
      "source": [
        "### GCN"
      ]
    },
    {
      "cell_type": "code",
      "metadata": {
        "colab": {
          "base_uri": "https://localhost:8080/"
        },
        "id": "d0xeqQli1wcQ",
        "outputId": "b4302107-5933-4299-ed47-c10709b85096"
      },
      "source": [
        "generator = FullBatchNodeGenerator(stellar_graph, method=\"gcn\")\n",
        "\n",
        "train_gen = generator.flow(train_subjects.index, train_targets)\n",
        "test_gen = generator.flow(test_subjects.index, test_targets)\n",
        "val_gen = generator.flow(val_subjects.index, val_targets)"
      ],
      "execution_count": null,
      "outputs": [
        {
          "output_type": "stream",
          "text": [
            "Using GCN (local pooling) filters...\n"
          ],
          "name": "stdout"
        }
      ]
    },
    {
      "cell_type": "code",
      "metadata": {
        "id": "Cjhb0jms0JWH"
      },
      "source": [
        "gcn = GCN(\n",
        "    layer_sizes=[128, 128],\n",
        "    activations=[\"elu\",\"elu\"],\n",
        "    generator=generator,\n",
        "    dropout=0.5\n",
        ")"
      ],
      "execution_count": null,
      "outputs": []
    },
    {
      "cell_type": "code",
      "metadata": {
        "id": "_gnGLipG0PP4"
      },
      "source": [
        "x_inp, x_out = gcn.in_out_tensors()\n",
        "\n",
        "dense = tf.keras.layers.Dense(units=64, activation=\"relu\")(x_out)\n",
        "predictions = tf.keras.layers.Dense(units=train_targets.shape[1], activation=\"softmax\")(dense)"
      ],
      "execution_count": null,
      "outputs": []
    },
    {
      "cell_type": "code",
      "metadata": {
        "id": "l-r-hqZ52Lqq"
      },
      "source": [
        "model = Model(inputs=x_inp, outputs=predictions)\n",
        "\n",
        "model.compile(\n",
        "    optimizer=optimizers.Adam(lr=0.005),\n",
        "    loss=losses.categorical_crossentropy,\n",
        "    metrics=[\"acc\"],\n",
        ")"
      ],
      "execution_count": null,
      "outputs": []
    },
    {
      "cell_type": "code",
      "metadata": {
        "id": "cALXucdk2Q0c"
      },
      "source": [
        "# if not os.path.isdir(\"logs\"):\n",
        "#     os.makedirs(\"logs\")\n",
        "es_callback = EarlyStopping(\n",
        "    monitor=\"val_acc\", patience=20\n",
        ")  # patience is the number of epochs to wait before early stopping in case of no further improvement\n",
        "# mc_callback = ModelCheckpoint(\n",
        "#     \"logs/best_model.h5\", monitor=\"val_acc\", save_best_only=True, save_weights_only=True\n",
        "# )"
      ],
      "execution_count": null,
      "outputs": []
    },
    {
      "cell_type": "code",
      "metadata": {
        "colab": {
          "base_uri": "https://localhost:8080/"
        },
        "id": "TIoxRSaX2Vn4",
        "outputId": "86d246eb-e9a9-4c5c-c301-1657571d65de"
      },
      "source": [
        "history_gcn = model.fit(\n",
        "    train_gen,\n",
        "    epochs=200,\n",
        "    validation_data=val_gen,\n",
        "    verbose=2,\n",
        "    shuffle=False,  # this should be False, since shuffling data means shuffling the whole graph\n",
        "    # callbacks=[es_callback, mc_callback],\n",
        "    # callbacks=[es_callback],\n",
        ")"
      ],
      "execution_count": null,
      "outputs": [
        {
          "output_type": "stream",
          "text": [
            "Epoch 1/200\n",
            "1/1 - 1s - loss: 1.9294 - acc: 0.0900 - val_loss: 1.9782 - val_acc: 0.4641\n",
            "Epoch 2/200\n",
            "1/1 - 0s - loss: 2.1556 - acc: 0.3124 - val_loss: 2.1576 - val_acc: 0.3391\n",
            "Epoch 3/200\n",
            "1/1 - 0s - loss: 2.0870 - acc: 0.3418 - val_loss: 1.7213 - val_acc: 0.3222\n",
            "Epoch 4/200\n",
            "1/1 - 0s - loss: 1.8652 - acc: 0.1621 - val_loss: 1.3524 - val_acc: 0.5922\n",
            "Epoch 5/200\n",
            "1/1 - 0s - loss: 1.3576 - acc: 0.5187 - val_loss: 1.1669 - val_acc: 0.5845\n",
            "Epoch 6/200\n",
            "1/1 - 0s - loss: 1.2000 - acc: 0.5885 - val_loss: 1.0698 - val_acc: 0.6393\n",
            "Epoch 7/200\n",
            "1/1 - 0s - loss: 1.1028 - acc: 0.6342 - val_loss: 1.0179 - val_acc: 0.6431\n",
            "Epoch 8/200\n",
            "1/1 - 0s - loss: 1.0385 - acc: 0.6392 - val_loss: 0.8673 - val_acc: 0.7396\n",
            "Epoch 9/200\n",
            "1/1 - 0s - loss: 0.9102 - acc: 0.7087 - val_loss: 0.7755 - val_acc: 0.7285\n",
            "Epoch 10/200\n",
            "1/1 - 0s - loss: 0.8158 - acc: 0.7202 - val_loss: 0.7506 - val_acc: 0.7414\n",
            "Epoch 11/200\n",
            "1/1 - 1s - loss: 0.8024 - acc: 0.7061 - val_loss: 0.7067 - val_acc: 0.7602\n",
            "Epoch 12/200\n",
            "1/1 - 0s - loss: 0.7714 - acc: 0.7231 - val_loss: 0.6489 - val_acc: 0.7618\n",
            "Epoch 13/200\n",
            "1/1 - 0s - loss: 0.7082 - acc: 0.7424 - val_loss: 0.6357 - val_acc: 0.7481\n",
            "Epoch 14/200\n",
            "1/1 - 0s - loss: 0.6899 - acc: 0.7383 - val_loss: 0.6130 - val_acc: 0.7607\n",
            "Epoch 15/200\n",
            "1/1 - 0s - loss: 0.6766 - acc: 0.7435 - val_loss: 0.5806 - val_acc: 0.7914\n",
            "Epoch 16/200\n",
            "1/1 - 0s - loss: 0.6403 - acc: 0.7652 - val_loss: 0.5700 - val_acc: 0.8052\n",
            "Epoch 17/200\n",
            "1/1 - 0s - loss: 0.6285 - acc: 0.7731 - val_loss: 0.5601 - val_acc: 0.8101\n",
            "Epoch 18/200\n",
            "1/1 - 0s - loss: 0.6222 - acc: 0.7788 - val_loss: 0.5442 - val_acc: 0.8059\n",
            "Epoch 19/200\n",
            "1/1 - 0s - loss: 0.6062 - acc: 0.7779 - val_loss: 0.5254 - val_acc: 0.8085\n",
            "Epoch 20/200\n",
            "1/1 - 0s - loss: 0.5801 - acc: 0.7878 - val_loss: 0.5088 - val_acc: 0.8139\n",
            "Epoch 21/200\n",
            "1/1 - 0s - loss: 0.5665 - acc: 0.7959 - val_loss: 0.4951 - val_acc: 0.8236\n",
            "Epoch 22/200\n",
            "1/1 - 0s - loss: 0.5576 - acc: 0.7972 - val_loss: 0.4862 - val_acc: 0.8289\n",
            "Epoch 23/200\n",
            "1/1 - 0s - loss: 0.5416 - acc: 0.8016 - val_loss: 0.4768 - val_acc: 0.8296\n",
            "Epoch 24/200\n",
            "1/1 - 0s - loss: 0.5269 - acc: 0.8097 - val_loss: 0.4649 - val_acc: 0.8321\n",
            "Epoch 25/200\n",
            "1/1 - 0s - loss: 0.5163 - acc: 0.8142 - val_loss: 0.4562 - val_acc: 0.8329\n",
            "Epoch 26/200\n",
            "1/1 - 0s - loss: 0.5132 - acc: 0.8141 - val_loss: 0.4503 - val_acc: 0.8347\n",
            "Epoch 27/200\n",
            "1/1 - 0s - loss: 0.5030 - acc: 0.8179 - val_loss: 0.4415 - val_acc: 0.8411\n",
            "Epoch 28/200\n",
            "1/1 - 0s - loss: 0.4965 - acc: 0.8231 - val_loss: 0.4332 - val_acc: 0.8470\n",
            "Epoch 29/200\n",
            "1/1 - 0s - loss: 0.4844 - acc: 0.8293 - val_loss: 0.4261 - val_acc: 0.8503\n",
            "Epoch 30/200\n",
            "1/1 - 0s - loss: 0.4729 - acc: 0.8332 - val_loss: 0.4183 - val_acc: 0.8514\n",
            "Epoch 31/200\n",
            "1/1 - 0s - loss: 0.4671 - acc: 0.8352 - val_loss: 0.4126 - val_acc: 0.8493\n",
            "Epoch 32/200\n",
            "1/1 - 0s - loss: 0.4686 - acc: 0.8338 - val_loss: 0.4080 - val_acc: 0.8487\n",
            "Epoch 33/200\n",
            "1/1 - 0s - loss: 0.4542 - acc: 0.8361 - val_loss: 0.4011 - val_acc: 0.8530\n",
            "Epoch 34/200\n",
            "1/1 - 0s - loss: 0.4457 - acc: 0.8415 - val_loss: 0.3956 - val_acc: 0.8566\n",
            "Epoch 35/200\n",
            "1/1 - 0s - loss: 0.4410 - acc: 0.8431 - val_loss: 0.3915 - val_acc: 0.8599\n",
            "Epoch 36/200\n",
            "1/1 - 0s - loss: 0.4356 - acc: 0.8456 - val_loss: 0.3862 - val_acc: 0.8629\n",
            "Epoch 37/200\n",
            "1/1 - 0s - loss: 0.4238 - acc: 0.8476 - val_loss: 0.3826 - val_acc: 0.8610\n",
            "Epoch 38/200\n",
            "1/1 - 0s - loss: 0.4236 - acc: 0.8468 - val_loss: 0.3790 - val_acc: 0.8556\n",
            "Epoch 39/200\n",
            "1/1 - 0s - loss: 0.4188 - acc: 0.8446 - val_loss: 0.3743 - val_acc: 0.8667\n",
            "Epoch 40/200\n",
            "1/1 - 0s - loss: 0.4102 - acc: 0.8507 - val_loss: 0.3709 - val_acc: 0.8675\n",
            "Epoch 41/200\n",
            "1/1 - 0s - loss: 0.4088 - acc: 0.8550 - val_loss: 0.3678 - val_acc: 0.8681\n",
            "Epoch 42/200\n",
            "1/1 - 0s - loss: 0.4051 - acc: 0.8580 - val_loss: 0.3640 - val_acc: 0.8686\n",
            "Epoch 43/200\n",
            "1/1 - 0s - loss: 0.4037 - acc: 0.8545 - val_loss: 0.3612 - val_acc: 0.8692\n",
            "Epoch 44/200\n",
            "1/1 - 0s - loss: 0.3938 - acc: 0.8605 - val_loss: 0.3583 - val_acc: 0.8720\n",
            "Epoch 45/200\n",
            "1/1 - 0s - loss: 0.3957 - acc: 0.8607 - val_loss: 0.3551 - val_acc: 0.8731\n",
            "Epoch 46/200\n",
            "1/1 - 0s - loss: 0.3921 - acc: 0.8602 - val_loss: 0.3528 - val_acc: 0.8748\n",
            "Epoch 47/200\n",
            "1/1 - 0s - loss: 0.3883 - acc: 0.8618 - val_loss: 0.3498 - val_acc: 0.8752\n",
            "Epoch 48/200\n",
            "1/1 - 0s - loss: 0.3866 - acc: 0.8635 - val_loss: 0.3476 - val_acc: 0.8752\n",
            "Epoch 49/200\n",
            "1/1 - 0s - loss: 0.3812 - acc: 0.8663 - val_loss: 0.3448 - val_acc: 0.8768\n",
            "Epoch 50/200\n",
            "1/1 - 0s - loss: 0.3806 - acc: 0.8656 - val_loss: 0.3420 - val_acc: 0.8771\n",
            "Epoch 51/200\n",
            "1/1 - 0s - loss: 0.3803 - acc: 0.8684 - val_loss: 0.3393 - val_acc: 0.8782\n",
            "Epoch 52/200\n",
            "1/1 - 0s - loss: 0.3742 - acc: 0.8690 - val_loss: 0.3368 - val_acc: 0.8807\n",
            "Epoch 53/200\n",
            "1/1 - 0s - loss: 0.3717 - acc: 0.8699 - val_loss: 0.3347 - val_acc: 0.8801\n",
            "Epoch 54/200\n",
            "1/1 - 0s - loss: 0.3685 - acc: 0.8729 - val_loss: 0.3323 - val_acc: 0.8797\n",
            "Epoch 55/200\n",
            "1/1 - 0s - loss: 0.3693 - acc: 0.8720 - val_loss: 0.3300 - val_acc: 0.8810\n",
            "Epoch 56/200\n",
            "1/1 - 0s - loss: 0.3675 - acc: 0.8726 - val_loss: 0.3279 - val_acc: 0.8837\n",
            "Epoch 57/200\n",
            "1/1 - 0s - loss: 0.3635 - acc: 0.8741 - val_loss: 0.3261 - val_acc: 0.8839\n",
            "Epoch 58/200\n",
            "1/1 - 0s - loss: 0.3635 - acc: 0.8742 - val_loss: 0.3246 - val_acc: 0.8847\n",
            "Epoch 59/200\n",
            "1/1 - 0s - loss: 0.3595 - acc: 0.8749 - val_loss: 0.3226 - val_acc: 0.8850\n",
            "Epoch 60/200\n",
            "1/1 - 0s - loss: 0.3576 - acc: 0.8767 - val_loss: 0.3209 - val_acc: 0.8852\n",
            "Epoch 61/200\n",
            "1/1 - 0s - loss: 0.3563 - acc: 0.8771 - val_loss: 0.3192 - val_acc: 0.8850\n",
            "Epoch 62/200\n",
            "1/1 - 0s - loss: 0.3543 - acc: 0.8758 - val_loss: 0.3178 - val_acc: 0.8861\n",
            "Epoch 63/200\n",
            "1/1 - 0s - loss: 0.3528 - acc: 0.8783 - val_loss: 0.3162 - val_acc: 0.8857\n",
            "Epoch 64/200\n",
            "1/1 - 0s - loss: 0.3487 - acc: 0.8798 - val_loss: 0.3148 - val_acc: 0.8864\n",
            "Epoch 65/200\n",
            "1/1 - 0s - loss: 0.3490 - acc: 0.8794 - val_loss: 0.3130 - val_acc: 0.8871\n",
            "Epoch 66/200\n",
            "1/1 - 0s - loss: 0.3487 - acc: 0.8790 - val_loss: 0.3116 - val_acc: 0.8878\n",
            "Epoch 67/200\n",
            "1/1 - 0s - loss: 0.3483 - acc: 0.8801 - val_loss: 0.3098 - val_acc: 0.8880\n",
            "Epoch 68/200\n",
            "1/1 - 0s - loss: 0.3467 - acc: 0.8802 - val_loss: 0.3083 - val_acc: 0.8879\n",
            "Epoch 69/200\n",
            "1/1 - 0s - loss: 0.3416 - acc: 0.8814 - val_loss: 0.3070 - val_acc: 0.8884\n",
            "Epoch 70/200\n",
            "1/1 - 0s - loss: 0.3420 - acc: 0.8832 - val_loss: 0.3053 - val_acc: 0.8891\n",
            "Epoch 71/200\n",
            "1/1 - 0s - loss: 0.3394 - acc: 0.8825 - val_loss: 0.3042 - val_acc: 0.8893\n",
            "Epoch 72/200\n",
            "1/1 - 0s - loss: 0.3382 - acc: 0.8825 - val_loss: 0.3029 - val_acc: 0.8900\n",
            "Epoch 73/200\n",
            "1/1 - 0s - loss: 0.3399 - acc: 0.8821 - val_loss: 0.3013 - val_acc: 0.8908\n",
            "Epoch 74/200\n",
            "1/1 - 0s - loss: 0.3341 - acc: 0.8845 - val_loss: 0.2999 - val_acc: 0.8914\n",
            "Epoch 75/200\n",
            "1/1 - 0s - loss: 0.3340 - acc: 0.8850 - val_loss: 0.2990 - val_acc: 0.8900\n",
            "Epoch 76/200\n",
            "1/1 - 0s - loss: 0.3312 - acc: 0.8838 - val_loss: 0.2978 - val_acc: 0.8915\n",
            "Epoch 77/200\n",
            "1/1 - 0s - loss: 0.3338 - acc: 0.8853 - val_loss: 0.2963 - val_acc: 0.8924\n",
            "Epoch 78/200\n",
            "1/1 - 0s - loss: 0.3287 - acc: 0.8873 - val_loss: 0.2953 - val_acc: 0.8931\n",
            "Epoch 79/200\n",
            "1/1 - 0s - loss: 0.3293 - acc: 0.8864 - val_loss: 0.2941 - val_acc: 0.8931\n",
            "Epoch 80/200\n",
            "1/1 - 0s - loss: 0.3287 - acc: 0.8886 - val_loss: 0.2930 - val_acc: 0.8924\n",
            "Epoch 81/200\n",
            "1/1 - 0s - loss: 0.3263 - acc: 0.8872 - val_loss: 0.2921 - val_acc: 0.8937\n",
            "Epoch 82/200\n",
            "1/1 - 0s - loss: 0.3267 - acc: 0.8866 - val_loss: 0.2914 - val_acc: 0.8945\n",
            "Epoch 83/200\n",
            "1/1 - 0s - loss: 0.3273 - acc: 0.8873 - val_loss: 0.2907 - val_acc: 0.8951\n",
            "Epoch 84/200\n",
            "1/1 - 0s - loss: 0.3254 - acc: 0.8889 - val_loss: 0.2896 - val_acc: 0.8955\n",
            "Epoch 85/200\n",
            "1/1 - 0s - loss: 0.3249 - acc: 0.8892 - val_loss: 0.2894 - val_acc: 0.8954\n",
            "Epoch 86/200\n",
            "1/1 - 0s - loss: 0.3223 - acc: 0.8893 - val_loss: 0.2880 - val_acc: 0.8966\n",
            "Epoch 87/200\n",
            "1/1 - 0s - loss: 0.3199 - acc: 0.8904 - val_loss: 0.2866 - val_acc: 0.8962\n",
            "Epoch 88/200\n",
            "1/1 - 0s - loss: 0.3207 - acc: 0.8897 - val_loss: 0.2865 - val_acc: 0.8961\n",
            "Epoch 89/200\n",
            "1/1 - 0s - loss: 0.3211 - acc: 0.8887 - val_loss: 0.2855 - val_acc: 0.8967\n",
            "Epoch 90/200\n",
            "1/1 - 0s - loss: 0.3198 - acc: 0.8894 - val_loss: 0.2843 - val_acc: 0.8973\n",
            "Epoch 91/200\n",
            "1/1 - 0s - loss: 0.3164 - acc: 0.8908 - val_loss: 0.2838 - val_acc: 0.8981\n",
            "Epoch 92/200\n",
            "1/1 - 0s - loss: 0.3184 - acc: 0.8899 - val_loss: 0.2831 - val_acc: 0.8971\n",
            "Epoch 93/200\n",
            "1/1 - 0s - loss: 0.3167 - acc: 0.8902 - val_loss: 0.2827 - val_acc: 0.8972\n",
            "Epoch 94/200\n",
            "1/1 - 0s - loss: 0.3172 - acc: 0.8915 - val_loss: 0.2814 - val_acc: 0.8980\n",
            "Epoch 95/200\n",
            "1/1 - 0s - loss: 0.3169 - acc: 0.8907 - val_loss: 0.2820 - val_acc: 0.8978\n",
            "Epoch 96/200\n",
            "1/1 - 0s - loss: 0.3126 - acc: 0.8931 - val_loss: 0.2818 - val_acc: 0.8979\n",
            "Epoch 97/200\n",
            "1/1 - 0s - loss: 0.3172 - acc: 0.8916 - val_loss: 0.2798 - val_acc: 0.8985\n",
            "Epoch 98/200\n",
            "1/1 - 0s - loss: 0.3148 - acc: 0.8922 - val_loss: 0.2806 - val_acc: 0.8974\n",
            "Epoch 99/200\n",
            "1/1 - 0s - loss: 0.3101 - acc: 0.8919 - val_loss: 0.2795 - val_acc: 0.8998\n",
            "Epoch 100/200\n",
            "1/1 - 0s - loss: 0.3131 - acc: 0.8927 - val_loss: 0.2779 - val_acc: 0.9008\n",
            "Epoch 101/200\n",
            "1/1 - 0s - loss: 0.3098 - acc: 0.8933 - val_loss: 0.2772 - val_acc: 0.8991\n",
            "Epoch 102/200\n",
            "1/1 - 0s - loss: 0.3115 - acc: 0.8918 - val_loss: 0.2768 - val_acc: 0.9001\n",
            "Epoch 103/200\n",
            "1/1 - 0s - loss: 0.3110 - acc: 0.8940 - val_loss: 0.2759 - val_acc: 0.9003\n",
            "Epoch 104/200\n",
            "1/1 - 0s - loss: 0.3104 - acc: 0.8927 - val_loss: 0.2756 - val_acc: 0.9033\n",
            "Epoch 105/200\n",
            "1/1 - 0s - loss: 0.3116 - acc: 0.8919 - val_loss: 0.2748 - val_acc: 0.9026\n",
            "Epoch 106/200\n",
            "1/1 - 0s - loss: 0.3074 - acc: 0.8958 - val_loss: 0.2752 - val_acc: 0.9009\n",
            "Epoch 107/200\n",
            "1/1 - 0s - loss: 0.3084 - acc: 0.8932 - val_loss: 0.2758 - val_acc: 0.8994\n",
            "Epoch 108/200\n",
            "1/1 - 0s - loss: 0.3089 - acc: 0.8930 - val_loss: 0.2739 - val_acc: 0.9018\n",
            "Epoch 109/200\n",
            "1/1 - 0s - loss: 0.3081 - acc: 0.8936 - val_loss: 0.2729 - val_acc: 0.9032\n",
            "Epoch 110/200\n",
            "1/1 - 0s - loss: 0.3054 - acc: 0.8948 - val_loss: 0.2754 - val_acc: 0.9002\n",
            "Epoch 111/200\n",
            "1/1 - 0s - loss: 0.3065 - acc: 0.8945 - val_loss: 0.2736 - val_acc: 0.9001\n",
            "Epoch 112/200\n",
            "1/1 - 0s - loss: 0.3070 - acc: 0.8928 - val_loss: 0.2709 - val_acc: 0.9030\n",
            "Epoch 113/200\n",
            "1/1 - 0s - loss: 0.3065 - acc: 0.8944 - val_loss: 0.2729 - val_acc: 0.9026\n",
            "Epoch 114/200\n",
            "1/1 - 0s - loss: 0.3060 - acc: 0.8952 - val_loss: 0.2722 - val_acc: 0.8999\n",
            "Epoch 115/200\n",
            "1/1 - 1s - loss: 0.3033 - acc: 0.8943 - val_loss: 0.2696 - val_acc: 0.9032\n",
            "Epoch 116/200\n",
            "1/1 - 0s - loss: 0.3022 - acc: 0.8967 - val_loss: 0.2722 - val_acc: 0.9009\n",
            "Epoch 117/200\n",
            "1/1 - 0s - loss: 0.3060 - acc: 0.8939 - val_loss: 0.2744 - val_acc: 0.8995\n",
            "Epoch 118/200\n",
            "1/1 - 0s - loss: 0.3096 - acc: 0.8917 - val_loss: 0.2701 - val_acc: 0.9055\n",
            "Epoch 119/200\n",
            "1/1 - 0s - loss: 0.3031 - acc: 0.8977 - val_loss: 0.2697 - val_acc: 0.9030\n",
            "Epoch 120/200\n",
            "1/1 - 0s - loss: 0.2998 - acc: 0.8965 - val_loss: 0.2705 - val_acc: 0.9004\n",
            "Epoch 121/200\n",
            "1/1 - 0s - loss: 0.2991 - acc: 0.8955 - val_loss: 0.2676 - val_acc: 0.9037\n",
            "Epoch 122/200\n",
            "1/1 - 0s - loss: 0.3013 - acc: 0.8952 - val_loss: 0.2691 - val_acc: 0.9042\n",
            "Epoch 123/200\n",
            "1/1 - 0s - loss: 0.3012 - acc: 0.8967 - val_loss: 0.2671 - val_acc: 0.9048\n",
            "Epoch 124/200\n",
            "1/1 - 0s - loss: 0.3020 - acc: 0.8963 - val_loss: 0.2668 - val_acc: 0.9046\n",
            "Epoch 125/200\n",
            "1/1 - 0s - loss: 0.3011 - acc: 0.8955 - val_loss: 0.2668 - val_acc: 0.9037\n",
            "Epoch 126/200\n",
            "1/1 - 0s - loss: 0.3019 - acc: 0.8960 - val_loss: 0.2655 - val_acc: 0.9049\n",
            "Epoch 127/200\n",
            "1/1 - 0s - loss: 0.2984 - acc: 0.8969 - val_loss: 0.2663 - val_acc: 0.9040\n",
            "Epoch 128/200\n",
            "1/1 - 0s - loss: 0.2989 - acc: 0.8972 - val_loss: 0.2643 - val_acc: 0.9053\n",
            "Epoch 129/200\n",
            "1/1 - 0s - loss: 0.2974 - acc: 0.8975 - val_loss: 0.2639 - val_acc: 0.9056\n",
            "Epoch 130/200\n",
            "1/1 - 0s - loss: 0.2953 - acc: 0.8980 - val_loss: 0.2638 - val_acc: 0.9052\n",
            "Epoch 131/200\n",
            "1/1 - 0s - loss: 0.2994 - acc: 0.8969 - val_loss: 0.2635 - val_acc: 0.9067\n",
            "Epoch 132/200\n",
            "1/1 - 0s - loss: 0.2949 - acc: 0.8986 - val_loss: 0.2630 - val_acc: 0.9064\n",
            "Epoch 133/200\n",
            "1/1 - 0s - loss: 0.2975 - acc: 0.8978 - val_loss: 0.2630 - val_acc: 0.9069\n",
            "Epoch 134/200\n",
            "1/1 - 0s - loss: 0.2985 - acc: 0.8954 - val_loss: 0.2616 - val_acc: 0.9068\n",
            "Epoch 135/200\n",
            "1/1 - 0s - loss: 0.2947 - acc: 0.8981 - val_loss: 0.2626 - val_acc: 0.9075\n",
            "Epoch 136/200\n",
            "1/1 - 0s - loss: 0.2944 - acc: 0.8985 - val_loss: 0.2619 - val_acc: 0.9059\n",
            "Epoch 137/200\n",
            "1/1 - 0s - loss: 0.2932 - acc: 0.8999 - val_loss: 0.2606 - val_acc: 0.9072\n",
            "Epoch 138/200\n",
            "1/1 - 0s - loss: 0.2944 - acc: 0.8976 - val_loss: 0.2605 - val_acc: 0.9070\n",
            "Epoch 139/200\n",
            "1/1 - 0s - loss: 0.2946 - acc: 0.8986 - val_loss: 0.2598 - val_acc: 0.9083\n",
            "Epoch 140/200\n",
            "1/1 - 0s - loss: 0.2918 - acc: 0.8989 - val_loss: 0.2597 - val_acc: 0.9087\n",
            "Epoch 141/200\n",
            "1/1 - 0s - loss: 0.2922 - acc: 0.8984 - val_loss: 0.2592 - val_acc: 0.9076\n",
            "Epoch 142/200\n",
            "1/1 - 0s - loss: 0.2931 - acc: 0.8991 - val_loss: 0.2589 - val_acc: 0.9073\n",
            "Epoch 143/200\n",
            "1/1 - 0s - loss: 0.2897 - acc: 0.8998 - val_loss: 0.2586 - val_acc: 0.9078\n",
            "Epoch 144/200\n",
            "1/1 - 0s - loss: 0.2903 - acc: 0.9011 - val_loss: 0.2587 - val_acc: 0.9090\n",
            "Epoch 145/200\n",
            "1/1 - 0s - loss: 0.2909 - acc: 0.8996 - val_loss: 0.2579 - val_acc: 0.9084\n",
            "Epoch 146/200\n",
            "1/1 - 0s - loss: 0.2889 - acc: 0.9004 - val_loss: 0.2588 - val_acc: 0.9061\n",
            "Epoch 147/200\n",
            "1/1 - 0s - loss: 0.2923 - acc: 0.8986 - val_loss: 0.2571 - val_acc: 0.9083\n",
            "Epoch 148/200\n",
            "1/1 - 0s - loss: 0.2880 - acc: 0.9012 - val_loss: 0.2571 - val_acc: 0.9085\n",
            "Epoch 149/200\n",
            "1/1 - 0s - loss: 0.2916 - acc: 0.8996 - val_loss: 0.2570 - val_acc: 0.9074\n",
            "Epoch 150/200\n",
            "1/1 - 0s - loss: 0.2901 - acc: 0.8988 - val_loss: 0.2566 - val_acc: 0.9076\n",
            "Epoch 151/200\n",
            "1/1 - 0s - loss: 0.2893 - acc: 0.9004 - val_loss: 0.2559 - val_acc: 0.9081\n",
            "Epoch 152/200\n",
            "1/1 - 0s - loss: 0.2873 - acc: 0.9016 - val_loss: 0.2557 - val_acc: 0.9080\n",
            "Epoch 153/200\n",
            "1/1 - 0s - loss: 0.2881 - acc: 0.9008 - val_loss: 0.2550 - val_acc: 0.9091\n",
            "Epoch 154/200\n",
            "1/1 - 0s - loss: 0.2872 - acc: 0.9005 - val_loss: 0.2546 - val_acc: 0.9089\n",
            "Epoch 155/200\n",
            "1/1 - 0s - loss: 0.2858 - acc: 0.9007 - val_loss: 0.2553 - val_acc: 0.9065\n",
            "Epoch 156/200\n",
            "1/1 - 0s - loss: 0.2883 - acc: 0.9000 - val_loss: 0.2545 - val_acc: 0.9083\n",
            "Epoch 157/200\n",
            "1/1 - 0s - loss: 0.2872 - acc: 0.9008 - val_loss: 0.2539 - val_acc: 0.9095\n",
            "Epoch 158/200\n",
            "1/1 - 0s - loss: 0.2841 - acc: 0.9009 - val_loss: 0.2534 - val_acc: 0.9101\n",
            "Epoch 159/200\n",
            "1/1 - 0s - loss: 0.2864 - acc: 0.9013 - val_loss: 0.2531 - val_acc: 0.9099\n",
            "Epoch 160/200\n",
            "1/1 - 0s - loss: 0.2859 - acc: 0.9012 - val_loss: 0.2529 - val_acc: 0.9086\n",
            "Epoch 161/200\n",
            "1/1 - 0s - loss: 0.2847 - acc: 0.9009 - val_loss: 0.2530 - val_acc: 0.9092\n",
            "Epoch 162/200\n",
            "1/1 - 0s - loss: 0.2845 - acc: 0.9013 - val_loss: 0.2526 - val_acc: 0.9100\n",
            "Epoch 163/200\n",
            "1/1 - 0s - loss: 0.2826 - acc: 0.9018 - val_loss: 0.2525 - val_acc: 0.9093\n",
            "Epoch 164/200\n",
            "1/1 - 0s - loss: 0.2827 - acc: 0.9025 - val_loss: 0.2529 - val_acc: 0.9085\n",
            "Epoch 165/200\n",
            "1/1 - 0s - loss: 0.2842 - acc: 0.9009 - val_loss: 0.2518 - val_acc: 0.9093\n",
            "Epoch 166/200\n",
            "1/1 - 0s - loss: 0.2831 - acc: 0.9015 - val_loss: 0.2519 - val_acc: 0.9090\n",
            "Epoch 167/200\n",
            "1/1 - 0s - loss: 0.2832 - acc: 0.9016 - val_loss: 0.2524 - val_acc: 0.9074\n",
            "Epoch 168/200\n",
            "1/1 - 0s - loss: 0.2816 - acc: 0.9022 - val_loss: 0.2507 - val_acc: 0.9099\n",
            "Epoch 169/200\n",
            "1/1 - 0s - loss: 0.2796 - acc: 0.9035 - val_loss: 0.2509 - val_acc: 0.9082\n",
            "Epoch 170/200\n",
            "1/1 - 0s - loss: 0.2806 - acc: 0.9039 - val_loss: 0.2511 - val_acc: 0.9078\n",
            "Epoch 171/200\n",
            "1/1 - 0s - loss: 0.2810 - acc: 0.9009 - val_loss: 0.2499 - val_acc: 0.9095\n",
            "Epoch 172/200\n",
            "1/1 - 0s - loss: 0.2815 - acc: 0.9027 - val_loss: 0.2492 - val_acc: 0.9101\n",
            "Epoch 173/200\n",
            "1/1 - 0s - loss: 0.2797 - acc: 0.9032 - val_loss: 0.2500 - val_acc: 0.9088\n",
            "Epoch 174/200\n",
            "1/1 - 0s - loss: 0.2799 - acc: 0.9034 - val_loss: 0.2488 - val_acc: 0.9101\n",
            "Epoch 175/200\n",
            "1/1 - 0s - loss: 0.2823 - acc: 0.9023 - val_loss: 0.2508 - val_acc: 0.9100\n",
            "Epoch 176/200\n",
            "1/1 - 0s - loss: 0.2847 - acc: 0.9007 - val_loss: 0.2513 - val_acc: 0.9083\n",
            "Epoch 177/200\n",
            "1/1 - 0s - loss: 0.2836 - acc: 0.9003 - val_loss: 0.2484 - val_acc: 0.9108\n",
            "Epoch 178/200\n",
            "1/1 - 0s - loss: 0.2786 - acc: 0.9024 - val_loss: 0.2507 - val_acc: 0.9101\n",
            "Epoch 179/200\n",
            "1/1 - 0s - loss: 0.2783 - acc: 0.9027 - val_loss: 0.2499 - val_acc: 0.9083\n",
            "Epoch 180/200\n",
            "1/1 - 0s - loss: 0.2800 - acc: 0.9018 - val_loss: 0.2481 - val_acc: 0.9101\n",
            "Epoch 181/200\n",
            "1/1 - 0s - loss: 0.2799 - acc: 0.9029 - val_loss: 0.2502 - val_acc: 0.9109\n",
            "Epoch 182/200\n",
            "1/1 - 0s - loss: 0.2833 - acc: 0.9008 - val_loss: 0.2485 - val_acc: 0.9107\n",
            "Epoch 183/200\n",
            "1/1 - 0s - loss: 0.2808 - acc: 0.9008 - val_loss: 0.2483 - val_acc: 0.9100\n",
            "Epoch 184/200\n",
            "1/1 - 0s - loss: 0.2799 - acc: 0.9023 - val_loss: 0.2497 - val_acc: 0.9106\n",
            "Epoch 185/200\n",
            "1/1 - 0s - loss: 0.2818 - acc: 0.9027 - val_loss: 0.2471 - val_acc: 0.9116\n",
            "Epoch 186/200\n",
            "1/1 - 0s - loss: 0.2761 - acc: 0.9038 - val_loss: 0.2487 - val_acc: 0.9082\n",
            "Epoch 187/200\n",
            "1/1 - 0s - loss: 0.2800 - acc: 0.9010 - val_loss: 0.2473 - val_acc: 0.9105\n",
            "Epoch 188/200\n",
            "1/1 - 0s - loss: 0.2768 - acc: 0.9035 - val_loss: 0.2460 - val_acc: 0.9117\n",
            "Epoch 189/200\n",
            "1/1 - 0s - loss: 0.2778 - acc: 0.9029 - val_loss: 0.2476 - val_acc: 0.9106\n",
            "Epoch 190/200\n",
            "1/1 - 0s - loss: 0.2780 - acc: 0.9019 - val_loss: 0.2465 - val_acc: 0.9102\n",
            "Epoch 191/200\n",
            "1/1 - 0s - loss: 0.2769 - acc: 0.9036 - val_loss: 0.2452 - val_acc: 0.9101\n",
            "Epoch 192/200\n",
            "1/1 - 0s - loss: 0.2755 - acc: 0.9042 - val_loss: 0.2468 - val_acc: 0.9109\n",
            "Epoch 193/200\n",
            "1/1 - 0s - loss: 0.2755 - acc: 0.9030 - val_loss: 0.2451 - val_acc: 0.9120\n",
            "Epoch 194/200\n",
            "1/1 - 0s - loss: 0.2755 - acc: 0.9046 - val_loss: 0.2453 - val_acc: 0.9117\n",
            "Epoch 195/200\n",
            "1/1 - 0s - loss: 0.2754 - acc: 0.9038 - val_loss: 0.2467 - val_acc: 0.9106\n",
            "Epoch 196/200\n",
            "1/1 - 0s - loss: 0.2797 - acc: 0.9010 - val_loss: 0.2443 - val_acc: 0.9122\n",
            "Epoch 197/200\n",
            "1/1 - 0s - loss: 0.2782 - acc: 0.9034 - val_loss: 0.2448 - val_acc: 0.9116\n",
            "Epoch 198/200\n",
            "1/1 - 0s - loss: 0.2733 - acc: 0.9034 - val_loss: 0.2440 - val_acc: 0.9118\n",
            "Epoch 199/200\n",
            "1/1 - 0s - loss: 0.2760 - acc: 0.9033 - val_loss: 0.2431 - val_acc: 0.9124\n",
            "Epoch 200/200\n",
            "1/1 - 0s - loss: 0.2727 - acc: 0.9051 - val_loss: 0.2434 - val_acc: 0.9123\n"
          ],
          "name": "stdout"
        }
      ]
    },
    {
      "cell_type": "code",
      "metadata": {
        "colab": {
          "base_uri": "https://localhost:8080/",
          "height": 585
        },
        "id": "Na2oDKzp2bOM",
        "outputId": "a7013301-c5bf-4917-e422-8f0394ce1bbb"
      },
      "source": [
        "sg.utils.plot_history(history_gcn)"
      ],
      "execution_count": null,
      "outputs": [
        {
          "output_type": "display_data",
          "data": {
            "image/png": "[encoded data removed]",
            "text/plain": [
              "<Figure size 504x576 with 2 Axes>"
            ]
          },
          "metadata": {
            "tags": [],
            "needs_background": "light"
          }
        }
      ]
    },
    {
      "cell_type": "code",
      "metadata": {
        "colab": {
          "base_uri": "https://localhost:8080/"
        },
        "id": "AgaP7jIs2ewB",
        "outputId": "a498928c-a1c3-4e41-ee85-a83cd9b75b03"
      },
      "source": [
        "test_metrics = model.evaluate(test_gen)\n",
        "\n",
        "print(\"\\nTest Set Metrics:\")\n",
        "for name, val in zip(model.metrics_names, test_metrics):\n",
        "    print(\"\\t{}: {:0.4f}\".format(name, val))"
      ],
      "execution_count": null,
      "outputs": [
        {
          "output_type": "stream",
          "text": [
            "1/1 [==============================] - 0s 176ms/step - loss: 0.2410 - acc: 0.9130\n",
            "\n",
            "Test Set Metrics:\n",
            "\tloss: 0.2410\n",
            "\tacc: 0.9130\n"
          ],
          "name": "stdout"
        }
      ]
    },
    {
      "cell_type": "code",
      "metadata": {
        "colab": {
          "base_uri": "https://localhost:8080/"
        },
        "id": "teRfcOWV2p6T",
        "outputId": "ebc412fe-9a08-40a2-9277-5bef0b1247f7"
      },
      "source": [
        "y_pred = model.predict(test_gen)\n",
        "y_pred = target_encoding.inverse_transform(y_pred.squeeze())\n",
        "y_pred = le.inverse_transform(y_pred)\n",
        "\n",
        "y_pred[:10]"
      ],
      "execution_count": null,
      "outputs": [
        {
          "output_type": "execute_result",
          "data": {
            "text/plain": [
              "array(['Biologia', 'Biologia', 'Biologia', 'Matematyka', 'Biologia',\n",
              "       'Astronomia', 'Informatyka', 'Astronomia', 'Astronomia',\n",
              "       'Psychologia'], dtype='<U11')"
            ]
          },
          "metadata": {
            "tags": []
          },
          "execution_count": 140
        }
      ]
    },
    {
      "cell_type": "code",
      "metadata": {
        "colab": {
          "base_uri": "https://localhost:8080/"
        },
        "id": "K6eefOj12tb-",
        "outputId": "6bb76744-a72b-4029-8d49-b4719e0f3a2b"
      },
      "source": [
        "y_test = target_encoding.inverse_transform(test_targets)\n",
        "y_test = le.inverse_transform(y_test)\n",
        "\n",
        "y_test[:10]"
      ],
      "execution_count": null,
      "outputs": [
        {
          "output_type": "execute_result",
          "data": {
            "text/plain": [
              "array(['Biologia', 'Biologia', 'Biologia', 'Matematyka', 'Biologia',\n",
              "       'Astronomia', 'Informatyka', 'Astronomia', 'Astronomia',\n",
              "       'Psychologia'], dtype='<U11')"
            ]
          },
          "metadata": {
            "tags": []
          },
          "execution_count": 141
        }
      ]
    },
    {
      "cell_type": "code",
      "metadata": {
        "id": "tffjxt8hmC7X"
      },
      "source": [
        "with open('/content/drive/Shareddrives/GCN-PROJECT/gcn_2_results/gcn_y_pred.pkl', 'wb') as f:\n",
        "    pickle.dump(y_pred, f)\n",
        "\n",
        "with open('/content/drive/Shareddrives/GCN-PROJECT/gcn_2_results/gcn_y_test.pkl', 'wb') as f:\n",
        "    pickle.dump(y_test, f)"
      ],
      "execution_count": null,
      "outputs": []
    },
    {
      "cell_type": "code",
      "metadata": {
        "colab": {
          "base_uri": "https://localhost:8080/"
        },
        "id": "sSA2Gt3z364Y",
        "outputId": "b873985f-c5f9-4786-a182-1bd76e786d10"
      },
      "source": [
        "print(classification_report(y_test, y_pred))"
      ],
      "execution_count": null,
      "outputs": [
        {
          "output_type": "stream",
          "text": [
            "              precision    recall  f1-score   support\n",
            "\n",
            "  Astronomia       0.98      0.99      0.99      3830\n",
            "    Biologia       0.96      0.97      0.97      3509\n",
            "      Chemia       0.69      0.69      0.69       409\n",
            "      Fizyka       0.83      0.80      0.82       760\n",
            " Informatyka       0.77      0.73      0.75       732\n",
            "  Matematyka       0.79      0.83      0.81      1200\n",
            " Psychologia       0.87      0.81      0.84       855\n",
            "\n",
            "    accuracy                           0.91     11295\n",
            "   macro avg       0.84      0.83      0.84     11295\n",
            "weighted avg       0.91      0.91      0.91     11295\n",
            "\n"
          ],
          "name": "stdout"
        }
      ]
    },
    {
      "cell_type": "code",
      "metadata": {
        "colab": {
          "base_uri": "https://localhost:8080/",
          "height": 522
        },
        "id": "AHgxoZbP4OfH",
        "outputId": "43ef16c9-4119-4a98-e056-59bcce114e6f"
      },
      "source": [
        "conf_matrix(\n",
        "    y_true=y_test,\n",
        "    y_pred=y_pred\n",
        ")"
      ],
      "execution_count": null,
      "outputs": [
        {
          "output_type": "display_data",
          "data": {
            "image/png": "[encoded data removed]",
            "text/plain": [
              "<Figure size 720x504 with 2 Axes>"
            ]
          },
          "metadata": {
            "tags": [],
            "needs_background": "light"
          }
        }
      ]
    },
    {
      "cell_type": "markdown",
      "metadata": {
        "id": "5Ff9Y8S7rvnn"
      },
      "source": [
        "# Inne"
      ]
    },
    {
      "cell_type": "code",
      "metadata": {
        "id": "p9kiVyTVskhx"
      },
      "source": [
        "import glob\n",
        "import itertools\n",
        "from os.path import join\n",
        "import pickle\n",
        "from typing import List\n",
        "\n",
        "import matplotlib.pyplot as plt\n",
        "import numpy as np\n",
        "import pandas as pd\n",
        "import seaborn as sn\n",
        "import stellargraph as sg\n",
        "import tensorflow as tf\n",
        "import torch\n",
        "import torch.optim as optim\n",
        "import torch.nn as nn\n",
        "import torch.nn.functional as F\n",
        "from sklearn.metrics import f1_score, confusion_matrix, accuracy_score, classification_report\n",
        "from sklearn.model_selection import train_test_split\n",
        "from sklearn.preprocessing import LabelEncoder, LabelBinarizer\n",
        "from stellargraph import StellarGraph\n",
        "from stellargraph.mapper import FullBatchNodeGenerator\n",
        "from stellargraph.layer import GAT, GCN\n",
        "from tensorflow.keras import layers, models, optimizers, losses, metrics, Model\n",
        "from tensorflow.keras.callbacks import EarlyStopping, ModelCheckpoint\n",
        "from torch.utils import data as data_utils\n",
        "from tqdm import tqdm\n",
        "\n",
        "from google.colab import drive\n",
        "\n",
        "tqdm.pandas()\n",
        "\n",
        "\n",
        "\n",
        "import pickle\n",
        "\n",
        "import matplotlib.pyplot as plt\n",
        "import numpy as np\n",
        "import pandas as pd\n",
        "import tensorflow as tf\n",
        "import seaborn as sn\n",
        "from sklearn.metrics import confusion_matrix, classification_report\n",
        "\n",
        "from google.colab import drive"
      ],
      "execution_count": null,
      "outputs": []
    },
    {
      "cell_type": "code",
      "metadata": {
        "id": "oXvFISwm4Tnp"
      },
      "source": [
        "with open('/content/drive/Shareddrives/GCN-PROJECT/gcn_2_results/nn_y_pred.pkl', 'rb') as f:\n",
        "    gcn_2_nn_pred = pickle.load(f)\n",
        "\n",
        "with open('/content/drive/Shareddrives/GCN-PROJECT/gcn_2_results/nn_y_test.pkl', 'rb') as f:\n",
        "    gcn_2_nn_true = pickle.load(f)\n",
        "\n",
        "with open('/content/drive/Shareddrives/GCN-PROJECT/gcn_2_results/gat_y_pred.pkl', 'rb') as f:\n",
        "    gcn_2_gat_pred = pickle.load(f)\n",
        "\n",
        "with open('/content/drive/Shareddrives/GCN-PROJECT/gcn_2_results/gat_y_test.pkl', 'rb') as f:\n",
        "    gcn_2_gat_true = pickle.load(f)\n",
        "\n",
        "with open('/content/drive/Shareddrives/GCN-PROJECT/gcn_2_results/gcn_y_pred.pkl', 'rb') as f:\n",
        "    gcn_2_gcn_pred = pickle.load(f)\n",
        "\n",
        "with open('/content/drive/Shareddrives/GCN-PROJECT/gcn_2_results/gcn_y_test.pkl', 'rb') as f:\n",
        "    gcn_2_gcn_true = pickle.load(f)\n",
        "\n",
        "# ---------------------------------------------------------------------------------------------\n",
        "with open('/content/drive/Shareddrives/GCN-PROJECT/gcn_3_results/onehot140_base_y_pred.pickle', 'rb') as f:\n",
        "    gcn_3_nn_pred = pickle.load(f)\n",
        "\n",
        "with open('/content/drive/Shareddrives/GCN-PROJECT/gcn_3_results/onehot140_base_y_true.pickle', 'rb') as f:\n",
        "    gcn_3_nn_true = pickle.load(f)\n",
        "\n",
        "with open('/content/drive/Shareddrives/GCN-PROJECT/gcn_3_results/onehot140_gat_y_pred.pickle', 'rb') as f:\n",
        "    gcn_3_gat_pred = pickle.load(f)\n",
        "\n",
        "with open('/content/drive/Shareddrives/GCN-PROJECT/gcn_3_results/onehot140_gat_y_true.pickle', 'rb') as f:\n",
        "    gcn_3_gat_true = pickle.load(f)\n",
        "\n",
        "with open('/content/drive/Shareddrives/GCN-PROJECT/gcn_3_results/onehot140_gcn_y_pred.pickle', 'rb') as f:\n",
        "    gcn_3_gcn_pred = pickle.load(f)\n",
        "\n",
        "with open('/content/drive/Shareddrives/GCN-PROJECT/gcn_3_results/onehot140_gcn_y_true.pickle', 'rb') as f:\n",
        "    gcn_3_gcn_true = pickle.load(f)"
      ],
      "execution_count": null,
      "outputs": []
    },
    {
      "cell_type": "code",
      "metadata": {
        "id": "OmE9Wnenrxx0"
      },
      "source": [
        "def get_classification_report(y_true, y_pred):\n",
        "    print(classification_report(y_true, y_pred))\n",
        "\n",
        "\n",
        "def get_conf_matrix(y_true, y_pred):\n",
        "    labels = tf.unique(y_true)[0].numpy()\n",
        "    labels.sort()\n",
        "\n",
        "    con_mat = confusion_matrix(y_true, y_pred)\n",
        "    con_mat_norm = np.around(con_mat.astype('float') / con_mat.sum(axis=1)[:, np.newaxis], decimals=2)\n",
        "\n",
        "    df_cm = pd.DataFrame(con_mat_norm,\n",
        "                        index = labels, \n",
        "                        columns = [i for i in labels])\n",
        "\n",
        "    plt.figure(figsize = (10,7))\n",
        "    plt.title(\"Confusion matrix\")\n",
        "    sn.heatmap(df_cm, annot=True, fmt='g')\n",
        "    plt.ylabel('True')\n",
        "    plt.xlabel('Predicted')\n",
        "    plt.show()"
      ],
      "execution_count": null,
      "outputs": []
    },
    {
      "cell_type": "markdown",
      "metadata": {
        "id": "PflC6FFDtXxR"
      },
      "source": [
        "## Podejście 1 - NN"
      ]
    },
    {
      "cell_type": "code",
      "metadata": {
        "colab": {
          "base_uri": "https://localhost:8080/",
          "height": 760
        },
        "id": "KxfjBRrmtUWZ",
        "outputId": "ea34053d-9bf2-4b9e-e38b-74e7830f9859"
      },
      "source": [
        "get_classification_report(gcn_2_nn_true, gcn_2_nn_pred)\n",
        "\n",
        "get_conf_matrix(gcn_2_nn_true, gcn_2_nn_pred)"
      ],
      "execution_count": null,
      "outputs": [
        {
          "output_type": "stream",
          "text": [
            "              precision    recall  f1-score   support\n",
            "\n",
            "  Astronomia       0.98      0.98      0.98      3830\n",
            "    Biologia       0.97      0.96      0.97      3509\n",
            "      Chemia       0.77      0.63      0.69       409\n",
            "      Fizyka       0.77      0.78      0.77       760\n",
            " Informatyka       0.73      0.65      0.69       732\n",
            "  Matematyka       0.74      0.79      0.76      1200\n",
            " Psychologia       0.74      0.81      0.77       855\n",
            "\n",
            "    accuracy                           0.89     11295\n",
            "   macro avg       0.81      0.80      0.80     11295\n",
            "weighted avg       0.89      0.89      0.89     11295\n",
            "\n"
          ],
          "name": "stdout"
        },
        {
          "output_type": "display_data",
          "data": {
            "image/png": "[encoded data removed]",
            "text/plain": [
              "<Figure size 720x504 with 2 Axes>"
            ]
          },
          "metadata": {
            "tags": [],
            "needs_background": "light"
          }
        }
      ]
    },
    {
      "cell_type": "code",
      "metadata": {
        "colab": {
          "base_uri": "https://localhost:8080/",
          "height": 760
        },
        "id": "Ptz7F5sgvR3i",
        "outputId": "2d0a2efd-15a8-4754-f662-5cd348659acc"
      },
      "source": [
        "get_classification_report(gcn_3_gat_true, gcn_3_gat_pred)\n",
        "\n",
        "get_conf_matrix(gcn_3_gat_true, gcn_3_gat_pred)"
      ],
      "execution_count": null,
      "outputs": [
        {
          "output_type": "stream",
          "text": [
            "              precision    recall  f1-score   support\n",
            "\n",
            "  Astronomia       0.98      0.99      0.98      3832\n",
            "    Biologia       0.88      0.97      0.92      3522\n",
            "      Chemia       0.71      0.53      0.61       416\n",
            "      Fizyka       0.79      0.69      0.74       768\n",
            " Informatyka       0.77      0.75      0.76       738\n",
            "  Matematyka       0.81      0.75      0.78      1211\n",
            " Psychologia       0.85      0.74      0.79       860\n",
            "\n",
            "    accuracy                           0.89     11347\n",
            "   macro avg       0.83      0.78      0.80     11347\n",
            "weighted avg       0.88      0.89      0.88     11347\n",
            "\n"
          ],
          "name": "stdout"
        },
        {
          "output_type": "display_data",
          "data": {
            "image/png": "[encoded data removed]",
            "text/plain": [
              "<Figure size 720x504 with 2 Axes>"
            ]
          },
          "metadata": {
            "tags": [],
            "needs_background": "light"
          }
        }
      ]
    },
    {
      "cell_type": "code",
      "metadata": {
        "colab": {
          "base_uri": "https://localhost:8080/",
          "height": 760
        },
        "id": "gWvGJuwUtrlX",
        "outputId": "b1aa49f4-3a7e-4ca5-b09a-005e97b79d32"
      },
      "source": [
        "get_classification_report(gcn_3_gcn_true, gcn_3_gcn_pred)\n",
        "\n",
        "get_conf_matrix(gcn_3_gcn_true, gcn_3_gcn_pred)"
      ],
      "execution_count": null,
      "outputs": [
        {
          "output_type": "stream",
          "text": [
            "              precision    recall  f1-score   support\n",
            "\n",
            "  Astronomia       0.99      0.99      0.99      3832\n",
            "    Biologia       0.88      0.97      0.92      3522\n",
            "      Chemia       0.65      0.55      0.60       416\n",
            "      Fizyka       0.77      0.70      0.74       768\n",
            " Informatyka       0.75      0.74      0.74       738\n",
            "  Matematyka       0.82      0.73      0.77      1211\n",
            " Psychologia       0.83      0.73      0.78       860\n",
            "\n",
            "    accuracy                           0.88     11347\n",
            "   macro avg       0.81      0.77      0.79     11347\n",
            "weighted avg       0.88      0.88      0.88     11347\n",
            "\n"
          ],
          "name": "stdout"
        },
        {
          "output_type": "display_data",
          "data": {
            "image/png": "[encoded data removed]",
            "text/plain": [
              "<Figure size 720x504 with 2 Axes>"
            ]
          },
          "metadata": {
            "tags": [],
            "needs_background": "light"
          }
        }
      ]
    },
    {
      "cell_type": "markdown",
      "metadata": {
        "id": "TgJPziy2v-9W"
      },
      "source": [
        "## Podejście 2"
      ]
    },
    {
      "cell_type": "code",
      "metadata": {
        "id": "nWu4UG_TuPf2"
      },
      "source": [
        ""
      ],
      "execution_count": null,
      "outputs": []
    }
  ]
}