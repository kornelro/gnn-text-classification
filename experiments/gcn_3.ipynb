{
  "nbformat": 4,
  "nbformat_minor": 0,
  "metadata": {
    "colab": {
      "name": "gcn_3.ipynb",
      "provenance": [],
      "collapsed_sections": []
    },
    "kernelspec": {
      "display_name": "Python 3",
      "language": "python",
      "name": "python3"
    },
    "language_info": {
      "codemirror_mode": {
        "name": "ipython",
        "version": 3
      },
      "file_extension": ".py",
      "mimetype": "text/x-python",
      "name": "python",
      "nbconvert_exporter": "python",
      "pygments_lexer": "ipython3",
      "version": "3.6.12"
    },
    "accelerator": "GPU"
  },
  "cells": [
    {
      "cell_type": "code",
      "metadata": {
        "colab": {
          "base_uri": "https://localhost:8080/"
        },
        "id": "UEmMY9lX8L_L",
        "outputId": "130db355-3d9c-4b53-b21c-286a7fc792b5"
      },
      "source": [
        "!pip install stellargraph"
      ],
      "execution_count": 1,
      "outputs": [
        {
          "output_type": "stream",
          "text": [
            "Collecting stellargraph\n",
            "\u001b[?25l  Downloading https://files.pythonhosted.org/packages/74/78/16b23ef04cf6fb24a7dea9fd0e03c8308a56681cc5efe29f16186210ba04/stellargraph-1.2.1-py3-none-any.whl (435kB)\n",
            "\r\u001b[K     |▊                               | 10kB 23.1MB/s eta 0:00:01\r\u001b[K     |█▌                              | 20kB 18.6MB/s eta 0:00:01\r\u001b[K     |██▎                             | 30kB 16.3MB/s eta 0:00:01\r\u001b[K     |███                             | 40kB 15.8MB/s eta 0:00:01\r\u001b[K     |███▊                            | 51kB 12.0MB/s eta 0:00:01\r\u001b[K     |████▌                           | 61kB 12.1MB/s eta 0:00:01\r\u001b[K     |█████▎                          | 71kB 12.1MB/s eta 0:00:01\r\u001b[K     |██████                          | 81kB 12.9MB/s eta 0:00:01\r\u001b[K     |██████▊                         | 92kB 13.5MB/s eta 0:00:01\r\u001b[K     |███████▌                        | 102kB 13.3MB/s eta 0:00:01\r\u001b[K     |████████▎                       | 112kB 13.3MB/s eta 0:00:01\r\u001b[K     |█████████                       | 122kB 13.3MB/s eta 0:00:01\r\u001b[K     |█████████▉                      | 133kB 13.3MB/s eta 0:00:01\r\u001b[K     |██████████▌                     | 143kB 13.3MB/s eta 0:00:01\r\u001b[K     |███████████▎                    | 153kB 13.3MB/s eta 0:00:01\r\u001b[K     |████████████                    | 163kB 13.3MB/s eta 0:00:01\r\u001b[K     |████████████▉                   | 174kB 13.3MB/s eta 0:00:01\r\u001b[K     |█████████████▌                  | 184kB 13.3MB/s eta 0:00:01\r\u001b[K     |██████████████▎                 | 194kB 13.3MB/s eta 0:00:01\r\u001b[K     |███████████████                 | 204kB 13.3MB/s eta 0:00:01\r\u001b[K     |███████████████▉                | 215kB 13.3MB/s eta 0:00:01\r\u001b[K     |████████████████▋               | 225kB 13.3MB/s eta 0:00:01\r\u001b[K     |█████████████████▎              | 235kB 13.3MB/s eta 0:00:01\r\u001b[K     |██████████████████              | 245kB 13.3MB/s eta 0:00:01\r\u001b[K     |██████████████████▉             | 256kB 13.3MB/s eta 0:00:01\r\u001b[K     |███████████████████▋            | 266kB 13.3MB/s eta 0:00:01\r\u001b[K     |████████████████████▎           | 276kB 13.3MB/s eta 0:00:01\r\u001b[K     |█████████████████████           | 286kB 13.3MB/s eta 0:00:01\r\u001b[K     |█████████████████████▉          | 296kB 13.3MB/s eta 0:00:01\r\u001b[K     |██████████████████████▋         | 307kB 13.3MB/s eta 0:00:01\r\u001b[K     |███████████████████████▍        | 317kB 13.3MB/s eta 0:00:01\r\u001b[K     |████████████████████████        | 327kB 13.3MB/s eta 0:00:01\r\u001b[K     |████████████████████████▉       | 337kB 13.3MB/s eta 0:00:01\r\u001b[K     |█████████████████████████▋      | 348kB 13.3MB/s eta 0:00:01\r\u001b[K     |██████████████████████████▍     | 358kB 13.3MB/s eta 0:00:01\r\u001b[K     |███████████████████████████     | 368kB 13.3MB/s eta 0:00:01\r\u001b[K     |███████████████████████████▉    | 378kB 13.3MB/s eta 0:00:01\r\u001b[K     |████████████████████████████▋   | 389kB 13.3MB/s eta 0:00:01\r\u001b[K     |█████████████████████████████▍  | 399kB 13.3MB/s eta 0:00:01\r\u001b[K     |██████████████████████████████▏ | 409kB 13.3MB/s eta 0:00:01\r\u001b[K     |██████████████████████████████▉ | 419kB 13.3MB/s eta 0:00:01\r\u001b[K     |███████████████████████████████▋| 430kB 13.3MB/s eta 0:00:01\r\u001b[K     |████████████████████████████████| 440kB 13.3MB/s \n",
            "\u001b[?25hRequirement already satisfied: numpy>=1.14 in /usr/local/lib/python3.6/dist-packages (from stellargraph) (1.19.5)\n",
            "Requirement already satisfied: scipy>=1.1.0 in /usr/local/lib/python3.6/dist-packages (from stellargraph) (1.4.1)\n",
            "Requirement already satisfied: gensim>=3.4.0 in /usr/local/lib/python3.6/dist-packages (from stellargraph) (3.6.0)\n",
            "Requirement already satisfied: tensorflow>=2.1.0 in /usr/local/lib/python3.6/dist-packages (from stellargraph) (2.4.0)\n",
            "Requirement already satisfied: scikit-learn>=0.20 in /usr/local/lib/python3.6/dist-packages (from stellargraph) (0.22.2.post1)\n",
            "Requirement already satisfied: pandas>=0.24 in /usr/local/lib/python3.6/dist-packages (from stellargraph) (1.1.5)\n",
            "Requirement already satisfied: matplotlib>=2.2 in /usr/local/lib/python3.6/dist-packages (from stellargraph) (3.2.2)\n",
            "Requirement already satisfied: networkx>=2.2 in /usr/local/lib/python3.6/dist-packages (from stellargraph) (2.5)\n",
            "Requirement already satisfied: smart-open>=1.2.1 in /usr/local/lib/python3.6/dist-packages (from gensim>=3.4.0->stellargraph) (4.1.0)\n",
            "Requirement already satisfied: six>=1.5.0 in /usr/local/lib/python3.6/dist-packages (from gensim>=3.4.0->stellargraph) (1.15.0)\n",
            "Requirement already satisfied: astunparse~=1.6.3 in /usr/local/lib/python3.6/dist-packages (from tensorflow>=2.1.0->stellargraph) (1.6.3)\n",
            "Requirement already satisfied: keras-preprocessing~=1.1.2 in /usr/local/lib/python3.6/dist-packages (from tensorflow>=2.1.0->stellargraph) (1.1.2)\n",
            "Requirement already satisfied: flatbuffers~=1.12.0 in /usr/local/lib/python3.6/dist-packages (from tensorflow>=2.1.0->stellargraph) (1.12)\n",
            "Requirement already satisfied: wrapt~=1.12.1 in /usr/local/lib/python3.6/dist-packages (from tensorflow>=2.1.0->stellargraph) (1.12.1)\n",
            "Requirement already satisfied: termcolor~=1.1.0 in /usr/local/lib/python3.6/dist-packages (from tensorflow>=2.1.0->stellargraph) (1.1.0)\n",
            "Requirement already satisfied: typing-extensions~=3.7.4 in /usr/local/lib/python3.6/dist-packages (from tensorflow>=2.1.0->stellargraph) (3.7.4.3)\n",
            "Requirement already satisfied: tensorflow-estimator<2.5.0,>=2.4.0rc0 in /usr/local/lib/python3.6/dist-packages (from tensorflow>=2.1.0->stellargraph) (2.4.0)\n",
            "Requirement already satisfied: grpcio~=1.32.0 in /usr/local/lib/python3.6/dist-packages (from tensorflow>=2.1.0->stellargraph) (1.32.0)\n",
            "Requirement already satisfied: absl-py~=0.10 in /usr/local/lib/python3.6/dist-packages (from tensorflow>=2.1.0->stellargraph) (0.10.0)\n",
            "Requirement already satisfied: opt-einsum~=3.3.0 in /usr/local/lib/python3.6/dist-packages (from tensorflow>=2.1.0->stellargraph) (3.3.0)\n",
            "Requirement already satisfied: google-pasta~=0.2 in /usr/local/lib/python3.6/dist-packages (from tensorflow>=2.1.0->stellargraph) (0.2.0)\n",
            "Requirement already satisfied: h5py~=2.10.0 in /usr/local/lib/python3.6/dist-packages (from tensorflow>=2.1.0->stellargraph) (2.10.0)\n",
            "Requirement already satisfied: wheel~=0.35 in /usr/local/lib/python3.6/dist-packages (from tensorflow>=2.1.0->stellargraph) (0.36.2)\n",
            "Requirement already satisfied: gast==0.3.3 in /usr/local/lib/python3.6/dist-packages (from tensorflow>=2.1.0->stellargraph) (0.3.3)\n",
            "Requirement already satisfied: protobuf>=3.9.2 in /usr/local/lib/python3.6/dist-packages (from tensorflow>=2.1.0->stellargraph) (3.12.4)\n",
            "Requirement already satisfied: tensorboard~=2.4 in /usr/local/lib/python3.6/dist-packages (from tensorflow>=2.1.0->stellargraph) (2.4.0)\n",
            "Requirement already satisfied: joblib>=0.11 in /usr/local/lib/python3.6/dist-packages (from scikit-learn>=0.20->stellargraph) (1.0.0)\n",
            "Requirement already satisfied: python-dateutil>=2.7.3 in /usr/local/lib/python3.6/dist-packages (from pandas>=0.24->stellargraph) (2.8.1)\n",
            "Requirement already satisfied: pytz>=2017.2 in /usr/local/lib/python3.6/dist-packages (from pandas>=0.24->stellargraph) (2018.9)\n",
            "Requirement already satisfied: pyparsing!=2.0.4,!=2.1.2,!=2.1.6,>=2.0.1 in /usr/local/lib/python3.6/dist-packages (from matplotlib>=2.2->stellargraph) (2.4.7)\n",
            "Requirement already satisfied: cycler>=0.10 in /usr/local/lib/python3.6/dist-packages (from matplotlib>=2.2->stellargraph) (0.10.0)\n",
            "Requirement already satisfied: kiwisolver>=1.0.1 in /usr/local/lib/python3.6/dist-packages (from matplotlib>=2.2->stellargraph) (1.3.1)\n",
            "Requirement already satisfied: decorator>=4.3.0 in /usr/local/lib/python3.6/dist-packages (from networkx>=2.2->stellargraph) (4.4.2)\n",
            "Requirement already satisfied: setuptools in /usr/local/lib/python3.6/dist-packages (from protobuf>=3.9.2->tensorflow>=2.1.0->stellargraph) (51.3.3)\n",
            "Requirement already satisfied: tensorboard-plugin-wit>=1.6.0 in /usr/local/lib/python3.6/dist-packages (from tensorboard~=2.4->tensorflow>=2.1.0->stellargraph) (1.7.0)\n",
            "Requirement already satisfied: werkzeug>=0.11.15 in /usr/local/lib/python3.6/dist-packages (from tensorboard~=2.4->tensorflow>=2.1.0->stellargraph) (1.0.1)\n",
            "Requirement already satisfied: requests<3,>=2.21.0 in /usr/local/lib/python3.6/dist-packages (from tensorboard~=2.4->tensorflow>=2.1.0->stellargraph) (2.23.0)\n",
            "Requirement already satisfied: google-auth<2,>=1.6.3 in /usr/local/lib/python3.6/dist-packages (from tensorboard~=2.4->tensorflow>=2.1.0->stellargraph) (1.17.2)\n",
            "Requirement already satisfied: google-auth-oauthlib<0.5,>=0.4.1 in /usr/local/lib/python3.6/dist-packages (from tensorboard~=2.4->tensorflow>=2.1.0->stellargraph) (0.4.2)\n",
            "Requirement already satisfied: markdown>=2.6.8 in /usr/local/lib/python3.6/dist-packages (from tensorboard~=2.4->tensorflow>=2.1.0->stellargraph) (3.3.3)\n",
            "Requirement already satisfied: chardet<4,>=3.0.2 in /usr/local/lib/python3.6/dist-packages (from requests<3,>=2.21.0->tensorboard~=2.4->tensorflow>=2.1.0->stellargraph) (3.0.4)\n",
            "Requirement already satisfied: urllib3!=1.25.0,!=1.25.1,<1.26,>=1.21.1 in /usr/local/lib/python3.6/dist-packages (from requests<3,>=2.21.0->tensorboard~=2.4->tensorflow>=2.1.0->stellargraph) (1.24.3)\n",
            "Requirement already satisfied: idna<3,>=2.5 in /usr/local/lib/python3.6/dist-packages (from requests<3,>=2.21.0->tensorboard~=2.4->tensorflow>=2.1.0->stellargraph) (2.10)\n",
            "Requirement already satisfied: certifi>=2017.4.17 in /usr/local/lib/python3.6/dist-packages (from requests<3,>=2.21.0->tensorboard~=2.4->tensorflow>=2.1.0->stellargraph) (2020.12.5)\n",
            "Requirement already satisfied: rsa<5,>=3.1.4; python_version >= \"3\" in /usr/local/lib/python3.6/dist-packages (from google-auth<2,>=1.6.3->tensorboard~=2.4->tensorflow>=2.1.0->stellargraph) (4.6)\n",
            "Requirement already satisfied: pyasn1-modules>=0.2.1 in /usr/local/lib/python3.6/dist-packages (from google-auth<2,>=1.6.3->tensorboard~=2.4->tensorflow>=2.1.0->stellargraph) (0.2.8)\n",
            "Requirement already satisfied: cachetools<5.0,>=2.0.0 in /usr/local/lib/python3.6/dist-packages (from google-auth<2,>=1.6.3->tensorboard~=2.4->tensorflow>=2.1.0->stellargraph) (4.2.0)\n",
            "Requirement already satisfied: requests-oauthlib>=0.7.0 in /usr/local/lib/python3.6/dist-packages (from google-auth-oauthlib<0.5,>=0.4.1->tensorboard~=2.4->tensorflow>=2.1.0->stellargraph) (1.3.0)\n",
            "Requirement already satisfied: importlib-metadata; python_version < \"3.8\" in /usr/local/lib/python3.6/dist-packages (from markdown>=2.6.8->tensorboard~=2.4->tensorflow>=2.1.0->stellargraph) (3.3.0)\n",
            "Requirement already satisfied: pyasn1>=0.1.3 in /usr/local/lib/python3.6/dist-packages (from rsa<5,>=3.1.4; python_version >= \"3\"->google-auth<2,>=1.6.3->tensorboard~=2.4->tensorflow>=2.1.0->stellargraph) (0.4.8)\n",
            "Requirement already satisfied: oauthlib>=3.0.0 in /usr/local/lib/python3.6/dist-packages (from requests-oauthlib>=0.7.0->google-auth-oauthlib<0.5,>=0.4.1->tensorboard~=2.4->tensorflow>=2.1.0->stellargraph) (3.1.0)\n",
            "Requirement already satisfied: zipp>=0.5 in /usr/local/lib/python3.6/dist-packages (from importlib-metadata; python_version < \"3.8\"->markdown>=2.6.8->tensorboard~=2.4->tensorflow>=2.1.0->stellargraph) (3.4.0)\n",
            "Installing collected packages: stellargraph\n",
            "Successfully installed stellargraph-1.2.1\n"
          ],
          "name": "stdout"
        }
      ]
    },
    {
      "cell_type": "code",
      "metadata": {
        "id": "rl3a91S8Biye"
      },
      "source": [
        "import glob\n",
        "import itertools\n",
        "from os.path import join\n",
        "import pickle\n",
        "from typing import List\n",
        "from collections import Counter\n",
        "\n",
        "import matplotlib.pyplot as plt\n",
        "import numpy as np\n",
        "import pandas as pd\n",
        "import seaborn as sn\n",
        "import stellargraph as sg\n",
        "import tensorflow as tf\n",
        "import torch\n",
        "import torch.optim as optim\n",
        "import torch.nn as nn\n",
        "import torch.nn.functional as F\n",
        "from sklearn.metrics import f1_score, confusion_matrix, accuracy_score, classification_report\n",
        "from sklearn.model_selection import train_test_split\n",
        "from sklearn.preprocessing import LabelEncoder, LabelBinarizer\n",
        "from stellargraph import StellarGraph\n",
        "from stellargraph.mapper import FullBatchNodeGenerator\n",
        "from stellargraph.layer import GAT, GCN\n",
        "from tensorflow.keras import layers, models, optimizers, losses, metrics, Model\n",
        "from tensorflow.keras.callbacks import EarlyStopping, ModelCheckpoint\n",
        "from torch.utils import data as data_utils\n",
        "from tqdm import tqdm\n",
        "\n",
        "from google.colab import drive\n",
        "\n",
        "tqdm.pandas()"
      ],
      "execution_count": 2,
      "outputs": []
    },
    {
      "cell_type": "markdown",
      "metadata": {
        "id": "YAaVMGcMkTjM"
      },
      "source": [
        "## Setting seed value"
      ]
    },
    {
      "cell_type": "code",
      "metadata": {
        "id": "ptuTrKBwkPV5"
      },
      "source": [
        "seed_value = 1234\n",
        "\n",
        "tf.random.set_seed(seed_value)\n",
        "np.random.seed(seed_value)"
      ],
      "execution_count": 3,
      "outputs": []
    },
    {
      "cell_type": "markdown",
      "metadata": {
        "id": "2zsz5KNtCA95"
      },
      "source": [
        "## Mount Google Drive"
      ]
    },
    {
      "cell_type": "code",
      "metadata": {
        "id": "UsI7DpYzCFBU",
        "colab": {
          "base_uri": "https://localhost:8080/"
        },
        "outputId": "da933165-c8fe-4c6c-d40d-b8d0440d9e99"
      },
      "source": [
        "drive.mount('/content/drive')"
      ],
      "execution_count": 4,
      "outputs": [
        {
          "output_type": "stream",
          "text": [
            "Mounted at /content/drive\n"
          ],
          "name": "stdout"
        }
      ]
    },
    {
      "cell_type": "markdown",
      "metadata": {
        "id": "LlZ2qErtBseM"
      },
      "source": [
        "## Data loading and preparing"
      ]
    },
    {
      "cell_type": "code",
      "metadata": {
        "id": "G2c3CBBmXXW2"
      },
      "source": [
        "data = pd.read_csv(\"/content/drive/Shareddrives/GCN-PROJECT/wiki_pages_lemmas.csv\", index_col=0)"
      ],
      "execution_count": 5,
      "outputs": []
    },
    {
      "cell_type": "code",
      "metadata": {
        "colab": {
          "base_uri": "https://localhost:8080/",
          "height": 221
        },
        "id": "ibhGmsxKYnQ_",
        "outputId": "50e89ea6-fe73-4863-b307-0fac5d3f1a12"
      },
      "source": [
        "print(data.shape)\n",
        "data.head()"
      ],
      "execution_count": 6,
      "outputs": [
        {
          "output_type": "stream",
          "text": [
            "(75792, 4)\n"
          ],
          "name": "stdout"
        },
        {
          "output_type": "execute_result",
          "data": {
            "text/html": [
              "<div>\n",
              "<style scoped>\n",
              "    .dataframe tbody tr th:only-of-type {\n",
              "        vertical-align: middle;\n",
              "    }\n",
              "\n",
              "    .dataframe tbody tr th {\n",
              "        vertical-align: top;\n",
              "    }\n",
              "\n",
              "    .dataframe thead th {\n",
              "        text-align: right;\n",
              "    }\n",
              "</style>\n",
              "<table border=\"1\" class=\"dataframe\">\n",
              "  <thead>\n",
              "    <tr style=\"text-align: right;\">\n",
              "      <th></th>\n",
              "      <th>title</th>\n",
              "      <th>text</th>\n",
              "      <th>category</th>\n",
              "      <th>noun_lemmas</th>\n",
              "    </tr>\n",
              "  </thead>\n",
              "  <tbody>\n",
              "    <tr>\n",
              "      <th>0</th>\n",
              "      <td>Mirosław_Miller</td>\n",
              "      <td>Mirosław Miller – Dyrektor Międzynarodowego La...</td>\n",
              "      <td>Chemia</td>\n",
              "      <td>['mirosława', 'miller', 'dyrektor', 'laborator...</td>\n",
              "    </tr>\n",
              "    <tr>\n",
              "      <th>1</th>\n",
              "      <td>Chimerokształtne</td>\n",
              "      <td>Chimerokształtne, chimery, przerazy (Chimaerif...</td>\n",
              "      <td>Biologia</td>\n",
              "      <td>['chimera', 'przeraza', 'chimaeriformes', 'rzą...</td>\n",
              "    </tr>\n",
              "    <tr>\n",
              "      <th>2</th>\n",
              "      <td>(2855)_Bastian</td>\n",
              "      <td>(2855) Bastian (1931 TB2) – planetoida z grupy...</td>\n",
              "      <td>Astronomia</td>\n",
              "      <td>['bastian', 'tb2', 'planetoida', 'grupa', 'pas...</td>\n",
              "    </tr>\n",
              "    <tr>\n",
              "      <th>3</th>\n",
              "      <td>Cryptocephalus_celtibericus</td>\n",
              "      <td>\"Cryptocephalus celtibericus\" – gatunek chrząs...</td>\n",
              "      <td>Biologia</td>\n",
              "      <td>['cryptocephalus', 'celtibericus', 'gatunek', ...</td>\n",
              "    </tr>\n",
              "    <tr>\n",
              "      <th>4</th>\n",
              "      <td>Język_maszynowy</td>\n",
              "      <td>Język maszynowy, kod maszynowy – zestaw rozkaz...</td>\n",
              "      <td>Matematyka</td>\n",
              "      <td>['język', 'koda', 'zestaw', 'rozkaz', 'proceso...</td>\n",
              "    </tr>\n",
              "  </tbody>\n",
              "</table>\n",
              "</div>"
            ],
            "text/plain": [
              "                         title  ...                                        noun_lemmas\n",
              "0              Mirosław_Miller  ...  ['mirosława', 'miller', 'dyrektor', 'laborator...\n",
              "1             Chimerokształtne  ...  ['chimera', 'przeraza', 'chimaeriformes', 'rzą...\n",
              "2               (2855)_Bastian  ...  ['bastian', 'tb2', 'planetoida', 'grupa', 'pas...\n",
              "3  Cryptocephalus_celtibericus  ...  ['cryptocephalus', 'celtibericus', 'gatunek', ...\n",
              "4              Język_maszynowy  ...  ['język', 'koda', 'zestaw', 'rozkaz', 'proceso...\n",
              "\n",
              "[5 rows x 4 columns]"
            ]
          },
          "metadata": {
            "tags": []
          },
          "execution_count": 6
        }
      ]
    },
    {
      "cell_type": "code",
      "metadata": {
        "id": "xLFnxVHcZo2w"
      },
      "source": [
        "data = data.drop_duplicates(subset=['title'])\n",
        "data = data.reset_index(drop=True)"
      ],
      "execution_count": 7,
      "outputs": []
    },
    {
      "cell_type": "code",
      "metadata": {
        "colab": {
          "base_uri": "https://localhost:8080/"
        },
        "id": "-ye37kz9ZcAw",
        "outputId": "86118cad-1ab8-4b1c-bc53-3c6c29291630"
      },
      "source": [
        "# noun_lemmas column to list\n",
        "data['noun_lemmas'] = data['noun_lemmas'].progress_apply(\n",
        "    lambda row: row[1:-1].replace('\\'', '').split(', ')\n",
        ")"
      ],
      "execution_count": 8,
      "outputs": [
        {
          "output_type": "stream",
          "text": [
            "100%|██████████| 75649/75649 [00:01<00:00, 50254.41it/s]\n"
          ],
          "name": "stderr"
        }
      ]
    },
    {
      "cell_type": "code",
      "metadata": {
        "colab": {
          "base_uri": "https://localhost:8080/",
          "height": 204
        },
        "id": "K0-g4QdneHVi",
        "outputId": "da80632d-b27e-4729-e4b4-5987adaebf5a"
      },
      "source": [
        "# Encode target labels with value between 0 and n_classes-1\n",
        "le = LabelEncoder()\n",
        "le.fit(data['category'].tolist())\n",
        "labels = le.transform(data['category'].tolist())\n",
        "\n",
        "data['category'] = labels\n",
        "\n",
        "data.head()"
      ],
      "execution_count": 9,
      "outputs": [
        {
          "output_type": "execute_result",
          "data": {
            "text/html": [
              "<div>\n",
              "<style scoped>\n",
              "    .dataframe tbody tr th:only-of-type {\n",
              "        vertical-align: middle;\n",
              "    }\n",
              "\n",
              "    .dataframe tbody tr th {\n",
              "        vertical-align: top;\n",
              "    }\n",
              "\n",
              "    .dataframe thead th {\n",
              "        text-align: right;\n",
              "    }\n",
              "</style>\n",
              "<table border=\"1\" class=\"dataframe\">\n",
              "  <thead>\n",
              "    <tr style=\"text-align: right;\">\n",
              "      <th></th>\n",
              "      <th>title</th>\n",
              "      <th>text</th>\n",
              "      <th>category</th>\n",
              "      <th>noun_lemmas</th>\n",
              "    </tr>\n",
              "  </thead>\n",
              "  <tbody>\n",
              "    <tr>\n",
              "      <th>0</th>\n",
              "      <td>Mirosław_Miller</td>\n",
              "      <td>Mirosław Miller – Dyrektor Międzynarodowego La...</td>\n",
              "      <td>2</td>\n",
              "      <td>[mirosława, miller, dyrektor, laboratorium, po...</td>\n",
              "    </tr>\n",
              "    <tr>\n",
              "      <th>1</th>\n",
              "      <td>Chimerokształtne</td>\n",
              "      <td>Chimerokształtne, chimery, przerazy (Chimaerif...</td>\n",
              "      <td>1</td>\n",
              "      <td>[chimera, przeraza, chimaeriformes, rząd, ryba...</td>\n",
              "    </tr>\n",
              "    <tr>\n",
              "      <th>2</th>\n",
              "      <td>(2855)_Bastian</td>\n",
              "      <td>(2855) Bastian (1931 TB2) – planetoida z grupy...</td>\n",
              "      <td>0</td>\n",
              "      <td>[bastian, tb2, planetoida, grupa, pas, asteroi...</td>\n",
              "    </tr>\n",
              "    <tr>\n",
              "      <th>3</th>\n",
              "      <td>Cryptocephalus_celtibericus</td>\n",
              "      <td>\"Cryptocephalus celtibericus\" – gatunek chrząs...</td>\n",
              "      <td>1</td>\n",
              "      <td>[cryptocephalus, celtibericus, gatunek, chrząs...</td>\n",
              "    </tr>\n",
              "    <tr>\n",
              "      <th>4</th>\n",
              "      <td>Język_maszynowy</td>\n",
              "      <td>Język maszynowy, kod maszynowy – zestaw rozkaz...</td>\n",
              "      <td>5</td>\n",
              "      <td>[język, koda, zestaw, rozkaz, procesor, zapis,...</td>\n",
              "    </tr>\n",
              "  </tbody>\n",
              "</table>\n",
              "</div>"
            ],
            "text/plain": [
              "                         title  ...                                        noun_lemmas\n",
              "0              Mirosław_Miller  ...  [mirosława, miller, dyrektor, laboratorium, po...\n",
              "1             Chimerokształtne  ...  [chimera, przeraza, chimaeriformes, rząd, ryba...\n",
              "2               (2855)_Bastian  ...  [bastian, tb2, planetoida, grupa, pas, asteroi...\n",
              "3  Cryptocephalus_celtibericus  ...  [cryptocephalus, celtibericus, gatunek, chrząs...\n",
              "4              Język_maszynowy  ...  [język, koda, zestaw, rozkaz, procesor, zapis,...\n",
              "\n",
              "[5 rows x 4 columns]"
            ]
          },
          "metadata": {
            "tags": []
          },
          "execution_count": 9
        }
      ]
    },
    {
      "cell_type": "markdown",
      "metadata": {
        "id": "MUwIWPXp0NR-"
      },
      "source": [
        "## Top nouns vector"
      ]
    },
    {
      "cell_type": "code",
      "metadata": {
        "id": "zn06LVCw0QKO"
      },
      "source": [
        "# df = data\n",
        "# top_k = 1000\n",
        "\n",
        "# top_nouns = {}\n",
        "# categories = list(df['category'].unique())\n",
        "\n",
        "# for cat in categories:\n",
        "#     noun_lists = df[df['category'] == cat]['noun_lemmas']\n",
        "#     noun_list = []\n",
        "#     for l in tqdm(noun_lists):\n",
        "#         noun_list = noun_list + l\n",
        "    \n",
        "#     noun_list = Counter(noun_list).most_common()[0:top_k]\n",
        "#     noun_list = list(map(lambda x: x[0], noun_list))\n",
        "\n",
        "#     top_nouns[cat] = noun_list"
      ],
      "execution_count": 10,
      "outputs": []
    },
    {
      "cell_type": "code",
      "metadata": {
        "id": "T-v9ag7F1Q0Y"
      },
      "source": [
        "# with open(\"/content/drive/Shareddrives/GCN-PROJECT/top_1000_nouns.pickle\", \"wb\") as f:\n",
        "#   pickle.dump(top_nouns, f)"
      ],
      "execution_count": 11,
      "outputs": []
    },
    {
      "cell_type": "code",
      "metadata": {
        "id": "pg2hN8q611yo"
      },
      "source": [
        "with open(\"/content/drive/Shareddrives/GCN-PROJECT/top_1000_nouns.pickle\", \"rb\") as f:\n",
        "    top_nouns = pickle.load(f)"
      ],
      "execution_count": 12,
      "outputs": []
    },
    {
      "cell_type": "code",
      "metadata": {
        "colab": {
          "base_uri": "https://localhost:8080/"
        },
        "id": "XyuWoJxMeifC",
        "outputId": "4df2f488-3609-4206-8d0a-28d05cebbcb2"
      },
      "source": [
        "lookup_dict = dict(enumerate(le.inverse_transform(range(7))))\n",
        "print(lookup_dict)"
      ],
      "execution_count": 13,
      "outputs": [
        {
          "output_type": "stream",
          "text": [
            "{0: 'Astronomia', 1: 'Biologia', 2: 'Chemia', 3: 'Fizyka', 4: 'Informatyka', 5: 'Matematyka', 6: 'Psychologia'}\n"
          ],
          "name": "stdout"
        }
      ]
    },
    {
      "cell_type": "code",
      "metadata": {
        "colab": {
          "base_uri": "https://localhost:8080/"
        },
        "id": "7ocFb3zFeHVu",
        "outputId": "f185c4a3-49ae-4398-9bdd-d40c88df6e87"
      },
      "source": [
        "for key, value in top_nouns.items():\n",
        "    print(le.inverse_transform([key])[0])\n",
        "    print(value[0:100], end='\\n\\n')"
      ],
      "execution_count": 14,
      "outputs": [
        {
          "output_type": "stream",
          "text": [
            "Chemia\n",
            "['rok', 'lek', 'badanie', 'grupa', 'związka', 'działanie', 'chemia', 'kwas', 'uniwersytet', 'to', 'praca', 'wirus', 'nauka', 'czas', 'co', 'dno', 'profesor', 'reakcja', 'substancja', 'dawka', '%', 'nagroda', 'komórka', 'białko', 'proces', 'przypadek', 'receptor', 'związek', 'wydział', 'choroba', 'mechanizm', 'rna', 'członek', 'instytut', 'układ', 'dziedzina', 'cząsteczka', 'postać', 'wynik', 'polska', 'woda', 'metoda', 'stopień', 'of', 'nazwa', 'studium', 'synteza', 'stężenie', 'temperatura', 'stan', 'raz', 'nobel', 'akademia', 'atom', 'człowiek', 'wojna', 'chemik', 'pacjent', 'efekt', 'biochemia', 'właściwość', 'preparat', 'struktura', 'organizm', 'osoba', 'zasada', 'okres', 'zastosowanie', 'funkcja', 'roztwór', 'objaw', 'środek', 'wpływ', 'university', 'miejsce', 'produkt', 'aktywność', 'doktór', 'forma', 'godzina', 'kwasy', 'zaburzenie', 'materiał', 'enzym', 'ilość', 'wzgląd', 'tytuł', 'część', 'produkcja', 'inhibitor', 'życiorys', 'sposób', 'krew', 'wieko', 'dzień', 'zakład', 'zakres', 'udział', 'pochodna', 'zmiana']\n",
            "\n",
            "Biologia\n",
            "['gatunek', 'rok', 'rodzina', 'długość', 'ciało', 'rodzaj', 'część', 'nazwa', 'ptak', 'samica', 'teren', 'to', 'osobnik', 'polska', 'czas', 'roślina', 'samiec', 'zwierzę', 'obszar', 'co', 'ochrona', 'miejsce', 'powierzchnia', 'występowanie', 'lasa', 'skrzydło', 'komórka', 'populacja', 'drzewo', 'kość', 'grzyb', 'życie', 'woda', 'głowa', 'owad', 'jajo', 'grupa', 'wyspa', 'raz', 'wysokość', 'badanie', 'barwa', 'ryba', 'europ', 'dzień', 'gniazdo', 'przedstawiciel', 'okres', 'ogon', 'zasięg', 'podgatunek', 'podstawa', 'pokrywa', 'środowisko', 'siedlisko', 'rząd', 'koniec', 'wieko', 'liść', 'zagrożenie', 'rozmiar', 'chrząszcz', 'morfologia', 'kształt', 'okaz', 'brzeg', 'oko', 'para', 'ziemia', 'cecha', 'podrodzina', 'strona', 'las', 'autor', 'systematyk', 'człowiek', '%', 'ssak', 'afryka', 'większość', 'bok', 'wielkość', 'takson', 'średnica', 'kolor', 'status', 'index', 'klasyfikacja', 'opis', 'fungorum', 'ząb', 'stan', 'masa', 'pozycja', 'stanowisko', 'samka', 'wzgląd', 'azja', 'owocnik', 'grzbiet']\n",
            "\n",
            "Astronomia\n",
            "['rok', 'planetoida', 'odległość', 'ciąg', 'słońca', 'pas', 'asteroida', 'gwiazda', 'nazwa', 'galaktyka', 'planeta', 'słońce', 'ziemia', 'dzień', 'orbita', 'grupa', 'gwiazdozbiór', 'ngc', 'obiekt', 'masa', 'układ', 'typ', 'wrzesień', 'obserwatorium', 'kometa', 'księżyc', 'oznaczenie', 'powierzchnia', 'linka', 'czas', 'astronom', 'sonda', 'to', 'obserwacja', 'co', 'październik', 'marzec', 'pgc', 'jasność', 'krater', 'teleskop', 'kwiecień', 'misja', 'raz', 'sierpień', 'listopad', 'okres', 'herschel', 'ciało', 'prędkość', 'średnica', 'mars', 'temperatura', 'gromada', 'odkrycie', 'luty', 'część', 'styczeń', 'jowisz', 'jądro', 'promieniowanie', 'grudzień', 'atmosfera', 'maj', 'badanie', 'wielkość', 'teoria', 'materia', 'uniwersytet', 'milion', 'program', 'energia', 'światło', 'składnik', 'ugc', 'obszar', 'william', 'rucho', 'satelita', 'miejsce', 'niebo', 'lipiec', 'astronomia', 'formula_1', 'meteoryt', 'wynik', 'wieko', 'zdjęcie', 'czerwiec', 'praca', 'observatory', 'zmiana', 'promień', 'olbrzym', 'godzina', 'przestrzeń', 'pobliże', 'apollo', 'kierunek', '%']\n",
            "\n",
            "Matematyka\n",
            "['formula_1', 'rok', 'liczba', 'funkcja', 'to', 'przestrzeń', 'zbiór', 'język', 'punkt', 'grupa', 'program', 'wartość', 'co', 'czas', 'strona', 'wersja', 'teoria', 'przykład', 'serwis', 'metoda', 'użytkownik', 'matematyka', 'nazwa', 'twierdzenie', 'przypadek', 'sposób', 'praca', 'postać', 'równanie', 'macierz', 'dane', 'systema', 'pomoc', 'układ', 'uniwersytet', 'sieć', 'element', 'problem', 'wektor', 'typ', 'ciąg', 'definicja', 'część', 'firma', 'ciało', 'system', 'wynik', 'model', 'internet', 'informacja', 'miejsce', 'polska', 'cel', 'obiekt', 'możliwość', 'projekt', 'podstawa', 'pojęcie', 'forma', 'algebra', 'wzór', 'stan', 'operator', 'kanał', 'własność', 'miara', 'osoba', 'stopień', 'analiza', 'protokół', 'symbol', 'nauka', 'elementy', 'rozwiązanie', 'zmiana', 'klasa', 'standard', 'baza', 'aplikacja', 'znak', 'iloczyn', 'film', 'gra', 'rząd', 'historia', 'portal', 'biblioteka', 'codice_2', 'działanie', 'serwer', 'słowo', 'platforma', 'struktura', 'raz', 'wielomian', 'świat', 'format', 'wzgląd', 'tekst', 'autor']\n",
            "\n",
            "Fizyka\n",
            "['rok', 'fizyka', 'energia', 'uniwersytet', 'praca', 'formula_1', 'to', 'czas', 'temperatura', 'pole', 'układ', 'nauka', 'profesor', 'badanie', 'co', 'elektron', 'promieniowanie', 'zjawisko', 'teoria', 'instytut', 'cząstka', 'światło', 'wydział', 'prąd', 'wartość', 'reakcja', 'metoda', 'fala', 'stan', 'wynik', 'atom', 'członek', 'proces', 'ciało', 'stopień', 'materiał', 'funkcja', 'powierzchnia', 'jądro', 'zmiana', 'reaktor', 'zakres', 'efekt', 'przypadek', 'kierunek', 'studium', 'liczba', 'woda', 'cząsteczka', 'nagroda', 'prędkość', 'podstawa', 'siła', 'ładunek', 'urządzenie', 'rucho', 'struktura', 'politechnika', 'ciśnienie', 'masa', 'grupa', 'dziedzina', 'sposób', 'faza', 'część', 'napięcie', 'polska', 'warszawa', 'życiorys', 'równanie', 'nazwa', 'enzym', 'szkoła', 'gwiazda', 'jon', 'model', 'pomiar', 'neutron', 'akademia', 'rodzaj', 'związek', 'substancja', 'warstwa', 'ziemia', 'roztwór', 'prawo', 'postać', 'miejsce', '%', 'długość', 'punkt', 'of', 'źródło', 'typ', 'towarzystwo', 'zasada', 'poła', 'przykład', 'częstotliwość', 'pomoc']\n",
            "\n",
            "Informatyka\n",
            "['rok', 'gra', 'systema', 'formula_1', 'system', 'wersja', 'to', 'program', 'dane', 'czas', 'układ', 'co', 'firma', 'plik', 'liczba', 'komputer', 'użytkownik', 'funkcja', 'cel', 'informacja', 'nazwa', 'algorytm', 'gracz', 'proces', 'windows', 'wartość', 'część', 'urządzenie', 'metoda', 'możliwość', 'przypadek', 'sposób', 'strona', 'oprogramowanie', 'praca', 'projekt', 'aplikacja', 'postać', 'typ', 'pomoc', 'pamięć', 'stan', 'przykład', 'procesor', 'sieć', 'model', 'sygnał', 'klucz', 'maszyna', 'język', 'serwer', 'obiekt', 'zadanie', 'problem', 'miejsce', 'punkt', 'biblioteka', 'zmiana', 'atak', 'osoba', 'silnik', 'kod', 'poziom', 'aparat', 'technologia', 'koda', 'rozwiązanie', 'dostęp', 'wynik', 'operacja', 'tablica', 'tryba', 'grupa', 'plika', 'świat', 'dana', 'znak', 'element', 'platforma', 'seria', 'microsoft', 'format', 'raz', 'środowisko', 'błąd', 'linux', 'bit', 'numer', 'historia', 'rodzaj', 'rozgrywka', 'teoria', 'podstawa', 'większość', 'narzędzie', 'obraz', 'wzgląd', 'zbiór', 'bezpieczeństwo', 'produkcja']\n",
            "\n",
            "Psychologia\n",
            "['rok', 'to', 'osoba', 'badanie', 'czas', 'co', 'film', 'człowiek', 'zaburzenie', 'grupa', 'praca', 'język', 'dziecko', 'stan', 'przypadek', 'życie', 'sposób', 'wieko', 'wynik', 'lek', 'kobieta', 'psychologia', 'zespół', 'zachowanie', 'metoda', 'proces', 'choroba', 'cel', 'pacjent', 'działanie', 'teoria', 'świat', 'miejsce', '%', 'część', 'efekt', 'problem', 'objaw', 'nauka', 'uniwersytet', 'rola', 'polska', 'wpływ', 'ciało', 'rozwój', 'forma', 'okres', 'rodzina', 'terapia', 'członek', 'śmierć', 'zmiana', 'raz', 'informacja', 'podstawa', 'dzień', 'mózg', 'historia', 'sytuacja', 'pomoc', 'mężczyzna', 'poziom', 'przykład', 'autor', 'miłość', 'rodzaj', 'nazwa', 'słowo', 'test', 'strona', 'program', 'postać', 'cecha', 'związek', 'książka', 'liczba', 'słownik', 'gra', 'temat', 'stopień', 'zjawisko', 'wzgląd', 'szkoła', 'pojęcie', 'typ', 'czynnik', 'uwaga', 'de', 'samobójstwo', 'znaczenie', 'związka', 'osobowość', 'jednostka', 'umysł', 'wojna', 'zakres', 'funkcja', 'przyczyna', 'możliwość', 'pamięć']\n",
            "\n"
          ],
          "name": "stdout"
        }
      ]
    },
    {
      "cell_type": "code",
      "metadata": {
        "id": "6mSH6MfL9Dlk"
      },
      "source": [
        "top_k = 40\n",
        "\n",
        "top_specific_nouns = {}\n",
        "for key, value in top_nouns.items():\n",
        "    specific_nouns = []\n",
        "    for noun in value:\n",
        "        specific = True\n",
        "\n",
        "        for key2, value2 in top_nouns.items():\n",
        "            if key != key2:\n",
        "                if noun in value2:\n",
        "                    specific = False\n",
        "\n",
        "        if specific:\n",
        "            specific_nouns.append(noun)\n",
        "\n",
        "        top_specific_nouns[key] = specific_nouns[:top_k]"
      ],
      "execution_count": 15,
      "outputs": []
    },
    {
      "cell_type": "code",
      "metadata": {
        "id": "5wpMmICG9HVe"
      },
      "source": [
        "with open(\"/content/drive/Shareddrives/GCN-PROJECT/top_40_specific_nouns.pickle\", \"wb\") as f:\n",
        "  pickle.dump(top_specific_nouns, f)"
      ],
      "execution_count": 16,
      "outputs": []
    },
    {
      "cell_type": "code",
      "metadata": {
        "colab": {
          "base_uri": "https://localhost:8080/"
        },
        "id": "Dn75HY7Y9L2H",
        "outputId": "98662454-2adc-4c2a-9b9b-2611322f37b8"
      },
      "source": [
        "for key, value in top_specific_nouns.items():\n",
        "    print(le.inverse_transform([key])[0])\n",
        "    print(value, end='\\n\\n')"
      ],
      "execution_count": 17,
      "outputs": [
        {
          "output_type": "stream",
          "text": [
            "Chemia\n",
            "['rna', 'biochemia', 'grypa', 'biochemik', 'amfetamina', 'szczepionka', 'dopamina', 'rak', 'nukleotyd', 'osocze', 'mrna', 'mocz', 'dawkowanie', 'sars', 'replikacja', 'witamina', 'polimeraza', 'chlorek', 'amina', 'zakażenie', 'antybiotyk', 'mg', 'wskazanie', 'barwnik', 'ph', 'żywność', 'pompa', 'niewydolność', 'chemical', 'kolba', 'cov', 'nerki', 'półtrwanie', 'biegunka', 'nudność', 'toksyczność', 'noradrenalina', 'izomer', 'enancjomer', 'chlor']\n",
            "\n",
            "Biologia\n",
            "['samiec', 'lasa', 'kość', 'jajo', 'gniazdo', 'podgatunek', 'pokrywa', 'siedlisko', 'chrząszcz', 'morfologia', 'okaz', 'podrodzina', 'las', 'systematyk', 'takson', 'index', 'fungorum', 'ząb', 'samka', 'azja', 'owocnik', 'grzbiet', 'czaszka', 'ameryka', 'liczebność', 'dziób', 'odnóże', 'ekologia', 'pożywienie', 'spód', 'larwa', 'dinozaur', 'nazewnictwo', 'wierzch', 'płetwa', 'zarodnik', 'pióro', 'holotyp', 'czułek', 'taksonomia']\n",
            "\n",
            "Astronomia\n",
            "['planetoida', 'słońca', 'asteroida', 'galaktyka', 'gwiazdozbiór', 'ngc', 'obserwatorium', 'kometa', 'księżyc', 'pgc', 'krater', 'teleskop', 'herschel', 'mars', 'jowisz', 'ugc', 'meteoryt', 'observatory', 'olbrzym', 'apollo', 'obłok', 'karzeł', 'saturn', 'mgławica', 'rakieta', 'wenus', 'nasa', 'sn', 'ekliptyka', 'heidelbergu', 'panna', 'heidelberg', 'landessternwarte', 'königstuhl', 'miliard', 'peryhelium', 'księżyce', 'karło', 'lądownik', 'mimośród']\n",
            "\n",
            "Matematyka\n",
            "['algebra', 'przekształcenie', 'podzbiór', 'logika', 'podgrupa', 'rachunek', 'banach', 'aksjomat', 'kwadrat', 'youtube', 'blog', 'topologia', 'całka', 'tv', 'formuła', 'mnożenie', 'euler', 'rozmaitość', 'witryna', 'html', 'sum', 'turing', 'tvp', 'profil', 'nierówność', 'wikipedia', 'równość', 'składnia', 'zysk', 'xml', 'potęga', 'dodawanie', 'notacja', 'jedynka', 'figura', 'kapitał', 'basic', 'zbieżność', 'oferta', 'polsat']\n",
            "\n",
            "Fizyka\n",
            "['reaktor', 'lampa', 'elektroda', 'wiązka', 'polaryzacja', 'elektrotechnika', 'przewodnictwo', 'drganie', 'leonardo', 'akcelerator', 'półprzewodnik', 'optyka', 'orbital', 'wyładowanie', 'cewka', 'physics', 'laser', 'jonizacja', 'magnes', 'alfa', 'tęcza', 'elektrolit', 'indukcja', 'uam', 'elektrownia', 'przewodnik', 'dielektryk', 'stop', 'elektronika', 'swoboda', 'dyfuzja', 'rura', 'adam', 'krystalizacja', 'maxwell', 'anoda', 'pręt', 'katoda', 'wahadło', 'odchylenie']\n",
            "\n",
            "Informatyka\n",
            "['klucz', 'rozgrywka', 'robot', 'sterowanie', 'android', 'konsola', 'piksel', 'rejestr', 'playstation', 'karty', 'unix', 'xbox', 'pc', 'okno', 'studio', 'regulator', 'aktualizacja', 'zabezpieczenie', 'intel', 'animacja', 'partycja', 'dos', 'software', 'galaxy', 'tryb', 'drużyna', 'podpis', 'bufor', 'sterownik', 'life', 'gb', 'certyfikat', 'menedżer', 'robota', 'smartfon', 'geforce', 'szum', 'wymaganie', 'egzemplarz', 'wirnik']\n",
            "\n",
            "Psychologia\n",
            "['psychologia', 'miłość', 'samobójstwo', 'osobowość', 'psycholog', 'emocja', 'reżyseria', 'świadomość', 'poczucie', 'komedia', 'bodziec', 'lęk', 'schizofrenia', 'freud', 'wole', 'przekonanie', 'autyzm', 'psychoterapia', 'postawa', 'dziewczyna', 'wrażenie', 'żyd', 'narkotyk', 'medytacja', 'religia', 'coś', 'szczęście', 'psychiatra', 'myślenie', 'interwencja', 'tradycja', 'hugo', 'psychoanaliza', 'gur', 'tendencja', 'reżyser', 'terapeuta', 'nastrój', 'niewolnik', 'hitchcock']\n",
            "\n"
          ],
          "name": "stdout"
        }
      ]
    },
    {
      "cell_type": "code",
      "metadata": {
        "id": "Ar5ZfQvSf2uv"
      },
      "source": [
        "top_k = 20\n",
        "\n",
        "top_specific_nouns = {}\n",
        "for key, value in top_nouns.items():\n",
        "    specific_nouns = []\n",
        "    for noun in value:\n",
        "        specific = True\n",
        "\n",
        "        for key2, value2 in top_nouns.items():\n",
        "            if key != key2:\n",
        "                if noun in value2:\n",
        "                    specific = False\n",
        "\n",
        "        if specific:\n",
        "            specific_nouns.append(noun)\n",
        "\n",
        "        top_specific_nouns[key] = specific_nouns[:top_k]"
      ],
      "execution_count": 18,
      "outputs": []
    },
    {
      "cell_type": "code",
      "metadata": {
        "id": "xiAfZ_0shNJx"
      },
      "source": [
        "with open(\"/content/drive/Shareddrives/GCN-PROJECT/top_20_specific_nouns.pickle\", \"wb\") as f:\n",
        "  pickle.dump(top_specific_nouns, f)"
      ],
      "execution_count": 19,
      "outputs": []
    },
    {
      "cell_type": "code",
      "metadata": {
        "colab": {
          "base_uri": "https://localhost:8080/"
        },
        "id": "lWd2Ad7g47zC",
        "outputId": "018ba33a-0059-42c1-9498-f438376157af"
      },
      "source": [
        "for key, value in top_specific_nouns.items():\n",
        "    print(le.inverse_transform([key])[0])\n",
        "    print(value, end='\\n\\n')"
      ],
      "execution_count": 20,
      "outputs": [
        {
          "output_type": "stream",
          "text": [
            "Chemia\n",
            "['rna', 'biochemia', 'grypa', 'biochemik', 'amfetamina', 'szczepionka', 'dopamina', 'rak', 'nukleotyd', 'osocze', 'mrna', 'mocz', 'dawkowanie', 'sars', 'replikacja', 'witamina', 'polimeraza', 'chlorek', 'amina', 'zakażenie']\n",
            "\n",
            "Biologia\n",
            "['samiec', 'lasa', 'kość', 'jajo', 'gniazdo', 'podgatunek', 'pokrywa', 'siedlisko', 'chrząszcz', 'morfologia', 'okaz', 'podrodzina', 'las', 'systematyk', 'takson', 'index', 'fungorum', 'ząb', 'samka', 'azja']\n",
            "\n",
            "Astronomia\n",
            "['planetoida', 'słońca', 'asteroida', 'galaktyka', 'gwiazdozbiór', 'ngc', 'obserwatorium', 'kometa', 'księżyc', 'pgc', 'krater', 'teleskop', 'herschel', 'mars', 'jowisz', 'ugc', 'meteoryt', 'observatory', 'olbrzym', 'apollo']\n",
            "\n",
            "Matematyka\n",
            "['algebra', 'przekształcenie', 'podzbiór', 'logika', 'podgrupa', 'rachunek', 'banach', 'aksjomat', 'kwadrat', 'youtube', 'blog', 'topologia', 'całka', 'tv', 'formuła', 'mnożenie', 'euler', 'rozmaitość', 'witryna', 'html']\n",
            "\n",
            "Fizyka\n",
            "['reaktor', 'lampa', 'elektroda', 'wiązka', 'polaryzacja', 'elektrotechnika', 'przewodnictwo', 'drganie', 'leonardo', 'akcelerator', 'półprzewodnik', 'optyka', 'orbital', 'wyładowanie', 'cewka', 'physics', 'laser', 'jonizacja', 'magnes', 'alfa']\n",
            "\n",
            "Informatyka\n",
            "['klucz', 'rozgrywka', 'robot', 'sterowanie', 'android', 'konsola', 'piksel', 'rejestr', 'playstation', 'karty', 'unix', 'xbox', 'pc', 'okno', 'studio', 'regulator', 'aktualizacja', 'zabezpieczenie', 'intel', 'animacja']\n",
            "\n",
            "Psychologia\n",
            "['psychologia', 'miłość', 'samobójstwo', 'osobowość', 'psycholog', 'emocja', 'reżyseria', 'świadomość', 'poczucie', 'komedia', 'bodziec', 'lęk', 'schizofrenia', 'freud', 'wole', 'przekonanie', 'autyzm', 'psychoterapia', 'postawa', 'dziewczyna']\n",
            "\n"
          ],
          "name": "stdout"
        }
      ]
    },
    {
      "cell_type": "code",
      "metadata": {
        "id": "AvBBmWgJ6Wdn"
      },
      "source": [
        "def get_vector(text):\n",
        "    vector = []\n",
        "    for key, value in top_specific_nouns.items():\n",
        "        for word in value:\n",
        "            if word in text:\n",
        "                vector.append(1)\n",
        "            else:\n",
        "                vector.append(0)\n",
        "    \n",
        "    return np.array(vector)"
      ],
      "execution_count": 21,
      "outputs": []
    },
    {
      "cell_type": "code",
      "metadata": {
        "colab": {
          "base_uri": "https://localhost:8080/"
        },
        "id": "95V4-frv6uVw",
        "outputId": "99c8d5a0-738a-47c7-da60-96550dfd2d80"
      },
      "source": [
        "data['doc_vec'] = data['noun_lemmas'].progress_apply(get_vector)"
      ],
      "execution_count": 22,
      "outputs": [
        {
          "output_type": "stream",
          "text": [
            "100%|██████████| 75649/75649 [00:10<00:00, 6909.39it/s]\n"
          ],
          "name": "stderr"
        }
      ]
    },
    {
      "cell_type": "code",
      "metadata": {
        "colab": {
          "base_uri": "https://localhost:8080/",
          "height": 204
        },
        "id": "a3DwLdng7DAs",
        "outputId": "2ee9de12-611c-4ad0-a20b-5ef2f8dac78b"
      },
      "source": [
        "data.head()"
      ],
      "execution_count": 23,
      "outputs": [
        {
          "output_type": "execute_result",
          "data": {
            "text/html": [
              "<div>\n",
              "<style scoped>\n",
              "    .dataframe tbody tr th:only-of-type {\n",
              "        vertical-align: middle;\n",
              "    }\n",
              "\n",
              "    .dataframe tbody tr th {\n",
              "        vertical-align: top;\n",
              "    }\n",
              "\n",
              "    .dataframe thead th {\n",
              "        text-align: right;\n",
              "    }\n",
              "</style>\n",
              "<table border=\"1\" class=\"dataframe\">\n",
              "  <thead>\n",
              "    <tr style=\"text-align: right;\">\n",
              "      <th></th>\n",
              "      <th>title</th>\n",
              "      <th>text</th>\n",
              "      <th>category</th>\n",
              "      <th>noun_lemmas</th>\n",
              "      <th>doc_vec</th>\n",
              "    </tr>\n",
              "  </thead>\n",
              "  <tbody>\n",
              "    <tr>\n",
              "      <th>0</th>\n",
              "      <td>Mirosław_Miller</td>\n",
              "      <td>Mirosław Miller – Dyrektor Międzynarodowego La...</td>\n",
              "      <td>2</td>\n",
              "      <td>[mirosława, miller, dyrektor, laboratorium, po...</td>\n",
              "      <td>[0, 0, 0, 0, 0, 0, 0, 0, 0, 0, 0, 0, 0, 0, 0, ...</td>\n",
              "    </tr>\n",
              "    <tr>\n",
              "      <th>1</th>\n",
              "      <td>Chimerokształtne</td>\n",
              "      <td>Chimerokształtne, chimery, przerazy (Chimaerif...</td>\n",
              "      <td>1</td>\n",
              "      <td>[chimera, przeraza, chimaeriformes, rząd, ryba...</td>\n",
              "      <td>[0, 0, 0, 0, 0, 0, 0, 0, 0, 0, 0, 0, 0, 0, 0, ...</td>\n",
              "    </tr>\n",
              "    <tr>\n",
              "      <th>2</th>\n",
              "      <td>(2855)_Bastian</td>\n",
              "      <td>(2855) Bastian (1931 TB2) – planetoida z grupy...</td>\n",
              "      <td>0</td>\n",
              "      <td>[bastian, tb2, planetoida, grupa, pas, asteroi...</td>\n",
              "      <td>[0, 0, 0, 0, 0, 0, 0, 0, 0, 0, 0, 0, 0, 0, 0, ...</td>\n",
              "    </tr>\n",
              "    <tr>\n",
              "      <th>3</th>\n",
              "      <td>Cryptocephalus_celtibericus</td>\n",
              "      <td>\"Cryptocephalus celtibericus\" – gatunek chrząs...</td>\n",
              "      <td>1</td>\n",
              "      <td>[cryptocephalus, celtibericus, gatunek, chrząs...</td>\n",
              "      <td>[0, 0, 0, 0, 0, 0, 0, 0, 0, 0, 0, 0, 0, 0, 0, ...</td>\n",
              "    </tr>\n",
              "    <tr>\n",
              "      <th>4</th>\n",
              "      <td>Język_maszynowy</td>\n",
              "      <td>Język maszynowy, kod maszynowy – zestaw rozkaz...</td>\n",
              "      <td>5</td>\n",
              "      <td>[język, koda, zestaw, rozkaz, procesor, zapis,...</td>\n",
              "      <td>[0, 0, 0, 0, 0, 0, 0, 0, 0, 0, 0, 0, 0, 0, 0, ...</td>\n",
              "    </tr>\n",
              "  </tbody>\n",
              "</table>\n",
              "</div>"
            ],
            "text/plain": [
              "                         title  ...                                            doc_vec\n",
              "0              Mirosław_Miller  ...  [0, 0, 0, 0, 0, 0, 0, 0, 0, 0, 0, 0, 0, 0, 0, ...\n",
              "1             Chimerokształtne  ...  [0, 0, 0, 0, 0, 0, 0, 0, 0, 0, 0, 0, 0, 0, 0, ...\n",
              "2               (2855)_Bastian  ...  [0, 0, 0, 0, 0, 0, 0, 0, 0, 0, 0, 0, 0, 0, 0, ...\n",
              "3  Cryptocephalus_celtibericus  ...  [0, 0, 0, 0, 0, 0, 0, 0, 0, 0, 0, 0, 0, 0, 0, ...\n",
              "4              Język_maszynowy  ...  [0, 0, 0, 0, 0, 0, 0, 0, 0, 0, 0, 0, 0, 0, 0, ...\n",
              "\n",
              "[5 rows x 5 columns]"
            ]
          },
          "metadata": {
            "tags": []
          },
          "execution_count": 23
        }
      ]
    },
    {
      "cell_type": "code",
      "metadata": {
        "colab": {
          "base_uri": "https://localhost:8080/"
        },
        "id": "_2aIyVPm7NLm",
        "outputId": "770bc29c-cbdf-4fc8-f768-029f25283fa2"
      },
      "source": [
        "data.iloc[2]['doc_vec']"
      ],
      "execution_count": 24,
      "outputs": [
        {
          "output_type": "execute_result",
          "data": {
            "text/plain": [
              "array([0, 0, 0, 0, 0, 0, 0, 0, 0, 0, 0, 0, 0, 0, 0, 0, 0, 0, 0, 0, 0, 0,\n",
              "       0, 0, 0, 0, 0, 0, 0, 0, 0, 0, 0, 0, 0, 0, 0, 0, 0, 0, 1, 1, 1, 0,\n",
              "       0, 0, 0, 0, 0, 0, 0, 0, 0, 0, 0, 0, 0, 0, 0, 0, 0, 0, 0, 0, 0, 0,\n",
              "       0, 0, 0, 0, 0, 0, 0, 0, 0, 0, 0, 0, 0, 0, 0, 0, 0, 0, 0, 0, 0, 0,\n",
              "       0, 0, 0, 0, 0, 0, 0, 0, 0, 0, 0, 0, 0, 0, 0, 0, 0, 0, 0, 0, 0, 0,\n",
              "       0, 0, 0, 0, 0, 0, 0, 0, 0, 0, 0, 0, 0, 0, 0, 0, 0, 0, 0, 0, 0, 0,\n",
              "       0, 0, 0, 0, 0, 0, 0, 0])"
            ]
          },
          "metadata": {
            "tags": []
          },
          "execution_count": 24
        }
      ]
    },
    {
      "cell_type": "code",
      "metadata": {
        "colab": {
          "base_uri": "https://localhost:8080/"
        },
        "id": "ss5fiuZc7MOI",
        "outputId": "83d9a46d-f364-441b-cac8-712457e00a11"
      },
      "source": [
        "len(data.iloc[2]['doc_vec'])"
      ],
      "execution_count": 25,
      "outputs": [
        {
          "output_type": "execute_result",
          "data": {
            "text/plain": [
              "140"
            ]
          },
          "metadata": {
            "tags": []
          },
          "execution_count": 25
        }
      ]
    },
    {
      "cell_type": "markdown",
      "metadata": {
        "id": "wXKwqZA5jDHb"
      },
      "source": [
        "## Helper functions"
      ]
    },
    {
      "cell_type": "code",
      "metadata": {
        "id": "NTFGh0qRjETm"
      },
      "source": [
        "def conf_matrix(y_true, y_pred):\n",
        "    labels = tf.unique(y_true)[0].numpy()\n",
        "    labels.sort()\n",
        "\n",
        "    con_mat = confusion_matrix(y_true, y_pred)\n",
        "    con_mat_norm = np.around(con_mat.astype('float') / con_mat.sum(axis=1)[:, np.newaxis], decimals=2)\n",
        "\n",
        "    df_cm = pd.DataFrame(con_mat_norm,\n",
        "                        index = labels, \n",
        "                        columns = [i for i in labels])\n",
        "\n",
        "    plt.figure(figsize = (10,7))\n",
        "    plt.title(\"Confusion matrix\")\n",
        "    sn.heatmap(df_cm, annot=True, fmt='g')\n",
        "    plt.ylabel('True')\n",
        "    plt.xlabel('Predicted')\n",
        "    plt.show()"
      ],
      "execution_count": 26,
      "outputs": []
    },
    {
      "cell_type": "markdown",
      "metadata": {
        "id": "_fFSCPKLbk19"
      },
      "source": [
        "## NN Model"
      ]
    },
    {
      "cell_type": "code",
      "metadata": {
        "id": "KVIaKjo1bgB0"
      },
      "source": [
        "model = tf.keras.Sequential([\n",
        "    tf.keras.layers.Dense(140, activation='relu'),\n",
        "    tf.keras.layers.Dense(128, activation='relu'),\n",
        "    tf.keras.layers.Dense(64, activation='relu'),\n",
        "    tf.keras.layers.Dense(7, activation='softmax')\n",
        "])"
      ],
      "execution_count": 27,
      "outputs": []
    },
    {
      "cell_type": "code",
      "metadata": {
        "id": "4KAsUzG_blyg"
      },
      "source": [
        "model.compile(optimizer=optimizers.Adam(lr=0.005),\n",
        "              loss=tf.keras.losses.SparseCategoricalCrossentropy(from_logits=False),\n",
        "              metrics=['accuracy'])"
      ],
      "execution_count": 28,
      "outputs": []
    },
    {
      "cell_type": "code",
      "metadata": {
        "id": "hEWFZZQac5j-"
      },
      "source": [
        "X = data['doc_vec']\n",
        "y = data['category']"
      ],
      "execution_count": 29,
      "outputs": []
    },
    {
      "cell_type": "code",
      "metadata": {
        "id": "8mvRRCp-lZ3K"
      },
      "source": [
        "# split X, y to train and test_val\n",
        "X_train, X_test_val, y_train, y_test_val = train_test_split(\n",
        "    X, y, test_size=0.3, stratify=y, random_state=seed_value\n",
        ")\n",
        "# split test_val to test and val\n",
        "X_test, X_val, y_test, y_val = train_test_split(\n",
        "    X_test_val, y_test_val, test_size=0.5, stratify=y_test_val, random_state=seed_value\n",
        ")\n",
        "# 0.5 x 0.3 = 0.15"
      ],
      "execution_count": 30,
      "outputs": []
    },
    {
      "cell_type": "code",
      "metadata": {
        "colab": {
          "base_uri": "https://localhost:8080/"
        },
        "id": "eTl3m5tKhDR7",
        "outputId": "2bc27f68-5da3-4b5d-ceb9-caba5cb477ec"
      },
      "source": [
        "print(f'Train: {len(y_train)}')\n",
        "print(f'Test: {len(y_test)}')\n",
        "print(f'Val: {len(y_val)}')"
      ],
      "execution_count": 31,
      "outputs": [
        {
          "output_type": "stream",
          "text": [
            "Train: 52954\n",
            "Test: 11347\n",
            "Val: 11348\n"
          ],
          "name": "stdout"
        }
      ]
    },
    {
      "cell_type": "code",
      "metadata": {
        "colab": {
          "base_uri": "https://localhost:8080/"
        },
        "id": "7OgTlcO3dlde",
        "outputId": "0c634afa-ed7d-4198-ee6b-7080b9f52adc"
      },
      "source": [
        "history = model.fit(\n",
        "    tf.convert_to_tensor(np.stack(X_train)),\n",
        "    y_train,\n",
        "    epochs=200,\n",
        "    validation_data=(tf.convert_to_tensor(np.stack(X_val)), y_val)\n",
        ")"
      ],
      "execution_count": 32,
      "outputs": [
        {
          "output_type": "stream",
          "text": [
            "Epoch 1/200\n",
            "1655/1655 [==============================] - 6s 3ms/step - loss: 0.8006 - accuracy: 0.7246 - val_loss: 0.7006 - val_accuracy: 0.7544\n",
            "Epoch 2/200\n",
            "1655/1655 [==============================] - 4s 2ms/step - loss: 0.6943 - accuracy: 0.7559 - val_loss: 0.6889 - val_accuracy: 0.7577\n",
            "Epoch 3/200\n",
            "1655/1655 [==============================] - 4s 2ms/step - loss: 0.6721 - accuracy: 0.7640 - val_loss: 0.6969 - val_accuracy: 0.7539\n",
            "Epoch 4/200\n",
            "1655/1655 [==============================] - 4s 2ms/step - loss: 0.6772 - accuracy: 0.7608 - val_loss: 0.6886 - val_accuracy: 0.7574\n",
            "Epoch 5/200\n",
            "1655/1655 [==============================] - 4s 2ms/step - loss: 0.6743 - accuracy: 0.7624 - val_loss: 0.6991 - val_accuracy: 0.7543\n",
            "Epoch 6/200\n",
            "1655/1655 [==============================] - 4s 3ms/step - loss: 0.6619 - accuracy: 0.7655 - val_loss: 0.6995 - val_accuracy: 0.7552\n",
            "Epoch 7/200\n",
            "1655/1655 [==============================] - 4s 3ms/step - loss: 0.6612 - accuracy: 0.7646 - val_loss: 0.7087 - val_accuracy: 0.7548\n",
            "Epoch 8/200\n",
            "1655/1655 [==============================] - 4s 3ms/step - loss: 0.6687 - accuracy: 0.7616 - val_loss: 0.6996 - val_accuracy: 0.7564\n",
            "Epoch 9/200\n",
            "1655/1655 [==============================] - 4s 2ms/step - loss: 0.6564 - accuracy: 0.7659 - val_loss: 0.7177 - val_accuracy: 0.7558\n",
            "Epoch 10/200\n",
            "1655/1655 [==============================] - 4s 2ms/step - loss: 0.6515 - accuracy: 0.7665 - val_loss: 0.7143 - val_accuracy: 0.7561\n",
            "Epoch 11/200\n",
            "1655/1655 [==============================] - 4s 2ms/step - loss: 0.6543 - accuracy: 0.7651 - val_loss: 0.7175 - val_accuracy: 0.7556\n",
            "Epoch 12/200\n",
            "1655/1655 [==============================] - 4s 2ms/step - loss: 0.6490 - accuracy: 0.7682 - val_loss: 0.7217 - val_accuracy: 0.7564\n",
            "Epoch 13/200\n",
            "1655/1655 [==============================] - 4s 2ms/step - loss: 0.6467 - accuracy: 0.7673 - val_loss: 0.7344 - val_accuracy: 0.7559\n",
            "Epoch 14/200\n",
            "1655/1655 [==============================] - 4s 2ms/step - loss: 0.6531 - accuracy: 0.7662 - val_loss: 0.7428 - val_accuracy: 0.7561\n",
            "Epoch 15/200\n",
            "1655/1655 [==============================] - 4s 2ms/step - loss: 0.6495 - accuracy: 0.7673 - val_loss: 0.7444 - val_accuracy: 0.7546\n",
            "Epoch 16/200\n",
            "1655/1655 [==============================] - 4s 2ms/step - loss: 0.6548 - accuracy: 0.7632 - val_loss: 0.7615 - val_accuracy: 0.7551\n",
            "Epoch 17/200\n",
            "1655/1655 [==============================] - 4s 2ms/step - loss: 0.6490 - accuracy: 0.7682 - val_loss: 0.7563 - val_accuracy: 0.7569\n",
            "Epoch 18/200\n",
            "1655/1655 [==============================] - 4s 2ms/step - loss: 0.6455 - accuracy: 0.7670 - val_loss: 0.7659 - val_accuracy: 0.7563\n",
            "Epoch 19/200\n",
            "1655/1655 [==============================] - 4s 2ms/step - loss: 0.6454 - accuracy: 0.7684 - val_loss: 0.7907 - val_accuracy: 0.7531\n",
            "Epoch 20/200\n",
            "1655/1655 [==============================] - 4s 2ms/step - loss: 0.6442 - accuracy: 0.7683 - val_loss: 0.8276 - val_accuracy: 0.7548\n",
            "Epoch 21/200\n",
            "1655/1655 [==============================] - 4s 2ms/step - loss: 0.6356 - accuracy: 0.7715 - val_loss: 0.7723 - val_accuracy: 0.7546\n",
            "Epoch 22/200\n",
            "1655/1655 [==============================] - 4s 2ms/step - loss: 0.6442 - accuracy: 0.7687 - val_loss: 0.8418 - val_accuracy: 0.7541\n",
            "Epoch 23/200\n",
            "1655/1655 [==============================] - 4s 3ms/step - loss: 0.6395 - accuracy: 0.7740 - val_loss: 0.8091 - val_accuracy: 0.7555\n",
            "Epoch 24/200\n",
            "1655/1655 [==============================] - 4s 2ms/step - loss: 0.6471 - accuracy: 0.7683 - val_loss: 0.8187 - val_accuracy: 0.7548\n",
            "Epoch 25/200\n",
            "1655/1655 [==============================] - 4s 2ms/step - loss: 0.6402 - accuracy: 0.7709 - val_loss: 0.8345 - val_accuracy: 0.7544\n",
            "Epoch 26/200\n",
            "1655/1655 [==============================] - 4s 2ms/step - loss: 0.6471 - accuracy: 0.7694 - val_loss: 0.8585 - val_accuracy: 0.7532\n",
            "Epoch 27/200\n",
            "1655/1655 [==============================] - 4s 2ms/step - loss: 0.6473 - accuracy: 0.7661 - val_loss: 0.8504 - val_accuracy: 0.7521\n",
            "Epoch 28/200\n",
            "1655/1655 [==============================] - 4s 2ms/step - loss: 0.6380 - accuracy: 0.7700 - val_loss: 0.8698 - val_accuracy: 0.7517\n",
            "Epoch 29/200\n",
            "1655/1655 [==============================] - 4s 2ms/step - loss: 0.6565 - accuracy: 0.7669 - val_loss: 0.8507 - val_accuracy: 0.7534\n",
            "Epoch 30/200\n",
            "1655/1655 [==============================] - 4s 2ms/step - loss: 0.6425 - accuracy: 0.7690 - val_loss: 0.8578 - val_accuracy: 0.7534\n",
            "Epoch 31/200\n",
            "1655/1655 [==============================] - 4s 2ms/step - loss: 0.6463 - accuracy: 0.7669 - val_loss: 0.9031 - val_accuracy: 0.7526\n",
            "Epoch 32/200\n",
            "1655/1655 [==============================] - 4s 2ms/step - loss: 0.6411 - accuracy: 0.7691 - val_loss: 0.9578 - val_accuracy: 0.7541\n",
            "Epoch 33/200\n",
            "1655/1655 [==============================] - 4s 2ms/step - loss: 0.6343 - accuracy: 0.7728 - val_loss: 0.8917 - val_accuracy: 0.7527\n",
            "Epoch 34/200\n",
            "1655/1655 [==============================] - 4s 2ms/step - loss: 0.6304 - accuracy: 0.7733 - val_loss: 0.8974 - val_accuracy: 0.7527\n",
            "Epoch 35/200\n",
            "1655/1655 [==============================] - 4s 2ms/step - loss: 0.6344 - accuracy: 0.7719 - val_loss: 0.9292 - val_accuracy: 0.7541\n",
            "Epoch 36/200\n",
            "1655/1655 [==============================] - 4s 2ms/step - loss: 0.6385 - accuracy: 0.7717 - val_loss: 0.9022 - val_accuracy: 0.7523\n",
            "Epoch 37/200\n",
            "1655/1655 [==============================] - 4s 2ms/step - loss: 0.6387 - accuracy: 0.7699 - val_loss: 0.9416 - val_accuracy: 0.7534\n",
            "Epoch 38/200\n",
            "1655/1655 [==============================] - 4s 2ms/step - loss: 0.6333 - accuracy: 0.7731 - val_loss: 1.0395 - val_accuracy: 0.7540\n",
            "Epoch 39/200\n",
            "1655/1655 [==============================] - 4s 2ms/step - loss: 0.6427 - accuracy: 0.7686 - val_loss: 1.0335 - val_accuracy: 0.7539\n",
            "Epoch 40/200\n",
            "1655/1655 [==============================] - 4s 2ms/step - loss: 0.6393 - accuracy: 0.7708 - val_loss: 0.9812 - val_accuracy: 0.7559\n",
            "Epoch 41/200\n",
            "1655/1655 [==============================] - 4s 2ms/step - loss: 0.6391 - accuracy: 0.7691 - val_loss: 0.9189 - val_accuracy: 0.7559\n",
            "Epoch 42/200\n",
            "1655/1655 [==============================] - 4s 2ms/step - loss: 0.6409 - accuracy: 0.7716 - val_loss: 0.9397 - val_accuracy: 0.7533\n",
            "Epoch 43/200\n",
            "1655/1655 [==============================] - 4s 3ms/step - loss: 0.6389 - accuracy: 0.7702 - val_loss: 0.9917 - val_accuracy: 0.7533\n",
            "Epoch 44/200\n",
            "1655/1655 [==============================] - 4s 2ms/step - loss: 0.6409 - accuracy: 0.7692 - val_loss: 0.9492 - val_accuracy: 0.7537\n",
            "Epoch 45/200\n",
            "1655/1655 [==============================] - 4s 2ms/step - loss: 0.6459 - accuracy: 0.7697 - val_loss: 0.9471 - val_accuracy: 0.7541\n",
            "Epoch 46/200\n",
            "1655/1655 [==============================] - 4s 2ms/step - loss: 0.6397 - accuracy: 0.7701 - val_loss: 0.9789 - val_accuracy: 0.7549\n",
            "Epoch 47/200\n",
            "1655/1655 [==============================] - 4s 2ms/step - loss: 0.6358 - accuracy: 0.7704 - val_loss: 1.0216 - val_accuracy: 0.7536\n",
            "Epoch 48/200\n",
            "1655/1655 [==============================] - 4s 2ms/step - loss: 0.6409 - accuracy: 0.7694 - val_loss: 1.0778 - val_accuracy: 0.7536\n",
            "Epoch 49/200\n",
            "1655/1655 [==============================] - 4s 2ms/step - loss: 0.6386 - accuracy: 0.7729 - val_loss: 1.0241 - val_accuracy: 0.7560\n",
            "Epoch 50/200\n",
            "1655/1655 [==============================] - 4s 2ms/step - loss: 0.6375 - accuracy: 0.7691 - val_loss: 1.1469 - val_accuracy: 0.7524\n",
            "Epoch 51/200\n",
            "1655/1655 [==============================] - 4s 2ms/step - loss: 0.6390 - accuracy: 0.7715 - val_loss: 1.0728 - val_accuracy: 0.7541\n",
            "Epoch 52/200\n",
            "1655/1655 [==============================] - 4s 2ms/step - loss: 0.6415 - accuracy: 0.7683 - val_loss: 1.2611 - val_accuracy: 0.7547\n",
            "Epoch 53/200\n",
            "1655/1655 [==============================] - 4s 2ms/step - loss: 0.6419 - accuracy: 0.7709 - val_loss: 1.1310 - val_accuracy: 0.7545\n",
            "Epoch 54/200\n",
            "1655/1655 [==============================] - 4s 2ms/step - loss: 0.6267 - accuracy: 0.7750 - val_loss: 1.1261 - val_accuracy: 0.7533\n",
            "Epoch 55/200\n",
            "1655/1655 [==============================] - 4s 2ms/step - loss: 0.6415 - accuracy: 0.7687 - val_loss: 1.1198 - val_accuracy: 0.7548\n",
            "Epoch 56/200\n",
            "1655/1655 [==============================] - 4s 3ms/step - loss: 0.6398 - accuracy: 0.7716 - val_loss: 1.2650 - val_accuracy: 0.7526\n",
            "Epoch 57/200\n",
            "1655/1655 [==============================] - 4s 2ms/step - loss: 0.6417 - accuracy: 0.7720 - val_loss: 1.1989 - val_accuracy: 0.7538\n",
            "Epoch 58/200\n",
            "1655/1655 [==============================] - 4s 2ms/step - loss: 0.6413 - accuracy: 0.7702 - val_loss: 1.1795 - val_accuracy: 0.7510\n",
            "Epoch 59/200\n",
            "1655/1655 [==============================] - 4s 2ms/step - loss: 0.6343 - accuracy: 0.7707 - val_loss: 1.2130 - val_accuracy: 0.7542\n",
            "Epoch 60/200\n",
            "1655/1655 [==============================] - 4s 2ms/step - loss: 0.6353 - accuracy: 0.7709 - val_loss: 1.2648 - val_accuracy: 0.7519\n",
            "Epoch 61/200\n",
            "1655/1655 [==============================] - 4s 2ms/step - loss: 0.6412 - accuracy: 0.7696 - val_loss: 1.2354 - val_accuracy: 0.7506\n",
            "Epoch 62/200\n",
            "1655/1655 [==============================] - 4s 2ms/step - loss: 0.6611 - accuracy: 0.7648 - val_loss: 1.1323 - val_accuracy: 0.7544\n",
            "Epoch 63/200\n",
            "1655/1655 [==============================] - 4s 2ms/step - loss: 0.6304 - accuracy: 0.7728 - val_loss: 1.1711 - val_accuracy: 0.7526\n",
            "Epoch 64/200\n",
            "1655/1655 [==============================] - 4s 2ms/step - loss: 0.6339 - accuracy: 0.7705 - val_loss: 1.2432 - val_accuracy: 0.7515\n",
            "Epoch 65/200\n",
            "1655/1655 [==============================] - 4s 3ms/step - loss: 0.6356 - accuracy: 0.7698 - val_loss: 1.3293 - val_accuracy: 0.7533\n",
            "Epoch 66/200\n",
            "1655/1655 [==============================] - 4s 2ms/step - loss: 0.6382 - accuracy: 0.7711 - val_loss: 1.3076 - val_accuracy: 0.7538\n",
            "Epoch 67/200\n",
            "1655/1655 [==============================] - 4s 2ms/step - loss: 0.6595 - accuracy: 0.7668 - val_loss: 1.4090 - val_accuracy: 0.7542\n",
            "Epoch 68/200\n",
            "1655/1655 [==============================] - 4s 2ms/step - loss: 0.6433 - accuracy: 0.7719 - val_loss: 1.3896 - val_accuracy: 0.7542\n",
            "Epoch 69/200\n",
            "1655/1655 [==============================] - 4s 2ms/step - loss: 0.6384 - accuracy: 0.7707 - val_loss: 1.3059 - val_accuracy: 0.7552\n",
            "Epoch 70/200\n",
            "1655/1655 [==============================] - 4s 2ms/step - loss: 0.6400 - accuracy: 0.7697 - val_loss: 1.4003 - val_accuracy: 0.7533\n",
            "Epoch 71/200\n",
            "1655/1655 [==============================] - 4s 2ms/step - loss: 0.6345 - accuracy: 0.7696 - val_loss: 1.4838 - val_accuracy: 0.7530\n",
            "Epoch 72/200\n",
            "1655/1655 [==============================] - 4s 2ms/step - loss: 0.6466 - accuracy: 0.7694 - val_loss: 1.4545 - val_accuracy: 0.7497\n",
            "Epoch 73/200\n",
            "1655/1655 [==============================] - 4s 2ms/step - loss: 0.6821 - accuracy: 0.7724 - val_loss: 1.3777 - val_accuracy: 0.7535\n",
            "Epoch 74/200\n",
            "1655/1655 [==============================] - 4s 2ms/step - loss: 0.6387 - accuracy: 0.7720 - val_loss: 1.5086 - val_accuracy: 0.7559\n",
            "Epoch 75/200\n",
            "1655/1655 [==============================] - 4s 2ms/step - loss: 0.6268 - accuracy: 0.7737 - val_loss: 1.5187 - val_accuracy: 0.7542\n",
            "Epoch 76/200\n",
            "1655/1655 [==============================] - 4s 2ms/step - loss: 0.6469 - accuracy: 0.7660 - val_loss: 1.4882 - val_accuracy: 0.7548\n",
            "Epoch 77/200\n",
            "1655/1655 [==============================] - 4s 2ms/step - loss: 0.6412 - accuracy: 0.7709 - val_loss: 1.4979 - val_accuracy: 0.7551\n",
            "Epoch 78/200\n",
            "1655/1655 [==============================] - 4s 2ms/step - loss: 0.6297 - accuracy: 0.7745 - val_loss: 1.5153 - val_accuracy: 0.7549\n",
            "Epoch 79/200\n",
            "1655/1655 [==============================] - 4s 2ms/step - loss: 0.6397 - accuracy: 0.7708 - val_loss: 1.6091 - val_accuracy: 0.7563\n",
            "Epoch 80/200\n",
            "1655/1655 [==============================] - 4s 2ms/step - loss: 0.6433 - accuracy: 0.7705 - val_loss: 1.6024 - val_accuracy: 0.7544\n",
            "Epoch 81/200\n",
            "1655/1655 [==============================] - 4s 2ms/step - loss: 0.6278 - accuracy: 0.7732 - val_loss: 1.7006 - val_accuracy: 0.7547\n",
            "Epoch 82/200\n",
            "1655/1655 [==============================] - 4s 2ms/step - loss: 0.6428 - accuracy: 0.7702 - val_loss: 1.8217 - val_accuracy: 0.7545\n",
            "Epoch 83/200\n",
            "1655/1655 [==============================] - 4s 3ms/step - loss: 0.6400 - accuracy: 0.7708 - val_loss: 1.8371 - val_accuracy: 0.7538\n",
            "Epoch 84/200\n",
            "1655/1655 [==============================] - 4s 3ms/step - loss: 0.6414 - accuracy: 0.7708 - val_loss: 2.0869 - val_accuracy: 0.7527\n",
            "Epoch 85/200\n",
            "1655/1655 [==============================] - 4s 2ms/step - loss: 0.6576 - accuracy: 0.7707 - val_loss: 1.7209 - val_accuracy: 0.7545\n",
            "Epoch 86/200\n",
            "1655/1655 [==============================] - 4s 2ms/step - loss: 0.6344 - accuracy: 0.7716 - val_loss: 1.8128 - val_accuracy: 0.7525\n",
            "Epoch 87/200\n",
            "1655/1655 [==============================] - 4s 2ms/step - loss: 0.6368 - accuracy: 0.7704 - val_loss: 1.7937 - val_accuracy: 0.7522\n",
            "Epoch 88/200\n",
            "1655/1655 [==============================] - 4s 2ms/step - loss: 0.6373 - accuracy: 0.7706 - val_loss: 1.9468 - val_accuracy: 0.7538\n",
            "Epoch 89/200\n",
            "1655/1655 [==============================] - 4s 2ms/step - loss: 0.6420 - accuracy: 0.7719 - val_loss: 2.0491 - val_accuracy: 0.7544\n",
            "Epoch 90/200\n",
            "1655/1655 [==============================] - 4s 2ms/step - loss: 0.6333 - accuracy: 0.7721 - val_loss: 1.8888 - val_accuracy: 0.7526\n",
            "Epoch 91/200\n",
            "1655/1655 [==============================] - 4s 2ms/step - loss: 0.6375 - accuracy: 0.7722 - val_loss: 2.0856 - val_accuracy: 0.7539\n",
            "Epoch 92/200\n",
            "1655/1655 [==============================] - 4s 2ms/step - loss: 0.6339 - accuracy: 0.7715 - val_loss: 2.0301 - val_accuracy: 0.7539\n",
            "Epoch 93/200\n",
            "1655/1655 [==============================] - 4s 2ms/step - loss: 0.6504 - accuracy: 0.7694 - val_loss: 2.5589 - val_accuracy: 0.7533\n",
            "Epoch 94/200\n",
            "1655/1655 [==============================] - 4s 2ms/step - loss: 0.6448 - accuracy: 0.7702 - val_loss: 2.7243 - val_accuracy: 0.7547\n",
            "Epoch 95/200\n",
            "1655/1655 [==============================] - 4s 2ms/step - loss: 0.6388 - accuracy: 0.7724 - val_loss: 2.4076 - val_accuracy: 0.7534\n",
            "Epoch 96/200\n",
            "1655/1655 [==============================] - 4s 2ms/step - loss: 0.6271 - accuracy: 0.7750 - val_loss: 2.5878 - val_accuracy: 0.7530\n",
            "Epoch 97/200\n",
            "1655/1655 [==============================] - 4s 2ms/step - loss: 0.6388 - accuracy: 0.7696 - val_loss: 2.3366 - val_accuracy: 0.7539\n",
            "Epoch 98/200\n",
            "1655/1655 [==============================] - 4s 2ms/step - loss: 0.6560 - accuracy: 0.7680 - val_loss: 2.4881 - val_accuracy: 0.7551\n",
            "Epoch 99/200\n",
            "1655/1655 [==============================] - 4s 2ms/step - loss: 0.6412 - accuracy: 0.7693 - val_loss: 2.6064 - val_accuracy: 0.7541\n",
            "Epoch 100/200\n",
            "1655/1655 [==============================] - 4s 2ms/step - loss: 0.6400 - accuracy: 0.7694 - val_loss: 2.3393 - val_accuracy: 0.7543\n",
            "Epoch 101/200\n",
            "1655/1655 [==============================] - 4s 2ms/step - loss: 0.6439 - accuracy: 0.7707 - val_loss: 2.5563 - val_accuracy: 0.7548\n",
            "Epoch 102/200\n",
            "1655/1655 [==============================] - 4s 2ms/step - loss: 0.6427 - accuracy: 0.7697 - val_loss: 2.5077 - val_accuracy: 0.7542\n",
            "Epoch 103/200\n",
            "1655/1655 [==============================] - 4s 2ms/step - loss: 0.6497 - accuracy: 0.7679 - val_loss: 2.3677 - val_accuracy: 0.7535\n",
            "Epoch 104/200\n",
            "1655/1655 [==============================] - 4s 2ms/step - loss: 0.6551 - accuracy: 0.7711 - val_loss: 2.2751 - val_accuracy: 0.7494\n",
            "Epoch 105/200\n",
            "1655/1655 [==============================] - 4s 2ms/step - loss: 0.6484 - accuracy: 0.7680 - val_loss: 2.1214 - val_accuracy: 0.7536\n",
            "Epoch 106/200\n",
            "1655/1655 [==============================] - 4s 3ms/step - loss: 0.6353 - accuracy: 0.7692 - val_loss: 2.1569 - val_accuracy: 0.7533\n",
            "Epoch 107/200\n",
            "1655/1655 [==============================] - 4s 2ms/step - loss: 0.6372 - accuracy: 0.7714 - val_loss: 2.1202 - val_accuracy: 0.7535\n",
            "Epoch 108/200\n",
            "1655/1655 [==============================] - 4s 2ms/step - loss: 0.6225 - accuracy: 0.7753 - val_loss: 2.3618 - val_accuracy: 0.7533\n",
            "Epoch 109/200\n",
            "1655/1655 [==============================] - 4s 2ms/step - loss: 0.6499 - accuracy: 0.7691 - val_loss: 2.3412 - val_accuracy: 0.7529\n",
            "Epoch 110/200\n",
            "1655/1655 [==============================] - 4s 2ms/step - loss: 0.6324 - accuracy: 0.7725 - val_loss: 2.4158 - val_accuracy: 0.7531\n",
            "Epoch 111/200\n",
            "1655/1655 [==============================] - 4s 2ms/step - loss: 0.6397 - accuracy: 0.7690 - val_loss: 2.9625 - val_accuracy: 0.7541\n",
            "Epoch 112/200\n",
            "1655/1655 [==============================] - 4s 2ms/step - loss: 0.6496 - accuracy: 0.7725 - val_loss: 3.0854 - val_accuracy: 0.7548\n",
            "Epoch 113/200\n",
            "1655/1655 [==============================] - 4s 2ms/step - loss: 0.6545 - accuracy: 0.7697 - val_loss: 2.3947 - val_accuracy: 0.7534\n",
            "Epoch 114/200\n",
            "1655/1655 [==============================] - 4s 2ms/step - loss: 0.6333 - accuracy: 0.7723 - val_loss: 2.8349 - val_accuracy: 0.7558\n",
            "Epoch 115/200\n",
            "1655/1655 [==============================] - 4s 2ms/step - loss: 0.7085 - accuracy: 0.7708 - val_loss: 3.1552 - val_accuracy: 0.7544\n",
            "Epoch 116/200\n",
            "1655/1655 [==============================] - 4s 2ms/step - loss: 0.6625 - accuracy: 0.7703 - val_loss: 2.7774 - val_accuracy: 0.7539\n",
            "Epoch 117/200\n",
            "1655/1655 [==============================] - 4s 2ms/step - loss: 0.6632 - accuracy: 0.7669 - val_loss: 2.1259 - val_accuracy: 0.7535\n",
            "Epoch 118/200\n",
            "1655/1655 [==============================] - 4s 2ms/step - loss: 0.6315 - accuracy: 0.7749 - val_loss: 2.2585 - val_accuracy: 0.7557\n",
            "Epoch 119/200\n",
            "1655/1655 [==============================] - 4s 3ms/step - loss: 0.6346 - accuracy: 0.7726 - val_loss: 2.2883 - val_accuracy: 0.7540\n",
            "Epoch 120/200\n",
            "1655/1655 [==============================] - 4s 2ms/step - loss: 0.6372 - accuracy: 0.7702 - val_loss: 2.3849 - val_accuracy: 0.7546\n",
            "Epoch 121/200\n",
            "1655/1655 [==============================] - 4s 2ms/step - loss: 0.6320 - accuracy: 0.7719 - val_loss: 2.5211 - val_accuracy: 0.7554\n",
            "Epoch 122/200\n",
            "1655/1655 [==============================] - 4s 2ms/step - loss: 0.6374 - accuracy: 0.7698 - val_loss: 2.8841 - val_accuracy: 0.7551\n",
            "Epoch 123/200\n",
            "1655/1655 [==============================] - 4s 2ms/step - loss: 0.6400 - accuracy: 0.7714 - val_loss: 2.5652 - val_accuracy: 0.7544\n",
            "Epoch 124/200\n",
            "1655/1655 [==============================] - 4s 2ms/step - loss: 0.6395 - accuracy: 0.7678 - val_loss: 2.6614 - val_accuracy: 0.7545\n",
            "Epoch 125/200\n",
            "1655/1655 [==============================] - 4s 2ms/step - loss: 0.6488 - accuracy: 0.7703 - val_loss: 2.5576 - val_accuracy: 0.7556\n",
            "Epoch 126/200\n",
            "1655/1655 [==============================] - 4s 2ms/step - loss: 0.6342 - accuracy: 0.7737 - val_loss: 2.5774 - val_accuracy: 0.7538\n",
            "Epoch 127/200\n",
            "1655/1655 [==============================] - 4s 2ms/step - loss: 0.6377 - accuracy: 0.7709 - val_loss: 2.9401 - val_accuracy: 0.7528\n",
            "Epoch 128/200\n",
            "1655/1655 [==============================] - 4s 2ms/step - loss: 0.6645 - accuracy: 0.7686 - val_loss: 2.5870 - val_accuracy: 0.7514\n",
            "Epoch 129/200\n",
            "1655/1655 [==============================] - 4s 2ms/step - loss: 0.6315 - accuracy: 0.7720 - val_loss: 3.1238 - val_accuracy: 0.7527\n",
            "Epoch 130/200\n",
            "1655/1655 [==============================] - 4s 2ms/step - loss: 0.6489 - accuracy: 0.7703 - val_loss: 2.8151 - val_accuracy: 0.7545\n",
            "Epoch 131/200\n",
            "1655/1655 [==============================] - 4s 2ms/step - loss: 0.6302 - accuracy: 0.7737 - val_loss: 2.6186 - val_accuracy: 0.7533\n",
            "Epoch 132/200\n",
            "1655/1655 [==============================] - 4s 2ms/step - loss: 0.6386 - accuracy: 0.7697 - val_loss: 3.0226 - val_accuracy: 0.7513\n",
            "Epoch 133/200\n",
            "1655/1655 [==============================] - 4s 2ms/step - loss: 0.6453 - accuracy: 0.7707 - val_loss: 3.2067 - val_accuracy: 0.7541\n",
            "Epoch 134/200\n",
            "1655/1655 [==============================] - 4s 2ms/step - loss: 0.6437 - accuracy: 0.7685 - val_loss: 2.9373 - val_accuracy: 0.7533\n",
            "Epoch 135/200\n",
            "1655/1655 [==============================] - 4s 2ms/step - loss: 0.6361 - accuracy: 0.7711 - val_loss: 2.9804 - val_accuracy: 0.7547\n",
            "Epoch 136/200\n",
            "1655/1655 [==============================] - 4s 2ms/step - loss: 0.6393 - accuracy: 0.7684 - val_loss: 2.8915 - val_accuracy: 0.7533\n",
            "Epoch 137/200\n",
            "1655/1655 [==============================] - 4s 2ms/step - loss: 0.6348 - accuracy: 0.7708 - val_loss: 3.1208 - val_accuracy: 0.7536\n",
            "Epoch 138/200\n",
            "1655/1655 [==============================] - 4s 2ms/step - loss: 0.6386 - accuracy: 0.7703 - val_loss: 3.3876 - val_accuracy: 0.7551\n",
            "Epoch 139/200\n",
            "1655/1655 [==============================] - 4s 2ms/step - loss: 0.6471 - accuracy: 0.7672 - val_loss: 3.2837 - val_accuracy: 0.7544\n",
            "Epoch 140/200\n",
            "1655/1655 [==============================] - 4s 2ms/step - loss: 0.6351 - accuracy: 0.7713 - val_loss: 3.5439 - val_accuracy: 0.7533\n",
            "Epoch 141/200\n",
            "1655/1655 [==============================] - 4s 2ms/step - loss: 0.6432 - accuracy: 0.7701 - val_loss: 3.9957 - val_accuracy: 0.7548\n",
            "Epoch 142/200\n",
            "1655/1655 [==============================] - 4s 2ms/step - loss: 0.6432 - accuracy: 0.7707 - val_loss: 4.3648 - val_accuracy: 0.7547\n",
            "Epoch 143/200\n",
            "1655/1655 [==============================] - 4s 2ms/step - loss: 0.6385 - accuracy: 0.7679 - val_loss: 4.0678 - val_accuracy: 0.7553\n",
            "Epoch 144/200\n",
            "1655/1655 [==============================] - 4s 2ms/step - loss: 0.6791 - accuracy: 0.7696 - val_loss: 3.8480 - val_accuracy: 0.7550\n",
            "Epoch 145/200\n",
            "1655/1655 [==============================] - 4s 2ms/step - loss: 0.6375 - accuracy: 0.7712 - val_loss: 3.9190 - val_accuracy: 0.7540\n",
            "Epoch 146/200\n",
            "1655/1655 [==============================] - 4s 3ms/step - loss: 0.6378 - accuracy: 0.7692 - val_loss: 4.1840 - val_accuracy: 0.7552\n",
            "Epoch 147/200\n",
            "1655/1655 [==============================] - 4s 2ms/step - loss: 0.6380 - accuracy: 0.7712 - val_loss: 4.6102 - val_accuracy: 0.7513\n",
            "Epoch 148/200\n",
            "1655/1655 [==============================] - 4s 2ms/step - loss: 0.6361 - accuracy: 0.7712 - val_loss: 4.3075 - val_accuracy: 0.7540\n",
            "Epoch 149/200\n",
            "1655/1655 [==============================] - 4s 2ms/step - loss: 0.6359 - accuracy: 0.7706 - val_loss: 4.6542 - val_accuracy: 0.7554\n",
            "Epoch 150/200\n",
            "1655/1655 [==============================] - 4s 2ms/step - loss: 0.6347 - accuracy: 0.7724 - val_loss: 4.6552 - val_accuracy: 0.7528\n",
            "Epoch 151/200\n",
            "1655/1655 [==============================] - 4s 2ms/step - loss: 0.6331 - accuracy: 0.7721 - val_loss: 4.9764 - val_accuracy: 0.7521\n",
            "Epoch 152/200\n",
            "1655/1655 [==============================] - 4s 2ms/step - loss: 0.6460 - accuracy: 0.7705 - val_loss: 5.1332 - val_accuracy: 0.7537\n",
            "Epoch 153/200\n",
            "1655/1655 [==============================] - 4s 2ms/step - loss: 0.6310 - accuracy: 0.7732 - val_loss: 4.8561 - val_accuracy: 0.7514\n",
            "Epoch 154/200\n",
            "1655/1655 [==============================] - 4s 2ms/step - loss: 0.6496 - accuracy: 0.7697 - val_loss: 4.9692 - val_accuracy: 0.7528\n",
            "Epoch 155/200\n",
            "1655/1655 [==============================] - 4s 2ms/step - loss: 0.6508 - accuracy: 0.7695 - val_loss: 5.1366 - val_accuracy: 0.7519\n",
            "Epoch 156/200\n",
            "1655/1655 [==============================] - 4s 2ms/step - loss: 0.6434 - accuracy: 0.7687 - val_loss: 4.5991 - val_accuracy: 0.7532\n",
            "Epoch 157/200\n",
            "1655/1655 [==============================] - 4s 2ms/step - loss: 0.6482 - accuracy: 0.7727 - val_loss: 4.9789 - val_accuracy: 0.7538\n",
            "Epoch 158/200\n",
            "1655/1655 [==============================] - 4s 2ms/step - loss: 0.6556 - accuracy: 0.7696 - val_loss: 4.4529 - val_accuracy: 0.7524\n",
            "Epoch 159/200\n",
            "1655/1655 [==============================] - 4s 2ms/step - loss: 0.6578 - accuracy: 0.7697 - val_loss: 4.3103 - val_accuracy: 0.7529\n",
            "Epoch 160/200\n",
            "1655/1655 [==============================] - 4s 3ms/step - loss: 0.6417 - accuracy: 0.7701 - val_loss: 3.1793 - val_accuracy: 0.7531\n",
            "Epoch 161/200\n",
            "1655/1655 [==============================] - 4s 3ms/step - loss: 0.6623 - accuracy: 0.7686 - val_loss: 2.6831 - val_accuracy: 0.7539\n",
            "Epoch 162/200\n",
            "1655/1655 [==============================] - 4s 3ms/step - loss: 0.6433 - accuracy: 0.7703 - val_loss: 2.8362 - val_accuracy: 0.7531\n",
            "Epoch 163/200\n",
            "1655/1655 [==============================] - 4s 2ms/step - loss: 0.6462 - accuracy: 0.7714 - val_loss: 2.7161 - val_accuracy: 0.7526\n",
            "Epoch 164/200\n",
            "1655/1655 [==============================] - 4s 2ms/step - loss: 0.6388 - accuracy: 0.7693 - val_loss: 2.7283 - val_accuracy: 0.7541\n",
            "Epoch 165/200\n",
            "1655/1655 [==============================] - 4s 2ms/step - loss: 0.6392 - accuracy: 0.7700 - val_loss: 2.8365 - val_accuracy: 0.7533\n",
            "Epoch 166/200\n",
            "1655/1655 [==============================] - 4s 2ms/step - loss: 0.6285 - accuracy: 0.7720 - val_loss: 3.0455 - val_accuracy: 0.7487\n",
            "Epoch 167/200\n",
            "1655/1655 [==============================] - 4s 2ms/step - loss: 0.6429 - accuracy: 0.7691 - val_loss: 3.1689 - val_accuracy: 0.7543\n",
            "Epoch 168/200\n",
            "1655/1655 [==============================] - 4s 2ms/step - loss: 0.6437 - accuracy: 0.7687 - val_loss: 3.0870 - val_accuracy: 0.7538\n",
            "Epoch 169/200\n",
            "1655/1655 [==============================] - 4s 2ms/step - loss: 0.6430 - accuracy: 0.7674 - val_loss: 3.1630 - val_accuracy: 0.7519\n",
            "Epoch 170/200\n",
            "1655/1655 [==============================] - 4s 2ms/step - loss: 0.6303 - accuracy: 0.7717 - val_loss: 3.3020 - val_accuracy: 0.7541\n",
            "Epoch 171/200\n",
            "1655/1655 [==============================] - 4s 2ms/step - loss: 0.6386 - accuracy: 0.7689 - val_loss: 3.6275 - val_accuracy: 0.7541\n",
            "Epoch 172/200\n",
            "1655/1655 [==============================] - 4s 2ms/step - loss: 0.6333 - accuracy: 0.7725 - val_loss: 3.8008 - val_accuracy: 0.7503\n",
            "Epoch 173/200\n",
            "1655/1655 [==============================] - 4s 2ms/step - loss: 0.6433 - accuracy: 0.7695 - val_loss: 3.6746 - val_accuracy: 0.7493\n",
            "Epoch 174/200\n",
            "1655/1655 [==============================] - 4s 2ms/step - loss: 0.6744 - accuracy: 0.7666 - val_loss: 3.6289 - val_accuracy: 0.7487\n",
            "Epoch 175/200\n",
            "1655/1655 [==============================] - 4s 2ms/step - loss: 0.6396 - accuracy: 0.7713 - val_loss: 3.4929 - val_accuracy: 0.7514\n",
            "Epoch 176/200\n",
            "1655/1655 [==============================] - 4s 2ms/step - loss: 0.6437 - accuracy: 0.7685 - val_loss: 3.6014 - val_accuracy: 0.7518\n",
            "Epoch 177/200\n",
            "1655/1655 [==============================] - 4s 2ms/step - loss: 0.6334 - accuracy: 0.7733 - val_loss: 3.7730 - val_accuracy: 0.7519\n",
            "Epoch 178/200\n",
            "1655/1655 [==============================] - 4s 2ms/step - loss: 0.6413 - accuracy: 0.7683 - val_loss: 3.9983 - val_accuracy: 0.7533\n",
            "Epoch 179/200\n",
            "1655/1655 [==============================] - 4s 3ms/step - loss: 0.6498 - accuracy: 0.7711 - val_loss: 4.1614 - val_accuracy: 0.7523\n",
            "Epoch 180/200\n",
            "1655/1655 [==============================] - 4s 2ms/step - loss: 0.6384 - accuracy: 0.7722 - val_loss: 4.2782 - val_accuracy: 0.7537\n",
            "Epoch 181/200\n",
            "1655/1655 [==============================] - 4s 2ms/step - loss: 0.6314 - accuracy: 0.7734 - val_loss: 4.5385 - val_accuracy: 0.7531\n",
            "Epoch 182/200\n",
            "1655/1655 [==============================] - 4s 2ms/step - loss: 0.6472 - accuracy: 0.7692 - val_loss: 4.4756 - val_accuracy: 0.7531\n",
            "Epoch 183/200\n",
            "1655/1655 [==============================] - 4s 2ms/step - loss: 0.6300 - accuracy: 0.7735 - val_loss: 4.4496 - val_accuracy: 0.7536\n",
            "Epoch 184/200\n",
            "1655/1655 [==============================] - 4s 2ms/step - loss: 0.6607 - accuracy: 0.7707 - val_loss: 4.8199 - val_accuracy: 0.7519\n",
            "Epoch 185/200\n",
            "1655/1655 [==============================] - 4s 2ms/step - loss: 0.6641 - accuracy: 0.7676 - val_loss: 4.3532 - val_accuracy: 0.7511\n",
            "Epoch 186/200\n",
            "1655/1655 [==============================] - 4s 2ms/step - loss: 0.6379 - accuracy: 0.7709 - val_loss: 4.2945 - val_accuracy: 0.7511\n",
            "Epoch 187/200\n",
            "1655/1655 [==============================] - 4s 2ms/step - loss: 0.6509 - accuracy: 0.7669 - val_loss: 3.9610 - val_accuracy: 0.7525\n",
            "Epoch 188/200\n",
            "1655/1655 [==============================] - 4s 2ms/step - loss: 0.6362 - accuracy: 0.7710 - val_loss: 4.1106 - val_accuracy: 0.7539\n",
            "Epoch 189/200\n",
            "1655/1655 [==============================] - 4s 2ms/step - loss: 0.6410 - accuracy: 0.7695 - val_loss: 4.3313 - val_accuracy: 0.7513\n",
            "Epoch 190/200\n",
            "1655/1655 [==============================] - 4s 2ms/step - loss: 0.6256 - accuracy: 0.7760 - val_loss: 4.4335 - val_accuracy: 0.7533\n",
            "Epoch 191/200\n",
            "1655/1655 [==============================] - 4s 2ms/step - loss: 0.6731 - accuracy: 0.7721 - val_loss: 4.6701 - val_accuracy: 0.7541\n",
            "Epoch 192/200\n",
            "1655/1655 [==============================] - 4s 2ms/step - loss: 0.6390 - accuracy: 0.7713 - val_loss: 4.9423 - val_accuracy: 0.7543\n",
            "Epoch 193/200\n",
            "1655/1655 [==============================] - 4s 2ms/step - loss: 0.6351 - accuracy: 0.7712 - val_loss: 5.0085 - val_accuracy: 0.7531\n",
            "Epoch 194/200\n",
            "1655/1655 [==============================] - 4s 3ms/step - loss: 0.6345 - accuracy: 0.7728 - val_loss: 4.8688 - val_accuracy: 0.7527\n",
            "Epoch 195/200\n",
            "1655/1655 [==============================] - 4s 2ms/step - loss: 0.6452 - accuracy: 0.7716 - val_loss: 4.9314 - val_accuracy: 0.7533\n",
            "Epoch 196/200\n",
            "1655/1655 [==============================] - 4s 2ms/step - loss: 0.6617 - accuracy: 0.7675 - val_loss: 4.3627 - val_accuracy: 0.7533\n",
            "Epoch 197/200\n",
            "1655/1655 [==============================] - 4s 2ms/step - loss: 0.6405 - accuracy: 0.7690 - val_loss: 4.3566 - val_accuracy: 0.7523\n",
            "Epoch 198/200\n",
            "1655/1655 [==============================] - 4s 2ms/step - loss: 0.6372 - accuracy: 0.7697 - val_loss: 4.4127 - val_accuracy: 0.7519\n",
            "Epoch 199/200\n",
            "1655/1655 [==============================] - 4s 2ms/step - loss: 0.6423 - accuracy: 0.7676 - val_loss: 4.2626 - val_accuracy: 0.7513\n",
            "Epoch 200/200\n",
            "1655/1655 [==============================] - 4s 2ms/step - loss: 0.6345 - accuracy: 0.7706 - val_loss: 4.4754 - val_accuracy: 0.7519\n"
          ],
          "name": "stdout"
        }
      ]
    },
    {
      "cell_type": "code",
      "metadata": {
        "colab": {
          "base_uri": "https://localhost:8080/",
          "height": 585
        },
        "id": "1SDoy8ps8wQn",
        "outputId": "20a22b18-68b7-47f1-f223-18d6ef701dd0"
      },
      "source": [
        "sg.utils.plot_history(history)"
      ],
      "execution_count": 33,
      "outputs": [
        {
          "output_type": "display_data",
          "data": {
            "image/png": "[encoded data removed]",
            "text/plain": [
              "<Figure size 504x576 with 2 Axes>"
            ]
          },
          "metadata": {
            "tags": [],
            "needs_background": "light"
          }
        }
      ]
    },
    {
      "cell_type": "code",
      "metadata": {
        "colab": {
          "base_uri": "https://localhost:8080/"
        },
        "id": "NuJCzrZCdvc6",
        "outputId": "a1b9ad9a-a08a-46fa-d9f6-8517714c8d8b"
      },
      "source": [
        "y_pred = model.predict(tf.convert_to_tensor(np.stack(X_test)))\n",
        "y_pred = np.argmax(y_pred, axis=1)\n",
        "y_pred = le.inverse_transform(y_pred)\n",
        "\n",
        "y_pred[:10]"
      ],
      "execution_count": 34,
      "outputs": [
        {
          "output_type": "execute_result",
          "data": {
            "text/plain": [
              "array(['Informatyka', 'Astronomia', 'Astronomia', 'Biologia',\n",
              "       'Astronomia', 'Biologia', 'Astronomia', 'Matematyka', 'Fizyka',\n",
              "       'Biologia'], dtype='<U11')"
            ]
          },
          "metadata": {
            "tags": []
          },
          "execution_count": 34
        }
      ]
    },
    {
      "cell_type": "code",
      "metadata": {
        "colab": {
          "base_uri": "https://localhost:8080/"
        },
        "id": "5-U_psksj9IC",
        "outputId": "88e45dca-d4d1-452f-d88d-cd3885405555"
      },
      "source": [
        "y_test = np.array(y_test)\n",
        "y_test = le.inverse_transform(y_test)\n",
        "\n",
        "y_test[:10]"
      ],
      "execution_count": 35,
      "outputs": [
        {
          "output_type": "execute_result",
          "data": {
            "text/plain": [
              "array(['Informatyka', 'Astronomia', 'Astronomia', 'Biologia',\n",
              "       'Astronomia', 'Biologia', 'Astronomia', 'Matematyka', 'Biologia',\n",
              "       'Biologia'], dtype='<U11')"
            ]
          },
          "metadata": {
            "tags": []
          },
          "execution_count": 35
        }
      ]
    },
    {
      "cell_type": "code",
      "metadata": {
        "id": "rxNO9cTxikFn"
      },
      "source": [
        "with open(\"/content/drive/Shareddrives/GCN-PROJECT/onehot140_base_y_pred.pickle\", \"wb\") as f:\n",
        "  pickle.dump(y_pred, f)\n",
        "with open(\"/content/drive/Shareddrives/GCN-PROJECT/onehot140_base_y_true.pickle\", \"wb\") as f:\n",
        "  pickle.dump(y_test, f)"
      ],
      "execution_count": 36,
      "outputs": []
    },
    {
      "cell_type": "code",
      "metadata": {
        "colab": {
          "base_uri": "https://localhost:8080/"
        },
        "id": "anq94suRkIIs",
        "outputId": "98f3d50a-7b3a-469e-e16e-39d8651422be"
      },
      "source": [
        "print(classification_report(y_test, y_pred))"
      ],
      "execution_count": 37,
      "outputs": [
        {
          "output_type": "stream",
          "text": [
            "              precision    recall  f1-score   support\n",
            "\n",
            "  Astronomia       0.98      0.96      0.97      3832\n",
            "    Biologia       0.60      0.98      0.74      3522\n",
            "      Chemia       0.71      0.23      0.35       416\n",
            "      Fizyka       0.71      0.22      0.34       768\n",
            " Informatyka       0.73      0.39      0.51       738\n",
            "  Matematyka       0.73      0.32      0.45      1211\n",
            " Psychologia       0.80      0.51      0.62       860\n",
            "\n",
            "    accuracy                           0.75     11347\n",
            "   macro avg       0.75      0.52      0.57     11347\n",
            "weighted avg       0.78      0.75      0.72     11347\n",
            "\n"
          ],
          "name": "stdout"
        }
      ]
    },
    {
      "cell_type": "code",
      "metadata": {
        "colab": {
          "base_uri": "https://localhost:8080/",
          "height": 522
        },
        "id": "BHL3fI_Vkzv9",
        "outputId": "350af1ce-e2d7-4194-cc79-add8a151555b"
      },
      "source": [
        "conf_matrix(\n",
        "    y_true=y_test,\n",
        "    y_pred=y_pred\n",
        ")"
      ],
      "execution_count": 38,
      "outputs": [
        {
          "output_type": "display_data",
          "data": {
            "image/png": "[encoded data removed]",
            "text/plain": [
              "<Figure size 720x504 with 2 Axes>"
            ]
          },
          "metadata": {
            "tags": [],
            "needs_background": "light"
          }
        }
      ]
    },
    {
      "cell_type": "markdown",
      "metadata": {
        "id": "icOVcHUImRdh"
      },
      "source": [
        "## GNN Models"
      ]
    },
    {
      "cell_type": "markdown",
      "metadata": {
        "id": "6xC9FFw4COe2"
      },
      "source": [
        "### Data Preparation"
      ]
    },
    {
      "cell_type": "code",
      "metadata": {
        "id": "Wc9LTn3yk82W",
        "colab": {
          "base_uri": "https://localhost:8080/"
        },
        "outputId": "1324d56d-bb7a-42b3-ff6a-83c152f06d42"
      },
      "source": [
        "data_vec = data\n",
        "node_data = data_vec[['title', 'doc_vec', 'category']]\n",
        "\n",
        "features_columns = ['x'+str(i+1) for i in range(node_data.iloc[0]['doc_vec'].shape[0])]\n",
        "\n",
        "node_data[features_columns] = pd.DataFrame(node_data['doc_vec'].tolist(), index=node_data.index)\n",
        "node_data = node_data.drop_duplicates(subset=['title'])\n",
        "node_data = node_data.set_index('title', drop=True)\n",
        "\n",
        "node_subjects = node_data['category']\n",
        "node_data = node_data.drop(columns=['doc_vec', 'category'])"
      ],
      "execution_count": 39,
      "outputs": [
        {
          "output_type": "stream",
          "text": [
            "/usr/local/lib/python3.6/dist-packages/pandas/core/frame.py:3069: SettingWithCopyWarning: \n",
            "A value is trying to be set on a copy of a slice from a DataFrame.\n",
            "Try using .loc[row_indexer,col_indexer] = value instead\n",
            "\n",
            "See the caveats in the documentation: https://pandas.pydata.org/pandas-docs/stable/user_guide/indexing.html#returning-a-view-versus-a-copy\n",
            "  self[k1] = value[k2]\n"
          ],
          "name": "stderr"
        }
      ]
    },
    {
      "cell_type": "code",
      "metadata": {
        "colab": {
          "base_uri": "https://localhost:8080/",
          "height": 301
        },
        "id": "4yBl-fLU_i74",
        "outputId": "1c0aa66d-cde1-45b5-bde3-1d18126af52b"
      },
      "source": [
        "print(node_data.shape)\n",
        "node_data.head()"
      ],
      "execution_count": 40,
      "outputs": [
        {
          "output_type": "stream",
          "text": [
            "(75649, 140)\n"
          ],
          "name": "stdout"
        },
        {
          "output_type": "execute_result",
          "data": {
            "text/html": [
              "<div>\n",
              "<style scoped>\n",
              "    .dataframe tbody tr th:only-of-type {\n",
              "        vertical-align: middle;\n",
              "    }\n",
              "\n",
              "    .dataframe tbody tr th {\n",
              "        vertical-align: top;\n",
              "    }\n",
              "\n",
              "    .dataframe thead th {\n",
              "        text-align: right;\n",
              "    }\n",
              "</style>\n",
              "<table border=\"1\" class=\"dataframe\">\n",
              "  <thead>\n",
              "    <tr style=\"text-align: right;\">\n",
              "      <th></th>\n",
              "      <th>x1</th>\n",
              "      <th>x2</th>\n",
              "      <th>x3</th>\n",
              "      <th>x4</th>\n",
              "      <th>x5</th>\n",
              "      <th>x6</th>\n",
              "      <th>x7</th>\n",
              "      <th>x8</th>\n",
              "      <th>x9</th>\n",
              "      <th>x10</th>\n",
              "      <th>x11</th>\n",
              "      <th>x12</th>\n",
              "      <th>x13</th>\n",
              "      <th>x14</th>\n",
              "      <th>x15</th>\n",
              "      <th>x16</th>\n",
              "      <th>x17</th>\n",
              "      <th>x18</th>\n",
              "      <th>x19</th>\n",
              "      <th>x20</th>\n",
              "      <th>x21</th>\n",
              "      <th>x22</th>\n",
              "      <th>x23</th>\n",
              "      <th>x24</th>\n",
              "      <th>x25</th>\n",
              "      <th>x26</th>\n",
              "      <th>x27</th>\n",
              "      <th>x28</th>\n",
              "      <th>x29</th>\n",
              "      <th>x30</th>\n",
              "      <th>x31</th>\n",
              "      <th>x32</th>\n",
              "      <th>x33</th>\n",
              "      <th>x34</th>\n",
              "      <th>x35</th>\n",
              "      <th>x36</th>\n",
              "      <th>x37</th>\n",
              "      <th>x38</th>\n",
              "      <th>x39</th>\n",
              "      <th>x40</th>\n",
              "      <th>...</th>\n",
              "      <th>x101</th>\n",
              "      <th>x102</th>\n",
              "      <th>x103</th>\n",
              "      <th>x104</th>\n",
              "      <th>x105</th>\n",
              "      <th>x106</th>\n",
              "      <th>x107</th>\n",
              "      <th>x108</th>\n",
              "      <th>x109</th>\n",
              "      <th>x110</th>\n",
              "      <th>x111</th>\n",
              "      <th>x112</th>\n",
              "      <th>x113</th>\n",
              "      <th>x114</th>\n",
              "      <th>x115</th>\n",
              "      <th>x116</th>\n",
              "      <th>x117</th>\n",
              "      <th>x118</th>\n",
              "      <th>x119</th>\n",
              "      <th>x120</th>\n",
              "      <th>x121</th>\n",
              "      <th>x122</th>\n",
              "      <th>x123</th>\n",
              "      <th>x124</th>\n",
              "      <th>x125</th>\n",
              "      <th>x126</th>\n",
              "      <th>x127</th>\n",
              "      <th>x128</th>\n",
              "      <th>x129</th>\n",
              "      <th>x130</th>\n",
              "      <th>x131</th>\n",
              "      <th>x132</th>\n",
              "      <th>x133</th>\n",
              "      <th>x134</th>\n",
              "      <th>x135</th>\n",
              "      <th>x136</th>\n",
              "      <th>x137</th>\n",
              "      <th>x138</th>\n",
              "      <th>x139</th>\n",
              "      <th>x140</th>\n",
              "    </tr>\n",
              "    <tr>\n",
              "      <th>title</th>\n",
              "      <th></th>\n",
              "      <th></th>\n",
              "      <th></th>\n",
              "      <th></th>\n",
              "      <th></th>\n",
              "      <th></th>\n",
              "      <th></th>\n",
              "      <th></th>\n",
              "      <th></th>\n",
              "      <th></th>\n",
              "      <th></th>\n",
              "      <th></th>\n",
              "      <th></th>\n",
              "      <th></th>\n",
              "      <th></th>\n",
              "      <th></th>\n",
              "      <th></th>\n",
              "      <th></th>\n",
              "      <th></th>\n",
              "      <th></th>\n",
              "      <th></th>\n",
              "      <th></th>\n",
              "      <th></th>\n",
              "      <th></th>\n",
              "      <th></th>\n",
              "      <th></th>\n",
              "      <th></th>\n",
              "      <th></th>\n",
              "      <th></th>\n",
              "      <th></th>\n",
              "      <th></th>\n",
              "      <th></th>\n",
              "      <th></th>\n",
              "      <th></th>\n",
              "      <th></th>\n",
              "      <th></th>\n",
              "      <th></th>\n",
              "      <th></th>\n",
              "      <th></th>\n",
              "      <th></th>\n",
              "      <th></th>\n",
              "      <th></th>\n",
              "      <th></th>\n",
              "      <th></th>\n",
              "      <th></th>\n",
              "      <th></th>\n",
              "      <th></th>\n",
              "      <th></th>\n",
              "      <th></th>\n",
              "      <th></th>\n",
              "      <th></th>\n",
              "      <th></th>\n",
              "      <th></th>\n",
              "      <th></th>\n",
              "      <th></th>\n",
              "      <th></th>\n",
              "      <th></th>\n",
              "      <th></th>\n",
              "      <th></th>\n",
              "      <th></th>\n",
              "      <th></th>\n",
              "      <th></th>\n",
              "      <th></th>\n",
              "      <th></th>\n",
              "      <th></th>\n",
              "      <th></th>\n",
              "      <th></th>\n",
              "      <th></th>\n",
              "      <th></th>\n",
              "      <th></th>\n",
              "      <th></th>\n",
              "      <th></th>\n",
              "      <th></th>\n",
              "      <th></th>\n",
              "      <th></th>\n",
              "      <th></th>\n",
              "      <th></th>\n",
              "      <th></th>\n",
              "      <th></th>\n",
              "      <th></th>\n",
              "      <th></th>\n",
              "    </tr>\n",
              "  </thead>\n",
              "  <tbody>\n",
              "    <tr>\n",
              "      <th>Mirosław_Miller</th>\n",
              "      <td>0</td>\n",
              "      <td>0</td>\n",
              "      <td>0</td>\n",
              "      <td>0</td>\n",
              "      <td>0</td>\n",
              "      <td>0</td>\n",
              "      <td>0</td>\n",
              "      <td>0</td>\n",
              "      <td>0</td>\n",
              "      <td>0</td>\n",
              "      <td>0</td>\n",
              "      <td>0</td>\n",
              "      <td>0</td>\n",
              "      <td>0</td>\n",
              "      <td>0</td>\n",
              "      <td>0</td>\n",
              "      <td>0</td>\n",
              "      <td>0</td>\n",
              "      <td>0</td>\n",
              "      <td>0</td>\n",
              "      <td>0</td>\n",
              "      <td>0</td>\n",
              "      <td>0</td>\n",
              "      <td>0</td>\n",
              "      <td>0</td>\n",
              "      <td>0</td>\n",
              "      <td>0</td>\n",
              "      <td>0</td>\n",
              "      <td>0</td>\n",
              "      <td>0</td>\n",
              "      <td>0</td>\n",
              "      <td>0</td>\n",
              "      <td>0</td>\n",
              "      <td>0</td>\n",
              "      <td>0</td>\n",
              "      <td>0</td>\n",
              "      <td>0</td>\n",
              "      <td>0</td>\n",
              "      <td>0</td>\n",
              "      <td>0</td>\n",
              "      <td>...</td>\n",
              "      <td>0</td>\n",
              "      <td>0</td>\n",
              "      <td>0</td>\n",
              "      <td>0</td>\n",
              "      <td>0</td>\n",
              "      <td>0</td>\n",
              "      <td>0</td>\n",
              "      <td>0</td>\n",
              "      <td>0</td>\n",
              "      <td>0</td>\n",
              "      <td>0</td>\n",
              "      <td>0</td>\n",
              "      <td>0</td>\n",
              "      <td>0</td>\n",
              "      <td>0</td>\n",
              "      <td>0</td>\n",
              "      <td>0</td>\n",
              "      <td>0</td>\n",
              "      <td>0</td>\n",
              "      <td>0</td>\n",
              "      <td>0</td>\n",
              "      <td>0</td>\n",
              "      <td>0</td>\n",
              "      <td>0</td>\n",
              "      <td>0</td>\n",
              "      <td>0</td>\n",
              "      <td>0</td>\n",
              "      <td>0</td>\n",
              "      <td>0</td>\n",
              "      <td>0</td>\n",
              "      <td>0</td>\n",
              "      <td>0</td>\n",
              "      <td>0</td>\n",
              "      <td>0</td>\n",
              "      <td>0</td>\n",
              "      <td>0</td>\n",
              "      <td>0</td>\n",
              "      <td>0</td>\n",
              "      <td>0</td>\n",
              "      <td>0</td>\n",
              "    </tr>\n",
              "    <tr>\n",
              "      <th>Chimerokształtne</th>\n",
              "      <td>0</td>\n",
              "      <td>0</td>\n",
              "      <td>0</td>\n",
              "      <td>0</td>\n",
              "      <td>0</td>\n",
              "      <td>0</td>\n",
              "      <td>0</td>\n",
              "      <td>0</td>\n",
              "      <td>0</td>\n",
              "      <td>0</td>\n",
              "      <td>0</td>\n",
              "      <td>0</td>\n",
              "      <td>0</td>\n",
              "      <td>0</td>\n",
              "      <td>0</td>\n",
              "      <td>0</td>\n",
              "      <td>0</td>\n",
              "      <td>0</td>\n",
              "      <td>0</td>\n",
              "      <td>0</td>\n",
              "      <td>0</td>\n",
              "      <td>0</td>\n",
              "      <td>0</td>\n",
              "      <td>0</td>\n",
              "      <td>0</td>\n",
              "      <td>0</td>\n",
              "      <td>0</td>\n",
              "      <td>0</td>\n",
              "      <td>0</td>\n",
              "      <td>0</td>\n",
              "      <td>0</td>\n",
              "      <td>0</td>\n",
              "      <td>0</td>\n",
              "      <td>1</td>\n",
              "      <td>0</td>\n",
              "      <td>0</td>\n",
              "      <td>0</td>\n",
              "      <td>0</td>\n",
              "      <td>0</td>\n",
              "      <td>0</td>\n",
              "      <td>...</td>\n",
              "      <td>0</td>\n",
              "      <td>0</td>\n",
              "      <td>0</td>\n",
              "      <td>0</td>\n",
              "      <td>0</td>\n",
              "      <td>0</td>\n",
              "      <td>0</td>\n",
              "      <td>0</td>\n",
              "      <td>0</td>\n",
              "      <td>0</td>\n",
              "      <td>0</td>\n",
              "      <td>0</td>\n",
              "      <td>0</td>\n",
              "      <td>0</td>\n",
              "      <td>0</td>\n",
              "      <td>0</td>\n",
              "      <td>0</td>\n",
              "      <td>0</td>\n",
              "      <td>0</td>\n",
              "      <td>0</td>\n",
              "      <td>0</td>\n",
              "      <td>0</td>\n",
              "      <td>0</td>\n",
              "      <td>0</td>\n",
              "      <td>0</td>\n",
              "      <td>0</td>\n",
              "      <td>0</td>\n",
              "      <td>0</td>\n",
              "      <td>0</td>\n",
              "      <td>0</td>\n",
              "      <td>0</td>\n",
              "      <td>0</td>\n",
              "      <td>0</td>\n",
              "      <td>0</td>\n",
              "      <td>0</td>\n",
              "      <td>0</td>\n",
              "      <td>0</td>\n",
              "      <td>0</td>\n",
              "      <td>0</td>\n",
              "      <td>0</td>\n",
              "    </tr>\n",
              "    <tr>\n",
              "      <th>(2855)_Bastian</th>\n",
              "      <td>0</td>\n",
              "      <td>0</td>\n",
              "      <td>0</td>\n",
              "      <td>0</td>\n",
              "      <td>0</td>\n",
              "      <td>0</td>\n",
              "      <td>0</td>\n",
              "      <td>0</td>\n",
              "      <td>0</td>\n",
              "      <td>0</td>\n",
              "      <td>0</td>\n",
              "      <td>0</td>\n",
              "      <td>0</td>\n",
              "      <td>0</td>\n",
              "      <td>0</td>\n",
              "      <td>0</td>\n",
              "      <td>0</td>\n",
              "      <td>0</td>\n",
              "      <td>0</td>\n",
              "      <td>0</td>\n",
              "      <td>0</td>\n",
              "      <td>0</td>\n",
              "      <td>0</td>\n",
              "      <td>0</td>\n",
              "      <td>0</td>\n",
              "      <td>0</td>\n",
              "      <td>0</td>\n",
              "      <td>0</td>\n",
              "      <td>0</td>\n",
              "      <td>0</td>\n",
              "      <td>0</td>\n",
              "      <td>0</td>\n",
              "      <td>0</td>\n",
              "      <td>0</td>\n",
              "      <td>0</td>\n",
              "      <td>0</td>\n",
              "      <td>0</td>\n",
              "      <td>0</td>\n",
              "      <td>0</td>\n",
              "      <td>0</td>\n",
              "      <td>...</td>\n",
              "      <td>0</td>\n",
              "      <td>0</td>\n",
              "      <td>0</td>\n",
              "      <td>0</td>\n",
              "      <td>0</td>\n",
              "      <td>0</td>\n",
              "      <td>0</td>\n",
              "      <td>0</td>\n",
              "      <td>0</td>\n",
              "      <td>0</td>\n",
              "      <td>0</td>\n",
              "      <td>0</td>\n",
              "      <td>0</td>\n",
              "      <td>0</td>\n",
              "      <td>0</td>\n",
              "      <td>0</td>\n",
              "      <td>0</td>\n",
              "      <td>0</td>\n",
              "      <td>0</td>\n",
              "      <td>0</td>\n",
              "      <td>0</td>\n",
              "      <td>0</td>\n",
              "      <td>0</td>\n",
              "      <td>0</td>\n",
              "      <td>0</td>\n",
              "      <td>0</td>\n",
              "      <td>0</td>\n",
              "      <td>0</td>\n",
              "      <td>0</td>\n",
              "      <td>0</td>\n",
              "      <td>0</td>\n",
              "      <td>0</td>\n",
              "      <td>0</td>\n",
              "      <td>0</td>\n",
              "      <td>0</td>\n",
              "      <td>0</td>\n",
              "      <td>0</td>\n",
              "      <td>0</td>\n",
              "      <td>0</td>\n",
              "      <td>0</td>\n",
              "    </tr>\n",
              "    <tr>\n",
              "      <th>Cryptocephalus_celtibericus</th>\n",
              "      <td>0</td>\n",
              "      <td>0</td>\n",
              "      <td>0</td>\n",
              "      <td>0</td>\n",
              "      <td>0</td>\n",
              "      <td>0</td>\n",
              "      <td>0</td>\n",
              "      <td>0</td>\n",
              "      <td>0</td>\n",
              "      <td>0</td>\n",
              "      <td>0</td>\n",
              "      <td>0</td>\n",
              "      <td>0</td>\n",
              "      <td>0</td>\n",
              "      <td>0</td>\n",
              "      <td>0</td>\n",
              "      <td>0</td>\n",
              "      <td>0</td>\n",
              "      <td>0</td>\n",
              "      <td>0</td>\n",
              "      <td>0</td>\n",
              "      <td>0</td>\n",
              "      <td>0</td>\n",
              "      <td>0</td>\n",
              "      <td>0</td>\n",
              "      <td>0</td>\n",
              "      <td>0</td>\n",
              "      <td>0</td>\n",
              "      <td>1</td>\n",
              "      <td>0</td>\n",
              "      <td>0</td>\n",
              "      <td>1</td>\n",
              "      <td>0</td>\n",
              "      <td>0</td>\n",
              "      <td>0</td>\n",
              "      <td>0</td>\n",
              "      <td>0</td>\n",
              "      <td>0</td>\n",
              "      <td>0</td>\n",
              "      <td>0</td>\n",
              "      <td>...</td>\n",
              "      <td>0</td>\n",
              "      <td>0</td>\n",
              "      <td>0</td>\n",
              "      <td>0</td>\n",
              "      <td>0</td>\n",
              "      <td>0</td>\n",
              "      <td>0</td>\n",
              "      <td>0</td>\n",
              "      <td>0</td>\n",
              "      <td>0</td>\n",
              "      <td>0</td>\n",
              "      <td>0</td>\n",
              "      <td>0</td>\n",
              "      <td>0</td>\n",
              "      <td>0</td>\n",
              "      <td>0</td>\n",
              "      <td>0</td>\n",
              "      <td>0</td>\n",
              "      <td>0</td>\n",
              "      <td>0</td>\n",
              "      <td>0</td>\n",
              "      <td>0</td>\n",
              "      <td>0</td>\n",
              "      <td>0</td>\n",
              "      <td>0</td>\n",
              "      <td>0</td>\n",
              "      <td>0</td>\n",
              "      <td>0</td>\n",
              "      <td>0</td>\n",
              "      <td>0</td>\n",
              "      <td>0</td>\n",
              "      <td>0</td>\n",
              "      <td>0</td>\n",
              "      <td>0</td>\n",
              "      <td>0</td>\n",
              "      <td>0</td>\n",
              "      <td>0</td>\n",
              "      <td>0</td>\n",
              "      <td>0</td>\n",
              "      <td>0</td>\n",
              "    </tr>\n",
              "    <tr>\n",
              "      <th>Język_maszynowy</th>\n",
              "      <td>0</td>\n",
              "      <td>0</td>\n",
              "      <td>0</td>\n",
              "      <td>0</td>\n",
              "      <td>0</td>\n",
              "      <td>0</td>\n",
              "      <td>0</td>\n",
              "      <td>0</td>\n",
              "      <td>0</td>\n",
              "      <td>0</td>\n",
              "      <td>0</td>\n",
              "      <td>0</td>\n",
              "      <td>0</td>\n",
              "      <td>0</td>\n",
              "      <td>0</td>\n",
              "      <td>0</td>\n",
              "      <td>0</td>\n",
              "      <td>0</td>\n",
              "      <td>0</td>\n",
              "      <td>0</td>\n",
              "      <td>0</td>\n",
              "      <td>0</td>\n",
              "      <td>0</td>\n",
              "      <td>0</td>\n",
              "      <td>0</td>\n",
              "      <td>0</td>\n",
              "      <td>0</td>\n",
              "      <td>0</td>\n",
              "      <td>0</td>\n",
              "      <td>0</td>\n",
              "      <td>0</td>\n",
              "      <td>0</td>\n",
              "      <td>0</td>\n",
              "      <td>0</td>\n",
              "      <td>0</td>\n",
              "      <td>0</td>\n",
              "      <td>0</td>\n",
              "      <td>0</td>\n",
              "      <td>0</td>\n",
              "      <td>0</td>\n",
              "      <td>...</td>\n",
              "      <td>0</td>\n",
              "      <td>0</td>\n",
              "      <td>0</td>\n",
              "      <td>0</td>\n",
              "      <td>0</td>\n",
              "      <td>0</td>\n",
              "      <td>0</td>\n",
              "      <td>0</td>\n",
              "      <td>0</td>\n",
              "      <td>0</td>\n",
              "      <td>0</td>\n",
              "      <td>0</td>\n",
              "      <td>0</td>\n",
              "      <td>0</td>\n",
              "      <td>0</td>\n",
              "      <td>0</td>\n",
              "      <td>0</td>\n",
              "      <td>0</td>\n",
              "      <td>0</td>\n",
              "      <td>0</td>\n",
              "      <td>0</td>\n",
              "      <td>0</td>\n",
              "      <td>0</td>\n",
              "      <td>0</td>\n",
              "      <td>0</td>\n",
              "      <td>0</td>\n",
              "      <td>0</td>\n",
              "      <td>0</td>\n",
              "      <td>0</td>\n",
              "      <td>0</td>\n",
              "      <td>0</td>\n",
              "      <td>0</td>\n",
              "      <td>0</td>\n",
              "      <td>0</td>\n",
              "      <td>0</td>\n",
              "      <td>0</td>\n",
              "      <td>0</td>\n",
              "      <td>0</td>\n",
              "      <td>0</td>\n",
              "      <td>0</td>\n",
              "    </tr>\n",
              "  </tbody>\n",
              "</table>\n",
              "<p>5 rows × 140 columns</p>\n",
              "</div>"
            ],
            "text/plain": [
              "                             x1  x2  x3  x4  x5  ...  x136  x137  x138  x139  x140\n",
              "title                                            ...                              \n",
              "Mirosław_Miller               0   0   0   0   0  ...     0     0     0     0     0\n",
              "Chimerokształtne              0   0   0   0   0  ...     0     0     0     0     0\n",
              "(2855)_Bastian                0   0   0   0   0  ...     0     0     0     0     0\n",
              "Cryptocephalus_celtibericus   0   0   0   0   0  ...     0     0     0     0     0\n",
              "Język_maszynowy               0   0   0   0   0  ...     0     0     0     0     0\n",
              "\n",
              "[5 rows x 140 columns]"
            ]
          },
          "metadata": {
            "tags": []
          },
          "execution_count": 40
        }
      ]
    },
    {
      "cell_type": "code",
      "metadata": {
        "id": "hkre-dEQ8hIr"
      },
      "source": [
        "edges = pd.read_csv(\"/content/drive/Shareddrives/GCN-PROJECT/annotations.csv\", header=None)\n",
        "edges.columns = ['source', 'target']\n",
        "\n",
        "nodes_set = set(node_data.index)\n",
        "edges = edges[\n",
        "    (edges['source'].isin(nodes_set)) &\n",
        "    (edges['target'].isin(nodes_set))\n",
        "]"
      ],
      "execution_count": 41,
      "outputs": []
    },
    {
      "cell_type": "code",
      "metadata": {
        "colab": {
          "base_uri": "https://localhost:8080/",
          "height": 221
        },
        "id": "_zIyChdF9mb_",
        "outputId": "fbef196a-82a5-42a1-993f-086b6a1b2528"
      },
      "source": [
        "print(edges.shape)\n",
        "edges.head()"
      ],
      "execution_count": 42,
      "outputs": [
        {
          "output_type": "stream",
          "text": [
            "(347655, 2)\n"
          ],
          "name": "stdout"
        },
        {
          "output_type": "execute_result",
          "data": {
            "text/html": [
              "<div>\n",
              "<style scoped>\n",
              "    .dataframe tbody tr th:only-of-type {\n",
              "        vertical-align: middle;\n",
              "    }\n",
              "\n",
              "    .dataframe tbody tr th {\n",
              "        vertical-align: top;\n",
              "    }\n",
              "\n",
              "    .dataframe thead th {\n",
              "        text-align: right;\n",
              "    }\n",
              "</style>\n",
              "<table border=\"1\" class=\"dataframe\">\n",
              "  <thead>\n",
              "    <tr style=\"text-align: right;\">\n",
              "      <th></th>\n",
              "      <th>source</th>\n",
              "      <th>target</th>\n",
              "    </tr>\n",
              "  </thead>\n",
              "  <tbody>\n",
              "    <tr>\n",
              "      <th>0</th>\n",
              "      <td>AWK</td>\n",
              "      <td>Język_programowania</td>\n",
              "    </tr>\n",
              "    <tr>\n",
              "      <th>2</th>\n",
              "      <td>AWK</td>\n",
              "      <td>System_operacyjny</td>\n",
              "    </tr>\n",
              "    <tr>\n",
              "      <th>3</th>\n",
              "      <td>AWK</td>\n",
              "      <td>Unix</td>\n",
              "    </tr>\n",
              "    <tr>\n",
              "      <th>4</th>\n",
              "      <td>AWK</td>\n",
              "      <td>Tablica_asocjacyjna</td>\n",
              "    </tr>\n",
              "    <tr>\n",
              "      <th>6</th>\n",
              "      <td>AWK</td>\n",
              "      <td>Wyrażenie_regularne</td>\n",
              "    </tr>\n",
              "  </tbody>\n",
              "</table>\n",
              "</div>"
            ],
            "text/plain": [
              "  source               target\n",
              "0    AWK  Język_programowania\n",
              "2    AWK    System_operacyjny\n",
              "3    AWK                 Unix\n",
              "4    AWK  Tablica_asocjacyjna\n",
              "6    AWK  Wyrażenie_regularne"
            ]
          },
          "metadata": {
            "tags": []
          },
          "execution_count": 42
        }
      ]
    },
    {
      "cell_type": "markdown",
      "metadata": {
        "id": "Jm5es_VzC0-w"
      },
      "source": [
        "### StellarGraph"
      ]
    },
    {
      "cell_type": "code",
      "metadata": {
        "id": "XxqPjWww9p6D"
      },
      "source": [
        "stellar_graph = StellarGraph(\n",
        "    {'article': node_data},\n",
        "    {'annotation': edges}\n",
        ")"
      ],
      "execution_count": 43,
      "outputs": []
    },
    {
      "cell_type": "code",
      "metadata": {
        "colab": {
          "base_uri": "https://localhost:8080/"
        },
        "id": "Prf472kaBByv",
        "outputId": "35ab874a-732d-45d6-9763-bc823ccda459"
      },
      "source": [
        "print(stellar_graph.info())"
      ],
      "execution_count": 44,
      "outputs": [
        {
          "output_type": "stream",
          "text": [
            "StellarGraph: Undirected multigraph\n",
            " Nodes: 75649, Edges: 347655\n",
            "\n",
            " Node types:\n",
            "  article: [75649]\n",
            "    Features: float32 vector, length 140\n",
            "    Edge types: article-annotation->article\n",
            "\n",
            " Edge types:\n",
            "    article-annotation->article: [347655]\n",
            "        Weights: all 1 (default)\n",
            "        Features: none\n"
          ],
          "name": "stdout"
        }
      ]
    },
    {
      "cell_type": "code",
      "metadata": {
        "colab": {
          "base_uri": "https://localhost:8080/"
        },
        "id": "DtlFDx6rkcRT",
        "outputId": "371949f8-985b-4dd9-dab2-e9903af2e4c9"
      },
      "source": [
        "print(set(node_subjects))\n",
        "print(len(node_subjects))"
      ],
      "execution_count": 45,
      "outputs": [
        {
          "output_type": "stream",
          "text": [
            "{0, 1, 2, 3, 4, 5, 6}\n",
            "75649\n"
          ],
          "name": "stdout"
        }
      ]
    },
    {
      "cell_type": "markdown",
      "metadata": {
        "id": "ToS6iCK4khrN"
      },
      "source": [
        "### Data preparation"
      ]
    },
    {
      "cell_type": "code",
      "metadata": {
        "id": "y5ozWYF2kgoA"
      },
      "source": [
        "# split node_subjects to train and test_val\n",
        "train_subjects, test_val_subjects = train_test_split(\n",
        "    node_subjects, test_size=0.3, stratify=node_subjects, random_state=seed_value\n",
        ")\n",
        "# split test_val_subjects to test_subjects and val_subjects\n",
        "test_subjects, val_subjects = train_test_split(\n",
        "    test_val_subjects, test_size=0.5, stratify=test_val_subjects, random_state=seed_value\n",
        ")\n",
        "# 0.5 x 0.3 = 0.15"
      ],
      "execution_count": 46,
      "outputs": []
    },
    {
      "cell_type": "code",
      "metadata": {
        "colab": {
          "base_uri": "https://localhost:8080/"
        },
        "id": "Wxtq5MACkv_D",
        "outputId": "633a3fa4-15d0-4ea4-8b0d-f007d09c6922"
      },
      "source": [
        "print(f'Train: {len(train_subjects)}')\n",
        "print(f'Test: {len(test_subjects)}')\n",
        "print(f'Val: {len(val_subjects)}')"
      ],
      "execution_count": 47,
      "outputs": [
        {
          "output_type": "stream",
          "text": [
            "Train: 52954\n",
            "Test: 11347\n",
            "Val: 11348\n"
          ],
          "name": "stdout"
        }
      ]
    },
    {
      "cell_type": "code",
      "metadata": {
        "id": "s5dj5URIk3L6"
      },
      "source": [
        "target_encoding = LabelBinarizer()\n",
        "\n",
        "train_targets = target_encoding.fit_transform(train_subjects)\n",
        "test_targets = target_encoding.transform(test_subjects)\n",
        "val_targets = target_encoding.transform(val_subjects)"
      ],
      "execution_count": 48,
      "outputs": []
    },
    {
      "cell_type": "markdown",
      "metadata": {
        "id": "AJUU3ClXDuOu"
      },
      "source": [
        "### GAT"
      ]
    },
    {
      "cell_type": "code",
      "metadata": {
        "id": "4tBCeZpaGviR"
      },
      "source": [
        "generator = FullBatchNodeGenerator(stellar_graph, method=\"gat\")\n",
        "\n",
        "train_gen = generator.flow(train_subjects.index, train_targets)\n",
        "test_gen = generator.flow(test_subjects.index, test_targets)\n",
        "val_gen = generator.flow(val_subjects.index, val_targets)"
      ],
      "execution_count": 49,
      "outputs": []
    },
    {
      "cell_type": "code",
      "metadata": {
        "id": "DlXDNMq8HNj4"
      },
      "source": [
        "# gat = GAT(\n",
        "#     layer_sizes=[128, train_targets.shape[1]],\n",
        "#     activations=[\"elu\", \"softmax\"],\n",
        "#     attn_heads=8,\n",
        "#     generator=generator,\n",
        "#     in_dropout=0.5,\n",
        "#     attn_dropout=0.5,\n",
        "#     normalize=None,\n",
        "# )\n",
        "\n",
        "gat = GAT(\n",
        "    layer_sizes=[128, 128],\n",
        "    activations=[\"elu\", \"elu\"],\n",
        "    attn_heads=8,\n",
        "    generator=generator,\n",
        "    in_dropout=0.5,\n",
        "    attn_dropout=0.5,\n",
        "    normalize=None,\n",
        ")"
      ],
      "execution_count": 50,
      "outputs": []
    },
    {
      "cell_type": "code",
      "metadata": {
        "id": "6XDOc86NHYuX"
      },
      "source": [
        "x_inp, x_out = gat.in_out_tensors()\n",
        "\n",
        "dense = tf.keras.layers.Dense(units=64, activation=\"relu\")(x_out)\n",
        "predictions = tf.keras.layers.Dense(units=train_targets.shape[1], activation=\"softmax\")(dense)"
      ],
      "execution_count": 51,
      "outputs": []
    },
    {
      "cell_type": "code",
      "metadata": {
        "id": "FuHTf604H1Gq"
      },
      "source": [
        "model = Model(inputs=x_inp, outputs=predictions)\n",
        "\n",
        "model.compile(\n",
        "    optimizer=optimizers.Adam(lr=0.005),\n",
        "    loss=losses.categorical_crossentropy,\n",
        "    metrics=[\"acc\"],\n",
        ")"
      ],
      "execution_count": 52,
      "outputs": []
    },
    {
      "cell_type": "code",
      "metadata": {
        "id": "pngUXC5EIGqc"
      },
      "source": [
        "# if not os.path.isdir(\"logs\"):\n",
        "#     os.makedirs(\"logs\")\n",
        "es_callback = EarlyStopping(\n",
        "    monitor=\"val_acc\", patience=20\n",
        ")  # patience is the number of epochs to wait before early stopping in case of no further improvement\n",
        "# mc_callback = ModelCheckpoint(\n",
        "#     \"logs/best_model.h5\", monitor=\"val_acc\", save_best_only=True, save_weights_only=True\n",
        "# )"
      ],
      "execution_count": 53,
      "outputs": []
    },
    {
      "cell_type": "code",
      "metadata": {
        "colab": {
          "base_uri": "https://localhost:8080/"
        },
        "id": "f6Wm9UynILmP",
        "outputId": "046351b4-5acf-4243-9eff-c68556bc4cd6"
      },
      "source": [
        "history = model.fit(\n",
        "    train_gen,\n",
        "    epochs=200,\n",
        "    validation_data=val_gen,\n",
        "    verbose=2,\n",
        "    shuffle=False,  # this should be False, since shuffling data means shuffling the whole graph\n",
        "    # callbacks=[es_callback, mc_callback],\n",
        "    # callbacks=[es_callback],\n",
        ")"
      ],
      "execution_count": 54,
      "outputs": [
        {
          "output_type": "stream",
          "text": [
            "Epoch 1/200\n",
            "1/1 - 5s - loss: 1.9157 - acc: 0.1829 - val_loss: 1.1841 - val_acc: 0.6750\n",
            "Epoch 2/200\n",
            "1/1 - 2s - loss: 1.1925 - acc: 0.6420 - val_loss: 0.8558 - val_acc: 0.7376\n",
            "Epoch 3/200\n",
            "1/1 - 2s - loss: 0.8902 - acc: 0.7148 - val_loss: 0.7121 - val_acc: 0.7569\n",
            "Epoch 4/200\n",
            "1/1 - 2s - loss: 0.7416 - acc: 0.7433 - val_loss: 0.6394 - val_acc: 0.7804\n",
            "Epoch 5/200\n",
            "1/1 - 2s - loss: 0.6898 - acc: 0.7651 - val_loss: 0.5679 - val_acc: 0.8172\n",
            "Epoch 6/200\n",
            "1/1 - 2s - loss: 0.6203 - acc: 0.7964 - val_loss: 0.5143 - val_acc: 0.8446\n",
            "Epoch 7/200\n",
            "1/1 - 2s - loss: 0.5742 - acc: 0.8208 - val_loss: 0.4864 - val_acc: 0.8502\n",
            "Epoch 8/200\n",
            "1/1 - 2s - loss: 0.5563 - acc: 0.8266 - val_loss: 0.4584 - val_acc: 0.8565\n",
            "Epoch 9/200\n",
            "1/1 - 2s - loss: 0.5343 - acc: 0.8337 - val_loss: 0.4368 - val_acc: 0.8591\n",
            "Epoch 10/200\n",
            "1/1 - 2s - loss: 0.5045 - acc: 0.8428 - val_loss: 0.4235 - val_acc: 0.8639\n",
            "Epoch 11/200\n",
            "1/1 - 2s - loss: 0.4791 - acc: 0.8464 - val_loss: 0.4201 - val_acc: 0.8659\n",
            "Epoch 12/200\n",
            "1/1 - 2s - loss: 0.4838 - acc: 0.8471 - val_loss: 0.4153 - val_acc: 0.8659\n",
            "Epoch 13/200\n",
            "1/1 - 2s - loss: 0.4823 - acc: 0.8432 - val_loss: 0.4050 - val_acc: 0.8661\n",
            "Epoch 14/200\n",
            "1/1 - 2s - loss: 0.4695 - acc: 0.8468 - val_loss: 0.3983 - val_acc: 0.8675\n",
            "Epoch 15/200\n",
            "1/1 - 2s - loss: 0.4600 - acc: 0.8510 - val_loss: 0.3950 - val_acc: 0.8679\n",
            "Epoch 16/200\n",
            "1/1 - 2s - loss: 0.4629 - acc: 0.8507 - val_loss: 0.3901 - val_acc: 0.8717\n",
            "Epoch 17/200\n",
            "1/1 - 2s - loss: 0.4550 - acc: 0.8526 - val_loss: 0.3827 - val_acc: 0.8735\n",
            "Epoch 18/200\n",
            "1/1 - 2s - loss: 0.4521 - acc: 0.8540 - val_loss: 0.3775 - val_acc: 0.8750\n",
            "Epoch 19/200\n",
            "1/1 - 2s - loss: 0.4382 - acc: 0.8578 - val_loss: 0.3766 - val_acc: 0.8742\n",
            "Epoch 20/200\n",
            "1/1 - 2s - loss: 0.4367 - acc: 0.8570 - val_loss: 0.3768 - val_acc: 0.8737\n",
            "Epoch 21/200\n",
            "1/1 - 2s - loss: 0.4332 - acc: 0.8556 - val_loss: 0.3744 - val_acc: 0.8735\n",
            "Epoch 22/200\n",
            "1/1 - 2s - loss: 0.4337 - acc: 0.8566 - val_loss: 0.3695 - val_acc: 0.8747\n",
            "Epoch 23/200\n",
            "1/1 - 2s - loss: 0.4257 - acc: 0.8597 - val_loss: 0.3664 - val_acc: 0.8766\n",
            "Epoch 24/200\n",
            "1/1 - 2s - loss: 0.4250 - acc: 0.8602 - val_loss: 0.3659 - val_acc: 0.8774\n",
            "Epoch 25/200\n",
            "1/1 - 2s - loss: 0.4252 - acc: 0.8578 - val_loss: 0.3659 - val_acc: 0.8773\n",
            "Epoch 26/200\n",
            "1/1 - 2s - loss: 0.4207 - acc: 0.8632 - val_loss: 0.3657 - val_acc: 0.8774\n",
            "Epoch 27/200\n",
            "1/1 - 2s - loss: 0.4185 - acc: 0.8604 - val_loss: 0.3666 - val_acc: 0.8766\n",
            "Epoch 28/200\n",
            "1/1 - 2s - loss: 0.4182 - acc: 0.8610 - val_loss: 0.3676 - val_acc: 0.8754\n",
            "Epoch 29/200\n",
            "1/1 - 2s - loss: 0.4101 - acc: 0.8624 - val_loss: 0.3654 - val_acc: 0.8753\n",
            "Epoch 30/200\n",
            "1/1 - 2s - loss: 0.4114 - acc: 0.8638 - val_loss: 0.3618 - val_acc: 0.8779\n",
            "Epoch 31/200\n",
            "1/1 - 2s - loss: 0.4186 - acc: 0.8610 - val_loss: 0.3593 - val_acc: 0.8799\n",
            "Epoch 32/200\n",
            "1/1 - 2s - loss: 0.4117 - acc: 0.8625 - val_loss: 0.3594 - val_acc: 0.8810\n",
            "Epoch 33/200\n",
            "1/1 - 2s - loss: 0.4082 - acc: 0.8625 - val_loss: 0.3613 - val_acc: 0.8802\n",
            "Epoch 34/200\n",
            "1/1 - 2s - loss: 0.4044 - acc: 0.8641 - val_loss: 0.3614 - val_acc: 0.8792\n",
            "Epoch 35/200\n",
            "1/1 - 2s - loss: 0.4090 - acc: 0.8629 - val_loss: 0.3603 - val_acc: 0.8802\n",
            "Epoch 36/200\n",
            "1/1 - 2s - loss: 0.4030 - acc: 0.8665 - val_loss: 0.3605 - val_acc: 0.8790\n",
            "Epoch 37/200\n",
            "1/1 - 2s - loss: 0.4085 - acc: 0.8636 - val_loss: 0.3606 - val_acc: 0.8780\n",
            "Epoch 38/200\n",
            "1/1 - 2s - loss: 0.4034 - acc: 0.8631 - val_loss: 0.3587 - val_acc: 0.8780\n",
            "Epoch 39/200\n",
            "1/1 - 2s - loss: 0.4019 - acc: 0.8666 - val_loss: 0.3564 - val_acc: 0.8796\n",
            "Epoch 40/200\n",
            "1/1 - 2s - loss: 0.3997 - acc: 0.8662 - val_loss: 0.3551 - val_acc: 0.8808\n",
            "Epoch 41/200\n",
            "1/1 - 2s - loss: 0.4041 - acc: 0.8627 - val_loss: 0.3549 - val_acc: 0.8819\n",
            "Epoch 42/200\n",
            "1/1 - 2s - loss: 0.3969 - acc: 0.8681 - val_loss: 0.3550 - val_acc: 0.8819\n",
            "Epoch 43/200\n",
            "1/1 - 2s - loss: 0.3967 - acc: 0.8666 - val_loss: 0.3542 - val_acc: 0.8824\n",
            "Epoch 44/200\n",
            "1/1 - 2s - loss: 0.3963 - acc: 0.8662 - val_loss: 0.3525 - val_acc: 0.8824\n",
            "Epoch 45/200\n",
            "1/1 - 2s - loss: 0.3927 - acc: 0.8690 - val_loss: 0.3516 - val_acc: 0.8809\n",
            "Epoch 46/200\n",
            "1/1 - 2s - loss: 0.3945 - acc: 0.8661 - val_loss: 0.3514 - val_acc: 0.8811\n",
            "Epoch 47/200\n",
            "1/1 - 2s - loss: 0.3922 - acc: 0.8673 - val_loss: 0.3506 - val_acc: 0.8816\n",
            "Epoch 48/200\n",
            "1/1 - 2s - loss: 0.3881 - acc: 0.8675 - val_loss: 0.3505 - val_acc: 0.8820\n",
            "Epoch 49/200\n",
            "1/1 - 2s - loss: 0.3951 - acc: 0.8671 - val_loss: 0.3517 - val_acc: 0.8820\n",
            "Epoch 50/200\n",
            "1/1 - 2s - loss: 0.3933 - acc: 0.8678 - val_loss: 0.3525 - val_acc: 0.8824\n",
            "Epoch 51/200\n",
            "1/1 - 2s - loss: 0.3931 - acc: 0.8669 - val_loss: 0.3520 - val_acc: 0.8821\n",
            "Epoch 52/200\n",
            "1/1 - 2s - loss: 0.3895 - acc: 0.8678 - val_loss: 0.3507 - val_acc: 0.8829\n",
            "Epoch 53/200\n",
            "1/1 - 2s - loss: 0.3926 - acc: 0.8680 - val_loss: 0.3489 - val_acc: 0.8834\n",
            "Epoch 54/200\n",
            "1/1 - 2s - loss: 0.3906 - acc: 0.8682 - val_loss: 0.3480 - val_acc: 0.8832\n",
            "Epoch 55/200\n",
            "1/1 - 2s - loss: 0.3935 - acc: 0.8678 - val_loss: 0.3480 - val_acc: 0.8828\n",
            "Epoch 56/200\n",
            "1/1 - 2s - loss: 0.3866 - acc: 0.8699 - val_loss: 0.3495 - val_acc: 0.8818\n",
            "Epoch 57/200\n",
            "1/1 - 2s - loss: 0.3903 - acc: 0.8667 - val_loss: 0.3499 - val_acc: 0.8818\n",
            "Epoch 58/200\n",
            "1/1 - 2s - loss: 0.3857 - acc: 0.8686 - val_loss: 0.3489 - val_acc: 0.8818\n",
            "Epoch 59/200\n",
            "1/1 - 2s - loss: 0.3888 - acc: 0.8684 - val_loss: 0.3476 - val_acc: 0.8834\n",
            "Epoch 60/200\n",
            "1/1 - 2s - loss: 0.3888 - acc: 0.8695 - val_loss: 0.3467 - val_acc: 0.8840\n",
            "Epoch 61/200\n",
            "1/1 - 2s - loss: 0.3890 - acc: 0.8681 - val_loss: 0.3455 - val_acc: 0.8843\n",
            "Epoch 62/200\n",
            "1/1 - 2s - loss: 0.3917 - acc: 0.8686 - val_loss: 0.3451 - val_acc: 0.8839\n",
            "Epoch 63/200\n",
            "1/1 - 2s - loss: 0.3855 - acc: 0.8702 - val_loss: 0.3452 - val_acc: 0.8838\n",
            "Epoch 64/200\n",
            "1/1 - 2s - loss: 0.3866 - acc: 0.8680 - val_loss: 0.3453 - val_acc: 0.8842\n",
            "Epoch 65/200\n",
            "1/1 - 2s - loss: 0.3896 - acc: 0.8682 - val_loss: 0.3449 - val_acc: 0.8839\n",
            "Epoch 66/200\n",
            "1/1 - 2s - loss: 0.3806 - acc: 0.8709 - val_loss: 0.3451 - val_acc: 0.8846\n",
            "Epoch 67/200\n",
            "1/1 - 2s - loss: 0.3887 - acc: 0.8680 - val_loss: 0.3457 - val_acc: 0.8845\n",
            "Epoch 68/200\n",
            "1/1 - 2s - loss: 0.3830 - acc: 0.8695 - val_loss: 0.3476 - val_acc: 0.8833\n",
            "Epoch 69/200\n",
            "1/1 - 2s - loss: 0.3857 - acc: 0.8701 - val_loss: 0.3481 - val_acc: 0.8825\n",
            "Epoch 70/200\n",
            "1/1 - 2s - loss: 0.3830 - acc: 0.8688 - val_loss: 0.3473 - val_acc: 0.8829\n",
            "Epoch 71/200\n",
            "1/1 - 2s - loss: 0.3837 - acc: 0.8703 - val_loss: 0.3459 - val_acc: 0.8837\n",
            "Epoch 72/200\n",
            "1/1 - 2s - loss: 0.3801 - acc: 0.8703 - val_loss: 0.3435 - val_acc: 0.8847\n",
            "Epoch 73/200\n",
            "1/1 - 2s - loss: 0.3828 - acc: 0.8710 - val_loss: 0.3419 - val_acc: 0.8858\n",
            "Epoch 74/200\n",
            "1/1 - 2s - loss: 0.3815 - acc: 0.8721 - val_loss: 0.3418 - val_acc: 0.8859\n",
            "Epoch 75/200\n",
            "1/1 - 2s - loss: 0.3828 - acc: 0.8709 - val_loss: 0.3435 - val_acc: 0.8838\n",
            "Epoch 76/200\n",
            "1/1 - 2s - loss: 0.3777 - acc: 0.8709 - val_loss: 0.3453 - val_acc: 0.8847\n",
            "Epoch 77/200\n",
            "1/1 - 2s - loss: 0.3783 - acc: 0.8691 - val_loss: 0.3466 - val_acc: 0.8836\n",
            "Epoch 78/200\n",
            "1/1 - 2s - loss: 0.3800 - acc: 0.8725 - val_loss: 0.3454 - val_acc: 0.8832\n",
            "Epoch 79/200\n",
            "1/1 - 2s - loss: 0.3798 - acc: 0.8704 - val_loss: 0.3429 - val_acc: 0.8846\n",
            "Epoch 80/200\n",
            "1/1 - 2s - loss: 0.3826 - acc: 0.8705 - val_loss: 0.3407 - val_acc: 0.8848\n",
            "Epoch 81/200\n",
            "1/1 - 2s - loss: 0.3796 - acc: 0.8720 - val_loss: 0.3397 - val_acc: 0.8854\n",
            "Epoch 82/200\n",
            "1/1 - 2s - loss: 0.3768 - acc: 0.8713 - val_loss: 0.3397 - val_acc: 0.8856\n",
            "Epoch 83/200\n",
            "1/1 - 2s - loss: 0.3752 - acc: 0.8728 - val_loss: 0.3406 - val_acc: 0.8856\n",
            "Epoch 84/200\n",
            "1/1 - 2s - loss: 0.3762 - acc: 0.8722 - val_loss: 0.3414 - val_acc: 0.8855\n",
            "Epoch 85/200\n",
            "1/1 - 2s - loss: 0.3784 - acc: 0.8724 - val_loss: 0.3421 - val_acc: 0.8858\n",
            "Epoch 86/200\n",
            "1/1 - 2s - loss: 0.3797 - acc: 0.8713 - val_loss: 0.3422 - val_acc: 0.8854\n",
            "Epoch 87/200\n",
            "1/1 - 2s - loss: 0.3754 - acc: 0.8707 - val_loss: 0.3410 - val_acc: 0.8861\n",
            "Epoch 88/200\n",
            "1/1 - 2s - loss: 0.3750 - acc: 0.8702 - val_loss: 0.3393 - val_acc: 0.8853\n",
            "Epoch 89/200\n",
            "1/1 - 2s - loss: 0.3786 - acc: 0.8707 - val_loss: 0.3382 - val_acc: 0.8867\n",
            "Epoch 90/200\n",
            "1/1 - 2s - loss: 0.3754 - acc: 0.8722 - val_loss: 0.3382 - val_acc: 0.8869\n",
            "Epoch 91/200\n",
            "1/1 - 2s - loss: 0.3749 - acc: 0.8711 - val_loss: 0.3385 - val_acc: 0.8862\n",
            "Epoch 92/200\n",
            "1/1 - 2s - loss: 0.3752 - acc: 0.8725 - val_loss: 0.3396 - val_acc: 0.8852\n",
            "Epoch 93/200\n",
            "1/1 - 2s - loss: 0.3788 - acc: 0.8695 - val_loss: 0.3404 - val_acc: 0.8852\n",
            "Epoch 94/200\n",
            "1/1 - 2s - loss: 0.3736 - acc: 0.8735 - val_loss: 0.3396 - val_acc: 0.8861\n",
            "Epoch 95/200\n",
            "1/1 - 2s - loss: 0.3710 - acc: 0.8716 - val_loss: 0.3386 - val_acc: 0.8869\n",
            "Epoch 96/200\n",
            "1/1 - 2s - loss: 0.3718 - acc: 0.8727 - val_loss: 0.3373 - val_acc: 0.8864\n",
            "Epoch 97/200\n",
            "1/1 - 2s - loss: 0.3759 - acc: 0.8715 - val_loss: 0.3366 - val_acc: 0.8857\n",
            "Epoch 98/200\n",
            "1/1 - 2s - loss: 0.3717 - acc: 0.8738 - val_loss: 0.3362 - val_acc: 0.8865\n",
            "Epoch 99/200\n",
            "1/1 - 2s - loss: 0.3779 - acc: 0.8717 - val_loss: 0.3368 - val_acc: 0.8861\n",
            "Epoch 100/200\n",
            "1/1 - 2s - loss: 0.3704 - acc: 0.8725 - val_loss: 0.3376 - val_acc: 0.8858\n",
            "Epoch 101/200\n",
            "1/1 - 2s - loss: 0.3686 - acc: 0.8743 - val_loss: 0.3369 - val_acc: 0.8856\n",
            "Epoch 102/200\n",
            "1/1 - 2s - loss: 0.3715 - acc: 0.8734 - val_loss: 0.3369 - val_acc: 0.8870\n",
            "Epoch 103/200\n",
            "1/1 - 2s - loss: 0.3716 - acc: 0.8728 - val_loss: 0.3370 - val_acc: 0.8869\n",
            "Epoch 104/200\n",
            "1/1 - 2s - loss: 0.3727 - acc: 0.8733 - val_loss: 0.3365 - val_acc: 0.8868\n",
            "Epoch 105/200\n",
            "1/1 - 2s - loss: 0.3719 - acc: 0.8727 - val_loss: 0.3355 - val_acc: 0.8871\n",
            "Epoch 106/200\n",
            "1/1 - 2s - loss: 0.3669 - acc: 0.8768 - val_loss: 0.3349 - val_acc: 0.8868\n",
            "Epoch 107/200\n",
            "1/1 - 2s - loss: 0.3679 - acc: 0.8763 - val_loss: 0.3352 - val_acc: 0.8868\n",
            "Epoch 108/200\n",
            "1/1 - 2s - loss: 0.3691 - acc: 0.8751 - val_loss: 0.3353 - val_acc: 0.8874\n",
            "Epoch 109/200\n",
            "1/1 - 2s - loss: 0.3713 - acc: 0.8724 - val_loss: 0.3363 - val_acc: 0.8868\n",
            "Epoch 110/200\n",
            "1/1 - 2s - loss: 0.3714 - acc: 0.8751 - val_loss: 0.3365 - val_acc: 0.8868\n",
            "Epoch 111/200\n",
            "1/1 - 2s - loss: 0.3720 - acc: 0.8736 - val_loss: 0.3360 - val_acc: 0.8876\n",
            "Epoch 112/200\n",
            "1/1 - 2s - loss: 0.3726 - acc: 0.8727 - val_loss: 0.3351 - val_acc: 0.8879\n",
            "Epoch 113/200\n",
            "1/1 - 2s - loss: 0.3697 - acc: 0.8746 - val_loss: 0.3343 - val_acc: 0.8881\n",
            "Epoch 114/200\n",
            "1/1 - 2s - loss: 0.3709 - acc: 0.8728 - val_loss: 0.3338 - val_acc: 0.8866\n",
            "Epoch 115/200\n",
            "1/1 - 2s - loss: 0.3657 - acc: 0.8742 - val_loss: 0.3341 - val_acc: 0.8876\n",
            "Epoch 116/200\n",
            "1/1 - 2s - loss: 0.3688 - acc: 0.8743 - val_loss: 0.3346 - val_acc: 0.8870\n",
            "Epoch 117/200\n",
            "1/1 - 2s - loss: 0.3744 - acc: 0.8711 - val_loss: 0.3351 - val_acc: 0.8877\n",
            "Epoch 118/200\n",
            "1/1 - 2s - loss: 0.3667 - acc: 0.8748 - val_loss: 0.3364 - val_acc: 0.8873\n",
            "Epoch 119/200\n",
            "1/1 - 2s - loss: 0.3652 - acc: 0.8747 - val_loss: 0.3367 - val_acc: 0.8870\n",
            "Epoch 120/200\n",
            "1/1 - 2s - loss: 0.3661 - acc: 0.8757 - val_loss: 0.3350 - val_acc: 0.8876\n",
            "Epoch 121/200\n",
            "1/1 - 2s - loss: 0.3668 - acc: 0.8746 - val_loss: 0.3336 - val_acc: 0.8883\n",
            "Epoch 122/200\n",
            "1/1 - 2s - loss: 0.3675 - acc: 0.8745 - val_loss: 0.3325 - val_acc: 0.8875\n",
            "Epoch 123/200\n",
            "1/1 - 2s - loss: 0.3661 - acc: 0.8760 - val_loss: 0.3323 - val_acc: 0.8877\n",
            "Epoch 124/200\n",
            "1/1 - 2s - loss: 0.3670 - acc: 0.8735 - val_loss: 0.3324 - val_acc: 0.8872\n",
            "Epoch 125/200\n",
            "1/1 - 2s - loss: 0.3657 - acc: 0.8732 - val_loss: 0.3333 - val_acc: 0.8871\n",
            "Epoch 126/200\n",
            "1/1 - 2s - loss: 0.3647 - acc: 0.8759 - val_loss: 0.3335 - val_acc: 0.8866\n",
            "Epoch 127/200\n",
            "1/1 - 2s - loss: 0.3723 - acc: 0.8723 - val_loss: 0.3323 - val_acc: 0.8876\n",
            "Epoch 128/200\n",
            "1/1 - 2s - loss: 0.3668 - acc: 0.8752 - val_loss: 0.3318 - val_acc: 0.8882\n",
            "Epoch 129/200\n",
            "1/1 - 2s - loss: 0.3692 - acc: 0.8730 - val_loss: 0.3331 - val_acc: 0.8877\n",
            "Epoch 130/200\n",
            "1/1 - 2s - loss: 0.3642 - acc: 0.8761 - val_loss: 0.3343 - val_acc: 0.8867\n",
            "Epoch 131/200\n",
            "1/1 - 2s - loss: 0.3692 - acc: 0.8731 - val_loss: 0.3340 - val_acc: 0.8864\n",
            "Epoch 132/200\n",
            "1/1 - 2s - loss: 0.3637 - acc: 0.8765 - val_loss: 0.3336 - val_acc: 0.8875\n",
            "Epoch 133/200\n",
            "1/1 - 2s - loss: 0.3642 - acc: 0.8753 - val_loss: 0.3331 - val_acc: 0.8874\n",
            "Epoch 134/200\n",
            "1/1 - 2s - loss: 0.3653 - acc: 0.8744 - val_loss: 0.3328 - val_acc: 0.8873\n",
            "Epoch 135/200\n",
            "1/1 - 2s - loss: 0.3687 - acc: 0.8736 - val_loss: 0.3347 - val_acc: 0.8854\n",
            "Epoch 136/200\n",
            "1/1 - 2s - loss: 0.3683 - acc: 0.8723 - val_loss: 0.3357 - val_acc: 0.8847\n",
            "Epoch 137/200\n",
            "1/1 - 2s - loss: 0.3678 - acc: 0.8719 - val_loss: 0.3339 - val_acc: 0.8861\n",
            "Epoch 138/200\n",
            "1/1 - 2s - loss: 0.3624 - acc: 0.8737 - val_loss: 0.3327 - val_acc: 0.8875\n",
            "Epoch 139/200\n",
            "1/1 - 2s - loss: 0.3696 - acc: 0.8727 - val_loss: 0.3334 - val_acc: 0.8873\n",
            "Epoch 140/200\n",
            "1/1 - 2s - loss: 0.3660 - acc: 0.8741 - val_loss: 0.3327 - val_acc: 0.8882\n",
            "Epoch 141/200\n",
            "1/1 - 2s - loss: 0.3675 - acc: 0.8736 - val_loss: 0.3317 - val_acc: 0.8880\n",
            "Epoch 142/200\n",
            "1/1 - 2s - loss: 0.3618 - acc: 0.8771 - val_loss: 0.3337 - val_acc: 0.8873\n",
            "Epoch 143/200\n",
            "1/1 - 2s - loss: 0.3659 - acc: 0.8724 - val_loss: 0.3333 - val_acc: 0.8869\n",
            "Epoch 144/200\n",
            "1/1 - 2s - loss: 0.3695 - acc: 0.8731 - val_loss: 0.3301 - val_acc: 0.8886\n",
            "Epoch 145/200\n",
            "1/1 - 2s - loss: 0.3623 - acc: 0.8736 - val_loss: 0.3290 - val_acc: 0.8892\n",
            "Epoch 146/200\n",
            "1/1 - 2s - loss: 0.3637 - acc: 0.8755 - val_loss: 0.3304 - val_acc: 0.8882\n",
            "Epoch 147/200\n",
            "1/1 - 2s - loss: 0.3654 - acc: 0.8739 - val_loss: 0.3315 - val_acc: 0.8876\n",
            "Epoch 148/200\n",
            "1/1 - 2s - loss: 0.3668 - acc: 0.8743 - val_loss: 0.3318 - val_acc: 0.8869\n",
            "Epoch 149/200\n",
            "1/1 - 2s - loss: 0.3664 - acc: 0.8753 - val_loss: 0.3326 - val_acc: 0.8871\n",
            "Epoch 150/200\n",
            "1/1 - 2s - loss: 0.3639 - acc: 0.8753 - val_loss: 0.3334 - val_acc: 0.8867\n",
            "Epoch 151/200\n",
            "1/1 - 2s - loss: 0.3624 - acc: 0.8744 - val_loss: 0.3325 - val_acc: 0.8885\n",
            "Epoch 152/200\n",
            "1/1 - 2s - loss: 0.3643 - acc: 0.8753 - val_loss: 0.3310 - val_acc: 0.8891\n",
            "Epoch 153/200\n",
            "1/1 - 2s - loss: 0.3641 - acc: 0.8749 - val_loss: 0.3298 - val_acc: 0.8900\n",
            "Epoch 154/200\n",
            "1/1 - 2s - loss: 0.3599 - acc: 0.8771 - val_loss: 0.3294 - val_acc: 0.8887\n",
            "Epoch 155/200\n",
            "1/1 - 2s - loss: 0.3623 - acc: 0.8765 - val_loss: 0.3283 - val_acc: 0.8886\n",
            "Epoch 156/200\n",
            "1/1 - 2s - loss: 0.3641 - acc: 0.8747 - val_loss: 0.3283 - val_acc: 0.8873\n",
            "Epoch 157/200\n",
            "1/1 - 2s - loss: 0.3662 - acc: 0.8744 - val_loss: 0.3288 - val_acc: 0.8875\n",
            "Epoch 158/200\n",
            "1/1 - 2s - loss: 0.3622 - acc: 0.8758 - val_loss: 0.3291 - val_acc: 0.8879\n",
            "Epoch 159/200\n",
            "1/1 - 2s - loss: 0.3653 - acc: 0.8744 - val_loss: 0.3304 - val_acc: 0.8882\n",
            "Epoch 160/200\n",
            "1/1 - 2s - loss: 0.3618 - acc: 0.8744 - val_loss: 0.3325 - val_acc: 0.8883\n",
            "Epoch 161/200\n",
            "1/1 - 2s - loss: 0.3626 - acc: 0.8752 - val_loss: 0.3314 - val_acc: 0.8888\n",
            "Epoch 162/200\n",
            "1/1 - 2s - loss: 0.3590 - acc: 0.8772 - val_loss: 0.3287 - val_acc: 0.8884\n",
            "Epoch 163/200\n",
            "1/1 - 2s - loss: 0.3605 - acc: 0.8758 - val_loss: 0.3282 - val_acc: 0.8876\n",
            "Epoch 164/200\n",
            "1/1 - 2s - loss: 0.3599 - acc: 0.8761 - val_loss: 0.3287 - val_acc: 0.8876\n",
            "Epoch 165/200\n",
            "1/1 - 2s - loss: 0.3647 - acc: 0.8752 - val_loss: 0.3297 - val_acc: 0.8878\n",
            "Epoch 166/200\n",
            "1/1 - 2s - loss: 0.3564 - acc: 0.8776 - val_loss: 0.3297 - val_acc: 0.8883\n",
            "Epoch 167/200\n",
            "1/1 - 2s - loss: 0.3628 - acc: 0.8754 - val_loss: 0.3298 - val_acc: 0.8882\n",
            "Epoch 168/200\n",
            "1/1 - 2s - loss: 0.3539 - acc: 0.8781 - val_loss: 0.3294 - val_acc: 0.8889\n",
            "Epoch 169/200\n",
            "1/1 - 2s - loss: 0.3625 - acc: 0.8740 - val_loss: 0.3282 - val_acc: 0.8884\n",
            "Epoch 170/200\n",
            "1/1 - 2s - loss: 0.3568 - acc: 0.8759 - val_loss: 0.3274 - val_acc: 0.8872\n",
            "Epoch 171/200\n",
            "1/1 - 2s - loss: 0.3564 - acc: 0.8778 - val_loss: 0.3278 - val_acc: 0.8869\n",
            "Epoch 172/200\n",
            "1/1 - 2s - loss: 0.3589 - acc: 0.8773 - val_loss: 0.3274 - val_acc: 0.8865\n",
            "Epoch 173/200\n",
            "1/1 - 2s - loss: 0.3584 - acc: 0.8772 - val_loss: 0.3267 - val_acc: 0.8867\n",
            "Epoch 174/200\n",
            "1/1 - 2s - loss: 0.3627 - acc: 0.8749 - val_loss: 0.3261 - val_acc: 0.8879\n",
            "Epoch 175/200\n",
            "1/1 - 2s - loss: 0.3574 - acc: 0.8782 - val_loss: 0.3274 - val_acc: 0.8879\n",
            "Epoch 176/200\n",
            "1/1 - 2s - loss: 0.3553 - acc: 0.8771 - val_loss: 0.3280 - val_acc: 0.8876\n",
            "Epoch 177/200\n",
            "1/1 - 2s - loss: 0.3591 - acc: 0.8758 - val_loss: 0.3274 - val_acc: 0.8885\n",
            "Epoch 178/200\n",
            "1/1 - 2s - loss: 0.3555 - acc: 0.8785 - val_loss: 0.3266 - val_acc: 0.8891\n",
            "Epoch 179/200\n",
            "1/1 - 2s - loss: 0.3600 - acc: 0.8758 - val_loss: 0.3247 - val_acc: 0.8898\n",
            "Epoch 180/200\n",
            "1/1 - 2s - loss: 0.3621 - acc: 0.8764 - val_loss: 0.3233 - val_acc: 0.8913\n",
            "Epoch 181/200\n",
            "1/1 - 2s - loss: 0.3574 - acc: 0.8766 - val_loss: 0.3232 - val_acc: 0.8902\n",
            "Epoch 182/200\n",
            "1/1 - 2s - loss: 0.3573 - acc: 0.8780 - val_loss: 0.3241 - val_acc: 0.8898\n",
            "Epoch 183/200\n",
            "1/1 - 2s - loss: 0.3576 - acc: 0.8763 - val_loss: 0.3260 - val_acc: 0.8888\n",
            "Epoch 184/200\n",
            "1/1 - 2s - loss: 0.3583 - acc: 0.8757 - val_loss: 0.3281 - val_acc: 0.8881\n",
            "Epoch 185/200\n",
            "1/1 - 2s - loss: 0.3612 - acc: 0.8747 - val_loss: 0.3283 - val_acc: 0.8875\n",
            "Epoch 186/200\n",
            "1/1 - 2s - loss: 0.3563 - acc: 0.8780 - val_loss: 0.3276 - val_acc: 0.8874\n",
            "Epoch 187/200\n",
            "1/1 - 2s - loss: 0.3544 - acc: 0.8771 - val_loss: 0.3257 - val_acc: 0.8884\n",
            "Epoch 188/200\n",
            "1/1 - 2s - loss: 0.3539 - acc: 0.8799 - val_loss: 0.3243 - val_acc: 0.8897\n",
            "Epoch 189/200\n",
            "1/1 - 2s - loss: 0.3562 - acc: 0.8772 - val_loss: 0.3242 - val_acc: 0.8901\n",
            "Epoch 190/200\n",
            "1/1 - 2s - loss: 0.3555 - acc: 0.8787 - val_loss: 0.3242 - val_acc: 0.8903\n",
            "Epoch 191/200\n",
            "1/1 - 2s - loss: 0.3554 - acc: 0.8777 - val_loss: 0.3250 - val_acc: 0.8897\n",
            "Epoch 192/200\n",
            "1/1 - 2s - loss: 0.3527 - acc: 0.8786 - val_loss: 0.3273 - val_acc: 0.8903\n",
            "Epoch 193/200\n",
            "1/1 - 2s - loss: 0.3596 - acc: 0.8764 - val_loss: 0.3287 - val_acc: 0.8882\n",
            "Epoch 194/200\n",
            "1/1 - 2s - loss: 0.3508 - acc: 0.8801 - val_loss: 0.3282 - val_acc: 0.8882\n",
            "Epoch 195/200\n",
            "1/1 - 2s - loss: 0.3593 - acc: 0.8754 - val_loss: 0.3251 - val_acc: 0.8891\n",
            "Epoch 196/200\n",
            "1/1 - 2s - loss: 0.3566 - acc: 0.8776 - val_loss: 0.3229 - val_acc: 0.8894\n",
            "Epoch 197/200\n",
            "1/1 - 2s - loss: 0.3573 - acc: 0.8750 - val_loss: 0.3226 - val_acc: 0.8903\n",
            "Epoch 198/200\n",
            "1/1 - 2s - loss: 0.3561 - acc: 0.8769 - val_loss: 0.3243 - val_acc: 0.8899\n",
            "Epoch 199/200\n",
            "1/1 - 2s - loss: 0.3534 - acc: 0.8778 - val_loss: 0.3252 - val_acc: 0.8897\n",
            "Epoch 200/200\n",
            "1/1 - 2s - loss: 0.3547 - acc: 0.8769 - val_loss: 0.3261 - val_acc: 0.8888\n"
          ],
          "name": "stdout"
        }
      ]
    },
    {
      "cell_type": "code",
      "metadata": {
        "colab": {
          "base_uri": "https://localhost:8080/",
          "height": 585
        },
        "id": "ZFZ7plxxIQ9g",
        "outputId": "e2e5c029-cc80-458d-b7f1-599881a9f60c"
      },
      "source": [
        "sg.utils.plot_history(history)"
      ],
      "execution_count": 55,
      "outputs": [
        {
          "output_type": "display_data",
          "data": {
            "image/png": "[encoded data removed]",
            "text/plain": [
              "<Figure size 504x576 with 2 Axes>"
            ]
          },
          "metadata": {
            "tags": [],
            "needs_background": "light"
          }
        }
      ]
    },
    {
      "cell_type": "code",
      "metadata": {
        "colab": {
          "base_uri": "https://localhost:8080/"
        },
        "id": "PIY6x5BfnhMZ",
        "outputId": "9449b224-f5eb-4123-a99d-2fad8d62b36d"
      },
      "source": [
        "test_metrics = model.evaluate(test_gen)\n",
        "\n",
        "print(\"\\nTest Set Metrics:\")\n",
        "for name, val in zip(model.metrics_names, test_metrics):\n",
        "    print(\"\\t{}: {:0.4f}\".format(name, val))"
      ],
      "execution_count": 56,
      "outputs": [
        {
          "output_type": "stream",
          "text": [
            "1/1 [==============================] - 1s 618ms/step - loss: 0.3257 - acc: 0.8882\n",
            "\n",
            "Test Set Metrics:\n",
            "\tloss: 0.3257\n",
            "\tacc: 0.8882\n"
          ],
          "name": "stdout"
        }
      ]
    },
    {
      "cell_type": "code",
      "metadata": {
        "colab": {
          "base_uri": "https://localhost:8080/"
        },
        "id": "YBVDNlJ-mDcl",
        "outputId": "edb24d5c-f406-4817-ecd0-373d8ed4524f"
      },
      "source": [
        "y_pred = model.predict(test_gen)\n",
        "y_pred = target_encoding.inverse_transform(y_pred.squeeze())\n",
        "y_pred = le.inverse_transform(y_pred)\n",
        "\n",
        "y_pred[:10]"
      ],
      "execution_count": 57,
      "outputs": [
        {
          "output_type": "execute_result",
          "data": {
            "text/plain": [
              "array(['Informatyka', 'Astronomia', 'Astronomia', 'Biologia',\n",
              "       'Astronomia', 'Biologia', 'Astronomia', 'Matematyka', 'Biologia',\n",
              "       'Biologia'], dtype='<U11')"
            ]
          },
          "metadata": {
            "tags": []
          },
          "execution_count": 57
        }
      ]
    },
    {
      "cell_type": "code",
      "metadata": {
        "colab": {
          "base_uri": "https://localhost:8080/"
        },
        "id": "VpQT8KbomHLM",
        "outputId": "575906eb-ec43-4ecc-ebf8-84619118fae0"
      },
      "source": [
        "y_test = target_encoding.inverse_transform(test_targets)\n",
        "y_test = le.inverse_transform(y_test)\n",
        "\n",
        "y_test[:10]"
      ],
      "execution_count": 58,
      "outputs": [
        {
          "output_type": "execute_result",
          "data": {
            "text/plain": [
              "array(['Informatyka', 'Astronomia', 'Astronomia', 'Biologia',\n",
              "       'Astronomia', 'Biologia', 'Astronomia', 'Matematyka', 'Biologia',\n",
              "       'Biologia'], dtype='<U11')"
            ]
          },
          "metadata": {
            "tags": []
          },
          "execution_count": 58
        }
      ]
    },
    {
      "cell_type": "code",
      "metadata": {
        "id": "gbe5-c4WkAs4"
      },
      "source": [
        "with open(\"/content/drive/Shareddrives/GCN-PROJECT/onehot140_gat_y_pred.pickle\", \"wb\") as f:\n",
        "  pickle.dump(y_pred, f)\n",
        "with open(\"/content/drive/Shareddrives/GCN-PROJECT/onehot140_gat_y_true.pickle\", \"wb\") as f:\n",
        "  pickle.dump(y_test, f)"
      ],
      "execution_count": 59,
      "outputs": []
    },
    {
      "cell_type": "code",
      "metadata": {
        "colab": {
          "base_uri": "https://localhost:8080/"
        },
        "id": "3B1_M059mKnE",
        "outputId": "1f6d366c-c54c-44f3-adc4-eb4f99610db2"
      },
      "source": [
        "print(classification_report(y_test, y_pred))"
      ],
      "execution_count": 60,
      "outputs": [
        {
          "output_type": "stream",
          "text": [
            "              precision    recall  f1-score   support\n",
            "\n",
            "  Astronomia       0.98      0.99      0.98      3832\n",
            "    Biologia       0.88      0.98      0.92      3522\n",
            "      Chemia       0.78      0.42      0.55       416\n",
            "      Fizyka       0.76      0.73      0.74       768\n",
            " Informatyka       0.78      0.75      0.77       738\n",
            "  Matematyka       0.81      0.76      0.79      1211\n",
            " Psychologia       0.84      0.75      0.79       860\n",
            "\n",
            "    accuracy                           0.89     11347\n",
            "   macro avg       0.83      0.77      0.79     11347\n",
            "weighted avg       0.88      0.89      0.88     11347\n",
            "\n"
          ],
          "name": "stdout"
        }
      ]
    },
    {
      "cell_type": "code",
      "metadata": {
        "colab": {
          "base_uri": "https://localhost:8080/",
          "height": 522
        },
        "id": "JfMHEu04mL-c",
        "outputId": "79abb359-6476-459e-80a7-9ce543cddad7"
      },
      "source": [
        "conf_matrix(\n",
        "    y_true=y_test,\n",
        "    y_pred=y_pred\n",
        ")"
      ],
      "execution_count": 61,
      "outputs": [
        {
          "output_type": "display_data",
          "data": {
            "image/png": "[encoded data removed]",
            "text/plain": [
              "<Figure size 720x504 with 2 Axes>"
            ]
          },
          "metadata": {
            "tags": [],
            "needs_background": "light"
          }
        }
      ]
    },
    {
      "cell_type": "markdown",
      "metadata": {
        "id": "8iofRhAblDM4"
      },
      "source": [
        "### GCN"
      ]
    },
    {
      "cell_type": "code",
      "metadata": {
        "colab": {
          "base_uri": "https://localhost:8080/"
        },
        "id": "JcA-IaIplRKh",
        "outputId": "19838d7a-429d-4901-b1b3-f5a0bcc1c953"
      },
      "source": [
        "generator = FullBatchNodeGenerator(stellar_graph, method=\"gcn\")\n",
        "\n",
        "train_gen = generator.flow(train_subjects.index, train_targets)\n",
        "test_gen = generator.flow(test_subjects.index, test_targets)\n",
        "val_gen = generator.flow(val_subjects.index, val_targets)"
      ],
      "execution_count": 62,
      "outputs": [
        {
          "output_type": "stream",
          "text": [
            "Using GCN (local pooling) filters...\n"
          ],
          "name": "stdout"
        }
      ]
    },
    {
      "cell_type": "code",
      "metadata": {
        "id": "TrizaHU0myIE"
      },
      "source": [
        "gcn = GCN(\n",
        "    layer_sizes=[128, 128],\n",
        "    activations=[\"elu\", \"elu\"],\n",
        "    generator=generator,\n",
        "    dropout=0.5\n",
        ")"
      ],
      "execution_count": 63,
      "outputs": []
    },
    {
      "cell_type": "code",
      "metadata": {
        "id": "yYcnNOafm1nz"
      },
      "source": [
        "x_inp, x_out = gcn.in_out_tensors()\n",
        "\n",
        "dense = tf.keras.layers.Dense(units=64, activation=\"relu\")(x_out)\n",
        "predictions = tf.keras.layers.Dense(units=train_targets.shape[1], activation=\"softmax\")(dense)"
      ],
      "execution_count": 64,
      "outputs": []
    },
    {
      "cell_type": "code",
      "metadata": {
        "id": "N71Ku13unIIX"
      },
      "source": [
        "model = Model(inputs=x_inp, outputs=predictions)\n",
        "\n",
        "model.compile(\n",
        "    optimizer=optimizers.Adam(lr=0.005),\n",
        "    loss=losses.categorical_crossentropy,\n",
        "    metrics=[\"acc\"],\n",
        ")"
      ],
      "execution_count": 65,
      "outputs": []
    },
    {
      "cell_type": "code",
      "metadata": {
        "id": "kEbLsWPFnOzG"
      },
      "source": [
        "# if not os.path.isdir(\"logs\"):\n",
        "#     os.makedirs(\"logs\")\n",
        "es_callback = EarlyStopping(\n",
        "    monitor=\"val_acc\", patience=20\n",
        ")  # patience is the number of epochs to wait before early stopping in case of no further improvement\n",
        "# mc_callback = ModelCheckpoint(\n",
        "#     \"logs/best_model.h5\", monitor=\"val_acc\", save_best_only=True, save_weights_only=True\n",
        "# )"
      ],
      "execution_count": 66,
      "outputs": []
    },
    {
      "cell_type": "code",
      "metadata": {
        "colab": {
          "base_uri": "https://localhost:8080/"
        },
        "id": "yrlbQANlnSMI",
        "outputId": "dee3fe31-15ef-4ab7-d416-3a6653634b94"
      },
      "source": [
        "history = model.fit(\n",
        "    train_gen,\n",
        "    epochs=200,\n",
        "    validation_data=val_gen,\n",
        "    verbose=2,\n",
        "    shuffle=False,  # this should be False, since shuffling data means shuffling the whole graph\n",
        "    # callbacks=[es_callback, mc_callback],\n",
        "    # callbacks=[es_callback],\n",
        ")"
      ],
      "execution_count": 67,
      "outputs": [
        {
          "output_type": "stream",
          "text": [
            "Epoch 1/200\n",
            "1/1 - 1s - loss: 1.9147 - acc: 0.1385 - val_loss: 1.7419 - val_acc: 0.6430\n",
            "Epoch 2/200\n",
            "1/1 - 0s - loss: 1.7471 - acc: 0.6175 - val_loss: 1.5414 - val_acc: 0.6545\n",
            "Epoch 3/200\n",
            "1/1 - 0s - loss: 1.5429 - acc: 0.6475 - val_loss: 1.3263 - val_acc: 0.6534\n",
            "Epoch 4/200\n",
            "1/1 - 0s - loss: 1.3213 - acc: 0.6502 - val_loss: 1.1316 - val_acc: 0.6519\n",
            "Epoch 5/200\n",
            "1/1 - 0s - loss: 1.1616 - acc: 0.6483 - val_loss: 0.9918 - val_acc: 0.6517\n",
            "Epoch 6/200\n",
            "1/1 - 0s - loss: 1.0108 - acc: 0.6480 - val_loss: 0.9083 - val_acc: 0.6582\n",
            "Epoch 7/200\n",
            "1/1 - 0s - loss: 0.9253 - acc: 0.6519 - val_loss: 0.8468 - val_acc: 0.6731\n",
            "Epoch 8/200\n",
            "1/1 - 0s - loss: 0.8670 - acc: 0.6704 - val_loss: 0.7902 - val_acc: 0.7113\n",
            "Epoch 9/200\n",
            "1/1 - 0s - loss: 0.8164 - acc: 0.7033 - val_loss: 0.7455 - val_acc: 0.7552\n",
            "Epoch 10/200\n",
            "1/1 - 0s - loss: 0.7724 - acc: 0.7399 - val_loss: 0.7180 - val_acc: 0.7763\n",
            "Epoch 11/200\n",
            "1/1 - 0s - loss: 0.7474 - acc: 0.7647 - val_loss: 0.7011 - val_acc: 0.7855\n",
            "Epoch 12/200\n",
            "1/1 - 0s - loss: 0.7331 - acc: 0.7632 - val_loss: 0.6854 - val_acc: 0.7667\n",
            "Epoch 13/200\n",
            "1/1 - 0s - loss: 0.7173 - acc: 0.7562 - val_loss: 0.6646 - val_acc: 0.7697\n",
            "Epoch 14/200\n",
            "1/1 - 0s - loss: 0.6998 - acc: 0.7584 - val_loss: 0.6391 - val_acc: 0.7782\n",
            "Epoch 15/200\n",
            "1/1 - 0s - loss: 0.6758 - acc: 0.7700 - val_loss: 0.6115 - val_acc: 0.8088\n",
            "Epoch 16/200\n",
            "1/1 - 0s - loss: 0.6480 - acc: 0.7909 - val_loss: 0.5860 - val_acc: 0.8167\n",
            "Epoch 17/200\n",
            "1/1 - 0s - loss: 0.6253 - acc: 0.8030 - val_loss: 0.5647 - val_acc: 0.8251\n",
            "Epoch 18/200\n",
            "1/1 - 0s - loss: 0.6054 - acc: 0.8118 - val_loss: 0.5454 - val_acc: 0.8350\n",
            "Epoch 19/200\n",
            "1/1 - 0s - loss: 0.5812 - acc: 0.8226 - val_loss: 0.5248 - val_acc: 0.8444\n",
            "Epoch 20/200\n",
            "1/1 - 0s - loss: 0.5702 - acc: 0.8265 - val_loss: 0.5030 - val_acc: 0.8509\n",
            "Epoch 21/200\n",
            "1/1 - 0s - loss: 0.5532 - acc: 0.8334 - val_loss: 0.4838 - val_acc: 0.8565\n",
            "Epoch 22/200\n",
            "1/1 - 0s - loss: 0.5337 - acc: 0.8386 - val_loss: 0.4697 - val_acc: 0.8581\n",
            "Epoch 23/200\n",
            "1/1 - 0s - loss: 0.5223 - acc: 0.8402 - val_loss: 0.4606 - val_acc: 0.8591\n",
            "Epoch 24/200\n",
            "1/1 - 0s - loss: 0.5180 - acc: 0.8418 - val_loss: 0.4547 - val_acc: 0.8595\n",
            "Epoch 25/200\n",
            "1/1 - 0s - loss: 0.5108 - acc: 0.8426 - val_loss: 0.4499 - val_acc: 0.8593\n",
            "Epoch 26/200\n",
            "1/1 - 0s - loss: 0.5083 - acc: 0.8418 - val_loss: 0.4447 - val_acc: 0.8599\n",
            "Epoch 27/200\n",
            "1/1 - 0s - loss: 0.5035 - acc: 0.8432 - val_loss: 0.4407 - val_acc: 0.8613\n",
            "Epoch 28/200\n",
            "1/1 - 0s - loss: 0.5049 - acc: 0.8423 - val_loss: 0.4376 - val_acc: 0.8622\n",
            "Epoch 29/200\n",
            "1/1 - 0s - loss: 0.4967 - acc: 0.8457 - val_loss: 0.4336 - val_acc: 0.8639\n",
            "Epoch 30/200\n",
            "1/1 - 0s - loss: 0.4930 - acc: 0.8467 - val_loss: 0.4287 - val_acc: 0.8654\n",
            "Epoch 31/200\n",
            "1/1 - 0s - loss: 0.4958 - acc: 0.8467 - val_loss: 0.4249 - val_acc: 0.8671\n",
            "Epoch 32/200\n",
            "1/1 - 0s - loss: 0.4879 - acc: 0.8494 - val_loss: 0.4230 - val_acc: 0.8683\n",
            "Epoch 33/200\n",
            "1/1 - 0s - loss: 0.4861 - acc: 0.8497 - val_loss: 0.4217 - val_acc: 0.8691\n",
            "Epoch 34/200\n",
            "1/1 - 0s - loss: 0.4817 - acc: 0.8515 - val_loss: 0.4194 - val_acc: 0.8698\n",
            "Epoch 35/200\n",
            "1/1 - 0s - loss: 0.4839 - acc: 0.8502 - val_loss: 0.4167 - val_acc: 0.8686\n",
            "Epoch 36/200\n",
            "1/1 - 0s - loss: 0.4791 - acc: 0.8525 - val_loss: 0.4142 - val_acc: 0.8688\n",
            "Epoch 37/200\n",
            "1/1 - 0s - loss: 0.4737 - acc: 0.8538 - val_loss: 0.4126 - val_acc: 0.8705\n",
            "Epoch 38/200\n",
            "1/1 - 0s - loss: 0.4680 - acc: 0.8533 - val_loss: 0.4111 - val_acc: 0.8705\n",
            "Epoch 39/200\n",
            "1/1 - 0s - loss: 0.4649 - acc: 0.8552 - val_loss: 0.4093 - val_acc: 0.8716\n",
            "Epoch 40/200\n",
            "1/1 - 0s - loss: 0.4654 - acc: 0.8539 - val_loss: 0.4074 - val_acc: 0.8720\n",
            "Epoch 41/200\n",
            "1/1 - 0s - loss: 0.4664 - acc: 0.8533 - val_loss: 0.4062 - val_acc: 0.8729\n",
            "Epoch 42/200\n",
            "1/1 - 0s - loss: 0.4555 - acc: 0.8574 - val_loss: 0.4061 - val_acc: 0.8720\n",
            "Epoch 43/200\n",
            "1/1 - 0s - loss: 0.4524 - acc: 0.8570 - val_loss: 0.4056 - val_acc: 0.8712\n",
            "Epoch 44/200\n",
            "1/1 - 0s - loss: 0.4563 - acc: 0.8556 - val_loss: 0.4038 - val_acc: 0.8713\n",
            "Epoch 45/200\n",
            "1/1 - 0s - loss: 0.4553 - acc: 0.8567 - val_loss: 0.4013 - val_acc: 0.8719\n",
            "Epoch 46/200\n",
            "1/1 - 0s - loss: 0.4521 - acc: 0.8549 - val_loss: 0.3991 - val_acc: 0.8712\n",
            "Epoch 47/200\n",
            "1/1 - 0s - loss: 0.4488 - acc: 0.8568 - val_loss: 0.3977 - val_acc: 0.8723\n",
            "Epoch 48/200\n",
            "1/1 - 0s - loss: 0.4440 - acc: 0.8573 - val_loss: 0.3968 - val_acc: 0.8720\n",
            "Epoch 49/200\n",
            "1/1 - 0s - loss: 0.4447 - acc: 0.8581 - val_loss: 0.3955 - val_acc: 0.8718\n",
            "Epoch 50/200\n",
            "1/1 - 0s - loss: 0.4447 - acc: 0.8563 - val_loss: 0.3943 - val_acc: 0.8713\n",
            "Epoch 51/200\n",
            "1/1 - 0s - loss: 0.4406 - acc: 0.8565 - val_loss: 0.3934 - val_acc: 0.8715\n",
            "Epoch 52/200\n",
            "1/1 - 0s - loss: 0.4398 - acc: 0.8575 - val_loss: 0.3928 - val_acc: 0.8723\n",
            "Epoch 53/200\n",
            "1/1 - 0s - loss: 0.4408 - acc: 0.8571 - val_loss: 0.3919 - val_acc: 0.8728\n",
            "Epoch 54/200\n",
            "1/1 - 0s - loss: 0.4382 - acc: 0.8591 - val_loss: 0.3908 - val_acc: 0.8730\n",
            "Epoch 55/200\n",
            "1/1 - 0s - loss: 0.4390 - acc: 0.8570 - val_loss: 0.3896 - val_acc: 0.8734\n",
            "Epoch 56/200\n",
            "1/1 - 0s - loss: 0.4342 - acc: 0.8587 - val_loss: 0.3888 - val_acc: 0.8744\n",
            "Epoch 57/200\n",
            "1/1 - 0s - loss: 0.4351 - acc: 0.8575 - val_loss: 0.3880 - val_acc: 0.8735\n",
            "Epoch 58/200\n",
            "1/1 - 0s - loss: 0.4326 - acc: 0.8588 - val_loss: 0.3874 - val_acc: 0.8736\n",
            "Epoch 59/200\n",
            "1/1 - 0s - loss: 0.4356 - acc: 0.8584 - val_loss: 0.3866 - val_acc: 0.8736\n",
            "Epoch 60/200\n",
            "1/1 - 0s - loss: 0.4325 - acc: 0.8580 - val_loss: 0.3857 - val_acc: 0.8742\n",
            "Epoch 61/200\n",
            "1/1 - 0s - loss: 0.4310 - acc: 0.8593 - val_loss: 0.3847 - val_acc: 0.8736\n",
            "Epoch 62/200\n",
            "1/1 - 0s - loss: 0.4336 - acc: 0.8582 - val_loss: 0.3837 - val_acc: 0.8745\n",
            "Epoch 63/200\n",
            "1/1 - 0s - loss: 0.4270 - acc: 0.8617 - val_loss: 0.3826 - val_acc: 0.8760\n",
            "Epoch 64/200\n",
            "1/1 - 0s - loss: 0.4297 - acc: 0.8597 - val_loss: 0.3818 - val_acc: 0.8760\n",
            "Epoch 65/200\n",
            "1/1 - 0s - loss: 0.4326 - acc: 0.8583 - val_loss: 0.3811 - val_acc: 0.8765\n",
            "Epoch 66/200\n",
            "1/1 - 0s - loss: 0.4311 - acc: 0.8590 - val_loss: 0.3805 - val_acc: 0.8765\n",
            "Epoch 67/200\n",
            "1/1 - 0s - loss: 0.4259 - acc: 0.8615 - val_loss: 0.3797 - val_acc: 0.8768\n",
            "Epoch 68/200\n",
            "1/1 - 0s - loss: 0.4248 - acc: 0.8600 - val_loss: 0.3789 - val_acc: 0.8770\n",
            "Epoch 69/200\n",
            "1/1 - 0s - loss: 0.4268 - acc: 0.8602 - val_loss: 0.3782 - val_acc: 0.8772\n",
            "Epoch 70/200\n",
            "1/1 - 0s - loss: 0.4250 - acc: 0.8599 - val_loss: 0.3774 - val_acc: 0.8768\n",
            "Epoch 71/200\n",
            "1/1 - 0s - loss: 0.4263 - acc: 0.8602 - val_loss: 0.3766 - val_acc: 0.8776\n",
            "Epoch 72/200\n",
            "1/1 - 0s - loss: 0.4234 - acc: 0.8619 - val_loss: 0.3758 - val_acc: 0.8777\n",
            "Epoch 73/200\n",
            "1/1 - 0s - loss: 0.4250 - acc: 0.8610 - val_loss: 0.3751 - val_acc: 0.8779\n",
            "Epoch 74/200\n",
            "1/1 - 0s - loss: 0.4234 - acc: 0.8605 - val_loss: 0.3746 - val_acc: 0.8781\n",
            "Epoch 75/200\n",
            "1/1 - 0s - loss: 0.4203 - acc: 0.8627 - val_loss: 0.3743 - val_acc: 0.8780\n",
            "Epoch 76/200\n",
            "1/1 - 0s - loss: 0.4191 - acc: 0.8621 - val_loss: 0.3740 - val_acc: 0.8772\n",
            "Epoch 77/200\n",
            "1/1 - 0s - loss: 0.4164 - acc: 0.8618 - val_loss: 0.3736 - val_acc: 0.8778\n",
            "Epoch 78/200\n",
            "1/1 - 0s - loss: 0.4199 - acc: 0.8628 - val_loss: 0.3730 - val_acc: 0.8780\n",
            "Epoch 79/200\n",
            "1/1 - 0s - loss: 0.4172 - acc: 0.8632 - val_loss: 0.3722 - val_acc: 0.8783\n",
            "Epoch 80/200\n",
            "1/1 - 0s - loss: 0.4207 - acc: 0.8613 - val_loss: 0.3713 - val_acc: 0.8790\n",
            "Epoch 81/200\n",
            "1/1 - 0s - loss: 0.4136 - acc: 0.8628 - val_loss: 0.3707 - val_acc: 0.8786\n",
            "Epoch 82/200\n",
            "1/1 - 0s - loss: 0.4169 - acc: 0.8616 - val_loss: 0.3702 - val_acc: 0.8785\n",
            "Epoch 83/200\n",
            "1/1 - 0s - loss: 0.4158 - acc: 0.8641 - val_loss: 0.3699 - val_acc: 0.8787\n",
            "Epoch 84/200\n",
            "1/1 - 0s - loss: 0.4159 - acc: 0.8619 - val_loss: 0.3697 - val_acc: 0.8776\n",
            "Epoch 85/200\n",
            "1/1 - 0s - loss: 0.4180 - acc: 0.8626 - val_loss: 0.3696 - val_acc: 0.8780\n",
            "Epoch 86/200\n",
            "1/1 - 0s - loss: 0.4176 - acc: 0.8601 - val_loss: 0.3694 - val_acc: 0.8779\n",
            "Epoch 87/200\n",
            "1/1 - 0s - loss: 0.4156 - acc: 0.8617 - val_loss: 0.3688 - val_acc: 0.8790\n",
            "Epoch 88/200\n",
            "1/1 - 0s - loss: 0.4133 - acc: 0.8627 - val_loss: 0.3681 - val_acc: 0.8792\n",
            "Epoch 89/200\n",
            "1/1 - 0s - loss: 0.4133 - acc: 0.8621 - val_loss: 0.3673 - val_acc: 0.8790\n",
            "Epoch 90/200\n",
            "1/1 - 0s - loss: 0.4105 - acc: 0.8647 - val_loss: 0.3666 - val_acc: 0.8795\n",
            "Epoch 91/200\n",
            "1/1 - 0s - loss: 0.4126 - acc: 0.8632 - val_loss: 0.3660 - val_acc: 0.8791\n",
            "Epoch 92/200\n",
            "1/1 - 0s - loss: 0.4115 - acc: 0.8655 - val_loss: 0.3656 - val_acc: 0.8797\n",
            "Epoch 93/200\n",
            "1/1 - 0s - loss: 0.4140 - acc: 0.8615 - val_loss: 0.3655 - val_acc: 0.8786\n",
            "Epoch 94/200\n",
            "1/1 - 0s - loss: 0.4086 - acc: 0.8634 - val_loss: 0.3650 - val_acc: 0.8789\n",
            "Epoch 95/200\n",
            "1/1 - 0s - loss: 0.4075 - acc: 0.8642 - val_loss: 0.3645 - val_acc: 0.8793\n",
            "Epoch 96/200\n",
            "1/1 - 0s - loss: 0.4127 - acc: 0.8626 - val_loss: 0.3638 - val_acc: 0.8796\n",
            "Epoch 97/200\n",
            "1/1 - 0s - loss: 0.4100 - acc: 0.8620 - val_loss: 0.3632 - val_acc: 0.8803\n",
            "Epoch 98/200\n",
            "1/1 - 0s - loss: 0.4093 - acc: 0.8635 - val_loss: 0.3627 - val_acc: 0.8811\n",
            "Epoch 99/200\n",
            "1/1 - 0s - loss: 0.4097 - acc: 0.8644 - val_loss: 0.3624 - val_acc: 0.8808\n",
            "Epoch 100/200\n",
            "1/1 - 0s - loss: 0.4056 - acc: 0.8657 - val_loss: 0.3623 - val_acc: 0.8806\n",
            "Epoch 101/200\n",
            "1/1 - 0s - loss: 0.4070 - acc: 0.8654 - val_loss: 0.3621 - val_acc: 0.8808\n",
            "Epoch 102/200\n",
            "1/1 - 0s - loss: 0.4095 - acc: 0.8641 - val_loss: 0.3622 - val_acc: 0.8798\n",
            "Epoch 103/200\n",
            "1/1 - 0s - loss: 0.4070 - acc: 0.8654 - val_loss: 0.3619 - val_acc: 0.8801\n",
            "Epoch 104/200\n",
            "1/1 - 0s - loss: 0.4039 - acc: 0.8650 - val_loss: 0.3615 - val_acc: 0.8806\n",
            "Epoch 105/200\n",
            "1/1 - 0s - loss: 0.4037 - acc: 0.8652 - val_loss: 0.3610 - val_acc: 0.8808\n",
            "Epoch 106/200\n",
            "1/1 - 0s - loss: 0.4039 - acc: 0.8668 - val_loss: 0.3605 - val_acc: 0.8807\n",
            "Epoch 107/200\n",
            "1/1 - 0s - loss: 0.4042 - acc: 0.8667 - val_loss: 0.3600 - val_acc: 0.8809\n",
            "Epoch 108/200\n",
            "1/1 - 0s - loss: 0.4055 - acc: 0.8652 - val_loss: 0.3596 - val_acc: 0.8808\n",
            "Epoch 109/200\n",
            "1/1 - 0s - loss: 0.4049 - acc: 0.8644 - val_loss: 0.3596 - val_acc: 0.8803\n",
            "Epoch 110/200\n",
            "1/1 - 0s - loss: 0.4025 - acc: 0.8657 - val_loss: 0.3594 - val_acc: 0.8801\n",
            "Epoch 111/200\n",
            "1/1 - 0s - loss: 0.4048 - acc: 0.8646 - val_loss: 0.3589 - val_acc: 0.8808\n",
            "Epoch 112/200\n",
            "1/1 - 0s - loss: 0.4063 - acc: 0.8628 - val_loss: 0.3585 - val_acc: 0.8809\n",
            "Epoch 113/200\n",
            "1/1 - 0s - loss: 0.3996 - acc: 0.8671 - val_loss: 0.3580 - val_acc: 0.8813\n",
            "Epoch 114/200\n",
            "1/1 - 0s - loss: 0.4037 - acc: 0.8639 - val_loss: 0.3575 - val_acc: 0.8811\n",
            "Epoch 115/200\n",
            "1/1 - 0s - loss: 0.3993 - acc: 0.8656 - val_loss: 0.3572 - val_acc: 0.8816\n",
            "Epoch 116/200\n",
            "1/1 - 0s - loss: 0.3987 - acc: 0.8667 - val_loss: 0.3573 - val_acc: 0.8810\n",
            "Epoch 117/200\n",
            "1/1 - 0s - loss: 0.4038 - acc: 0.8651 - val_loss: 0.3570 - val_acc: 0.8806\n",
            "Epoch 118/200\n",
            "1/1 - 0s - loss: 0.4019 - acc: 0.8662 - val_loss: 0.3568 - val_acc: 0.8805\n",
            "Epoch 119/200\n",
            "1/1 - 0s - loss: 0.3992 - acc: 0.8649 - val_loss: 0.3564 - val_acc: 0.8807\n",
            "Epoch 120/200\n",
            "1/1 - 0s - loss: 0.3981 - acc: 0.8671 - val_loss: 0.3558 - val_acc: 0.8812\n",
            "Epoch 121/200\n",
            "1/1 - 0s - loss: 0.4008 - acc: 0.8662 - val_loss: 0.3554 - val_acc: 0.8815\n",
            "Epoch 122/200\n",
            "1/1 - 0s - loss: 0.3990 - acc: 0.8653 - val_loss: 0.3549 - val_acc: 0.8813\n",
            "Epoch 123/200\n",
            "1/1 - 0s - loss: 0.4005 - acc: 0.8645 - val_loss: 0.3550 - val_acc: 0.8811\n",
            "Epoch 124/200\n",
            "1/1 - 0s - loss: 0.3984 - acc: 0.8658 - val_loss: 0.3551 - val_acc: 0.8805\n",
            "Epoch 125/200\n",
            "1/1 - 0s - loss: 0.3984 - acc: 0.8655 - val_loss: 0.3545 - val_acc: 0.8810\n",
            "Epoch 126/200\n",
            "1/1 - 0s - loss: 0.3966 - acc: 0.8682 - val_loss: 0.3539 - val_acc: 0.8818\n",
            "Epoch 127/200\n",
            "1/1 - 0s - loss: 0.4017 - acc: 0.8634 - val_loss: 0.3537 - val_acc: 0.8817\n",
            "Epoch 128/200\n",
            "1/1 - 0s - loss: 0.3968 - acc: 0.8671 - val_loss: 0.3536 - val_acc: 0.8805\n",
            "Epoch 129/200\n",
            "1/1 - 0s - loss: 0.4003 - acc: 0.8665 - val_loss: 0.3536 - val_acc: 0.8807\n",
            "Epoch 130/200\n",
            "1/1 - 0s - loss: 0.3982 - acc: 0.8664 - val_loss: 0.3533 - val_acc: 0.8807\n",
            "Epoch 131/200\n",
            "1/1 - 0s - loss: 0.3972 - acc: 0.8664 - val_loss: 0.3525 - val_acc: 0.8813\n",
            "Epoch 132/200\n",
            "1/1 - 0s - loss: 0.3936 - acc: 0.8683 - val_loss: 0.3520 - val_acc: 0.8817\n",
            "Epoch 133/200\n",
            "1/1 - 0s - loss: 0.3966 - acc: 0.8676 - val_loss: 0.3515 - val_acc: 0.8819\n",
            "Epoch 134/200\n",
            "1/1 - 0s - loss: 0.3969 - acc: 0.8666 - val_loss: 0.3513 - val_acc: 0.8820\n",
            "Epoch 135/200\n",
            "1/1 - 0s - loss: 0.3939 - acc: 0.8668 - val_loss: 0.3515 - val_acc: 0.8818\n",
            "Epoch 136/200\n",
            "1/1 - 0s - loss: 0.3948 - acc: 0.8649 - val_loss: 0.3519 - val_acc: 0.8807\n",
            "Epoch 137/200\n",
            "1/1 - 0s - loss: 0.3943 - acc: 0.8658 - val_loss: 0.3520 - val_acc: 0.8808\n",
            "Epoch 138/200\n",
            "1/1 - 0s - loss: 0.3936 - acc: 0.8654 - val_loss: 0.3510 - val_acc: 0.8817\n",
            "Epoch 139/200\n",
            "1/1 - 0s - loss: 0.3963 - acc: 0.8661 - val_loss: 0.3505 - val_acc: 0.8830\n",
            "Epoch 140/200\n",
            "1/1 - 0s - loss: 0.3919 - acc: 0.8684 - val_loss: 0.3502 - val_acc: 0.8835\n",
            "Epoch 141/200\n",
            "1/1 - 0s - loss: 0.3943 - acc: 0.8675 - val_loss: 0.3498 - val_acc: 0.8831\n",
            "Epoch 142/200\n",
            "1/1 - 0s - loss: 0.3905 - acc: 0.8676 - val_loss: 0.3503 - val_acc: 0.8822\n",
            "Epoch 143/200\n",
            "1/1 - 0s - loss: 0.3942 - acc: 0.8652 - val_loss: 0.3502 - val_acc: 0.8816\n",
            "Epoch 144/200\n",
            "1/1 - 0s - loss: 0.3943 - acc: 0.8671 - val_loss: 0.3490 - val_acc: 0.8829\n",
            "Epoch 145/200\n",
            "1/1 - 0s - loss: 0.3907 - acc: 0.8673 - val_loss: 0.3484 - val_acc: 0.8832\n",
            "Epoch 146/200\n",
            "1/1 - 0s - loss: 0.3927 - acc: 0.8656 - val_loss: 0.3482 - val_acc: 0.8835\n",
            "Epoch 147/200\n",
            "1/1 - 0s - loss: 0.3915 - acc: 0.8690 - val_loss: 0.3484 - val_acc: 0.8831\n",
            "Epoch 148/200\n",
            "1/1 - 0s - loss: 0.3910 - acc: 0.8675 - val_loss: 0.3487 - val_acc: 0.8829\n",
            "Epoch 149/200\n",
            "1/1 - 0s - loss: 0.3941 - acc: 0.8660 - val_loss: 0.3487 - val_acc: 0.8822\n",
            "Epoch 150/200\n",
            "1/1 - 0s - loss: 0.3901 - acc: 0.8666 - val_loss: 0.3481 - val_acc: 0.8824\n",
            "Epoch 151/200\n",
            "1/1 - 0s - loss: 0.3918 - acc: 0.8669 - val_loss: 0.3473 - val_acc: 0.8835\n",
            "Epoch 152/200\n",
            "1/1 - 0s - loss: 0.3896 - acc: 0.8667 - val_loss: 0.3469 - val_acc: 0.8835\n",
            "Epoch 153/200\n",
            "1/1 - 0s - loss: 0.3886 - acc: 0.8692 - val_loss: 0.3467 - val_acc: 0.8839\n",
            "Epoch 154/200\n",
            "1/1 - 0s - loss: 0.3863 - acc: 0.8692 - val_loss: 0.3468 - val_acc: 0.8836\n",
            "Epoch 155/200\n",
            "1/1 - 0s - loss: 0.3902 - acc: 0.8679 - val_loss: 0.3467 - val_acc: 0.8838\n",
            "Epoch 156/200\n",
            "1/1 - 0s - loss: 0.3887 - acc: 0.8683 - val_loss: 0.3466 - val_acc: 0.8832\n",
            "Epoch 157/200\n",
            "1/1 - 0s - loss: 0.3907 - acc: 0.8672 - val_loss: 0.3459 - val_acc: 0.8827\n",
            "Epoch 158/200\n",
            "1/1 - 0s - loss: 0.3852 - acc: 0.8691 - val_loss: 0.3455 - val_acc: 0.8834\n",
            "Epoch 159/200\n",
            "1/1 - 0s - loss: 0.3895 - acc: 0.8690 - val_loss: 0.3451 - val_acc: 0.8839\n",
            "Epoch 160/200\n",
            "1/1 - 0s - loss: 0.3886 - acc: 0.8683 - val_loss: 0.3448 - val_acc: 0.8841\n",
            "Epoch 161/200\n",
            "1/1 - 0s - loss: 0.3879 - acc: 0.8664 - val_loss: 0.3449 - val_acc: 0.8845\n",
            "Epoch 162/200\n",
            "1/1 - 0s - loss: 0.3863 - acc: 0.8695 - val_loss: 0.3448 - val_acc: 0.8844\n",
            "Epoch 163/200\n",
            "1/1 - 0s - loss: 0.3867 - acc: 0.8685 - val_loss: 0.3446 - val_acc: 0.8837\n",
            "Epoch 164/200\n",
            "1/1 - 0s - loss: 0.3867 - acc: 0.8690 - val_loss: 0.3442 - val_acc: 0.8841\n",
            "Epoch 165/200\n",
            "1/1 - 0s - loss: 0.3859 - acc: 0.8692 - val_loss: 0.3439 - val_acc: 0.8843\n",
            "Epoch 166/200\n",
            "1/1 - 0s - loss: 0.3832 - acc: 0.8699 - val_loss: 0.3435 - val_acc: 0.8842\n",
            "Epoch 167/200\n",
            "1/1 - 0s - loss: 0.3855 - acc: 0.8685 - val_loss: 0.3434 - val_acc: 0.8841\n",
            "Epoch 168/200\n",
            "1/1 - 0s - loss: 0.3860 - acc: 0.8683 - val_loss: 0.3432 - val_acc: 0.8846\n",
            "Epoch 169/200\n",
            "1/1 - 0s - loss: 0.3891 - acc: 0.8669 - val_loss: 0.3432 - val_acc: 0.8844\n",
            "Epoch 170/200\n",
            "1/1 - 0s - loss: 0.3827 - acc: 0.8687 - val_loss: 0.3435 - val_acc: 0.8846\n",
            "Epoch 171/200\n",
            "1/1 - 0s - loss: 0.3830 - acc: 0.8710 - val_loss: 0.3438 - val_acc: 0.8846\n",
            "Epoch 172/200\n",
            "1/1 - 0s - loss: 0.3883 - acc: 0.8675 - val_loss: 0.3432 - val_acc: 0.8848\n",
            "Epoch 173/200\n",
            "1/1 - 0s - loss: 0.3846 - acc: 0.8687 - val_loss: 0.3423 - val_acc: 0.8849\n",
            "Epoch 174/200\n",
            "1/1 - 0s - loss: 0.3849 - acc: 0.8683 - val_loss: 0.3419 - val_acc: 0.8853\n",
            "Epoch 175/200\n",
            "1/1 - 0s - loss: 0.3823 - acc: 0.8702 - val_loss: 0.3418 - val_acc: 0.8846\n",
            "Epoch 176/200\n",
            "1/1 - 0s - loss: 0.3846 - acc: 0.8690 - val_loss: 0.3422 - val_acc: 0.8847\n",
            "Epoch 177/200\n",
            "1/1 - 0s - loss: 0.3851 - acc: 0.8686 - val_loss: 0.3421 - val_acc: 0.8852\n",
            "Epoch 178/200\n",
            "1/1 - 0s - loss: 0.3824 - acc: 0.8703 - val_loss: 0.3418 - val_acc: 0.8852\n",
            "Epoch 179/200\n",
            "1/1 - 0s - loss: 0.3846 - acc: 0.8690 - val_loss: 0.3415 - val_acc: 0.8852\n",
            "Epoch 180/200\n",
            "1/1 - 0s - loss: 0.3875 - acc: 0.8673 - val_loss: 0.3412 - val_acc: 0.8854\n",
            "Epoch 181/200\n",
            "1/1 - 0s - loss: 0.3821 - acc: 0.8696 - val_loss: 0.3409 - val_acc: 0.8854\n",
            "Epoch 182/200\n",
            "1/1 - 0s - loss: 0.3793 - acc: 0.8698 - val_loss: 0.3412 - val_acc: 0.8853\n",
            "Epoch 183/200\n",
            "1/1 - 0s - loss: 0.3815 - acc: 0.8688 - val_loss: 0.3414 - val_acc: 0.8854\n",
            "Epoch 184/200\n",
            "1/1 - 0s - loss: 0.3814 - acc: 0.8698 - val_loss: 0.3407 - val_acc: 0.8854\n",
            "Epoch 185/200\n",
            "1/1 - 0s - loss: 0.3866 - acc: 0.8678 - val_loss: 0.3403 - val_acc: 0.8853\n",
            "Epoch 186/200\n",
            "1/1 - 0s - loss: 0.3811 - acc: 0.8694 - val_loss: 0.3404 - val_acc: 0.8858\n",
            "Epoch 187/200\n",
            "1/1 - 0s - loss: 0.3804 - acc: 0.8707 - val_loss: 0.3407 - val_acc: 0.8863\n",
            "Epoch 188/200\n",
            "1/1 - 0s - loss: 0.3799 - acc: 0.8712 - val_loss: 0.3410 - val_acc: 0.8857\n",
            "Epoch 189/200\n",
            "1/1 - 0s - loss: 0.3802 - acc: 0.8703 - val_loss: 0.3408 - val_acc: 0.8857\n",
            "Epoch 190/200\n",
            "1/1 - 0s - loss: 0.3795 - acc: 0.8700 - val_loss: 0.3398 - val_acc: 0.8866\n",
            "Epoch 191/200\n",
            "1/1 - 0s - loss: 0.3807 - acc: 0.8706 - val_loss: 0.3395 - val_acc: 0.8850\n",
            "Epoch 192/200\n",
            "1/1 - 0s - loss: 0.3792 - acc: 0.8692 - val_loss: 0.3392 - val_acc: 0.8848\n",
            "Epoch 193/200\n",
            "1/1 - 0s - loss: 0.3832 - acc: 0.8680 - val_loss: 0.3390 - val_acc: 0.8854\n",
            "Epoch 194/200\n",
            "1/1 - 0s - loss: 0.3746 - acc: 0.8714 - val_loss: 0.3394 - val_acc: 0.8864\n",
            "Epoch 195/200\n",
            "1/1 - 0s - loss: 0.3833 - acc: 0.8699 - val_loss: 0.3394 - val_acc: 0.8859\n",
            "Epoch 196/200\n",
            "1/1 - 0s - loss: 0.3781 - acc: 0.8712 - val_loss: 0.3390 - val_acc: 0.8866\n",
            "Epoch 197/200\n",
            "1/1 - 0s - loss: 0.3806 - acc: 0.8688 - val_loss: 0.3385 - val_acc: 0.8867\n",
            "Epoch 198/200\n",
            "1/1 - 0s - loss: 0.3799 - acc: 0.8702 - val_loss: 0.3384 - val_acc: 0.8871\n",
            "Epoch 199/200\n",
            "1/1 - 0s - loss: 0.3794 - acc: 0.8706 - val_loss: 0.3383 - val_acc: 0.8872\n",
            "Epoch 200/200\n",
            "1/1 - 0s - loss: 0.3812 - acc: 0.8693 - val_loss: 0.3383 - val_acc: 0.8873\n"
          ],
          "name": "stdout"
        }
      ]
    },
    {
      "cell_type": "code",
      "metadata": {
        "colab": {
          "base_uri": "https://localhost:8080/",
          "height": 585
        },
        "id": "0Wa33CcYn3M2",
        "outputId": "cd69f272-d495-4f67-a9c0-387c4de92c05"
      },
      "source": [
        "sg.utils.plot_history(history)"
      ],
      "execution_count": 68,
      "outputs": [
        {
          "output_type": "display_data",
          "data": {
            "image/png": "[encoded data removed]",
            "text/plain": [
              "<Figure size 504x576 with 2 Axes>"
            ]
          },
          "metadata": {
            "tags": [],
            "needs_background": "light"
          }
        }
      ]
    },
    {
      "cell_type": "code",
      "metadata": {
        "colab": {
          "base_uri": "https://localhost:8080/"
        },
        "id": "JSJu3gB2n7R1",
        "outputId": "0a594242-81ac-4aa6-b744-c7c77125cbcb"
      },
      "source": [
        "test_metrics = model.evaluate(test_gen)\n",
        "\n",
        "print(\"\\nTest Set Metrics:\")\n",
        "for name, val in zip(model.metrics_names, test_metrics):\n",
        "    print(\"\\t{}: {:0.4f}\".format(name, val))"
      ],
      "execution_count": 69,
      "outputs": [
        {
          "output_type": "stream",
          "text": [
            "1/1 [==============================] - 0s 65ms/step - loss: 0.3356 - acc: 0.8867\n",
            "\n",
            "Test Set Metrics:\n",
            "\tloss: 0.3356\n",
            "\tacc: 0.8867\n"
          ],
          "name": "stdout"
        }
      ]
    },
    {
      "cell_type": "code",
      "metadata": {
        "colab": {
          "base_uri": "https://localhost:8080/"
        },
        "id": "1usL0WCNn_Qg",
        "outputId": "b67c28f2-93f2-410e-b473-67797897f7e8"
      },
      "source": [
        "y_pred = model.predict(test_gen)\n",
        "y_pred = target_encoding.inverse_transform(y_pred.squeeze())\n",
        "y_pred = le.inverse_transform(y_pred)\n",
        "\n",
        "y_pred[:10]"
      ],
      "execution_count": 70,
      "outputs": [
        {
          "output_type": "execute_result",
          "data": {
            "text/plain": [
              "array(['Informatyka', 'Astronomia', 'Astronomia', 'Biologia',\n",
              "       'Astronomia', 'Biologia', 'Astronomia', 'Matematyka', 'Biologia',\n",
              "       'Biologia'], dtype='<U11')"
            ]
          },
          "metadata": {
            "tags": []
          },
          "execution_count": 70
        }
      ]
    },
    {
      "cell_type": "code",
      "metadata": {
        "colab": {
          "base_uri": "https://localhost:8080/"
        },
        "id": "G4kNRaH4oCUT",
        "outputId": "71306f71-7aa4-47ea-d6d5-dd0713db0a5f"
      },
      "source": [
        "y_test = target_encoding.inverse_transform(test_targets)\n",
        "y_test = le.inverse_transform(y_test)\n",
        "\n",
        "y_test[:10]"
      ],
      "execution_count": 71,
      "outputs": [
        {
          "output_type": "execute_result",
          "data": {
            "text/plain": [
              "array(['Informatyka', 'Astronomia', 'Astronomia', 'Biologia',\n",
              "       'Astronomia', 'Biologia', 'Astronomia', 'Matematyka', 'Biologia',\n",
              "       'Biologia'], dtype='<U11')"
            ]
          },
          "metadata": {
            "tags": []
          },
          "execution_count": 71
        }
      ]
    },
    {
      "cell_type": "code",
      "metadata": {
        "id": "_gJi-HJWkbRs"
      },
      "source": [
        "with open(\"/content/drive/Shareddrives/GCN-PROJECT/onehot140_gcn_y_pred.pickle\", \"wb\") as f:\n",
        "  pickle.dump(y_pred, f)\n",
        "with open(\"/content/drive/Shareddrives/GCN-PROJECT/onehot140_gcn_y_true.pickle\", \"wb\") as f:\n",
        "  pickle.dump(y_test, f)"
      ],
      "execution_count": 72,
      "outputs": []
    },
    {
      "cell_type": "code",
      "metadata": {
        "colab": {
          "base_uri": "https://localhost:8080/"
        },
        "id": "OPAcBI9woEMN",
        "outputId": "aff5645e-ceaa-45ed-93a9-1f42a8fa94e1"
      },
      "source": [
        "print(classification_report(y_test, y_pred))"
      ],
      "execution_count": 73,
      "outputs": [
        {
          "output_type": "stream",
          "text": [
            "              precision    recall  f1-score   support\n",
            "\n",
            "  Astronomia       0.99      0.99      0.99      3832\n",
            "    Biologia       0.88      0.97      0.92      3522\n",
            "      Chemia       0.67      0.60      0.63       416\n",
            "      Fizyka       0.78      0.71      0.74       768\n",
            " Informatyka       0.76      0.76      0.76       738\n",
            "  Matematyka       0.82      0.73      0.77      1211\n",
            " Psychologia       0.83      0.73      0.78       860\n",
            "\n",
            "    accuracy                           0.89     11347\n",
            "   macro avg       0.82      0.78      0.80     11347\n",
            "weighted avg       0.88      0.89      0.88     11347\n",
            "\n"
          ],
          "name": "stdout"
        }
      ]
    },
    {
      "cell_type": "code",
      "metadata": {
        "colab": {
          "base_uri": "https://localhost:8080/",
          "height": 522
        },
        "id": "QlIdv1EvoGZh",
        "outputId": "fa262f9b-7ce1-4f0b-c4a8-9d68a48299be"
      },
      "source": [
        "conf_matrix(\n",
        "    y_true=y_test,\n",
        "    y_pred=y_pred\n",
        ")"
      ],
      "execution_count": 74,
      "outputs": [
        {
          "output_type": "display_data",
          "data": {
            "image/png": "[encoded data removed]",
            "text/plain": [
              "<Figure size 720x504 with 2 Axes>"
            ]
          },
          "metadata": {
            "tags": [],
            "needs_background": "light"
          }
        }
      ]
    },
    {
      "cell_type": "code",
      "metadata": {
        "id": "W_da65jkoZEB"
      },
      "source": [
        ""
      ],
      "execution_count": 74,
      "outputs": []
    }
  ]
}