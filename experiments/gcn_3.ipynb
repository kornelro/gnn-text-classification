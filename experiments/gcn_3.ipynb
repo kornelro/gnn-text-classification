{
  "nbformat": 4,
  "nbformat_minor": 0,
  "metadata": {
    "accelerator": "GPU",
    "colab": {
      "name": "gcn_3.ipynb",
      "provenance": [],
      "collapsed_sections": []
    },
    "kernelspec": {
      "display_name": "Python 3",
      "language": "python",
      "name": "python3"
    },
    "language_info": {
      "codemirror_mode": {
        "name": "ipython",
        "version": 3
      },
      "file_extension": ".py",
      "mimetype": "text/x-python",
      "name": "python",
      "nbconvert_exporter": "python",
      "pygments_lexer": "ipython3",
      "version": "3.6.12"
    }
  },
  "cells": [
    {
      "cell_type": "code",
      "metadata": {
        "colab": {
          "base_uri": "https://localhost:8080/"
        },
        "id": "UEmMY9lX8L_L",
        "outputId": "83599e0a-e677-4181-a3e3-f393b879383b"
      },
      "source": [
        "!pip install stellargraph"
      ],
      "execution_count": null,
      "outputs": [
        {
          "output_type": "stream",
          "text": [
            "Collecting stellargraph\n",
            "\u001b[?25l  Downloading https://files.pythonhosted.org/packages/74/78/16b23ef04cf6fb24a7dea9fd0e03c8308a56681cc5efe29f16186210ba04/stellargraph-1.2.1-py3-none-any.whl (435kB)\n",
            "\u001b[K     |████████████████████████████████| 440kB 5.6MB/s \n",
            "\u001b[?25hRequirement already satisfied: tensorflow>=2.1.0 in /usr/local/lib/python3.6/dist-packages (from stellargraph) (2.4.0)\n",
            "Requirement already satisfied: scipy>=1.1.0 in /usr/local/lib/python3.6/dist-packages (from stellargraph) (1.4.1)\n",
            "Requirement already satisfied: scikit-learn>=0.20 in /usr/local/lib/python3.6/dist-packages (from stellargraph) (0.22.2.post1)\n",
            "Requirement already satisfied: numpy>=1.14 in /usr/local/lib/python3.6/dist-packages (from stellargraph) (1.19.5)\n",
            "Requirement already satisfied: pandas>=0.24 in /usr/local/lib/python3.6/dist-packages (from stellargraph) (1.1.5)\n",
            "Requirement already satisfied: gensim>=3.4.0 in /usr/local/lib/python3.6/dist-packages (from stellargraph) (3.6.0)\n",
            "Requirement already satisfied: matplotlib>=2.2 in /usr/local/lib/python3.6/dist-packages (from stellargraph) (3.2.2)\n",
            "Requirement already satisfied: networkx>=2.2 in /usr/local/lib/python3.6/dist-packages (from stellargraph) (2.5)\n",
            "Requirement already satisfied: flatbuffers~=1.12.0 in /usr/local/lib/python3.6/dist-packages (from tensorflow>=2.1.0->stellargraph) (1.12)\n",
            "Requirement already satisfied: typing-extensions~=3.7.4 in /usr/local/lib/python3.6/dist-packages (from tensorflow>=2.1.0->stellargraph) (3.7.4.3)\n",
            "Requirement already satisfied: absl-py~=0.10 in /usr/local/lib/python3.6/dist-packages (from tensorflow>=2.1.0->stellargraph) (0.10.0)\n",
            "Requirement already satisfied: tensorflow-estimator<2.5.0,>=2.4.0rc0 in /usr/local/lib/python3.6/dist-packages (from tensorflow>=2.1.0->stellargraph) (2.4.0)\n",
            "Requirement already satisfied: keras-preprocessing~=1.1.2 in /usr/local/lib/python3.6/dist-packages (from tensorflow>=2.1.0->stellargraph) (1.1.2)\n",
            "Requirement already satisfied: wheel~=0.35 in /usr/local/lib/python3.6/dist-packages (from tensorflow>=2.1.0->stellargraph) (0.36.2)\n",
            "Requirement already satisfied: wrapt~=1.12.1 in /usr/local/lib/python3.6/dist-packages (from tensorflow>=2.1.0->stellargraph) (1.12.1)\n",
            "Requirement already satisfied: protobuf>=3.9.2 in /usr/local/lib/python3.6/dist-packages (from tensorflow>=2.1.0->stellargraph) (3.12.4)\n",
            "Requirement already satisfied: h5py~=2.10.0 in /usr/local/lib/python3.6/dist-packages (from tensorflow>=2.1.0->stellargraph) (2.10.0)\n",
            "Requirement already satisfied: google-pasta~=0.2 in /usr/local/lib/python3.6/dist-packages (from tensorflow>=2.1.0->stellargraph) (0.2.0)\n",
            "Requirement already satisfied: astunparse~=1.6.3 in /usr/local/lib/python3.6/dist-packages (from tensorflow>=2.1.0->stellargraph) (1.6.3)\n",
            "Requirement already satisfied: six~=1.15.0 in /usr/local/lib/python3.6/dist-packages (from tensorflow>=2.1.0->stellargraph) (1.15.0)\n",
            "Requirement already satisfied: termcolor~=1.1.0 in /usr/local/lib/python3.6/dist-packages (from tensorflow>=2.1.0->stellargraph) (1.1.0)\n",
            "Requirement already satisfied: tensorboard~=2.4 in /usr/local/lib/python3.6/dist-packages (from tensorflow>=2.1.0->stellargraph) (2.4.0)\n",
            "Requirement already satisfied: grpcio~=1.32.0 in /usr/local/lib/python3.6/dist-packages (from tensorflow>=2.1.0->stellargraph) (1.32.0)\n",
            "Requirement already satisfied: opt-einsum~=3.3.0 in /usr/local/lib/python3.6/dist-packages (from tensorflow>=2.1.0->stellargraph) (3.3.0)\n",
            "Requirement already satisfied: gast==0.3.3 in /usr/local/lib/python3.6/dist-packages (from tensorflow>=2.1.0->stellargraph) (0.3.3)\n",
            "Requirement already satisfied: joblib>=0.11 in /usr/local/lib/python3.6/dist-packages (from scikit-learn>=0.20->stellargraph) (1.0.0)\n",
            "Requirement already satisfied: python-dateutil>=2.7.3 in /usr/local/lib/python3.6/dist-packages (from pandas>=0.24->stellargraph) (2.8.1)\n",
            "Requirement already satisfied: pytz>=2017.2 in /usr/local/lib/python3.6/dist-packages (from pandas>=0.24->stellargraph) (2018.9)\n",
            "Requirement already satisfied: smart-open>=1.2.1 in /usr/local/lib/python3.6/dist-packages (from gensim>=3.4.0->stellargraph) (4.1.0)\n",
            "Requirement already satisfied: cycler>=0.10 in /usr/local/lib/python3.6/dist-packages (from matplotlib>=2.2->stellargraph) (0.10.0)\n",
            "Requirement already satisfied: kiwisolver>=1.0.1 in /usr/local/lib/python3.6/dist-packages (from matplotlib>=2.2->stellargraph) (1.3.1)\n",
            "Requirement already satisfied: pyparsing!=2.0.4,!=2.1.2,!=2.1.6,>=2.0.1 in /usr/local/lib/python3.6/dist-packages (from matplotlib>=2.2->stellargraph) (2.4.7)\n",
            "Requirement already satisfied: decorator>=4.3.0 in /usr/local/lib/python3.6/dist-packages (from networkx>=2.2->stellargraph) (4.4.2)\n",
            "Requirement already satisfied: setuptools in /usr/local/lib/python3.6/dist-packages (from protobuf>=3.9.2->tensorflow>=2.1.0->stellargraph) (51.1.1)\n",
            "Requirement already satisfied: tensorboard-plugin-wit>=1.6.0 in /usr/local/lib/python3.6/dist-packages (from tensorboard~=2.4->tensorflow>=2.1.0->stellargraph) (1.7.0)\n",
            "Requirement already satisfied: requests<3,>=2.21.0 in /usr/local/lib/python3.6/dist-packages (from tensorboard~=2.4->tensorflow>=2.1.0->stellargraph) (2.23.0)\n",
            "Requirement already satisfied: markdown>=2.6.8 in /usr/local/lib/python3.6/dist-packages (from tensorboard~=2.4->tensorflow>=2.1.0->stellargraph) (3.3.3)\n",
            "Requirement already satisfied: google-auth<2,>=1.6.3 in /usr/local/lib/python3.6/dist-packages (from tensorboard~=2.4->tensorflow>=2.1.0->stellargraph) (1.17.2)\n",
            "Requirement already satisfied: google-auth-oauthlib<0.5,>=0.4.1 in /usr/local/lib/python3.6/dist-packages (from tensorboard~=2.4->tensorflow>=2.1.0->stellargraph) (0.4.2)\n",
            "Requirement already satisfied: werkzeug>=0.11.15 in /usr/local/lib/python3.6/dist-packages (from tensorboard~=2.4->tensorflow>=2.1.0->stellargraph) (1.0.1)\n",
            "Requirement already satisfied: idna<3,>=2.5 in /usr/local/lib/python3.6/dist-packages (from requests<3,>=2.21.0->tensorboard~=2.4->tensorflow>=2.1.0->stellargraph) (2.10)\n",
            "Requirement already satisfied: certifi>=2017.4.17 in /usr/local/lib/python3.6/dist-packages (from requests<3,>=2.21.0->tensorboard~=2.4->tensorflow>=2.1.0->stellargraph) (2020.12.5)\n",
            "Requirement already satisfied: urllib3!=1.25.0,!=1.25.1,<1.26,>=1.21.1 in /usr/local/lib/python3.6/dist-packages (from requests<3,>=2.21.0->tensorboard~=2.4->tensorflow>=2.1.0->stellargraph) (1.24.3)\n",
            "Requirement already satisfied: chardet<4,>=3.0.2 in /usr/local/lib/python3.6/dist-packages (from requests<3,>=2.21.0->tensorboard~=2.4->tensorflow>=2.1.0->stellargraph) (3.0.4)\n",
            "Requirement already satisfied: importlib-metadata; python_version < \"3.8\" in /usr/local/lib/python3.6/dist-packages (from markdown>=2.6.8->tensorboard~=2.4->tensorflow>=2.1.0->stellargraph) (3.3.0)\n",
            "Requirement already satisfied: rsa<5,>=3.1.4; python_version >= \"3\" in /usr/local/lib/python3.6/dist-packages (from google-auth<2,>=1.6.3->tensorboard~=2.4->tensorflow>=2.1.0->stellargraph) (4.6)\n",
            "Requirement already satisfied: cachetools<5.0,>=2.0.0 in /usr/local/lib/python3.6/dist-packages (from google-auth<2,>=1.6.3->tensorboard~=2.4->tensorflow>=2.1.0->stellargraph) (4.2.0)\n",
            "Requirement already satisfied: pyasn1-modules>=0.2.1 in /usr/local/lib/python3.6/dist-packages (from google-auth<2,>=1.6.3->tensorboard~=2.4->tensorflow>=2.1.0->stellargraph) (0.2.8)\n",
            "Requirement already satisfied: requests-oauthlib>=0.7.0 in /usr/local/lib/python3.6/dist-packages (from google-auth-oauthlib<0.5,>=0.4.1->tensorboard~=2.4->tensorflow>=2.1.0->stellargraph) (1.3.0)\n",
            "Requirement already satisfied: zipp>=0.5 in /usr/local/lib/python3.6/dist-packages (from importlib-metadata; python_version < \"3.8\"->markdown>=2.6.8->tensorboard~=2.4->tensorflow>=2.1.0->stellargraph) (3.4.0)\n",
            "Requirement already satisfied: pyasn1>=0.1.3 in /usr/local/lib/python3.6/dist-packages (from rsa<5,>=3.1.4; python_version >= \"3\"->google-auth<2,>=1.6.3->tensorboard~=2.4->tensorflow>=2.1.0->stellargraph) (0.4.8)\n",
            "Requirement already satisfied: oauthlib>=3.0.0 in /usr/local/lib/python3.6/dist-packages (from requests-oauthlib>=0.7.0->google-auth-oauthlib<0.5,>=0.4.1->tensorboard~=2.4->tensorflow>=2.1.0->stellargraph) (3.1.0)\n",
            "Installing collected packages: stellargraph\n",
            "Successfully installed stellargraph-1.2.1\n"
          ],
          "name": "stdout"
        }
      ]
    },
    {
      "cell_type": "code",
      "metadata": {
        "id": "rl3a91S8Biye"
      },
      "source": [
        "import glob\n",
        "import itertools\n",
        "from os.path import join\n",
        "import pickle\n",
        "from typing import List\n",
        "from collections import Counter\n",
        "\n",
        "import matplotlib.pyplot as plt\n",
        "import numpy as np\n",
        "import pandas as pd\n",
        "import seaborn as sn\n",
        "import stellargraph as sg\n",
        "import tensorflow as tf\n",
        "import torch\n",
        "import torch.optim as optim\n",
        "import torch.nn as nn\n",
        "import torch.nn.functional as F\n",
        "from sklearn.metrics import f1_score, confusion_matrix, accuracy_score, classification_report\n",
        "from sklearn.model_selection import train_test_split\n",
        "from sklearn.preprocessing import LabelEncoder, LabelBinarizer\n",
        "from stellargraph import StellarGraph\n",
        "from stellargraph.mapper import FullBatchNodeGenerator\n",
        "from stellargraph.layer import GAT, GCN\n",
        "from tensorflow.keras import layers, models, optimizers, losses, metrics, Model\n",
        "from tensorflow.keras.callbacks import EarlyStopping, ModelCheckpoint\n",
        "from torch.utils import data as data_utils\n",
        "from tqdm import tqdm\n",
        "\n",
        "from google.colab import drive\n",
        "\n",
        "tqdm.pandas()"
      ],
      "execution_count": null,
      "outputs": []
    },
    {
      "cell_type": "markdown",
      "metadata": {
        "id": "YAaVMGcMkTjM"
      },
      "source": [
        "## Setting seed value"
      ]
    },
    {
      "cell_type": "code",
      "metadata": {
        "id": "ptuTrKBwkPV5"
      },
      "source": [
        "seed_value = 1234\n",
        "\n",
        "tf.random.set_seed(seed_value)\n",
        "np.random.seed(seed_value)"
      ],
      "execution_count": null,
      "outputs": []
    },
    {
      "cell_type": "markdown",
      "metadata": {
        "id": "2zsz5KNtCA95"
      },
      "source": [
        "## Mount Google Drive"
      ]
    },
    {
      "cell_type": "code",
      "metadata": {
        "id": "UsI7DpYzCFBU",
        "colab": {
          "base_uri": "https://localhost:8080/"
        },
        "outputId": "637545a5-4720-4925-eab1-0a695e107229"
      },
      "source": [
        "drive.mount('/content/drive')"
      ],
      "execution_count": null,
      "outputs": [
        {
          "output_type": "stream",
          "text": [
            "Mounted at /content/drive\n"
          ],
          "name": "stdout"
        }
      ]
    },
    {
      "cell_type": "markdown",
      "metadata": {
        "id": "LlZ2qErtBseM"
      },
      "source": [
        "## Data loading and preparing"
      ]
    },
    {
      "cell_type": "code",
      "metadata": {
        "id": "G2c3CBBmXXW2"
      },
      "source": [
        "data = pd.read_csv(\"/content/drive/Shareddrives/GCN-PROJECT/wiki_pages_lemmas.csv\", index_col=0)"
      ],
      "execution_count": null,
      "outputs": []
    },
    {
      "cell_type": "code",
      "metadata": {
        "colab": {
          "base_uri": "https://localhost:8080/",
          "height": 221
        },
        "id": "ibhGmsxKYnQ_",
        "outputId": "49a03bc3-96f9-46d7-fcd4-9755792a20c2"
      },
      "source": [
        "print(data.shape)\n",
        "data.head()"
      ],
      "execution_count": null,
      "outputs": [
        {
          "output_type": "stream",
          "text": [
            "(75792, 4)\n"
          ],
          "name": "stdout"
        },
        {
          "output_type": "execute_result",
          "data": {
            "text/html": [
              "<div>\n",
              "<style scoped>\n",
              "    .dataframe tbody tr th:only-of-type {\n",
              "        vertical-align: middle;\n",
              "    }\n",
              "\n",
              "    .dataframe tbody tr th {\n",
              "        vertical-align: top;\n",
              "    }\n",
              "\n",
              "    .dataframe thead th {\n",
              "        text-align: right;\n",
              "    }\n",
              "</style>\n",
              "<table border=\"1\" class=\"dataframe\">\n",
              "  <thead>\n",
              "    <tr style=\"text-align: right;\">\n",
              "      <th></th>\n",
              "      <th>title</th>\n",
              "      <th>text</th>\n",
              "      <th>category</th>\n",
              "      <th>noun_lemmas</th>\n",
              "    </tr>\n",
              "  </thead>\n",
              "  <tbody>\n",
              "    <tr>\n",
              "      <th>0</th>\n",
              "      <td>Mirosław_Miller</td>\n",
              "      <td>Mirosław Miller – Dyrektor Międzynarodowego La...</td>\n",
              "      <td>Chemia</td>\n",
              "      <td>['mirosława', 'miller', 'dyrektor', 'laborator...</td>\n",
              "    </tr>\n",
              "    <tr>\n",
              "      <th>1</th>\n",
              "      <td>Chimerokształtne</td>\n",
              "      <td>Chimerokształtne, chimery, przerazy (Chimaerif...</td>\n",
              "      <td>Biologia</td>\n",
              "      <td>['chimera', 'przeraza', 'chimaeriformes', 'rzą...</td>\n",
              "    </tr>\n",
              "    <tr>\n",
              "      <th>2</th>\n",
              "      <td>(2855)_Bastian</td>\n",
              "      <td>(2855) Bastian (1931 TB2) – planetoida z grupy...</td>\n",
              "      <td>Astronomia</td>\n",
              "      <td>['bastian', 'tb2', 'planetoida', 'grupa', 'pas...</td>\n",
              "    </tr>\n",
              "    <tr>\n",
              "      <th>3</th>\n",
              "      <td>Cryptocephalus_celtibericus</td>\n",
              "      <td>\"Cryptocephalus celtibericus\" – gatunek chrząs...</td>\n",
              "      <td>Biologia</td>\n",
              "      <td>['cryptocephalus', 'celtibericus', 'gatunek', ...</td>\n",
              "    </tr>\n",
              "    <tr>\n",
              "      <th>4</th>\n",
              "      <td>Język_maszynowy</td>\n",
              "      <td>Język maszynowy, kod maszynowy – zestaw rozkaz...</td>\n",
              "      <td>Matematyka</td>\n",
              "      <td>['język', 'koda', 'zestaw', 'rozkaz', 'proceso...</td>\n",
              "    </tr>\n",
              "  </tbody>\n",
              "</table>\n",
              "</div>"
            ],
            "text/plain": [
              "                         title  ...                                        noun_lemmas\n",
              "0              Mirosław_Miller  ...  ['mirosława', 'miller', 'dyrektor', 'laborator...\n",
              "1             Chimerokształtne  ...  ['chimera', 'przeraza', 'chimaeriformes', 'rzą...\n",
              "2               (2855)_Bastian  ...  ['bastian', 'tb2', 'planetoida', 'grupa', 'pas...\n",
              "3  Cryptocephalus_celtibericus  ...  ['cryptocephalus', 'celtibericus', 'gatunek', ...\n",
              "4              Język_maszynowy  ...  ['język', 'koda', 'zestaw', 'rozkaz', 'proceso...\n",
              "\n",
              "[5 rows x 4 columns]"
            ]
          },
          "metadata": {
            "tags": []
          },
          "execution_count": 6
        }
      ]
    },
    {
      "cell_type": "code",
      "metadata": {
        "id": "xLFnxVHcZo2w"
      },
      "source": [
        "data = data.drop_duplicates(subset=['title'])\n",
        "data = data.reset_index(drop=True)"
      ],
      "execution_count": null,
      "outputs": []
    },
    {
      "cell_type": "code",
      "metadata": {
        "colab": {
          "base_uri": "https://localhost:8080/"
        },
        "id": "-ye37kz9ZcAw",
        "outputId": "e005746f-40a2-418f-f5ce-75581f3a1afd"
      },
      "source": [
        "# noun_lemmas column to list\n",
        "data['noun_lemmas'] = data['noun_lemmas'].progress_apply(\n",
        "    lambda row: row[1:-1].replace('\\'', '').split(', ')\n",
        ")"
      ],
      "execution_count": null,
      "outputs": [
        {
          "output_type": "stream",
          "text": [
            "100%|██████████| 75649/75649 [00:01<00:00, 42317.50it/s]\n"
          ],
          "name": "stderr"
        }
      ]
    },
    {
      "cell_type": "code",
      "metadata": {
        "colab": {
          "base_uri": "https://localhost:8080/",
          "height": 204
        },
        "id": "K0-g4QdneHVi",
        "outputId": "13039e22-fa2b-4406-854e-020d41381f38"
      },
      "source": [
        "# Encode target labels with value between 0 and n_classes-1\n",
        "le = LabelEncoder()\n",
        "le.fit(data['category'].tolist())\n",
        "labels = le.transform(data['category'].tolist())\n",
        "\n",
        "data['category'] = labels\n",
        "\n",
        "data.head()"
      ],
      "execution_count": null,
      "outputs": [
        {
          "output_type": "execute_result",
          "data": {
            "text/html": [
              "<div>\n",
              "<style scoped>\n",
              "    .dataframe tbody tr th:only-of-type {\n",
              "        vertical-align: middle;\n",
              "    }\n",
              "\n",
              "    .dataframe tbody tr th {\n",
              "        vertical-align: top;\n",
              "    }\n",
              "\n",
              "    .dataframe thead th {\n",
              "        text-align: right;\n",
              "    }\n",
              "</style>\n",
              "<table border=\"1\" class=\"dataframe\">\n",
              "  <thead>\n",
              "    <tr style=\"text-align: right;\">\n",
              "      <th></th>\n",
              "      <th>title</th>\n",
              "      <th>text</th>\n",
              "      <th>category</th>\n",
              "      <th>noun_lemmas</th>\n",
              "    </tr>\n",
              "  </thead>\n",
              "  <tbody>\n",
              "    <tr>\n",
              "      <th>0</th>\n",
              "      <td>Mirosław_Miller</td>\n",
              "      <td>Mirosław Miller – Dyrektor Międzynarodowego La...</td>\n",
              "      <td>2</td>\n",
              "      <td>[mirosława, miller, dyrektor, laboratorium, po...</td>\n",
              "    </tr>\n",
              "    <tr>\n",
              "      <th>1</th>\n",
              "      <td>Chimerokształtne</td>\n",
              "      <td>Chimerokształtne, chimery, przerazy (Chimaerif...</td>\n",
              "      <td>1</td>\n",
              "      <td>[chimera, przeraza, chimaeriformes, rząd, ryba...</td>\n",
              "    </tr>\n",
              "    <tr>\n",
              "      <th>2</th>\n",
              "      <td>(2855)_Bastian</td>\n",
              "      <td>(2855) Bastian (1931 TB2) – planetoida z grupy...</td>\n",
              "      <td>0</td>\n",
              "      <td>[bastian, tb2, planetoida, grupa, pas, asteroi...</td>\n",
              "    </tr>\n",
              "    <tr>\n",
              "      <th>3</th>\n",
              "      <td>Cryptocephalus_celtibericus</td>\n",
              "      <td>\"Cryptocephalus celtibericus\" – gatunek chrząs...</td>\n",
              "      <td>1</td>\n",
              "      <td>[cryptocephalus, celtibericus, gatunek, chrząs...</td>\n",
              "    </tr>\n",
              "    <tr>\n",
              "      <th>4</th>\n",
              "      <td>Język_maszynowy</td>\n",
              "      <td>Język maszynowy, kod maszynowy – zestaw rozkaz...</td>\n",
              "      <td>5</td>\n",
              "      <td>[język, koda, zestaw, rozkaz, procesor, zapis,...</td>\n",
              "    </tr>\n",
              "  </tbody>\n",
              "</table>\n",
              "</div>"
            ],
            "text/plain": [
              "                         title  ...                                        noun_lemmas\n",
              "0              Mirosław_Miller  ...  [mirosława, miller, dyrektor, laboratorium, po...\n",
              "1             Chimerokształtne  ...  [chimera, przeraza, chimaeriformes, rząd, ryba...\n",
              "2               (2855)_Bastian  ...  [bastian, tb2, planetoida, grupa, pas, asteroi...\n",
              "3  Cryptocephalus_celtibericus  ...  [cryptocephalus, celtibericus, gatunek, chrząs...\n",
              "4              Język_maszynowy  ...  [język, koda, zestaw, rozkaz, procesor, zapis,...\n",
              "\n",
              "[5 rows x 4 columns]"
            ]
          },
          "metadata": {
            "tags": []
          },
          "execution_count": 9
        }
      ]
    },
    {
      "cell_type": "markdown",
      "metadata": {
        "id": "MUwIWPXp0NR-"
      },
      "source": [
        "## Top nouns vector"
      ]
    },
    {
      "cell_type": "code",
      "metadata": {
        "id": "zn06LVCw0QKO"
      },
      "source": [
        "# df = data\n",
        "# top_k = 1000\n",
        "\n",
        "# top_nouns = {}\n",
        "# categories = list(df['category'].unique())\n",
        "\n",
        "# for cat in categories:\n",
        "#     noun_lists = df[df['category'] == cat]['noun_lemmas']\n",
        "#     noun_list = []\n",
        "#     for l in tqdm(noun_lists):\n",
        "#         noun_list = noun_list + l\n",
        "    \n",
        "#     noun_list = Counter(noun_list).most_common()[0:top_k]\n",
        "#     noun_list = list(map(lambda x: x[0], noun_list))\n",
        "\n",
        "#     top_nouns[cat] = noun_list"
      ],
      "execution_count": null,
      "outputs": []
    },
    {
      "cell_type": "code",
      "metadata": {
        "id": "T-v9ag7F1Q0Y"
      },
      "source": [
        "# with open(\"/content/drive/Shareddrives/GCN-PROJECT/top_1000_nouns.pickle\", \"wb\") as f:\n",
        "#   pickle.dump(top_nouns, f)"
      ],
      "execution_count": null,
      "outputs": []
    },
    {
      "cell_type": "code",
      "metadata": {
        "id": "pg2hN8q611yo"
      },
      "source": [
        "with open(\"/content/drive/Shareddrives/GCN-PROJECT/top_1000_nouns.pickle\", \"rb\") as f:\n",
        "    top_nouns = pickle.load(f)"
      ],
      "execution_count": null,
      "outputs": []
    },
    {
      "cell_type": "code",
      "metadata": {
        "colab": {
          "base_uri": "https://localhost:8080/"
        },
        "id": "XyuWoJxMeifC",
        "outputId": "4bbc2e3b-b60e-4c7f-b74b-7126a4d711c2"
      },
      "source": [
        "lookup_dict = dict(enumerate(le.inverse_transform(range(7))))\n",
        "print(lookup_dict)"
      ],
      "execution_count": null,
      "outputs": [
        {
          "output_type": "stream",
          "text": [
            "{0: 'Astronomia', 1: 'Biologia', 2: 'Chemia', 3: 'Fizyka', 4: 'Informatyka', 5: 'Matematyka', 6: 'Psychologia'}\n"
          ],
          "name": "stdout"
        }
      ]
    },
    {
      "cell_type": "code",
      "metadata": {
        "colab": {
          "base_uri": "https://localhost:8080/"
        },
        "id": "7ocFb3zFeHVu",
        "outputId": "6f01b116-93ba-498b-fa05-3d31478ee883"
      },
      "source": [
        "for key, value in top_nouns.items():\n",
        "    print(le.inverse_transform([key])[0])\n",
        "    print(value[0:100], end='\\n\\n')"
      ],
      "execution_count": null,
      "outputs": [
        {
          "output_type": "stream",
          "text": [
            "Chemia\n",
            "['rok', 'lek', 'badanie', 'grupa', 'związka', 'działanie', 'chemia', 'kwas', 'uniwersytet', 'to', 'praca', 'wirus', 'nauka', 'czas', 'co', 'dno', 'profesor', 'reakcja', 'substancja', 'dawka', '%', 'nagroda', 'komórka', 'białko', 'proces', 'przypadek', 'receptor', 'związek', 'wydział', 'choroba', 'mechanizm', 'rna', 'członek', 'instytut', 'układ', 'dziedzina', 'cząsteczka', 'postać', 'wynik', 'polska', 'woda', 'metoda', 'stopień', 'of', 'nazwa', 'studium', 'synteza', 'stężenie', 'temperatura', 'stan', 'raz', 'nobel', 'akademia', 'atom', 'człowiek', 'wojna', 'chemik', 'pacjent', 'efekt', 'biochemia', 'właściwość', 'preparat', 'struktura', 'organizm', 'osoba', 'zasada', 'okres', 'zastosowanie', 'funkcja', 'roztwór', 'objaw', 'środek', 'wpływ', 'university', 'miejsce', 'produkt', 'aktywność', 'doktór', 'forma', 'godzina', 'kwasy', 'zaburzenie', 'materiał', 'enzym', 'ilość', 'wzgląd', 'tytuł', 'część', 'produkcja', 'inhibitor', 'życiorys', 'sposób', 'krew', 'wieko', 'dzień', 'zakład', 'zakres', 'udział', 'pochodna', 'zmiana']\n",
            "\n",
            "Biologia\n",
            "['gatunek', 'rok', 'rodzina', 'długość', 'ciało', 'rodzaj', 'część', 'nazwa', 'ptak', 'samica', 'teren', 'to', 'osobnik', 'polska', 'czas', 'roślina', 'samiec', 'zwierzę', 'obszar', 'co', 'ochrona', 'miejsce', 'powierzchnia', 'występowanie', 'lasa', 'skrzydło', 'komórka', 'populacja', 'drzewo', 'kość', 'grzyb', 'życie', 'woda', 'głowa', 'owad', 'jajo', 'grupa', 'wyspa', 'raz', 'wysokość', 'badanie', 'barwa', 'ryba', 'europ', 'dzień', 'gniazdo', 'przedstawiciel', 'okres', 'ogon', 'zasięg', 'podgatunek', 'podstawa', 'pokrywa', 'środowisko', 'siedlisko', 'rząd', 'koniec', 'wieko', 'liść', 'zagrożenie', 'rozmiar', 'chrząszcz', 'morfologia', 'kształt', 'okaz', 'brzeg', 'oko', 'para', 'ziemia', 'cecha', 'podrodzina', 'strona', 'las', 'autor', 'systematyk', 'człowiek', '%', 'ssak', 'afryka', 'większość', 'bok', 'wielkość', 'takson', 'średnica', 'kolor', 'status', 'index', 'klasyfikacja', 'opis', 'fungorum', 'ząb', 'stan', 'masa', 'pozycja', 'stanowisko', 'samka', 'wzgląd', 'azja', 'owocnik', 'grzbiet']\n",
            "\n",
            "Astronomia\n",
            "['rok', 'planetoida', 'odległość', 'ciąg', 'słońca', 'pas', 'asteroida', 'gwiazda', 'nazwa', 'galaktyka', 'planeta', 'słońce', 'ziemia', 'dzień', 'orbita', 'grupa', 'gwiazdozbiór', 'ngc', 'obiekt', 'masa', 'układ', 'typ', 'wrzesień', 'obserwatorium', 'kometa', 'księżyc', 'oznaczenie', 'powierzchnia', 'linka', 'czas', 'astronom', 'sonda', 'to', 'obserwacja', 'co', 'październik', 'marzec', 'pgc', 'jasność', 'krater', 'teleskop', 'kwiecień', 'misja', 'raz', 'sierpień', 'listopad', 'okres', 'herschel', 'ciało', 'prędkość', 'średnica', 'mars', 'temperatura', 'gromada', 'odkrycie', 'luty', 'część', 'styczeń', 'jowisz', 'jądro', 'promieniowanie', 'grudzień', 'atmosfera', 'maj', 'badanie', 'wielkość', 'teoria', 'materia', 'uniwersytet', 'milion', 'program', 'energia', 'światło', 'składnik', 'ugc', 'obszar', 'william', 'rucho', 'satelita', 'miejsce', 'niebo', 'lipiec', 'astronomia', 'formula_1', 'meteoryt', 'wynik', 'wieko', 'zdjęcie', 'czerwiec', 'praca', 'observatory', 'zmiana', 'promień', 'olbrzym', 'godzina', 'przestrzeń', 'pobliże', 'apollo', 'kierunek', '%']\n",
            "\n",
            "Matematyka\n",
            "['formula_1', 'rok', 'liczba', 'funkcja', 'to', 'przestrzeń', 'zbiór', 'język', 'punkt', 'grupa', 'program', 'wartość', 'co', 'czas', 'strona', 'wersja', 'teoria', 'przykład', 'serwis', 'metoda', 'użytkownik', 'matematyka', 'nazwa', 'twierdzenie', 'przypadek', 'sposób', 'praca', 'postać', 'równanie', 'macierz', 'dane', 'systema', 'pomoc', 'układ', 'uniwersytet', 'sieć', 'element', 'problem', 'wektor', 'typ', 'ciąg', 'definicja', 'część', 'firma', 'ciało', 'system', 'wynik', 'model', 'internet', 'informacja', 'miejsce', 'polska', 'cel', 'obiekt', 'możliwość', 'projekt', 'podstawa', 'pojęcie', 'forma', 'algebra', 'wzór', 'stan', 'operator', 'kanał', 'własność', 'miara', 'osoba', 'stopień', 'analiza', 'protokół', 'symbol', 'nauka', 'elementy', 'rozwiązanie', 'zmiana', 'klasa', 'standard', 'baza', 'aplikacja', 'znak', 'iloczyn', 'film', 'gra', 'rząd', 'historia', 'portal', 'biblioteka', 'codice_2', 'działanie', 'serwer', 'słowo', 'platforma', 'struktura', 'raz', 'wielomian', 'świat', 'format', 'wzgląd', 'tekst', 'autor']\n",
            "\n",
            "Fizyka\n",
            "['rok', 'fizyka', 'energia', 'uniwersytet', 'praca', 'formula_1', 'to', 'czas', 'temperatura', 'pole', 'układ', 'nauka', 'profesor', 'badanie', 'co', 'elektron', 'promieniowanie', 'zjawisko', 'teoria', 'instytut', 'cząstka', 'światło', 'wydział', 'prąd', 'wartość', 'reakcja', 'metoda', 'fala', 'stan', 'wynik', 'atom', 'członek', 'proces', 'ciało', 'stopień', 'materiał', 'funkcja', 'powierzchnia', 'jądro', 'zmiana', 'reaktor', 'zakres', 'efekt', 'przypadek', 'kierunek', 'studium', 'liczba', 'woda', 'cząsteczka', 'nagroda', 'prędkość', 'podstawa', 'siła', 'ładunek', 'urządzenie', 'rucho', 'struktura', 'politechnika', 'ciśnienie', 'masa', 'grupa', 'dziedzina', 'sposób', 'faza', 'część', 'napięcie', 'polska', 'warszawa', 'życiorys', 'równanie', 'nazwa', 'enzym', 'szkoła', 'gwiazda', 'jon', 'model', 'pomiar', 'neutron', 'akademia', 'rodzaj', 'związek', 'substancja', 'warstwa', 'ziemia', 'roztwór', 'prawo', 'postać', 'miejsce', '%', 'długość', 'punkt', 'of', 'źródło', 'typ', 'towarzystwo', 'zasada', 'poła', 'przykład', 'częstotliwość', 'pomoc']\n",
            "\n",
            "Informatyka\n",
            "['rok', 'gra', 'systema', 'formula_1', 'system', 'wersja', 'to', 'program', 'dane', 'czas', 'układ', 'co', 'firma', 'plik', 'liczba', 'komputer', 'użytkownik', 'funkcja', 'cel', 'informacja', 'nazwa', 'algorytm', 'gracz', 'proces', 'windows', 'wartość', 'część', 'urządzenie', 'metoda', 'możliwość', 'przypadek', 'sposób', 'strona', 'oprogramowanie', 'praca', 'projekt', 'aplikacja', 'postać', 'typ', 'pomoc', 'pamięć', 'stan', 'przykład', 'procesor', 'sieć', 'model', 'sygnał', 'klucz', 'maszyna', 'język', 'serwer', 'obiekt', 'zadanie', 'problem', 'miejsce', 'punkt', 'biblioteka', 'zmiana', 'atak', 'osoba', 'silnik', 'kod', 'poziom', 'aparat', 'technologia', 'koda', 'rozwiązanie', 'dostęp', 'wynik', 'operacja', 'tablica', 'tryba', 'grupa', 'plika', 'świat', 'dana', 'znak', 'element', 'platforma', 'seria', 'microsoft', 'format', 'raz', 'środowisko', 'błąd', 'linux', 'bit', 'numer', 'historia', 'rodzaj', 'rozgrywka', 'teoria', 'podstawa', 'większość', 'narzędzie', 'obraz', 'wzgląd', 'zbiór', 'bezpieczeństwo', 'produkcja']\n",
            "\n",
            "Psychologia\n",
            "['rok', 'to', 'osoba', 'badanie', 'czas', 'co', 'film', 'człowiek', 'zaburzenie', 'grupa', 'praca', 'język', 'dziecko', 'stan', 'przypadek', 'życie', 'sposób', 'wieko', 'wynik', 'lek', 'kobieta', 'psychologia', 'zespół', 'zachowanie', 'metoda', 'proces', 'choroba', 'cel', 'pacjent', 'działanie', 'teoria', 'świat', 'miejsce', '%', 'część', 'efekt', 'problem', 'objaw', 'nauka', 'uniwersytet', 'rola', 'polska', 'wpływ', 'ciało', 'rozwój', 'forma', 'okres', 'rodzina', 'terapia', 'członek', 'śmierć', 'zmiana', 'raz', 'informacja', 'podstawa', 'dzień', 'mózg', 'historia', 'sytuacja', 'pomoc', 'mężczyzna', 'poziom', 'przykład', 'autor', 'miłość', 'rodzaj', 'nazwa', 'słowo', 'test', 'strona', 'program', 'postać', 'cecha', 'związek', 'książka', 'liczba', 'słownik', 'gra', 'temat', 'stopień', 'zjawisko', 'wzgląd', 'szkoła', 'pojęcie', 'typ', 'czynnik', 'uwaga', 'de', 'samobójstwo', 'znaczenie', 'związka', 'osobowość', 'jednostka', 'umysł', 'wojna', 'zakres', 'funkcja', 'przyczyna', 'możliwość', 'pamięć']\n",
            "\n"
          ],
          "name": "stdout"
        }
      ]
    },
    {
      "cell_type": "code",
      "metadata": {
        "id": "Ar5ZfQvSf2uv"
      },
      "source": [
        "top_k = 20\n",
        "\n",
        "top_specific_nouns = {}\n",
        "for key, value in top_nouns.items():\n",
        "    specific_nouns = []\n",
        "    for noun in value:\n",
        "        specific = True\n",
        "\n",
        "        for key2, value2 in top_nouns.items():\n",
        "            if key != key2:\n",
        "                if noun in value2:\n",
        "                    specific = False\n",
        "\n",
        "        if specific:\n",
        "            specific_nouns.append(noun)\n",
        "\n",
        "        top_specific_nouns[key] = specific_nouns[:top_k]"
      ],
      "execution_count": null,
      "outputs": []
    },
    {
      "cell_type": "code",
      "metadata": {
        "id": "xiAfZ_0shNJx"
      },
      "source": [
        "with open(\"/content/drive/Shareddrives/GCN-PROJECT/top_20_specific_nouns.pickle\", \"wb\") as f:\n",
        "  pickle.dump(top_specific_nouns, f)"
      ],
      "execution_count": null,
      "outputs": []
    },
    {
      "cell_type": "code",
      "metadata": {
        "colab": {
          "base_uri": "https://localhost:8080/"
        },
        "id": "lWd2Ad7g47zC",
        "outputId": "47228bb1-d4b0-402f-9062-5e558e334a05"
      },
      "source": [
        "for key, value in top_specific_nouns.items():\n",
        "    print(le.inverse_transform([key])[0])\n",
        "    print(value, end='\\n\\n')"
      ],
      "execution_count": null,
      "outputs": [
        {
          "output_type": "stream",
          "text": [
            "Chemia\n",
            "['rna', 'biochemia', 'grypa', 'biochemik', 'amfetamina', 'szczepionka', 'dopamina', 'rak', 'nukleotyd', 'osocze', 'mrna', 'mocz', 'dawkowanie', 'sars', 'replikacja', 'witamina', 'polimeraza', 'chlorek', 'amina', 'zakażenie']\n",
            "\n",
            "Biologia\n",
            "['samiec', 'lasa', 'kość', 'jajo', 'gniazdo', 'podgatunek', 'pokrywa', 'siedlisko', 'chrząszcz', 'morfologia', 'okaz', 'podrodzina', 'las', 'systematyk', 'takson', 'index', 'fungorum', 'ząb', 'samka', 'azja']\n",
            "\n",
            "Astronomia\n",
            "['planetoida', 'słońca', 'asteroida', 'galaktyka', 'gwiazdozbiór', 'ngc', 'obserwatorium', 'kometa', 'księżyc', 'pgc', 'krater', 'teleskop', 'herschel', 'mars', 'jowisz', 'ugc', 'meteoryt', 'observatory', 'olbrzym', 'apollo']\n",
            "\n",
            "Matematyka\n",
            "['algebra', 'przekształcenie', 'podzbiór', 'logika', 'podgrupa', 'rachunek', 'banach', 'aksjomat', 'kwadrat', 'youtube', 'blog', 'topologia', 'całka', 'tv', 'formuła', 'mnożenie', 'euler', 'rozmaitość', 'witryna', 'html']\n",
            "\n",
            "Fizyka\n",
            "['reaktor', 'lampa', 'elektroda', 'wiązka', 'polaryzacja', 'elektrotechnika', 'przewodnictwo', 'drganie', 'leonardo', 'akcelerator', 'półprzewodnik', 'optyka', 'orbital', 'wyładowanie', 'cewka', 'physics', 'laser', 'jonizacja', 'magnes', 'alfa']\n",
            "\n",
            "Informatyka\n",
            "['klucz', 'rozgrywka', 'robot', 'sterowanie', 'android', 'konsola', 'piksel', 'rejestr', 'playstation', 'karty', 'unix', 'xbox', 'pc', 'okno', 'studio', 'regulator', 'aktualizacja', 'zabezpieczenie', 'intel', 'animacja']\n",
            "\n",
            "Psychologia\n",
            "['psychologia', 'miłość', 'samobójstwo', 'osobowość', 'psycholog', 'emocja', 'reżyseria', 'świadomość', 'poczucie', 'komedia', 'bodziec', 'lęk', 'schizofrenia', 'freud', 'wole', 'przekonanie', 'autyzm', 'psychoterapia', 'postawa', 'dziewczyna']\n",
            "\n"
          ],
          "name": "stdout"
        }
      ]
    },
    {
      "cell_type": "code",
      "metadata": {
        "id": "AvBBmWgJ6Wdn"
      },
      "source": [
        "def get_vector(text):\n",
        "    vector = []\n",
        "    for key, value in top_specific_nouns.items():\n",
        "        for word in value:\n",
        "            if word in text:\n",
        "                vector.append(1)\n",
        "            else:\n",
        "                vector.append(0)\n",
        "    \n",
        "    return np.array(vector)"
      ],
      "execution_count": null,
      "outputs": []
    },
    {
      "cell_type": "code",
      "metadata": {
        "colab": {
          "base_uri": "https://localhost:8080/"
        },
        "id": "95V4-frv6uVw",
        "outputId": "5247164b-55d0-453e-c3fb-9f2d5ebd4d09"
      },
      "source": [
        "data['doc_vec'] = data['noun_lemmas'].progress_apply(get_vector)"
      ],
      "execution_count": null,
      "outputs": [
        {
          "output_type": "stream",
          "text": [
            "100%|██████████| 75649/75649 [00:11<00:00, 6804.30it/s]\n"
          ],
          "name": "stderr"
        }
      ]
    },
    {
      "cell_type": "code",
      "metadata": {
        "colab": {
          "base_uri": "https://localhost:8080/",
          "height": 204
        },
        "id": "a3DwLdng7DAs",
        "outputId": "321a5d83-c436-4512-9593-174eb8a13fcb"
      },
      "source": [
        "data.head()"
      ],
      "execution_count": null,
      "outputs": [
        {
          "output_type": "execute_result",
          "data": {
            "text/html": [
              "<div>\n",
              "<style scoped>\n",
              "    .dataframe tbody tr th:only-of-type {\n",
              "        vertical-align: middle;\n",
              "    }\n",
              "\n",
              "    .dataframe tbody tr th {\n",
              "        vertical-align: top;\n",
              "    }\n",
              "\n",
              "    .dataframe thead th {\n",
              "        text-align: right;\n",
              "    }\n",
              "</style>\n",
              "<table border=\"1\" class=\"dataframe\">\n",
              "  <thead>\n",
              "    <tr style=\"text-align: right;\">\n",
              "      <th></th>\n",
              "      <th>title</th>\n",
              "      <th>text</th>\n",
              "      <th>category</th>\n",
              "      <th>noun_lemmas</th>\n",
              "      <th>doc_vec</th>\n",
              "    </tr>\n",
              "  </thead>\n",
              "  <tbody>\n",
              "    <tr>\n",
              "      <th>0</th>\n",
              "      <td>Mirosław_Miller</td>\n",
              "      <td>Mirosław Miller – Dyrektor Międzynarodowego La...</td>\n",
              "      <td>2</td>\n",
              "      <td>[mirosława, miller, dyrektor, laboratorium, po...</td>\n",
              "      <td>[0, 0, 0, 0, 0, 0, 0, 0, 0, 0, 0, 0, 0, 0, 0, ...</td>\n",
              "    </tr>\n",
              "    <tr>\n",
              "      <th>1</th>\n",
              "      <td>Chimerokształtne</td>\n",
              "      <td>Chimerokształtne, chimery, przerazy (Chimaerif...</td>\n",
              "      <td>1</td>\n",
              "      <td>[chimera, przeraza, chimaeriformes, rząd, ryba...</td>\n",
              "      <td>[0, 0, 0, 0, 0, 0, 0, 0, 0, 0, 0, 0, 0, 0, 0, ...</td>\n",
              "    </tr>\n",
              "    <tr>\n",
              "      <th>2</th>\n",
              "      <td>(2855)_Bastian</td>\n",
              "      <td>(2855) Bastian (1931 TB2) – planetoida z grupy...</td>\n",
              "      <td>0</td>\n",
              "      <td>[bastian, tb2, planetoida, grupa, pas, asteroi...</td>\n",
              "      <td>[0, 0, 0, 0, 0, 0, 0, 0, 0, 0, 0, 0, 0, 0, 0, ...</td>\n",
              "    </tr>\n",
              "    <tr>\n",
              "      <th>3</th>\n",
              "      <td>Cryptocephalus_celtibericus</td>\n",
              "      <td>\"Cryptocephalus celtibericus\" – gatunek chrząs...</td>\n",
              "      <td>1</td>\n",
              "      <td>[cryptocephalus, celtibericus, gatunek, chrząs...</td>\n",
              "      <td>[0, 0, 0, 0, 0, 0, 0, 0, 0, 0, 0, 0, 0, 0, 0, ...</td>\n",
              "    </tr>\n",
              "    <tr>\n",
              "      <th>4</th>\n",
              "      <td>Język_maszynowy</td>\n",
              "      <td>Język maszynowy, kod maszynowy – zestaw rozkaz...</td>\n",
              "      <td>5</td>\n",
              "      <td>[język, koda, zestaw, rozkaz, procesor, zapis,...</td>\n",
              "      <td>[0, 0, 0, 0, 0, 0, 0, 0, 0, 0, 0, 0, 0, 0, 0, ...</td>\n",
              "    </tr>\n",
              "  </tbody>\n",
              "</table>\n",
              "</div>"
            ],
            "text/plain": [
              "                         title  ...                                            doc_vec\n",
              "0              Mirosław_Miller  ...  [0, 0, 0, 0, 0, 0, 0, 0, 0, 0, 0, 0, 0, 0, 0, ...\n",
              "1             Chimerokształtne  ...  [0, 0, 0, 0, 0, 0, 0, 0, 0, 0, 0, 0, 0, 0, 0, ...\n",
              "2               (2855)_Bastian  ...  [0, 0, 0, 0, 0, 0, 0, 0, 0, 0, 0, 0, 0, 0, 0, ...\n",
              "3  Cryptocephalus_celtibericus  ...  [0, 0, 0, 0, 0, 0, 0, 0, 0, 0, 0, 0, 0, 0, 0, ...\n",
              "4              Język_maszynowy  ...  [0, 0, 0, 0, 0, 0, 0, 0, 0, 0, 0, 0, 0, 0, 0, ...\n",
              "\n",
              "[5 rows x 5 columns]"
            ]
          },
          "metadata": {
            "tags": []
          },
          "execution_count": 21
        }
      ]
    },
    {
      "cell_type": "code",
      "metadata": {
        "colab": {
          "base_uri": "https://localhost:8080/"
        },
        "id": "_2aIyVPm7NLm",
        "outputId": "1a6ec5b9-aa03-436b-836b-ce67ba7e4552"
      },
      "source": [
        "data.iloc[2]['doc_vec']"
      ],
      "execution_count": null,
      "outputs": [
        {
          "output_type": "execute_result",
          "data": {
            "text/plain": [
              "array([0, 0, 0, 0, 0, 0, 0, 0, 0, 0, 0, 0, 0, 0, 0, 0, 0, 0, 0, 0, 0, 0,\n",
              "       0, 0, 0, 0, 0, 0, 0, 0, 0, 0, 0, 0, 0, 0, 0, 0, 0, 0, 1, 1, 1, 0,\n",
              "       0, 0, 0, 0, 0, 0, 0, 0, 0, 0, 0, 0, 0, 0, 0, 0, 0, 0, 0, 0, 0, 0,\n",
              "       0, 0, 0, 0, 0, 0, 0, 0, 0, 0, 0, 0, 0, 0, 0, 0, 0, 0, 0, 0, 0, 0,\n",
              "       0, 0, 0, 0, 0, 0, 0, 0, 0, 0, 0, 0, 0, 0, 0, 0, 0, 0, 0, 0, 0, 0,\n",
              "       0, 0, 0, 0, 0, 0, 0, 0, 0, 0, 0, 0, 0, 0, 0, 0, 0, 0, 0, 0, 0, 0,\n",
              "       0, 0, 0, 0, 0, 0, 0, 0])"
            ]
          },
          "metadata": {
            "tags": []
          },
          "execution_count": 22
        }
      ]
    },
    {
      "cell_type": "code",
      "metadata": {
        "colab": {
          "base_uri": "https://localhost:8080/"
        },
        "id": "ss5fiuZc7MOI",
        "outputId": "18f0dc25-0326-4995-fb1f-608f25f5b5ce"
      },
      "source": [
        "len(data.iloc[2]['doc_vec'])"
      ],
      "execution_count": null,
      "outputs": [
        {
          "output_type": "execute_result",
          "data": {
            "text/plain": [
              "140"
            ]
          },
          "metadata": {
            "tags": []
          },
          "execution_count": 23
        }
      ]
    },
    {
      "cell_type": "markdown",
      "metadata": {
        "id": "wXKwqZA5jDHb"
      },
      "source": [
        "## Helper functions"
      ]
    },
    {
      "cell_type": "code",
      "metadata": {
        "id": "NTFGh0qRjETm"
      },
      "source": [
        "def conf_matrix(y_true, y_pred):\n",
        "    labels = tf.unique(y_true)[0].numpy()\n",
        "    labels.sort()\n",
        "\n",
        "    con_mat = confusion_matrix(y_true, y_pred)\n",
        "    con_mat_norm = np.around(con_mat.astype('float') / con_mat.sum(axis=1)[:, np.newaxis], decimals=2)\n",
        "\n",
        "    df_cm = pd.DataFrame(con_mat_norm,\n",
        "                        index = labels, \n",
        "                        columns = [i for i in labels])\n",
        "\n",
        "    plt.figure(figsize = (10,7))\n",
        "    plt.title(\"Confusion matrix\")\n",
        "    sn.heatmap(df_cm, annot=True, fmt='g')\n",
        "    plt.ylabel('True')\n",
        "    plt.xlabel('Predicted')\n",
        "    plt.show()"
      ],
      "execution_count": null,
      "outputs": []
    },
    {
      "cell_type": "markdown",
      "metadata": {
        "id": "_fFSCPKLbk19"
      },
      "source": [
        "## NN Model"
      ]
    },
    {
      "cell_type": "code",
      "metadata": {
        "id": "KVIaKjo1bgB0"
      },
      "source": [
        "model = tf.keras.Sequential([\n",
        "    tf.keras.layers.Dense(140, activation='relu'),\n",
        "    tf.keras.layers.Dense(70, activation='relu'),\n",
        "    tf.keras.layers.Dense(7, activation='softmax')\n",
        "])"
      ],
      "execution_count": null,
      "outputs": []
    },
    {
      "cell_type": "code",
      "metadata": {
        "id": "4KAsUzG_blyg"
      },
      "source": [
        "model.compile(optimizer=optimizers.Adam(lr=0.005),\n",
        "              loss=tf.keras.losses.SparseCategoricalCrossentropy(from_logits=False),\n",
        "              metrics=['accuracy'])"
      ],
      "execution_count": null,
      "outputs": []
    },
    {
      "cell_type": "code",
      "metadata": {
        "id": "hEWFZZQac5j-"
      },
      "source": [
        "X = data['doc_vec']\n",
        "y = data['category']"
      ],
      "execution_count": null,
      "outputs": []
    },
    {
      "cell_type": "code",
      "metadata": {
        "id": "8mvRRCp-lZ3K"
      },
      "source": [
        "# split X, y to train and test_val\n",
        "X_train, X_test_val, y_train, y_test_val = train_test_split(\n",
        "    X, y, test_size=0.3, stratify=y, random_state=seed_value\n",
        ")\n",
        "# split test_val to test and val\n",
        "X_test, X_val, y_test, y_val = train_test_split(\n",
        "    X_test_val, y_test_val, test_size=0.5, stratify=y_test_val, random_state=seed_value\n",
        ")\n",
        "# 0.5 x 0.3 = 0.15"
      ],
      "execution_count": null,
      "outputs": []
    },
    {
      "cell_type": "code",
      "metadata": {
        "colab": {
          "base_uri": "https://localhost:8080/"
        },
        "id": "eTl3m5tKhDR7",
        "outputId": "8a56bc23-a10d-48e4-9c48-441081ddaa0e"
      },
      "source": [
        "print(f'Train: {len(y_train)}')\n",
        "print(f'Test: {len(y_test)}')\n",
        "print(f'Val: {len(y_val)}')"
      ],
      "execution_count": null,
      "outputs": [
        {
          "output_type": "stream",
          "text": [
            "Train: 52954\n",
            "Test: 11347\n",
            "Val: 11348\n"
          ],
          "name": "stdout"
        }
      ]
    },
    {
      "cell_type": "code",
      "metadata": {
        "colab": {
          "base_uri": "https://localhost:8080/"
        },
        "id": "7OgTlcO3dlde",
        "outputId": "3bc4b9d9-e6ce-47be-cd56-62f3fb288665"
      },
      "source": [
        "history = model.fit(\n",
        "    tf.convert_to_tensor(np.stack(X_train)),\n",
        "    y_train,\n",
        "    epochs=30,\n",
        "    validation_data=(tf.convert_to_tensor(np.stack(X_val)), y_val)\n",
        ")"
      ],
      "execution_count": null,
      "outputs": [
        {
          "output_type": "stream",
          "text": [
            "Epoch 1/30\n",
            "1655/1655 [==============================] - 6s 3ms/step - loss: 0.7854 - accuracy: 0.7298 - val_loss: 0.6921 - val_accuracy: 0.7571\n",
            "Epoch 2/30\n",
            "1655/1655 [==============================] - 5s 3ms/step - loss: 0.6879 - accuracy: 0.7571 - val_loss: 0.6870 - val_accuracy: 0.7580\n",
            "Epoch 3/30\n",
            "1655/1655 [==============================] - 5s 3ms/step - loss: 0.6661 - accuracy: 0.7645 - val_loss: 0.6926 - val_accuracy: 0.7554\n",
            "Epoch 4/30\n",
            "1655/1655 [==============================] - 5s 3ms/step - loss: 0.6698 - accuracy: 0.7615 - val_loss: 0.6851 - val_accuracy: 0.7574\n",
            "Epoch 5/30\n",
            "1655/1655 [==============================] - 5s 3ms/step - loss: 0.6671 - accuracy: 0.7629 - val_loss: 0.6961 - val_accuracy: 0.7566\n",
            "Epoch 6/30\n",
            "1655/1655 [==============================] - 5s 3ms/step - loss: 0.6553 - accuracy: 0.7660 - val_loss: 0.6973 - val_accuracy: 0.7583\n",
            "Epoch 7/30\n",
            "1655/1655 [==============================] - 5s 3ms/step - loss: 0.6545 - accuracy: 0.7660 - val_loss: 0.6982 - val_accuracy: 0.7548\n",
            "Epoch 8/30\n",
            "1655/1655 [==============================] - 5s 3ms/step - loss: 0.6595 - accuracy: 0.7628 - val_loss: 0.6974 - val_accuracy: 0.7577\n",
            "Epoch 9/30\n",
            "1655/1655 [==============================] - 5s 3ms/step - loss: 0.6483 - accuracy: 0.7673 - val_loss: 0.7120 - val_accuracy: 0.7550\n",
            "Epoch 10/30\n",
            "1655/1655 [==============================] - 5s 3ms/step - loss: 0.6438 - accuracy: 0.7683 - val_loss: 0.7167 - val_accuracy: 0.7548\n",
            "Epoch 11/30\n",
            "1655/1655 [==============================] - 5s 3ms/step - loss: 0.6467 - accuracy: 0.7664 - val_loss: 0.7222 - val_accuracy: 0.7559\n",
            "Epoch 12/30\n",
            "1655/1655 [==============================] - 5s 3ms/step - loss: 0.6436 - accuracy: 0.7682 - val_loss: 0.7210 - val_accuracy: 0.7579\n",
            "Epoch 13/30\n",
            "1655/1655 [==============================] - 5s 3ms/step - loss: 0.6414 - accuracy: 0.7680 - val_loss: 0.7319 - val_accuracy: 0.7567\n",
            "Epoch 14/30\n",
            "1655/1655 [==============================] - 5s 3ms/step - loss: 0.6413 - accuracy: 0.7681 - val_loss: 0.7336 - val_accuracy: 0.7564\n",
            "Epoch 15/30\n",
            "1655/1655 [==============================] - 5s 3ms/step - loss: 0.6418 - accuracy: 0.7682 - val_loss: 0.7382 - val_accuracy: 0.7563\n",
            "Epoch 16/30\n",
            "1655/1655 [==============================] - 5s 3ms/step - loss: 0.6467 - accuracy: 0.7648 - val_loss: 0.7403 - val_accuracy: 0.7556\n",
            "Epoch 17/30\n",
            "1655/1655 [==============================] - 5s 3ms/step - loss: 0.6389 - accuracy: 0.7700 - val_loss: 0.7457 - val_accuracy: 0.7560\n",
            "Epoch 18/30\n",
            "1655/1655 [==============================] - 5s 3ms/step - loss: 0.6390 - accuracy: 0.7675 - val_loss: 0.7653 - val_accuracy: 0.7526\n",
            "Epoch 19/30\n",
            "1655/1655 [==============================] - 5s 3ms/step - loss: 0.6371 - accuracy: 0.7695 - val_loss: 0.7695 - val_accuracy: 0.7553\n",
            "Epoch 20/30\n",
            "1655/1655 [==============================] - 5s 3ms/step - loss: 0.6376 - accuracy: 0.7693 - val_loss: 0.7818 - val_accuracy: 0.7565\n",
            "Epoch 21/30\n",
            "1655/1655 [==============================] - 5s 3ms/step - loss: 0.6284 - accuracy: 0.7726 - val_loss: 0.7631 - val_accuracy: 0.7554\n",
            "Epoch 22/30\n",
            "1655/1655 [==============================] - 5s 3ms/step - loss: 0.6362 - accuracy: 0.7710 - val_loss: 0.7767 - val_accuracy: 0.7551\n",
            "Epoch 23/30\n",
            "1655/1655 [==============================] - 5s 3ms/step - loss: 0.6274 - accuracy: 0.7746 - val_loss: 0.7841 - val_accuracy: 0.7547\n",
            "Epoch 24/30\n",
            "1655/1655 [==============================] - 5s 3ms/step - loss: 0.6418 - accuracy: 0.7691 - val_loss: 0.7914 - val_accuracy: 0.7559\n",
            "Epoch 25/30\n",
            "1655/1655 [==============================] - 5s 3ms/step - loss: 0.6345 - accuracy: 0.7716 - val_loss: 0.7958 - val_accuracy: 0.7548\n",
            "Epoch 26/30\n",
            "1655/1655 [==============================] - 5s 3ms/step - loss: 0.6311 - accuracy: 0.7709 - val_loss: 0.8200 - val_accuracy: 0.7519\n",
            "Epoch 27/30\n",
            "1655/1655 [==============================] - 5s 3ms/step - loss: 0.6412 - accuracy: 0.7658 - val_loss: 0.8019 - val_accuracy: 0.7550\n",
            "Epoch 28/30\n",
            "1655/1655 [==============================] - 5s 3ms/step - loss: 0.6346 - accuracy: 0.7712 - val_loss: 0.8032 - val_accuracy: 0.7546\n",
            "Epoch 29/30\n",
            "1655/1655 [==============================] - 5s 3ms/step - loss: 0.6376 - accuracy: 0.7693 - val_loss: 0.8155 - val_accuracy: 0.7544\n",
            "Epoch 30/30\n",
            "1655/1655 [==============================] - 5s 3ms/step - loss: 0.6334 - accuracy: 0.7695 - val_loss: 0.8321 - val_accuracy: 0.7556\n"
          ],
          "name": "stdout"
        }
      ]
    },
    {
      "cell_type": "code",
      "metadata": {
        "colab": {
          "base_uri": "https://localhost:8080/",
          "height": 585
        },
        "id": "1SDoy8ps8wQn",
        "outputId": "72b013bb-168c-4da4-fd1d-ca87232aad9c"
      },
      "source": [
        "sg.utils.plot_history(history)"
      ],
      "execution_count": null,
      "outputs": [
        {
          "output_type": "display_data",
          "data": {
            "image/png": "[encoded data removed]",
            "text/plain": [
              "<Figure size 504x576 with 2 Axes>"
            ]
          },
          "metadata": {
            "tags": [],
            "needs_background": "light"
          }
        }
      ]
    },
    {
      "cell_type": "code",
      "metadata": {
        "colab": {
          "base_uri": "https://localhost:8080/"
        },
        "id": "NuJCzrZCdvc6",
        "outputId": "448aeef8-331a-4018-c623-a8bed048dd2d"
      },
      "source": [
        "y_pred = model.predict(tf.convert_to_tensor(np.stack(X_test)))\n",
        "y_pred = np.argmax(y_pred, axis=1)\n",
        "y_pred = le.inverse_transform(y_pred)\n",
        "\n",
        "y_pred[:10]"
      ],
      "execution_count": null,
      "outputs": [
        {
          "output_type": "execute_result",
          "data": {
            "text/plain": [
              "array(['Informatyka', 'Astronomia', 'Astronomia', 'Biologia',\n",
              "       'Astronomia', 'Biologia', 'Astronomia', 'Matematyka', 'Fizyka',\n",
              "       'Biologia'], dtype='<U11')"
            ]
          },
          "metadata": {
            "tags": []
          },
          "execution_count": 56
        }
      ]
    },
    {
      "cell_type": "code",
      "metadata": {
        "colab": {
          "base_uri": "https://localhost:8080/"
        },
        "id": "5-U_psksj9IC",
        "outputId": "296cd6d5-a3b9-40ad-df37-ea57dbba636d"
      },
      "source": [
        "y_test = np.array(y_test)\n",
        "y_test = le.inverse_transform(y_test)\n",
        "\n",
        "y_test[:10]"
      ],
      "execution_count": null,
      "outputs": [
        {
          "output_type": "execute_result",
          "data": {
            "text/plain": [
              "array(['Informatyka', 'Astronomia', 'Astronomia', 'Biologia',\n",
              "       'Astronomia', 'Biologia', 'Astronomia', 'Matematyka', 'Biologia',\n",
              "       'Biologia'], dtype='<U11')"
            ]
          },
          "metadata": {
            "tags": []
          },
          "execution_count": 57
        }
      ]
    },
    {
      "cell_type": "code",
      "metadata": {
        "id": "rxNO9cTxikFn"
      },
      "source": [
        "with open(\"/content/drive/Shareddrives/GCN-PROJECT/onehot140_base_y_pred.pickle\", \"wb\") as f:\n",
        "  pickle.dump(y_pred, f)\n",
        "with open(\"/content/drive/Shareddrives/GCN-PROJECT/onehot140_base_y_true.pickle\", \"wb\") as f:\n",
        "  pickle.dump(y_test, f)"
      ],
      "execution_count": null,
      "outputs": []
    },
    {
      "cell_type": "code",
      "metadata": {
        "colab": {
          "base_uri": "https://localhost:8080/"
        },
        "id": "anq94suRkIIs",
        "outputId": "d663a1d7-932e-4798-c068-3320541c35ee"
      },
      "source": [
        "print(classification_report(y_test, y_pred))"
      ],
      "execution_count": null,
      "outputs": [
        {
          "output_type": "stream",
          "text": [
            "              precision    recall  f1-score   support\n",
            "\n",
            "  Astronomia       0.98      0.96      0.97      3832\n",
            "    Biologia       0.60      0.97      0.74      3522\n",
            "      Chemia       0.68      0.26      0.38       416\n",
            "      Fizyka       0.67      0.26      0.38       768\n",
            " Informatyka       0.74      0.41      0.53       738\n",
            "  Matematyka       0.74      0.32      0.45      1211\n",
            " Psychologia       0.81      0.51      0.63       860\n",
            "\n",
            "    accuracy                           0.75     11347\n",
            "   macro avg       0.75      0.53      0.58     11347\n",
            "weighted avg       0.78      0.75      0.73     11347\n",
            "\n"
          ],
          "name": "stdout"
        }
      ]
    },
    {
      "cell_type": "code",
      "metadata": {
        "colab": {
          "base_uri": "https://localhost:8080/",
          "height": 522
        },
        "id": "BHL3fI_Vkzv9",
        "outputId": "f827f568-8a82-488f-f19b-17d69ce148d7"
      },
      "source": [
        "conf_matrix(\n",
        "    y_true=y_test,\n",
        "    y_pred=y_pred\n",
        ")"
      ],
      "execution_count": null,
      "outputs": [
        {
          "output_type": "display_data",
          "data": {
            "image/png": "[encoded data removed]",
            "text/plain": [
              "<Figure size 720x504 with 2 Axes>"
            ]
          },
          "metadata": {
            "tags": [],
            "needs_background": "light"
          }
        }
      ]
    },
    {
      "cell_type": "markdown",
      "metadata": {
        "id": "icOVcHUImRdh"
      },
      "source": [
        "## GNN Models"
      ]
    },
    {
      "cell_type": "markdown",
      "metadata": {
        "id": "6xC9FFw4COe2"
      },
      "source": [
        "### Data Preparation"
      ]
    },
    {
      "cell_type": "code",
      "metadata": {
        "id": "Wc9LTn3yk82W",
        "colab": {
          "base_uri": "https://localhost:8080/"
        },
        "outputId": "5c703d01-f1e3-48d3-b8ba-5034078a006b"
      },
      "source": [
        "data_vec = data\n",
        "node_data = data_vec[['title', 'doc_vec', 'category']]\n",
        "\n",
        "features_columns = ['x'+str(i+1) for i in range(node_data.iloc[0]['doc_vec'].shape[0])]\n",
        "\n",
        "node_data[features_columns] = pd.DataFrame(node_data['doc_vec'].tolist(), index=node_data.index)\n",
        "node_data = node_data.drop_duplicates(subset=['title'])\n",
        "node_data = node_data.set_index('title', drop=True)\n",
        "\n",
        "node_subjects = node_data['category']\n",
        "node_data = node_data.drop(columns=['doc_vec', 'category'])"
      ],
      "execution_count": null,
      "outputs": [
        {
          "output_type": "stream",
          "text": [
            "/usr/local/lib/python3.6/dist-packages/pandas/core/frame.py:3069: SettingWithCopyWarning: \n",
            "A value is trying to be set on a copy of a slice from a DataFrame.\n",
            "Try using .loc[row_indexer,col_indexer] = value instead\n",
            "\n",
            "See the caveats in the documentation: https://pandas.pydata.org/pandas-docs/stable/user_guide/indexing.html#returning-a-view-versus-a-copy\n",
            "  self[k1] = value[k2]\n"
          ],
          "name": "stderr"
        }
      ]
    },
    {
      "cell_type": "code",
      "metadata": {
        "colab": {
          "base_uri": "https://localhost:8080/",
          "height": 301
        },
        "id": "4yBl-fLU_i74",
        "outputId": "20649bed-72bb-4b2a-fd2c-d3e9dfe89089"
      },
      "source": [
        "print(node_data.shape)\n",
        "node_data.head()"
      ],
      "execution_count": null,
      "outputs": [
        {
          "output_type": "stream",
          "text": [
            "(75649, 140)\n"
          ],
          "name": "stdout"
        },
        {
          "output_type": "execute_result",
          "data": {
            "text/html": [
              "<div>\n",
              "<style scoped>\n",
              "    .dataframe tbody tr th:only-of-type {\n",
              "        vertical-align: middle;\n",
              "    }\n",
              "\n",
              "    .dataframe tbody tr th {\n",
              "        vertical-align: top;\n",
              "    }\n",
              "\n",
              "    .dataframe thead th {\n",
              "        text-align: right;\n",
              "    }\n",
              "</style>\n",
              "<table border=\"1\" class=\"dataframe\">\n",
              "  <thead>\n",
              "    <tr style=\"text-align: right;\">\n",
              "      <th></th>\n",
              "      <th>x1</th>\n",
              "      <th>x2</th>\n",
              "      <th>x3</th>\n",
              "      <th>x4</th>\n",
              "      <th>x5</th>\n",
              "      <th>x6</th>\n",
              "      <th>x7</th>\n",
              "      <th>x8</th>\n",
              "      <th>x9</th>\n",
              "      <th>x10</th>\n",
              "      <th>x11</th>\n",
              "      <th>x12</th>\n",
              "      <th>x13</th>\n",
              "      <th>x14</th>\n",
              "      <th>x15</th>\n",
              "      <th>x16</th>\n",
              "      <th>x17</th>\n",
              "      <th>x18</th>\n",
              "      <th>x19</th>\n",
              "      <th>x20</th>\n",
              "      <th>x21</th>\n",
              "      <th>x22</th>\n",
              "      <th>x23</th>\n",
              "      <th>x24</th>\n",
              "      <th>x25</th>\n",
              "      <th>x26</th>\n",
              "      <th>x27</th>\n",
              "      <th>x28</th>\n",
              "      <th>x29</th>\n",
              "      <th>x30</th>\n",
              "      <th>x31</th>\n",
              "      <th>x32</th>\n",
              "      <th>x33</th>\n",
              "      <th>x34</th>\n",
              "      <th>x35</th>\n",
              "      <th>x36</th>\n",
              "      <th>x37</th>\n",
              "      <th>x38</th>\n",
              "      <th>x39</th>\n",
              "      <th>x40</th>\n",
              "      <th>...</th>\n",
              "      <th>x101</th>\n",
              "      <th>x102</th>\n",
              "      <th>x103</th>\n",
              "      <th>x104</th>\n",
              "      <th>x105</th>\n",
              "      <th>x106</th>\n",
              "      <th>x107</th>\n",
              "      <th>x108</th>\n",
              "      <th>x109</th>\n",
              "      <th>x110</th>\n",
              "      <th>x111</th>\n",
              "      <th>x112</th>\n",
              "      <th>x113</th>\n",
              "      <th>x114</th>\n",
              "      <th>x115</th>\n",
              "      <th>x116</th>\n",
              "      <th>x117</th>\n",
              "      <th>x118</th>\n",
              "      <th>x119</th>\n",
              "      <th>x120</th>\n",
              "      <th>x121</th>\n",
              "      <th>x122</th>\n",
              "      <th>x123</th>\n",
              "      <th>x124</th>\n",
              "      <th>x125</th>\n",
              "      <th>x126</th>\n",
              "      <th>x127</th>\n",
              "      <th>x128</th>\n",
              "      <th>x129</th>\n",
              "      <th>x130</th>\n",
              "      <th>x131</th>\n",
              "      <th>x132</th>\n",
              "      <th>x133</th>\n",
              "      <th>x134</th>\n",
              "      <th>x135</th>\n",
              "      <th>x136</th>\n",
              "      <th>x137</th>\n",
              "      <th>x138</th>\n",
              "      <th>x139</th>\n",
              "      <th>x140</th>\n",
              "    </tr>\n",
              "    <tr>\n",
              "      <th>title</th>\n",
              "      <th></th>\n",
              "      <th></th>\n",
              "      <th></th>\n",
              "      <th></th>\n",
              "      <th></th>\n",
              "      <th></th>\n",
              "      <th></th>\n",
              "      <th></th>\n",
              "      <th></th>\n",
              "      <th></th>\n",
              "      <th></th>\n",
              "      <th></th>\n",
              "      <th></th>\n",
              "      <th></th>\n",
              "      <th></th>\n",
              "      <th></th>\n",
              "      <th></th>\n",
              "      <th></th>\n",
              "      <th></th>\n",
              "      <th></th>\n",
              "      <th></th>\n",
              "      <th></th>\n",
              "      <th></th>\n",
              "      <th></th>\n",
              "      <th></th>\n",
              "      <th></th>\n",
              "      <th></th>\n",
              "      <th></th>\n",
              "      <th></th>\n",
              "      <th></th>\n",
              "      <th></th>\n",
              "      <th></th>\n",
              "      <th></th>\n",
              "      <th></th>\n",
              "      <th></th>\n",
              "      <th></th>\n",
              "      <th></th>\n",
              "      <th></th>\n",
              "      <th></th>\n",
              "      <th></th>\n",
              "      <th></th>\n",
              "      <th></th>\n",
              "      <th></th>\n",
              "      <th></th>\n",
              "      <th></th>\n",
              "      <th></th>\n",
              "      <th></th>\n",
              "      <th></th>\n",
              "      <th></th>\n",
              "      <th></th>\n",
              "      <th></th>\n",
              "      <th></th>\n",
              "      <th></th>\n",
              "      <th></th>\n",
              "      <th></th>\n",
              "      <th></th>\n",
              "      <th></th>\n",
              "      <th></th>\n",
              "      <th></th>\n",
              "      <th></th>\n",
              "      <th></th>\n",
              "      <th></th>\n",
              "      <th></th>\n",
              "      <th></th>\n",
              "      <th></th>\n",
              "      <th></th>\n",
              "      <th></th>\n",
              "      <th></th>\n",
              "      <th></th>\n",
              "      <th></th>\n",
              "      <th></th>\n",
              "      <th></th>\n",
              "      <th></th>\n",
              "      <th></th>\n",
              "      <th></th>\n",
              "      <th></th>\n",
              "      <th></th>\n",
              "      <th></th>\n",
              "      <th></th>\n",
              "      <th></th>\n",
              "      <th></th>\n",
              "    </tr>\n",
              "  </thead>\n",
              "  <tbody>\n",
              "    <tr>\n",
              "      <th>Mirosław_Miller</th>\n",
              "      <td>0</td>\n",
              "      <td>0</td>\n",
              "      <td>0</td>\n",
              "      <td>0</td>\n",
              "      <td>0</td>\n",
              "      <td>0</td>\n",
              "      <td>0</td>\n",
              "      <td>0</td>\n",
              "      <td>0</td>\n",
              "      <td>0</td>\n",
              "      <td>0</td>\n",
              "      <td>0</td>\n",
              "      <td>0</td>\n",
              "      <td>0</td>\n",
              "      <td>0</td>\n",
              "      <td>0</td>\n",
              "      <td>0</td>\n",
              "      <td>0</td>\n",
              "      <td>0</td>\n",
              "      <td>0</td>\n",
              "      <td>0</td>\n",
              "      <td>0</td>\n",
              "      <td>0</td>\n",
              "      <td>0</td>\n",
              "      <td>0</td>\n",
              "      <td>0</td>\n",
              "      <td>0</td>\n",
              "      <td>0</td>\n",
              "      <td>0</td>\n",
              "      <td>0</td>\n",
              "      <td>0</td>\n",
              "      <td>0</td>\n",
              "      <td>0</td>\n",
              "      <td>0</td>\n",
              "      <td>0</td>\n",
              "      <td>0</td>\n",
              "      <td>0</td>\n",
              "      <td>0</td>\n",
              "      <td>0</td>\n",
              "      <td>0</td>\n",
              "      <td>...</td>\n",
              "      <td>0</td>\n",
              "      <td>0</td>\n",
              "      <td>0</td>\n",
              "      <td>0</td>\n",
              "      <td>0</td>\n",
              "      <td>0</td>\n",
              "      <td>0</td>\n",
              "      <td>0</td>\n",
              "      <td>0</td>\n",
              "      <td>0</td>\n",
              "      <td>0</td>\n",
              "      <td>0</td>\n",
              "      <td>0</td>\n",
              "      <td>0</td>\n",
              "      <td>0</td>\n",
              "      <td>0</td>\n",
              "      <td>0</td>\n",
              "      <td>0</td>\n",
              "      <td>0</td>\n",
              "      <td>0</td>\n",
              "      <td>0</td>\n",
              "      <td>0</td>\n",
              "      <td>0</td>\n",
              "      <td>0</td>\n",
              "      <td>0</td>\n",
              "      <td>0</td>\n",
              "      <td>0</td>\n",
              "      <td>0</td>\n",
              "      <td>0</td>\n",
              "      <td>0</td>\n",
              "      <td>0</td>\n",
              "      <td>0</td>\n",
              "      <td>0</td>\n",
              "      <td>0</td>\n",
              "      <td>0</td>\n",
              "      <td>0</td>\n",
              "      <td>0</td>\n",
              "      <td>0</td>\n",
              "      <td>0</td>\n",
              "      <td>0</td>\n",
              "    </tr>\n",
              "    <tr>\n",
              "      <th>Chimerokształtne</th>\n",
              "      <td>0</td>\n",
              "      <td>0</td>\n",
              "      <td>0</td>\n",
              "      <td>0</td>\n",
              "      <td>0</td>\n",
              "      <td>0</td>\n",
              "      <td>0</td>\n",
              "      <td>0</td>\n",
              "      <td>0</td>\n",
              "      <td>0</td>\n",
              "      <td>0</td>\n",
              "      <td>0</td>\n",
              "      <td>0</td>\n",
              "      <td>0</td>\n",
              "      <td>0</td>\n",
              "      <td>0</td>\n",
              "      <td>0</td>\n",
              "      <td>0</td>\n",
              "      <td>0</td>\n",
              "      <td>0</td>\n",
              "      <td>0</td>\n",
              "      <td>0</td>\n",
              "      <td>0</td>\n",
              "      <td>0</td>\n",
              "      <td>0</td>\n",
              "      <td>0</td>\n",
              "      <td>0</td>\n",
              "      <td>0</td>\n",
              "      <td>0</td>\n",
              "      <td>0</td>\n",
              "      <td>0</td>\n",
              "      <td>0</td>\n",
              "      <td>0</td>\n",
              "      <td>1</td>\n",
              "      <td>0</td>\n",
              "      <td>0</td>\n",
              "      <td>0</td>\n",
              "      <td>0</td>\n",
              "      <td>0</td>\n",
              "      <td>0</td>\n",
              "      <td>...</td>\n",
              "      <td>0</td>\n",
              "      <td>0</td>\n",
              "      <td>0</td>\n",
              "      <td>0</td>\n",
              "      <td>0</td>\n",
              "      <td>0</td>\n",
              "      <td>0</td>\n",
              "      <td>0</td>\n",
              "      <td>0</td>\n",
              "      <td>0</td>\n",
              "      <td>0</td>\n",
              "      <td>0</td>\n",
              "      <td>0</td>\n",
              "      <td>0</td>\n",
              "      <td>0</td>\n",
              "      <td>0</td>\n",
              "      <td>0</td>\n",
              "      <td>0</td>\n",
              "      <td>0</td>\n",
              "      <td>0</td>\n",
              "      <td>0</td>\n",
              "      <td>0</td>\n",
              "      <td>0</td>\n",
              "      <td>0</td>\n",
              "      <td>0</td>\n",
              "      <td>0</td>\n",
              "      <td>0</td>\n",
              "      <td>0</td>\n",
              "      <td>0</td>\n",
              "      <td>0</td>\n",
              "      <td>0</td>\n",
              "      <td>0</td>\n",
              "      <td>0</td>\n",
              "      <td>0</td>\n",
              "      <td>0</td>\n",
              "      <td>0</td>\n",
              "      <td>0</td>\n",
              "      <td>0</td>\n",
              "      <td>0</td>\n",
              "      <td>0</td>\n",
              "    </tr>\n",
              "    <tr>\n",
              "      <th>(2855)_Bastian</th>\n",
              "      <td>0</td>\n",
              "      <td>0</td>\n",
              "      <td>0</td>\n",
              "      <td>0</td>\n",
              "      <td>0</td>\n",
              "      <td>0</td>\n",
              "      <td>0</td>\n",
              "      <td>0</td>\n",
              "      <td>0</td>\n",
              "      <td>0</td>\n",
              "      <td>0</td>\n",
              "      <td>0</td>\n",
              "      <td>0</td>\n",
              "      <td>0</td>\n",
              "      <td>0</td>\n",
              "      <td>0</td>\n",
              "      <td>0</td>\n",
              "      <td>0</td>\n",
              "      <td>0</td>\n",
              "      <td>0</td>\n",
              "      <td>0</td>\n",
              "      <td>0</td>\n",
              "      <td>0</td>\n",
              "      <td>0</td>\n",
              "      <td>0</td>\n",
              "      <td>0</td>\n",
              "      <td>0</td>\n",
              "      <td>0</td>\n",
              "      <td>0</td>\n",
              "      <td>0</td>\n",
              "      <td>0</td>\n",
              "      <td>0</td>\n",
              "      <td>0</td>\n",
              "      <td>0</td>\n",
              "      <td>0</td>\n",
              "      <td>0</td>\n",
              "      <td>0</td>\n",
              "      <td>0</td>\n",
              "      <td>0</td>\n",
              "      <td>0</td>\n",
              "      <td>...</td>\n",
              "      <td>0</td>\n",
              "      <td>0</td>\n",
              "      <td>0</td>\n",
              "      <td>0</td>\n",
              "      <td>0</td>\n",
              "      <td>0</td>\n",
              "      <td>0</td>\n",
              "      <td>0</td>\n",
              "      <td>0</td>\n",
              "      <td>0</td>\n",
              "      <td>0</td>\n",
              "      <td>0</td>\n",
              "      <td>0</td>\n",
              "      <td>0</td>\n",
              "      <td>0</td>\n",
              "      <td>0</td>\n",
              "      <td>0</td>\n",
              "      <td>0</td>\n",
              "      <td>0</td>\n",
              "      <td>0</td>\n",
              "      <td>0</td>\n",
              "      <td>0</td>\n",
              "      <td>0</td>\n",
              "      <td>0</td>\n",
              "      <td>0</td>\n",
              "      <td>0</td>\n",
              "      <td>0</td>\n",
              "      <td>0</td>\n",
              "      <td>0</td>\n",
              "      <td>0</td>\n",
              "      <td>0</td>\n",
              "      <td>0</td>\n",
              "      <td>0</td>\n",
              "      <td>0</td>\n",
              "      <td>0</td>\n",
              "      <td>0</td>\n",
              "      <td>0</td>\n",
              "      <td>0</td>\n",
              "      <td>0</td>\n",
              "      <td>0</td>\n",
              "    </tr>\n",
              "    <tr>\n",
              "      <th>Cryptocephalus_celtibericus</th>\n",
              "      <td>0</td>\n",
              "      <td>0</td>\n",
              "      <td>0</td>\n",
              "      <td>0</td>\n",
              "      <td>0</td>\n",
              "      <td>0</td>\n",
              "      <td>0</td>\n",
              "      <td>0</td>\n",
              "      <td>0</td>\n",
              "      <td>0</td>\n",
              "      <td>0</td>\n",
              "      <td>0</td>\n",
              "      <td>0</td>\n",
              "      <td>0</td>\n",
              "      <td>0</td>\n",
              "      <td>0</td>\n",
              "      <td>0</td>\n",
              "      <td>0</td>\n",
              "      <td>0</td>\n",
              "      <td>0</td>\n",
              "      <td>0</td>\n",
              "      <td>0</td>\n",
              "      <td>0</td>\n",
              "      <td>0</td>\n",
              "      <td>0</td>\n",
              "      <td>0</td>\n",
              "      <td>0</td>\n",
              "      <td>0</td>\n",
              "      <td>1</td>\n",
              "      <td>0</td>\n",
              "      <td>0</td>\n",
              "      <td>1</td>\n",
              "      <td>0</td>\n",
              "      <td>0</td>\n",
              "      <td>0</td>\n",
              "      <td>0</td>\n",
              "      <td>0</td>\n",
              "      <td>0</td>\n",
              "      <td>0</td>\n",
              "      <td>0</td>\n",
              "      <td>...</td>\n",
              "      <td>0</td>\n",
              "      <td>0</td>\n",
              "      <td>0</td>\n",
              "      <td>0</td>\n",
              "      <td>0</td>\n",
              "      <td>0</td>\n",
              "      <td>0</td>\n",
              "      <td>0</td>\n",
              "      <td>0</td>\n",
              "      <td>0</td>\n",
              "      <td>0</td>\n",
              "      <td>0</td>\n",
              "      <td>0</td>\n",
              "      <td>0</td>\n",
              "      <td>0</td>\n",
              "      <td>0</td>\n",
              "      <td>0</td>\n",
              "      <td>0</td>\n",
              "      <td>0</td>\n",
              "      <td>0</td>\n",
              "      <td>0</td>\n",
              "      <td>0</td>\n",
              "      <td>0</td>\n",
              "      <td>0</td>\n",
              "      <td>0</td>\n",
              "      <td>0</td>\n",
              "      <td>0</td>\n",
              "      <td>0</td>\n",
              "      <td>0</td>\n",
              "      <td>0</td>\n",
              "      <td>0</td>\n",
              "      <td>0</td>\n",
              "      <td>0</td>\n",
              "      <td>0</td>\n",
              "      <td>0</td>\n",
              "      <td>0</td>\n",
              "      <td>0</td>\n",
              "      <td>0</td>\n",
              "      <td>0</td>\n",
              "      <td>0</td>\n",
              "    </tr>\n",
              "    <tr>\n",
              "      <th>Język_maszynowy</th>\n",
              "      <td>0</td>\n",
              "      <td>0</td>\n",
              "      <td>0</td>\n",
              "      <td>0</td>\n",
              "      <td>0</td>\n",
              "      <td>0</td>\n",
              "      <td>0</td>\n",
              "      <td>0</td>\n",
              "      <td>0</td>\n",
              "      <td>0</td>\n",
              "      <td>0</td>\n",
              "      <td>0</td>\n",
              "      <td>0</td>\n",
              "      <td>0</td>\n",
              "      <td>0</td>\n",
              "      <td>0</td>\n",
              "      <td>0</td>\n",
              "      <td>0</td>\n",
              "      <td>0</td>\n",
              "      <td>0</td>\n",
              "      <td>0</td>\n",
              "      <td>0</td>\n",
              "      <td>0</td>\n",
              "      <td>0</td>\n",
              "      <td>0</td>\n",
              "      <td>0</td>\n",
              "      <td>0</td>\n",
              "      <td>0</td>\n",
              "      <td>0</td>\n",
              "      <td>0</td>\n",
              "      <td>0</td>\n",
              "      <td>0</td>\n",
              "      <td>0</td>\n",
              "      <td>0</td>\n",
              "      <td>0</td>\n",
              "      <td>0</td>\n",
              "      <td>0</td>\n",
              "      <td>0</td>\n",
              "      <td>0</td>\n",
              "      <td>0</td>\n",
              "      <td>...</td>\n",
              "      <td>0</td>\n",
              "      <td>0</td>\n",
              "      <td>0</td>\n",
              "      <td>0</td>\n",
              "      <td>0</td>\n",
              "      <td>0</td>\n",
              "      <td>0</td>\n",
              "      <td>0</td>\n",
              "      <td>0</td>\n",
              "      <td>0</td>\n",
              "      <td>0</td>\n",
              "      <td>0</td>\n",
              "      <td>0</td>\n",
              "      <td>0</td>\n",
              "      <td>0</td>\n",
              "      <td>0</td>\n",
              "      <td>0</td>\n",
              "      <td>0</td>\n",
              "      <td>0</td>\n",
              "      <td>0</td>\n",
              "      <td>0</td>\n",
              "      <td>0</td>\n",
              "      <td>0</td>\n",
              "      <td>0</td>\n",
              "      <td>0</td>\n",
              "      <td>0</td>\n",
              "      <td>0</td>\n",
              "      <td>0</td>\n",
              "      <td>0</td>\n",
              "      <td>0</td>\n",
              "      <td>0</td>\n",
              "      <td>0</td>\n",
              "      <td>0</td>\n",
              "      <td>0</td>\n",
              "      <td>0</td>\n",
              "      <td>0</td>\n",
              "      <td>0</td>\n",
              "      <td>0</td>\n",
              "      <td>0</td>\n",
              "      <td>0</td>\n",
              "    </tr>\n",
              "  </tbody>\n",
              "</table>\n",
              "<p>5 rows × 140 columns</p>\n",
              "</div>"
            ],
            "text/plain": [
              "                             x1  x2  x3  x4  x5  ...  x136  x137  x138  x139  x140\n",
              "title                                            ...                              \n",
              "Mirosław_Miller               0   0   0   0   0  ...     0     0     0     0     0\n",
              "Chimerokształtne              0   0   0   0   0  ...     0     0     0     0     0\n",
              "(2855)_Bastian                0   0   0   0   0  ...     0     0     0     0     0\n",
              "Cryptocephalus_celtibericus   0   0   0   0   0  ...     0     0     0     0     0\n",
              "Język_maszynowy               0   0   0   0   0  ...     0     0     0     0     0\n",
              "\n",
              "[5 rows x 140 columns]"
            ]
          },
          "metadata": {
            "tags": []
          },
          "execution_count": 62
        }
      ]
    },
    {
      "cell_type": "code",
      "metadata": {
        "id": "hkre-dEQ8hIr"
      },
      "source": [
        "edges = pd.read_csv(\"/content/drive/Shareddrives/GCN-PROJECT/annotations.csv\", header=None)\n",
        "edges.columns = ['source', 'target']\n",
        "\n",
        "nodes_set = set(node_data.index)\n",
        "edges = edges[\n",
        "    (edges['source'].isin(nodes_set)) &\n",
        "    (edges['target'].isin(nodes_set))\n",
        "]"
      ],
      "execution_count": null,
      "outputs": []
    },
    {
      "cell_type": "code",
      "metadata": {
        "colab": {
          "base_uri": "https://localhost:8080/",
          "height": 221
        },
        "id": "_zIyChdF9mb_",
        "outputId": "a070906b-13b4-4928-f2cc-fa11e11e9241"
      },
      "source": [
        "print(edges.shape)\n",
        "edges.head()"
      ],
      "execution_count": null,
      "outputs": [
        {
          "output_type": "stream",
          "text": [
            "(347655, 2)\n"
          ],
          "name": "stdout"
        },
        {
          "output_type": "execute_result",
          "data": {
            "text/html": [
              "<div>\n",
              "<style scoped>\n",
              "    .dataframe tbody tr th:only-of-type {\n",
              "        vertical-align: middle;\n",
              "    }\n",
              "\n",
              "    .dataframe tbody tr th {\n",
              "        vertical-align: top;\n",
              "    }\n",
              "\n",
              "    .dataframe thead th {\n",
              "        text-align: right;\n",
              "    }\n",
              "</style>\n",
              "<table border=\"1\" class=\"dataframe\">\n",
              "  <thead>\n",
              "    <tr style=\"text-align: right;\">\n",
              "      <th></th>\n",
              "      <th>source</th>\n",
              "      <th>target</th>\n",
              "    </tr>\n",
              "  </thead>\n",
              "  <tbody>\n",
              "    <tr>\n",
              "      <th>0</th>\n",
              "      <td>AWK</td>\n",
              "      <td>Język_programowania</td>\n",
              "    </tr>\n",
              "    <tr>\n",
              "      <th>2</th>\n",
              "      <td>AWK</td>\n",
              "      <td>System_operacyjny</td>\n",
              "    </tr>\n",
              "    <tr>\n",
              "      <th>3</th>\n",
              "      <td>AWK</td>\n",
              "      <td>Unix</td>\n",
              "    </tr>\n",
              "    <tr>\n",
              "      <th>4</th>\n",
              "      <td>AWK</td>\n",
              "      <td>Tablica_asocjacyjna</td>\n",
              "    </tr>\n",
              "    <tr>\n",
              "      <th>6</th>\n",
              "      <td>AWK</td>\n",
              "      <td>Wyrażenie_regularne</td>\n",
              "    </tr>\n",
              "  </tbody>\n",
              "</table>\n",
              "</div>"
            ],
            "text/plain": [
              "  source               target\n",
              "0    AWK  Język_programowania\n",
              "2    AWK    System_operacyjny\n",
              "3    AWK                 Unix\n",
              "4    AWK  Tablica_asocjacyjna\n",
              "6    AWK  Wyrażenie_regularne"
            ]
          },
          "metadata": {
            "tags": []
          },
          "execution_count": 64
        }
      ]
    },
    {
      "cell_type": "markdown",
      "metadata": {
        "id": "Jm5es_VzC0-w"
      },
      "source": [
        "### StellarGraph"
      ]
    },
    {
      "cell_type": "code",
      "metadata": {
        "id": "XxqPjWww9p6D"
      },
      "source": [
        "stellar_graph = StellarGraph(\n",
        "    {'article': node_data},\n",
        "    {'annotation': edges}\n",
        ")"
      ],
      "execution_count": null,
      "outputs": []
    },
    {
      "cell_type": "code",
      "metadata": {
        "colab": {
          "base_uri": "https://localhost:8080/"
        },
        "id": "Prf472kaBByv",
        "outputId": "4cce875c-1205-443b-f891-935219f388d0"
      },
      "source": [
        "print(stellar_graph.info())"
      ],
      "execution_count": null,
      "outputs": [
        {
          "output_type": "stream",
          "text": [
            "StellarGraph: Undirected multigraph\n",
            " Nodes: 75649, Edges: 347655\n",
            "\n",
            " Node types:\n",
            "  article: [75649]\n",
            "    Features: float32 vector, length 140\n",
            "    Edge types: article-annotation->article\n",
            "\n",
            " Edge types:\n",
            "    article-annotation->article: [347655]\n",
            "        Weights: all 1 (default)\n",
            "        Features: none\n"
          ],
          "name": "stdout"
        }
      ]
    },
    {
      "cell_type": "code",
      "metadata": {
        "colab": {
          "base_uri": "https://localhost:8080/"
        },
        "id": "DtlFDx6rkcRT",
        "outputId": "6c18343b-1545-409c-e30c-15c2a8c3d938"
      },
      "source": [
        "print(set(node_subjects))\n",
        "print(len(node_subjects))"
      ],
      "execution_count": null,
      "outputs": [
        {
          "output_type": "stream",
          "text": [
            "{0, 1, 2, 3, 4, 5, 6}\n",
            "75649\n"
          ],
          "name": "stdout"
        }
      ]
    },
    {
      "cell_type": "markdown",
      "metadata": {
        "id": "ToS6iCK4khrN"
      },
      "source": [
        "### Data preparation"
      ]
    },
    {
      "cell_type": "code",
      "metadata": {
        "id": "y5ozWYF2kgoA"
      },
      "source": [
        "# split node_subjects to train and test_val\n",
        "train_subjects, test_val_subjects = train_test_split(\n",
        "    node_subjects, test_size=0.3, stratify=node_subjects, random_state=seed_value\n",
        ")\n",
        "# split test_val_subjects to test_subjects and val_subjects\n",
        "test_subjects, val_subjects = train_test_split(\n",
        "    test_val_subjects, test_size=0.5, stratify=test_val_subjects, random_state=seed_value\n",
        ")\n",
        "# 0.5 x 0.3 = 0.15"
      ],
      "execution_count": null,
      "outputs": []
    },
    {
      "cell_type": "code",
      "metadata": {
        "colab": {
          "base_uri": "https://localhost:8080/"
        },
        "id": "Wxtq5MACkv_D",
        "outputId": "f2f1d498-72b4-4087-aff7-f7b7dff0d3ce"
      },
      "source": [
        "print(f'Train: {len(train_subjects)}')\n",
        "print(f'Test: {len(test_subjects)}')\n",
        "print(f'Val: {len(val_subjects)}')"
      ],
      "execution_count": null,
      "outputs": [
        {
          "output_type": "stream",
          "text": [
            "Train: 52954\n",
            "Test: 11347\n",
            "Val: 11348\n"
          ],
          "name": "stdout"
        }
      ]
    },
    {
      "cell_type": "code",
      "metadata": {
        "id": "s5dj5URIk3L6"
      },
      "source": [
        "target_encoding = LabelBinarizer()\n",
        "\n",
        "train_targets = target_encoding.fit_transform(train_subjects)\n",
        "test_targets = target_encoding.transform(test_subjects)\n",
        "val_targets = target_encoding.transform(val_subjects)"
      ],
      "execution_count": null,
      "outputs": []
    },
    {
      "cell_type": "markdown",
      "metadata": {
        "id": "AJUU3ClXDuOu"
      },
      "source": [
        "### GAT"
      ]
    },
    {
      "cell_type": "code",
      "metadata": {
        "id": "4tBCeZpaGviR"
      },
      "source": [
        "generator = FullBatchNodeGenerator(stellar_graph, method=\"gat\")\n",
        "\n",
        "train_gen = generator.flow(train_subjects.index, train_targets)\n",
        "test_gen = generator.flow(test_subjects.index, test_targets)\n",
        "val_gen = generator.flow(val_subjects.index, val_targets)"
      ],
      "execution_count": null,
      "outputs": []
    },
    {
      "cell_type": "code",
      "metadata": {
        "id": "DlXDNMq8HNj4"
      },
      "source": [
        "# gat = GAT(\n",
        "#     layer_sizes=[128, train_targets.shape[1]],\n",
        "#     activations=[\"elu\", \"softmax\"],\n",
        "#     attn_heads=8,\n",
        "#     generator=generator,\n",
        "#     in_dropout=0.5,\n",
        "#     attn_dropout=0.5,\n",
        "#     normalize=None,\n",
        "# )\n",
        "\n",
        "gat = GAT(\n",
        "    layer_sizes=[140, 140],\n",
        "    activations=[\"elu\", \"elu\"],\n",
        "    attn_heads=8,\n",
        "    generator=generator,\n",
        "    in_dropout=0.5,\n",
        "    attn_dropout=0.5,\n",
        "    normalize=None,\n",
        ")"
      ],
      "execution_count": null,
      "outputs": []
    },
    {
      "cell_type": "code",
      "metadata": {
        "id": "6XDOc86NHYuX"
      },
      "source": [
        "x_inp, x_out = gat.in_out_tensors()\n",
        "\n",
        "dense = tf.keras.layers.Dense(units=70, activation=\"relu\")(x_out)\n",
        "predictions = tf.keras.layers.Dense(units=train_targets.shape[1], activation=\"softmax\")(dense)"
      ],
      "execution_count": null,
      "outputs": []
    },
    {
      "cell_type": "code",
      "metadata": {
        "id": "FuHTf604H1Gq"
      },
      "source": [
        "model = Model(inputs=x_inp, outputs=predictions)\n",
        "\n",
        "model.compile(\n",
        "    optimizer=optimizers.Adam(lr=0.005),\n",
        "    loss=losses.categorical_crossentropy,\n",
        "    metrics=[\"acc\"],\n",
        ")"
      ],
      "execution_count": null,
      "outputs": []
    },
    {
      "cell_type": "code",
      "metadata": {
        "id": "pngUXC5EIGqc"
      },
      "source": [
        "# if not os.path.isdir(\"logs\"):\n",
        "#     os.makedirs(\"logs\")\n",
        "es_callback = EarlyStopping(\n",
        "    monitor=\"val_acc\", patience=20\n",
        ")  # patience is the number of epochs to wait before early stopping in case of no further improvement\n",
        "# mc_callback = ModelCheckpoint(\n",
        "#     \"logs/best_model.h5\", monitor=\"val_acc\", save_best_only=True, save_weights_only=True\n",
        "# )"
      ],
      "execution_count": null,
      "outputs": []
    },
    {
      "cell_type": "code",
      "metadata": {
        "colab": {
          "base_uri": "https://localhost:8080/"
        },
        "id": "f6Wm9UynILmP",
        "outputId": "7ecb6b01-bda9-4a0b-803a-c6bd8a6c326b"
      },
      "source": [
        "history = model.fit(\n",
        "    train_gen,\n",
        "    epochs=100,\n",
        "    validation_data=val_gen,\n",
        "    verbose=2,\n",
        "    shuffle=False,  # this should be False, since shuffling data means shuffling the whole graph\n",
        "    # callbacks=[es_callback, mc_callback],\n",
        "    # callbacks=[es_callback],\n",
        ")"
      ],
      "execution_count": null,
      "outputs": [
        {
          "output_type": "stream",
          "text": [
            "Epoch 1/100\n",
            "1/1 - 7s - loss: 1.9953 - acc: 0.1168 - val_loss: 1.2012 - val_acc: 0.7124\n",
            "Epoch 2/100\n",
            "1/1 - 3s - loss: 1.1762 - acc: 0.6954 - val_loss: 0.8039 - val_acc: 0.7401\n",
            "Epoch 3/100\n",
            "1/1 - 3s - loss: 0.8424 - acc: 0.7136 - val_loss: 0.6906 - val_acc: 0.7889\n",
            "Epoch 4/100\n",
            "1/1 - 3s - loss: 0.7267 - acc: 0.7652 - val_loss: 0.5936 - val_acc: 0.8278\n",
            "Epoch 5/100\n",
            "1/1 - 3s - loss: 0.6512 - acc: 0.8031 - val_loss: 0.5231 - val_acc: 0.8456\n",
            "Epoch 6/100\n",
            "1/1 - 3s - loss: 0.5759 - acc: 0.8268 - val_loss: 0.4814 - val_acc: 0.8512\n",
            "Epoch 7/100\n",
            "1/1 - 3s - loss: 0.5434 - acc: 0.8306 - val_loss: 0.4478 - val_acc: 0.8594\n",
            "Epoch 8/100\n",
            "1/1 - 3s - loss: 0.5155 - acc: 0.8363 - val_loss: 0.4285 - val_acc: 0.8620\n",
            "Epoch 9/100\n",
            "1/1 - 3s - loss: 0.5194 - acc: 0.8313 - val_loss: 0.4144 - val_acc: 0.8667\n",
            "Epoch 10/100\n",
            "1/1 - 3s - loss: 0.4796 - acc: 0.8463 - val_loss: 0.4102 - val_acc: 0.8658\n",
            "Epoch 11/100\n",
            "1/1 - 3s - loss: 0.4779 - acc: 0.8481 - val_loss: 0.4070 - val_acc: 0.8672\n",
            "Epoch 12/100\n",
            "1/1 - 3s - loss: 0.4775 - acc: 0.8485 - val_loss: 0.4000 - val_acc: 0.8704\n",
            "Epoch 13/100\n",
            "1/1 - 3s - loss: 0.4735 - acc: 0.8530 - val_loss: 0.3978 - val_acc: 0.8718\n",
            "Epoch 14/100\n",
            "1/1 - 3s - loss: 0.4695 - acc: 0.8532 - val_loss: 0.3987 - val_acc: 0.8739\n",
            "Epoch 15/100\n",
            "1/1 - 3s - loss: 0.4725 - acc: 0.8519 - val_loss: 0.3936 - val_acc: 0.8738\n",
            "Epoch 16/100\n",
            "1/1 - 3s - loss: 0.4636 - acc: 0.8534 - val_loss: 0.3863 - val_acc: 0.8739\n",
            "Epoch 17/100\n",
            "1/1 - 3s - loss: 0.4505 - acc: 0.8522 - val_loss: 0.3821 - val_acc: 0.8731\n",
            "Epoch 18/100\n",
            "1/1 - 3s - loss: 0.4467 - acc: 0.8542 - val_loss: 0.3776 - val_acc: 0.8741\n",
            "Epoch 19/100\n",
            "1/1 - 3s - loss: 0.4392 - acc: 0.8556 - val_loss: 0.3720 - val_acc: 0.8744\n",
            "Epoch 20/100\n",
            "1/1 - 3s - loss: 0.4348 - acc: 0.8563 - val_loss: 0.3672 - val_acc: 0.8762\n",
            "Epoch 21/100\n",
            "1/1 - 3s - loss: 0.4351 - acc: 0.8553 - val_loss: 0.3660 - val_acc: 0.8765\n",
            "Epoch 22/100\n",
            "1/1 - 3s - loss: 0.4296 - acc: 0.8563 - val_loss: 0.3662 - val_acc: 0.8757\n",
            "Epoch 23/100\n",
            "1/1 - 3s - loss: 0.4240 - acc: 0.8592 - val_loss: 0.3665 - val_acc: 0.8758\n",
            "Epoch 24/100\n",
            "1/1 - 3s - loss: 0.4263 - acc: 0.8580 - val_loss: 0.3671 - val_acc: 0.8751\n",
            "Epoch 25/100\n",
            "1/1 - 3s - loss: 0.4196 - acc: 0.8588 - val_loss: 0.3693 - val_acc: 0.8738\n",
            "Epoch 26/100\n",
            "1/1 - 3s - loss: 0.4178 - acc: 0.8603 - val_loss: 0.3704 - val_acc: 0.8735\n",
            "Epoch 27/100\n",
            "1/1 - 3s - loss: 0.4206 - acc: 0.8606 - val_loss: 0.3689 - val_acc: 0.8743\n",
            "Epoch 28/100\n",
            "1/1 - 3s - loss: 0.4182 - acc: 0.8593 - val_loss: 0.3653 - val_acc: 0.8753\n",
            "Epoch 29/100\n",
            "1/1 - 3s - loss: 0.4110 - acc: 0.8627 - val_loss: 0.3617 - val_acc: 0.8769\n",
            "Epoch 30/100\n",
            "1/1 - 3s - loss: 0.4087 - acc: 0.8652 - val_loss: 0.3608 - val_acc: 0.8788\n",
            "Epoch 31/100\n",
            "1/1 - 3s - loss: 0.4170 - acc: 0.8618 - val_loss: 0.3612 - val_acc: 0.8798\n",
            "Epoch 32/100\n",
            "1/1 - 3s - loss: 0.4097 - acc: 0.8631 - val_loss: 0.3605 - val_acc: 0.8803\n",
            "Epoch 33/100\n",
            "1/1 - 3s - loss: 0.4079 - acc: 0.8652 - val_loss: 0.3591 - val_acc: 0.8798\n",
            "Epoch 34/100\n",
            "1/1 - 3s - loss: 0.4048 - acc: 0.8667 - val_loss: 0.3574 - val_acc: 0.8791\n",
            "Epoch 35/100\n",
            "1/1 - 3s - loss: 0.4079 - acc: 0.8642 - val_loss: 0.3571 - val_acc: 0.8805\n",
            "Epoch 36/100\n",
            "1/1 - 3s - loss: 0.4063 - acc: 0.8649 - val_loss: 0.3565 - val_acc: 0.8808\n",
            "Epoch 37/100\n",
            "1/1 - 3s - loss: 0.4057 - acc: 0.8652 - val_loss: 0.3548 - val_acc: 0.8807\n",
            "Epoch 38/100\n",
            "1/1 - 3s - loss: 0.4030 - acc: 0.8654 - val_loss: 0.3535 - val_acc: 0.8805\n",
            "Epoch 39/100\n",
            "1/1 - 3s - loss: 0.3967 - acc: 0.8675 - val_loss: 0.3543 - val_acc: 0.8821\n",
            "Epoch 40/100\n",
            "1/1 - 3s - loss: 0.3994 - acc: 0.8665 - val_loss: 0.3549 - val_acc: 0.8814\n",
            "Epoch 41/100\n",
            "1/1 - 3s - loss: 0.4001 - acc: 0.8659 - val_loss: 0.3546 - val_acc: 0.8810\n",
            "Epoch 42/100\n",
            "1/1 - 3s - loss: 0.3930 - acc: 0.8693 - val_loss: 0.3545 - val_acc: 0.8809\n",
            "Epoch 43/100\n",
            "1/1 - 3s - loss: 0.3928 - acc: 0.8682 - val_loss: 0.3532 - val_acc: 0.8796\n",
            "Epoch 44/100\n",
            "1/1 - 3s - loss: 0.3971 - acc: 0.8661 - val_loss: 0.3502 - val_acc: 0.8811\n",
            "Epoch 45/100\n",
            "1/1 - 3s - loss: 0.3928 - acc: 0.8682 - val_loss: 0.3478 - val_acc: 0.8821\n",
            "Epoch 46/100\n",
            "1/1 - 3s - loss: 0.3935 - acc: 0.8664 - val_loss: 0.3474 - val_acc: 0.8825\n",
            "Epoch 47/100\n",
            "1/1 - 3s - loss: 0.3909 - acc: 0.8689 - val_loss: 0.3490 - val_acc: 0.8828\n",
            "Epoch 48/100\n",
            "1/1 - 3s - loss: 0.3879 - acc: 0.8690 - val_loss: 0.3497 - val_acc: 0.8837\n",
            "Epoch 49/100\n",
            "1/1 - 3s - loss: 0.3942 - acc: 0.8674 - val_loss: 0.3497 - val_acc: 0.8822\n",
            "Epoch 50/100\n",
            "1/1 - 3s - loss: 0.3952 - acc: 0.8678 - val_loss: 0.3499 - val_acc: 0.8815\n",
            "Epoch 51/100\n",
            "1/1 - 3s - loss: 0.3888 - acc: 0.8673 - val_loss: 0.3495 - val_acc: 0.8819\n",
            "Epoch 52/100\n",
            "1/1 - 3s - loss: 0.3909 - acc: 0.8649 - val_loss: 0.3472 - val_acc: 0.8832\n",
            "Epoch 53/100\n",
            "1/1 - 3s - loss: 0.3886 - acc: 0.8684 - val_loss: 0.3452 - val_acc: 0.8839\n",
            "Epoch 54/100\n",
            "1/1 - 3s - loss: 0.3915 - acc: 0.8667 - val_loss: 0.3445 - val_acc: 0.8843\n",
            "Epoch 55/100\n",
            "1/1 - 3s - loss: 0.3916 - acc: 0.8671 - val_loss: 0.3431 - val_acc: 0.8838\n",
            "Epoch 56/100\n",
            "1/1 - 3s - loss: 0.3841 - acc: 0.8710 - val_loss: 0.3433 - val_acc: 0.8830\n",
            "Epoch 57/100\n",
            "1/1 - 3s - loss: 0.3871 - acc: 0.8678 - val_loss: 0.3443 - val_acc: 0.8832\n",
            "Epoch 58/100\n",
            "1/1 - 3s - loss: 0.3864 - acc: 0.8690 - val_loss: 0.3436 - val_acc: 0.8836\n",
            "Epoch 59/100\n",
            "1/1 - 3s - loss: 0.3880 - acc: 0.8673 - val_loss: 0.3428 - val_acc: 0.8841\n",
            "Epoch 60/100\n",
            "1/1 - 3s - loss: 0.3850 - acc: 0.8704 - val_loss: 0.3433 - val_acc: 0.8842\n",
            "Epoch 61/100\n",
            "1/1 - 3s - loss: 0.3850 - acc: 0.8697 - val_loss: 0.3432 - val_acc: 0.8841\n",
            "Epoch 62/100\n",
            "1/1 - 3s - loss: 0.3860 - acc: 0.8688 - val_loss: 0.3427 - val_acc: 0.8838\n",
            "Epoch 63/100\n",
            "1/1 - 3s - loss: 0.3810 - acc: 0.8702 - val_loss: 0.3424 - val_acc: 0.8840\n",
            "Epoch 64/100\n",
            "1/1 - 3s - loss: 0.3856 - acc: 0.8684 - val_loss: 0.3428 - val_acc: 0.8835\n",
            "Epoch 65/100\n",
            "1/1 - 3s - loss: 0.3872 - acc: 0.8684 - val_loss: 0.3423 - val_acc: 0.8840\n",
            "Epoch 66/100\n",
            "1/1 - 3s - loss: 0.3789 - acc: 0.8703 - val_loss: 0.3415 - val_acc: 0.8837\n",
            "Epoch 67/100\n",
            "1/1 - 3s - loss: 0.3807 - acc: 0.8710 - val_loss: 0.3405 - val_acc: 0.8842\n",
            "Epoch 68/100\n",
            "1/1 - 3s - loss: 0.3817 - acc: 0.8697 - val_loss: 0.3403 - val_acc: 0.8847\n",
            "Epoch 69/100\n",
            "1/1 - 3s - loss: 0.3800 - acc: 0.8720 - val_loss: 0.3410 - val_acc: 0.8845\n",
            "Epoch 70/100\n",
            "1/1 - 3s - loss: 0.3824 - acc: 0.8692 - val_loss: 0.3408 - val_acc: 0.8848\n",
            "Epoch 71/100\n",
            "1/1 - 3s - loss: 0.3811 - acc: 0.8715 - val_loss: 0.3411 - val_acc: 0.8842\n",
            "Epoch 72/100\n",
            "1/1 - 3s - loss: 0.3771 - acc: 0.8710 - val_loss: 0.3416 - val_acc: 0.8841\n",
            "Epoch 73/100\n",
            "1/1 - 3s - loss: 0.3790 - acc: 0.8705 - val_loss: 0.3412 - val_acc: 0.8838\n",
            "Epoch 74/100\n",
            "1/1 - 3s - loss: 0.3788 - acc: 0.8710 - val_loss: 0.3403 - val_acc: 0.8845\n",
            "Epoch 75/100\n",
            "1/1 - 3s - loss: 0.3769 - acc: 0.8721 - val_loss: 0.3402 - val_acc: 0.8848\n",
            "Epoch 76/100\n",
            "1/1 - 3s - loss: 0.3738 - acc: 0.8731 - val_loss: 0.3399 - val_acc: 0.8854\n",
            "Epoch 77/100\n",
            "1/1 - 3s - loss: 0.3720 - acc: 0.8734 - val_loss: 0.3395 - val_acc: 0.8853\n",
            "Epoch 78/100\n",
            "1/1 - 3s - loss: 0.3740 - acc: 0.8733 - val_loss: 0.3388 - val_acc: 0.8854\n",
            "Epoch 79/100\n",
            "1/1 - 3s - loss: 0.3755 - acc: 0.8714 - val_loss: 0.3383 - val_acc: 0.8855\n",
            "Epoch 80/100\n",
            "1/1 - 3s - loss: 0.3770 - acc: 0.8706 - val_loss: 0.3379 - val_acc: 0.8856\n",
            "Epoch 81/100\n",
            "1/1 - 3s - loss: 0.3775 - acc: 0.8726 - val_loss: 0.3383 - val_acc: 0.8864\n",
            "Epoch 82/100\n",
            "1/1 - 3s - loss: 0.3725 - acc: 0.8710 - val_loss: 0.3388 - val_acc: 0.8867\n",
            "Epoch 83/100\n",
            "1/1 - 3s - loss: 0.3694 - acc: 0.8736 - val_loss: 0.3388 - val_acc: 0.8863\n",
            "Epoch 84/100\n",
            "1/1 - 3s - loss: 0.3744 - acc: 0.8714 - val_loss: 0.3383 - val_acc: 0.8865\n",
            "Epoch 85/100\n",
            "1/1 - 3s - loss: 0.3763 - acc: 0.8722 - val_loss: 0.3379 - val_acc: 0.8864\n",
            "Epoch 86/100\n",
            "1/1 - 3s - loss: 0.3766 - acc: 0.8709 - val_loss: 0.3378 - val_acc: 0.8860\n",
            "Epoch 87/100\n",
            "1/1 - 3s - loss: 0.3761 - acc: 0.8701 - val_loss: 0.3374 - val_acc: 0.8854\n",
            "Epoch 88/100\n",
            "1/1 - 3s - loss: 0.3718 - acc: 0.8720 - val_loss: 0.3365 - val_acc: 0.8867\n",
            "Epoch 89/100\n",
            "1/1 - 3s - loss: 0.3762 - acc: 0.8706 - val_loss: 0.3363 - val_acc: 0.8878\n",
            "Epoch 90/100\n",
            "1/1 - 3s - loss: 0.3716 - acc: 0.8729 - val_loss: 0.3358 - val_acc: 0.8877\n",
            "Epoch 91/100\n",
            "1/1 - 3s - loss: 0.3743 - acc: 0.8705 - val_loss: 0.3352 - val_acc: 0.8876\n",
            "Epoch 92/100\n",
            "1/1 - 3s - loss: 0.3734 - acc: 0.8727 - val_loss: 0.3360 - val_acc: 0.8871\n",
            "Epoch 93/100\n",
            "1/1 - 3s - loss: 0.3743 - acc: 0.8715 - val_loss: 0.3365 - val_acc: 0.8869\n",
            "Epoch 94/100\n",
            "1/1 - 3s - loss: 0.3711 - acc: 0.8721 - val_loss: 0.3354 - val_acc: 0.8867\n",
            "Epoch 95/100\n",
            "1/1 - 3s - loss: 0.3663 - acc: 0.8755 - val_loss: 0.3348 - val_acc: 0.8881\n",
            "Epoch 96/100\n",
            "1/1 - 3s - loss: 0.3721 - acc: 0.8730 - val_loss: 0.3343 - val_acc: 0.8875\n",
            "Epoch 97/100\n",
            "1/1 - 3s - loss: 0.3724 - acc: 0.8723 - val_loss: 0.3336 - val_acc: 0.8869\n",
            "Epoch 98/100\n",
            "1/1 - 3s - loss: 0.3694 - acc: 0.8733 - val_loss: 0.3330 - val_acc: 0.8871\n",
            "Epoch 99/100\n",
            "1/1 - 3s - loss: 0.3761 - acc: 0.8714 - val_loss: 0.3328 - val_acc: 0.8861\n",
            "Epoch 100/100\n",
            "1/1 - 3s - loss: 0.3689 - acc: 0.8737 - val_loss: 0.3333 - val_acc: 0.8870\n"
          ],
          "name": "stdout"
        }
      ]
    },
    {
      "cell_type": "code",
      "metadata": {
        "colab": {
          "base_uri": "https://localhost:8080/",
          "height": 585
        },
        "id": "ZFZ7plxxIQ9g",
        "outputId": "fc2db5cf-3e64-47f2-e844-543cfb8a8a55"
      },
      "source": [
        "sg.utils.plot_history(history)"
      ],
      "execution_count": null,
      "outputs": [
        {
          "output_type": "display_data",
          "data": {
            "image/png": "[encoded data removed]",
            "text/plain": [
              "<Figure size 504x576 with 2 Axes>"
            ]
          },
          "metadata": {
            "tags": [],
            "needs_background": "light"
          }
        }
      ]
    },
    {
      "cell_type": "code",
      "metadata": {
        "colab": {
          "base_uri": "https://localhost:8080/"
        },
        "id": "PIY6x5BfnhMZ",
        "outputId": "79b3f1e2-45de-4379-ad45-36ba4ddb659e"
      },
      "source": [
        "test_metrics = model.evaluate(test_gen)\n",
        "\n",
        "print(\"\\nTest Set Metrics:\")\n",
        "for name, val in zip(model.metrics_names, test_metrics):\n",
        "    print(\"\\t{}: {:0.4f}\".format(name, val))"
      ],
      "execution_count": null,
      "outputs": [
        {
          "output_type": "stream",
          "text": [
            "1/1 [==============================] - 1s 714ms/step - loss: 0.3336 - acc: 0.8878\n",
            "\n",
            "Test Set Metrics:\n",
            "\tloss: 0.3336\n",
            "\tacc: 0.8878\n"
          ],
          "name": "stdout"
        }
      ]
    },
    {
      "cell_type": "code",
      "metadata": {
        "colab": {
          "base_uri": "https://localhost:8080/"
        },
        "id": "YBVDNlJ-mDcl",
        "outputId": "aa5a5397-677c-4455-feac-dd4e09024167"
      },
      "source": [
        "y_pred = model.predict(test_gen)\n",
        "y_pred = target_encoding.inverse_transform(y_pred.squeeze())\n",
        "y_pred = le.inverse_transform(y_pred)\n",
        "\n",
        "y_pred[:10]"
      ],
      "execution_count": null,
      "outputs": [
        {
          "output_type": "execute_result",
          "data": {
            "text/plain": [
              "array(['Informatyka', 'Astronomia', 'Astronomia', 'Biologia',\n",
              "       'Astronomia', 'Biologia', 'Astronomia', 'Matematyka', 'Biologia',\n",
              "       'Biologia'], dtype='<U11')"
            ]
          },
          "metadata": {
            "tags": []
          },
          "execution_count": 79
        }
      ]
    },
    {
      "cell_type": "code",
      "metadata": {
        "colab": {
          "base_uri": "https://localhost:8080/"
        },
        "id": "VpQT8KbomHLM",
        "outputId": "115b5e5d-22c7-4722-92b3-bd77a83a7ba7"
      },
      "source": [
        "y_test = target_encoding.inverse_transform(test_targets)\n",
        "y_test = le.inverse_transform(y_test)\n",
        "\n",
        "y_test[:10]"
      ],
      "execution_count": null,
      "outputs": [
        {
          "output_type": "execute_result",
          "data": {
            "text/plain": [
              "array(['Informatyka', 'Astronomia', 'Astronomia', 'Biologia',\n",
              "       'Astronomia', 'Biologia', 'Astronomia', 'Matematyka', 'Biologia',\n",
              "       'Biologia'], dtype='<U11')"
            ]
          },
          "metadata": {
            "tags": []
          },
          "execution_count": 80
        }
      ]
    },
    {
      "cell_type": "code",
      "metadata": {
        "id": "gbe5-c4WkAs4"
      },
      "source": [
        "with open(\"/content/drive/Shareddrives/GCN-PROJECT/onehot140_gat_y_pred.pickle\", \"wb\") as f:\n",
        "  pickle.dump(y_pred, f)\n",
        "with open(\"/content/drive/Shareddrives/GCN-PROJECT/onehot140_gat_y_true.pickle\", \"wb\") as f:\n",
        "  pickle.dump(y_test, f)"
      ],
      "execution_count": null,
      "outputs": []
    },
    {
      "cell_type": "code",
      "metadata": {
        "colab": {
          "base_uri": "https://localhost:8080/"
        },
        "id": "3B1_M059mKnE",
        "outputId": "e1fed38d-b54c-4320-8168-606b308f3b91"
      },
      "source": [
        "print(classification_report(y_test, y_pred))"
      ],
      "execution_count": null,
      "outputs": [
        {
          "output_type": "stream",
          "text": [
            "              precision    recall  f1-score   support\n",
            "\n",
            "  Astronomia       0.98      0.99      0.98      3832\n",
            "    Biologia       0.88      0.97      0.92      3522\n",
            "      Chemia       0.71      0.53      0.61       416\n",
            "      Fizyka       0.79      0.69      0.74       768\n",
            " Informatyka       0.77      0.75      0.76       738\n",
            "  Matematyka       0.81      0.75      0.78      1211\n",
            " Psychologia       0.85      0.74      0.79       860\n",
            "\n",
            "    accuracy                           0.89     11347\n",
            "   macro avg       0.83      0.78      0.80     11347\n",
            "weighted avg       0.88      0.89      0.88     11347\n",
            "\n"
          ],
          "name": "stdout"
        }
      ]
    },
    {
      "cell_type": "code",
      "metadata": {
        "colab": {
          "base_uri": "https://localhost:8080/",
          "height": 522
        },
        "id": "JfMHEu04mL-c",
        "outputId": "1fb4b9fd-d6b2-4ac6-aa17-a8f81c396280"
      },
      "source": [
        "conf_matrix(\n",
        "    y_true=y_test,\n",
        "    y_pred=y_pred\n",
        ")"
      ],
      "execution_count": null,
      "outputs": [
        {
          "output_type": "display_data",
          "data": {
            "image/png": "[encoded data removed]",
            "text/plain": [
              "<Figure size 720x504 with 2 Axes>"
            ]
          },
          "metadata": {
            "tags": [],
            "needs_background": "light"
          }
        }
      ]
    },
    {
      "cell_type": "markdown",
      "metadata": {
        "id": "8iofRhAblDM4"
      },
      "source": [
        "### GCN"
      ]
    },
    {
      "cell_type": "code",
      "metadata": {
        "colab": {
          "base_uri": "https://localhost:8080/"
        },
        "id": "JcA-IaIplRKh",
        "outputId": "448317e9-c896-4bee-b176-e1159488c4e2"
      },
      "source": [
        "generator = FullBatchNodeGenerator(stellar_graph, method=\"gcn\")\n",
        "\n",
        "train_gen = generator.flow(train_subjects.index, train_targets)\n",
        "test_gen = generator.flow(test_subjects.index, test_targets)\n",
        "val_gen = generator.flow(val_subjects.index, val_targets)"
      ],
      "execution_count": null,
      "outputs": [
        {
          "output_type": "stream",
          "text": [
            "Using GCN (local pooling) filters...\n"
          ],
          "name": "stdout"
        }
      ]
    },
    {
      "cell_type": "code",
      "metadata": {
        "id": "TrizaHU0myIE"
      },
      "source": [
        "gcn = GCN(\n",
        "    layer_sizes=[140, 140],\n",
        "    activations=[\"elu\", \"elu\"],\n",
        "    generator=generator,\n",
        "    dropout=0.5\n",
        ")"
      ],
      "execution_count": null,
      "outputs": []
    },
    {
      "cell_type": "code",
      "metadata": {
        "id": "yYcnNOafm1nz"
      },
      "source": [
        "x_inp, x_out = gcn.in_out_tensors()\n",
        "\n",
        "dense = tf.keras.layers.Dense(units=70, activation=\"relu\")(x_out)\n",
        "predictions = tf.keras.layers.Dense(units=train_targets.shape[1], activation=\"softmax\")(dense)"
      ],
      "execution_count": null,
      "outputs": []
    },
    {
      "cell_type": "code",
      "metadata": {
        "id": "N71Ku13unIIX"
      },
      "source": [
        "model = Model(inputs=x_inp, outputs=predictions)\n",
        "\n",
        "model.compile(\n",
        "    optimizer=optimizers.Adam(lr=0.005),\n",
        "    loss=losses.categorical_crossentropy,\n",
        "    metrics=[\"acc\"],\n",
        ")"
      ],
      "execution_count": null,
      "outputs": []
    },
    {
      "cell_type": "code",
      "metadata": {
        "id": "kEbLsWPFnOzG"
      },
      "source": [
        "# if not os.path.isdir(\"logs\"):\n",
        "#     os.makedirs(\"logs\")\n",
        "es_callback = EarlyStopping(\n",
        "    monitor=\"val_acc\", patience=20\n",
        ")  # patience is the number of epochs to wait before early stopping in case of no further improvement\n",
        "# mc_callback = ModelCheckpoint(\n",
        "#     \"logs/best_model.h5\", monitor=\"val_acc\", save_best_only=True, save_weights_only=True\n",
        "# )"
      ],
      "execution_count": null,
      "outputs": []
    },
    {
      "cell_type": "code",
      "metadata": {
        "colab": {
          "base_uri": "https://localhost:8080/"
        },
        "id": "yrlbQANlnSMI",
        "outputId": "56f47771-b42d-4ccf-c295-1b2417fad45a"
      },
      "source": [
        "history = model.fit(\n",
        "    train_gen,\n",
        "    epochs=100,\n",
        "    validation_data=val_gen,\n",
        "    verbose=2,\n",
        "    shuffle=False,  # this should be False, since shuffling data means shuffling the whole graph\n",
        "    # callbacks=[es_callback, mc_callback],\n",
        "    # callbacks=[es_callback],\n",
        ")"
      ],
      "execution_count": null,
      "outputs": [
        {
          "output_type": "stream",
          "text": [
            "Epoch 1/100\n",
            "1/1 - 1s - loss: 1.9926 - acc: 0.0798 - val_loss: 1.7666 - val_acc: 0.6880\n",
            "Epoch 2/100\n",
            "1/1 - 0s - loss: 1.7614 - acc: 0.6489 - val_loss: 1.5842 - val_acc: 0.6901\n",
            "Epoch 3/100\n",
            "1/1 - 0s - loss: 1.5910 - acc: 0.6790 - val_loss: 1.3732 - val_acc: 0.6865\n",
            "Epoch 4/100\n",
            "1/1 - 0s - loss: 1.4054 - acc: 0.6785 - val_loss: 1.1657 - val_acc: 0.6858\n",
            "Epoch 5/100\n",
            "1/1 - 0s - loss: 1.1651 - acc: 0.6776 - val_loss: 1.0019 - val_acc: 0.6863\n",
            "Epoch 6/100\n",
            "1/1 - 0s - loss: 1.0136 - acc: 0.6807 - val_loss: 0.8950 - val_acc: 0.6895\n",
            "Epoch 7/100\n",
            "1/1 - 0s - loss: 0.9121 - acc: 0.6846 - val_loss: 0.8338 - val_acc: 0.6950\n",
            "Epoch 8/100\n",
            "1/1 - 0s - loss: 0.8523 - acc: 0.6929 - val_loss: 0.7922 - val_acc: 0.7105\n",
            "Epoch 9/100\n",
            "1/1 - 0s - loss: 0.8176 - acc: 0.7065 - val_loss: 0.7493 - val_acc: 0.7351\n",
            "Epoch 10/100\n",
            "1/1 - 0s - loss: 0.7732 - acc: 0.7293 - val_loss: 0.7081 - val_acc: 0.7639\n",
            "Epoch 11/100\n",
            "1/1 - 0s - loss: 0.7350 - acc: 0.7541 - val_loss: 0.6798 - val_acc: 0.7789\n",
            "Epoch 12/100\n",
            "1/1 - 0s - loss: 0.7133 - acc: 0.7687 - val_loss: 0.6621 - val_acc: 0.7847\n",
            "Epoch 13/100\n",
            "1/1 - 0s - loss: 0.6990 - acc: 0.7679 - val_loss: 0.6456 - val_acc: 0.7647\n",
            "Epoch 14/100\n",
            "1/1 - 0s - loss: 0.6842 - acc: 0.7568 - val_loss: 0.6252 - val_acc: 0.7662\n",
            "Epoch 15/100\n",
            "1/1 - 0s - loss: 0.6669 - acc: 0.7557 - val_loss: 0.6020 - val_acc: 0.7908\n",
            "Epoch 16/100\n",
            "1/1 - 0s - loss: 0.6434 - acc: 0.7689 - val_loss: 0.5791 - val_acc: 0.8069\n",
            "Epoch 17/100\n",
            "1/1 - 0s - loss: 0.6233 - acc: 0.7921 - val_loss: 0.5602 - val_acc: 0.8283\n",
            "Epoch 18/100\n",
            "1/1 - 0s - loss: 0.6073 - acc: 0.8106 - val_loss: 0.5460 - val_acc: 0.8366\n",
            "Epoch 19/100\n",
            "1/1 - 0s - loss: 0.5875 - acc: 0.8211 - val_loss: 0.5341 - val_acc: 0.8396\n",
            "Epoch 20/100\n",
            "1/1 - 0s - loss: 0.5852 - acc: 0.8225 - val_loss: 0.5202 - val_acc: 0.8431\n",
            "Epoch 21/100\n",
            "1/1 - 0s - loss: 0.5723 - acc: 0.8280 - val_loss: 0.5031 - val_acc: 0.8505\n",
            "Epoch 22/100\n",
            "1/1 - 0s - loss: 0.5542 - acc: 0.8316 - val_loss: 0.4869 - val_acc: 0.8546\n",
            "Epoch 23/100\n",
            "1/1 - 0s - loss: 0.5395 - acc: 0.8383 - val_loss: 0.4767 - val_acc: 0.8575\n",
            "Epoch 24/100\n",
            "1/1 - 0s - loss: 0.5348 - acc: 0.8407 - val_loss: 0.4725 - val_acc: 0.8587\n",
            "Epoch 25/100\n",
            "1/1 - 0s - loss: 0.5375 - acc: 0.8418 - val_loss: 0.4642 - val_acc: 0.8596\n",
            "Epoch 26/100\n",
            "1/1 - 0s - loss: 0.5282 - acc: 0.8425 - val_loss: 0.4539 - val_acc: 0.8624\n",
            "Epoch 27/100\n",
            "1/1 - 0s - loss: 0.5159 - acc: 0.8467 - val_loss: 0.4462 - val_acc: 0.8642\n",
            "Epoch 28/100\n",
            "1/1 - 0s - loss: 0.5145 - acc: 0.8461 - val_loss: 0.4423 - val_acc: 0.8640\n",
            "Epoch 29/100\n",
            "1/1 - 0s - loss: 0.5035 - acc: 0.8483 - val_loss: 0.4390 - val_acc: 0.8646\n",
            "Epoch 30/100\n",
            "1/1 - 0s - loss: 0.4960 - acc: 0.8491 - val_loss: 0.4339 - val_acc: 0.8659\n",
            "Epoch 31/100\n",
            "1/1 - 0s - loss: 0.4972 - acc: 0.8479 - val_loss: 0.4281 - val_acc: 0.8676\n",
            "Epoch 32/100\n",
            "1/1 - 0s - loss: 0.4854 - acc: 0.8500 - val_loss: 0.4237 - val_acc: 0.8694\n",
            "Epoch 33/100\n",
            "1/1 - 1s - loss: 0.4820 - acc: 0.8524 - val_loss: 0.4216 - val_acc: 0.8708\n",
            "Epoch 34/100\n",
            "1/1 - 0s - loss: 0.4759 - acc: 0.8529 - val_loss: 0.4194 - val_acc: 0.8713\n",
            "Epoch 35/100\n",
            "1/1 - 0s - loss: 0.4802 - acc: 0.8519 - val_loss: 0.4161 - val_acc: 0.8723\n",
            "Epoch 36/100\n",
            "1/1 - 0s - loss: 0.4766 - acc: 0.8548 - val_loss: 0.4132 - val_acc: 0.8713\n",
            "Epoch 37/100\n",
            "1/1 - 0s - loss: 0.4710 - acc: 0.8565 - val_loss: 0.4116 - val_acc: 0.8713\n",
            "Epoch 38/100\n",
            "1/1 - 0s - loss: 0.4650 - acc: 0.8550 - val_loss: 0.4103 - val_acc: 0.8720\n",
            "Epoch 39/100\n",
            "1/1 - 0s - loss: 0.4617 - acc: 0.8562 - val_loss: 0.4083 - val_acc: 0.8720\n",
            "Epoch 40/100\n",
            "1/1 - 0s - loss: 0.4643 - acc: 0.8545 - val_loss: 0.4059 - val_acc: 0.8728\n",
            "Epoch 41/100\n",
            "1/1 - 0s - loss: 0.4638 - acc: 0.8541 - val_loss: 0.4037 - val_acc: 0.8738\n",
            "Epoch 42/100\n",
            "1/1 - 0s - loss: 0.4521 - acc: 0.8566 - val_loss: 0.4018 - val_acc: 0.8732\n",
            "Epoch 43/100\n",
            "1/1 - 0s - loss: 0.4493 - acc: 0.8570 - val_loss: 0.4002 - val_acc: 0.8739\n",
            "Epoch 44/100\n",
            "1/1 - 0s - loss: 0.4533 - acc: 0.8558 - val_loss: 0.3987 - val_acc: 0.8735\n",
            "Epoch 45/100\n",
            "1/1 - 0s - loss: 0.4513 - acc: 0.8570 - val_loss: 0.3967 - val_acc: 0.8733\n",
            "Epoch 46/100\n",
            "1/1 - 0s - loss: 0.4500 - acc: 0.8550 - val_loss: 0.3941 - val_acc: 0.8735\n",
            "Epoch 47/100\n",
            "1/1 - 0s - loss: 0.4462 - acc: 0.8571 - val_loss: 0.3920 - val_acc: 0.8738\n",
            "Epoch 48/100\n",
            "1/1 - 0s - loss: 0.4415 - acc: 0.8587 - val_loss: 0.3909 - val_acc: 0.8732\n",
            "Epoch 49/100\n",
            "1/1 - 0s - loss: 0.4419 - acc: 0.8601 - val_loss: 0.3904 - val_acc: 0.8725\n",
            "Epoch 50/100\n",
            "1/1 - 0s - loss: 0.4436 - acc: 0.8572 - val_loss: 0.3895 - val_acc: 0.8725\n",
            "Epoch 51/100\n",
            "1/1 - 0s - loss: 0.4417 - acc: 0.8575 - val_loss: 0.3882 - val_acc: 0.8728\n",
            "Epoch 52/100\n",
            "1/1 - 0s - loss: 0.4403 - acc: 0.8571 - val_loss: 0.3870 - val_acc: 0.8739\n",
            "Epoch 53/100\n",
            "1/1 - 0s - loss: 0.4393 - acc: 0.8580 - val_loss: 0.3863 - val_acc: 0.8746\n",
            "Epoch 54/100\n",
            "1/1 - 0s - loss: 0.4363 - acc: 0.8599 - val_loss: 0.3858 - val_acc: 0.8750\n",
            "Epoch 55/100\n",
            "1/1 - 0s - loss: 0.4353 - acc: 0.8609 - val_loss: 0.3853 - val_acc: 0.8754\n",
            "Epoch 56/100\n",
            "1/1 - 0s - loss: 0.4301 - acc: 0.8614 - val_loss: 0.3850 - val_acc: 0.8752\n",
            "Epoch 57/100\n",
            "1/1 - 0s - loss: 0.4334 - acc: 0.8591 - val_loss: 0.3844 - val_acc: 0.8756\n",
            "Epoch 58/100\n",
            "1/1 - 0s - loss: 0.4320 - acc: 0.8593 - val_loss: 0.3838 - val_acc: 0.8754\n",
            "Epoch 59/100\n",
            "1/1 - 0s - loss: 0.4321 - acc: 0.8595 - val_loss: 0.3829 - val_acc: 0.8759\n",
            "Epoch 60/100\n",
            "1/1 - 0s - loss: 0.4304 - acc: 0.8604 - val_loss: 0.3819 - val_acc: 0.8761\n",
            "Epoch 61/100\n",
            "1/1 - 0s - loss: 0.4284 - acc: 0.8605 - val_loss: 0.3808 - val_acc: 0.8758\n",
            "Epoch 62/100\n",
            "1/1 - 0s - loss: 0.4303 - acc: 0.8585 - val_loss: 0.3798 - val_acc: 0.8763\n",
            "Epoch 63/100\n",
            "1/1 - 0s - loss: 0.4246 - acc: 0.8628 - val_loss: 0.3790 - val_acc: 0.8761\n",
            "Epoch 64/100\n",
            "1/1 - 0s - loss: 0.4255 - acc: 0.8614 - val_loss: 0.3784 - val_acc: 0.8757\n",
            "Epoch 65/100\n",
            "1/1 - 0s - loss: 0.4299 - acc: 0.8599 - val_loss: 0.3776 - val_acc: 0.8755\n",
            "Epoch 66/100\n",
            "1/1 - 0s - loss: 0.4263 - acc: 0.8603 - val_loss: 0.3769 - val_acc: 0.8758\n",
            "Epoch 67/100\n",
            "1/1 - 0s - loss: 0.4253 - acc: 0.8614 - val_loss: 0.3762 - val_acc: 0.8764\n",
            "Epoch 68/100\n",
            "1/1 - 0s - loss: 0.4229 - acc: 0.8602 - val_loss: 0.3755 - val_acc: 0.8765\n",
            "Epoch 69/100\n",
            "1/1 - 0s - loss: 0.4245 - acc: 0.8610 - val_loss: 0.3748 - val_acc: 0.8768\n",
            "Epoch 70/100\n",
            "1/1 - 0s - loss: 0.4215 - acc: 0.8610 - val_loss: 0.3742 - val_acc: 0.8765\n",
            "Epoch 71/100\n",
            "1/1 - 0s - loss: 0.4246 - acc: 0.8615 - val_loss: 0.3735 - val_acc: 0.8765\n",
            "Epoch 72/100\n",
            "1/1 - 0s - loss: 0.4185 - acc: 0.8617 - val_loss: 0.3729 - val_acc: 0.8771\n",
            "Epoch 73/100\n",
            "1/1 - 0s - loss: 0.4232 - acc: 0.8606 - val_loss: 0.3723 - val_acc: 0.8775\n",
            "Epoch 74/100\n",
            "1/1 - 0s - loss: 0.4217 - acc: 0.8618 - val_loss: 0.3718 - val_acc: 0.8773\n",
            "Epoch 75/100\n",
            "1/1 - 0s - loss: 0.4161 - acc: 0.8638 - val_loss: 0.3715 - val_acc: 0.8771\n",
            "Epoch 76/100\n",
            "1/1 - 0s - loss: 0.4167 - acc: 0.8625 - val_loss: 0.3711 - val_acc: 0.8775\n",
            "Epoch 77/100\n",
            "1/1 - 0s - loss: 0.4139 - acc: 0.8631 - val_loss: 0.3708 - val_acc: 0.8769\n",
            "Epoch 78/100\n",
            "1/1 - 0s - loss: 0.4163 - acc: 0.8632 - val_loss: 0.3704 - val_acc: 0.8769\n",
            "Epoch 79/100\n",
            "1/1 - 0s - loss: 0.4156 - acc: 0.8633 - val_loss: 0.3697 - val_acc: 0.8776\n",
            "Epoch 80/100\n",
            "1/1 - 0s - loss: 0.4183 - acc: 0.8622 - val_loss: 0.3689 - val_acc: 0.8779\n",
            "Epoch 81/100\n",
            "1/1 - 0s - loss: 0.4113 - acc: 0.8630 - val_loss: 0.3683 - val_acc: 0.8781\n",
            "Epoch 82/100\n",
            "1/1 - 0s - loss: 0.4163 - acc: 0.8623 - val_loss: 0.3677 - val_acc: 0.8780\n",
            "Epoch 83/100\n",
            "1/1 - 0s - loss: 0.4124 - acc: 0.8657 - val_loss: 0.3673 - val_acc: 0.8782\n",
            "Epoch 84/100\n",
            "1/1 - 0s - loss: 0.4124 - acc: 0.8629 - val_loss: 0.3670 - val_acc: 0.8780\n",
            "Epoch 85/100\n",
            "1/1 - 0s - loss: 0.4140 - acc: 0.8640 - val_loss: 0.3668 - val_acc: 0.8780\n",
            "Epoch 86/100\n",
            "1/1 - 0s - loss: 0.4084 - acc: 0.8629 - val_loss: 0.3667 - val_acc: 0.8781\n",
            "Epoch 87/100\n",
            "1/1 - 0s - loss: 0.4114 - acc: 0.8626 - val_loss: 0.3661 - val_acc: 0.8780\n",
            "Epoch 88/100\n",
            "1/1 - 0s - loss: 0.4094 - acc: 0.8631 - val_loss: 0.3654 - val_acc: 0.8785\n",
            "Epoch 89/100\n",
            "1/1 - 0s - loss: 0.4110 - acc: 0.8640 - val_loss: 0.3646 - val_acc: 0.8785\n",
            "Epoch 90/100\n",
            "1/1 - 1s - loss: 0.4082 - acc: 0.8652 - val_loss: 0.3641 - val_acc: 0.8788\n",
            "Epoch 91/100\n",
            "1/1 - 0s - loss: 0.4094 - acc: 0.8630 - val_loss: 0.3635 - val_acc: 0.8790\n",
            "Epoch 92/100\n",
            "1/1 - 0s - loss: 0.4075 - acc: 0.8647 - val_loss: 0.3630 - val_acc: 0.8793\n",
            "Epoch 93/100\n",
            "1/1 - 0s - loss: 0.4117 - acc: 0.8629 - val_loss: 0.3625 - val_acc: 0.8796\n",
            "Epoch 94/100\n",
            "1/1 - 0s - loss: 0.4070 - acc: 0.8635 - val_loss: 0.3620 - val_acc: 0.8798\n",
            "Epoch 95/100\n",
            "1/1 - 0s - loss: 0.4042 - acc: 0.8648 - val_loss: 0.3616 - val_acc: 0.8796\n",
            "Epoch 96/100\n",
            "1/1 - 0s - loss: 0.4062 - acc: 0.8649 - val_loss: 0.3612 - val_acc: 0.8797\n",
            "Epoch 97/100\n",
            "1/1 - 0s - loss: 0.4045 - acc: 0.8634 - val_loss: 0.3608 - val_acc: 0.8802\n",
            "Epoch 98/100\n",
            "1/1 - 0s - loss: 0.4036 - acc: 0.8646 - val_loss: 0.3606 - val_acc: 0.8804\n",
            "Epoch 99/100\n",
            "1/1 - 0s - loss: 0.4059 - acc: 0.8650 - val_loss: 0.3605 - val_acc: 0.8804\n",
            "Epoch 100/100\n",
            "1/1 - 0s - loss: 0.4025 - acc: 0.8657 - val_loss: 0.3602 - val_acc: 0.8803\n"
          ],
          "name": "stdout"
        }
      ]
    },
    {
      "cell_type": "code",
      "metadata": {
        "colab": {
          "base_uri": "https://localhost:8080/",
          "height": 585
        },
        "id": "0Wa33CcYn3M2",
        "outputId": "b5b3649c-9e6c-4e29-f5ca-05be561d0d70"
      },
      "source": [
        "sg.utils.plot_history(history)"
      ],
      "execution_count": null,
      "outputs": [
        {
          "output_type": "display_data",
          "data": {
            "image/png": "[encoded data removed]",
            "text/plain": [
              "<Figure size 504x576 with 2 Axes>"
            ]
          },
          "metadata": {
            "tags": [],
            "needs_background": "light"
          }
        }
      ]
    },
    {
      "cell_type": "code",
      "metadata": {
        "colab": {
          "base_uri": "https://localhost:8080/"
        },
        "id": "JSJu3gB2n7R1",
        "outputId": "1bf4974f-46b4-444d-b4f4-53d9525196ba"
      },
      "source": [
        "test_metrics = model.evaluate(test_gen)\n",
        "\n",
        "print(\"\\nTest Set Metrics:\")\n",
        "for name, val in zip(model.metrics_names, test_metrics):\n",
        "    print(\"\\t{}: {:0.4f}\".format(name, val))"
      ],
      "execution_count": null,
      "outputs": [
        {
          "output_type": "stream",
          "text": [
            "1/1 [==============================] - 0s 96ms/step - loss: 0.3599 - acc: 0.8827\n",
            "\n",
            "Test Set Metrics:\n",
            "\tloss: 0.3599\n",
            "\tacc: 0.8827\n"
          ],
          "name": "stdout"
        }
      ]
    },
    {
      "cell_type": "code",
      "metadata": {
        "colab": {
          "base_uri": "https://localhost:8080/"
        },
        "id": "1usL0WCNn_Qg",
        "outputId": "382e4f50-da56-4584-967a-e29811177544"
      },
      "source": [
        "y_pred = model.predict(test_gen)\n",
        "y_pred = target_encoding.inverse_transform(y_pred.squeeze())\n",
        "y_pred = le.inverse_transform(y_pred)\n",
        "\n",
        "y_pred[:10]"
      ],
      "execution_count": null,
      "outputs": [
        {
          "output_type": "execute_result",
          "data": {
            "text/plain": [
              "array(['Informatyka', 'Astronomia', 'Astronomia', 'Biologia',\n",
              "       'Astronomia', 'Biologia', 'Astronomia', 'Matematyka', 'Biologia',\n",
              "       'Biologia'], dtype='<U11')"
            ]
          },
          "metadata": {
            "tags": []
          },
          "execution_count": 92
        }
      ]
    },
    {
      "cell_type": "code",
      "metadata": {
        "colab": {
          "base_uri": "https://localhost:8080/"
        },
        "id": "G4kNRaH4oCUT",
        "outputId": "b7a63539-ce70-4562-9dfc-83fbedf024b4"
      },
      "source": [
        "y_test = target_encoding.inverse_transform(test_targets)\n",
        "y_test = le.inverse_transform(y_test)\n",
        "\n",
        "y_test[:10]"
      ],
      "execution_count": null,
      "outputs": [
        {
          "output_type": "execute_result",
          "data": {
            "text/plain": [
              "array(['Informatyka', 'Astronomia', 'Astronomia', 'Biologia',\n",
              "       'Astronomia', 'Biologia', 'Astronomia', 'Matematyka', 'Biologia',\n",
              "       'Biologia'], dtype='<U11')"
            ]
          },
          "metadata": {
            "tags": []
          },
          "execution_count": 93
        }
      ]
    },
    {
      "cell_type": "code",
      "metadata": {
        "id": "_gJi-HJWkbRs"
      },
      "source": [
        "with open(\"/content/drive/Shareddrives/GCN-PROJECT/onehot140_gcn_y_pred.pickle\", \"wb\") as f:\n",
        "  pickle.dump(y_pred, f)\n",
        "with open(\"/content/drive/Shareddrives/GCN-PROJECT/onehot140_gcn_y_true.pickle\", \"wb\") as f:\n",
        "  pickle.dump(y_test, f)"
      ],
      "execution_count": null,
      "outputs": []
    },
    {
      "cell_type": "code",
      "metadata": {
        "colab": {
          "base_uri": "https://localhost:8080/"
        },
        "id": "OPAcBI9woEMN",
        "outputId": "9a7b783a-ea9d-4f54-f061-1d5b98422f1a"
      },
      "source": [
        "print(classification_report(y_test, y_pred))"
      ],
      "execution_count": null,
      "outputs": [
        {
          "output_type": "stream",
          "text": [
            "              precision    recall  f1-score   support\n",
            "\n",
            "  Astronomia       0.99      0.99      0.99      3832\n",
            "    Biologia       0.88      0.97      0.92      3522\n",
            "      Chemia       0.65      0.55      0.60       416\n",
            "      Fizyka       0.77      0.70      0.74       768\n",
            " Informatyka       0.75      0.74      0.74       738\n",
            "  Matematyka       0.82      0.73      0.77      1211\n",
            " Psychologia       0.83      0.73      0.78       860\n",
            "\n",
            "    accuracy                           0.88     11347\n",
            "   macro avg       0.81      0.77      0.79     11347\n",
            "weighted avg       0.88      0.88      0.88     11347\n",
            "\n"
          ],
          "name": "stdout"
        }
      ]
    },
    {
      "cell_type": "code",
      "metadata": {
        "colab": {
          "base_uri": "https://localhost:8080/",
          "height": 522
        },
        "id": "QlIdv1EvoGZh",
        "outputId": "bc41ee60-f027-4816-e3b9-369d9f489791"
      },
      "source": [
        "conf_matrix(\n",
        "    y_true=y_test,\n",
        "    y_pred=y_pred\n",
        ")"
      ],
      "execution_count": null,
      "outputs": [
        {
          "output_type": "display_data",
          "data": {
            "image/png": "[encoded data removed]",
            "text/plain": [
              "<Figure size 720x504 with 2 Axes>"
            ]
          },
          "metadata": {
            "tags": [],
            "needs_background": "light"
          }
        }
      ]
    },
    {
      "cell_type": "code",
      "metadata": {
        "id": "W_da65jkoZEB"
      },
      "source": [
        ""
      ],
      "execution_count": null,
      "outputs": []
    }
  ]
}