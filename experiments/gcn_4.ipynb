{
  "nbformat": 4,
  "nbformat_minor": 0,
  "metadata": {
    "colab": {
      "name": "gcn_4.ipynb",
      "provenance": [],
      "collapsed_sections": [],
      "toc_visible": true
    },
    "kernelspec": {
      "display_name": "Python 3",
      "language": "python",
      "name": "python3"
    },
    "language_info": {
      "codemirror_mode": {
        "name": "ipython",
        "version": 3
      },
      "file_extension": ".py",
      "mimetype": "text/x-python",
      "name": "python",
      "nbconvert_exporter": "python",
      "pygments_lexer": "ipython3",
      "version": "3.6.12"
    }
  },
  "cells": [
    {
      "cell_type": "code",
      "metadata": {
        "id": "rl3a91S8Biye"
      },
      "source": [
        "from os.path import join\n",
        "import glob\n",
        "import matplotlib.pyplot as plt\n",
        "import pandas as pd\n",
        "from google.colab import drive\n",
        "import tensorflow as tf\n",
        "import torch\n",
        "import torch.optim as optim\n",
        "import torch.nn as nn\n",
        "import torch.nn.functional as F\n",
        "from torch.utils import data as data_utils\n",
        "import numpy as np\n",
        "from typing import List\n",
        "from tqdm import tqdm\n",
        "import pickle\n",
        "from sklearn.metrics import f1_score, confusion_matrix, accuracy_score, classification_report\n",
        "from sklearn.model_selection import train_test_split\n",
        "import itertools\n",
        "from tensorflow.keras import layers, models\n",
        "import seaborn as sn\n",
        "import zipfile\n",
        "from gensim.models import KeyedVectors"
      ],
      "execution_count": null,
      "outputs": []
    },
    {
      "cell_type": "code",
      "metadata": {
        "id": "vvf9Hwuv7hYI"
      },
      "source": [
        "tqdm.pandas()"
      ],
      "execution_count": null,
      "outputs": []
    },
    {
      "cell_type": "markdown",
      "metadata": {
        "id": "2zsz5KNtCA95"
      },
      "source": [
        "## Mount Google Drive"
      ]
    },
    {
      "cell_type": "code",
      "metadata": {
        "id": "UsI7DpYzCFBU",
        "colab": {
          "base_uri": "https://localhost:8080/"
        },
        "outputId": "948b202b-a24d-4663-872f-58a9313c5c47"
      },
      "source": [
        "drive.mount('/content/drive')"
      ],
      "execution_count": null,
      "outputs": [
        {
          "output_type": "stream",
          "text": [
            "Mounted at /content/drive\n"
          ],
          "name": "stdout"
        }
      ]
    },
    {
      "cell_type": "markdown",
      "metadata": {
        "id": "LlZ2qErtBseM"
      },
      "source": [
        "## Data loading"
      ]
    },
    {
      "cell_type": "code",
      "metadata": {
        "id": "eZlv2NxxCetg"
      },
      "source": [
        "data = pd.read_csv(\"/content/drive/Shareddrives/GCN-PROJECT/wiki_pages_lemmas.csv\", index_col=0)"
      ],
      "execution_count": null,
      "outputs": []
    },
    {
      "cell_type": "code",
      "metadata": {
        "id": "a4STatXbBiym",
        "colab": {
          "base_uri": "https://localhost:8080/",
          "height": 204
        },
        "outputId": "bf131689-d161-45de-ed44-f8a63f6e7d69"
      },
      "source": [
        "data.head()"
      ],
      "execution_count": null,
      "outputs": [
        {
          "output_type": "execute_result",
          "data": {
            "text/html": [
              "<div>\n",
              "<style scoped>\n",
              "    .dataframe tbody tr th:only-of-type {\n",
              "        vertical-align: middle;\n",
              "    }\n",
              "\n",
              "    .dataframe tbody tr th {\n",
              "        vertical-align: top;\n",
              "    }\n",
              "\n",
              "    .dataframe thead th {\n",
              "        text-align: right;\n",
              "    }\n",
              "</style>\n",
              "<table border=\"1\" class=\"dataframe\">\n",
              "  <thead>\n",
              "    <tr style=\"text-align: right;\">\n",
              "      <th></th>\n",
              "      <th>title</th>\n",
              "      <th>text</th>\n",
              "      <th>category</th>\n",
              "      <th>noun_lemmas</th>\n",
              "    </tr>\n",
              "  </thead>\n",
              "  <tbody>\n",
              "    <tr>\n",
              "      <th>0</th>\n",
              "      <td>Mirosław_Miller</td>\n",
              "      <td>Mirosław Miller – Dyrektor Międzynarodowego La...</td>\n",
              "      <td>Chemia</td>\n",
              "      <td>['mirosława', 'miller', 'dyrektor', 'laborator...</td>\n",
              "    </tr>\n",
              "    <tr>\n",
              "      <th>1</th>\n",
              "      <td>Chimerokształtne</td>\n",
              "      <td>Chimerokształtne, chimery, przerazy (Chimaerif...</td>\n",
              "      <td>Biologia</td>\n",
              "      <td>['chimera', 'przeraza', 'chimaeriformes', 'rzą...</td>\n",
              "    </tr>\n",
              "    <tr>\n",
              "      <th>2</th>\n",
              "      <td>(2855)_Bastian</td>\n",
              "      <td>(2855) Bastian (1931 TB2) – planetoida z grupy...</td>\n",
              "      <td>Astronomia</td>\n",
              "      <td>['bastian', 'tb2', 'planetoida', 'grupa', 'pas...</td>\n",
              "    </tr>\n",
              "    <tr>\n",
              "      <th>3</th>\n",
              "      <td>Cryptocephalus_celtibericus</td>\n",
              "      <td>\"Cryptocephalus celtibericus\" – gatunek chrząs...</td>\n",
              "      <td>Biologia</td>\n",
              "      <td>['cryptocephalus', 'celtibericus', 'gatunek', ...</td>\n",
              "    </tr>\n",
              "    <tr>\n",
              "      <th>4</th>\n",
              "      <td>Język_maszynowy</td>\n",
              "      <td>Język maszynowy, kod maszynowy – zestaw rozkaz...</td>\n",
              "      <td>Matematyka</td>\n",
              "      <td>['język', 'koda', 'zestaw', 'rozkaz', 'proceso...</td>\n",
              "    </tr>\n",
              "  </tbody>\n",
              "</table>\n",
              "</div>"
            ],
            "text/plain": [
              "                         title  ...                                        noun_lemmas\n",
              "0              Mirosław_Miller  ...  ['mirosława', 'miller', 'dyrektor', 'laborator...\n",
              "1             Chimerokształtne  ...  ['chimera', 'przeraza', 'chimaeriformes', 'rzą...\n",
              "2               (2855)_Bastian  ...  ['bastian', 'tb2', 'planetoida', 'grupa', 'pas...\n",
              "3  Cryptocephalus_celtibericus  ...  ['cryptocephalus', 'celtibericus', 'gatunek', ...\n",
              "4              Język_maszynowy  ...  ['język', 'koda', 'zestaw', 'rozkaz', 'proceso...\n",
              "\n",
              "[5 rows x 4 columns]"
            ]
          },
          "metadata": {
            "tags": []
          },
          "execution_count": 5
        }
      ]
    },
    {
      "cell_type": "code",
      "metadata": {
        "id": "la4_xsZeJ8Rd",
        "colab": {
          "base_uri": "https://localhost:8080/"
        },
        "outputId": "8398e321-18b3-40ed-f0b7-f6bd1fd21fbf"
      },
      "source": [
        "data.shape"
      ],
      "execution_count": null,
      "outputs": [
        {
          "output_type": "execute_result",
          "data": {
            "text/plain": [
              "(75792, 4)"
            ]
          },
          "metadata": {
            "tags": []
          },
          "execution_count": 6
        }
      ]
    },
    {
      "cell_type": "code",
      "metadata": {
        "id": "weihKOAFK-px"
      },
      "source": [
        "data.dropna(inplace=True)"
      ],
      "execution_count": null,
      "outputs": []
    },
    {
      "cell_type": "markdown",
      "metadata": {
        "id": "jx5idlc5az2Y"
      },
      "source": [
        "noun_lemmas column to list"
      ]
    },
    {
      "cell_type": "code",
      "metadata": {
        "colab": {
          "base_uri": "https://localhost:8080/"
        },
        "id": "zTx23M-9axUh",
        "outputId": "12f4a85d-24f2-4a73-f2c7-3333c37b8ef9"
      },
      "source": [
        "data['noun_lemmas'] = data['noun_lemmas'].progress_apply(\n",
        "    lambda row: row[1:-1].replace('\\'', '').split(', ')\n",
        ")"
      ],
      "execution_count": null,
      "outputs": [
        {
          "output_type": "stream",
          "text": [
            "100%|██████████| 75443/75443 [00:01<00:00, 42006.30it/s]\n"
          ],
          "name": "stderr"
        }
      ]
    },
    {
      "cell_type": "code",
      "metadata": {
        "colab": {
          "base_uri": "https://localhost:8080/"
        },
        "id": "UmRtcAY_a-jY",
        "outputId": "71685e90-9128-40a8-96a5-7abdd91e8107"
      },
      "source": [
        "type(data['noun_lemmas'].iloc[0])"
      ],
      "execution_count": null,
      "outputs": [
        {
          "output_type": "execute_result",
          "data": {
            "text/plain": [
              "list"
            ]
          },
          "metadata": {
            "tags": []
          },
          "execution_count": 9
        }
      ]
    },
    {
      "cell_type": "code",
      "metadata": {
        "id": "eXxt-VHgbUn_"
      },
      "source": [
        "noun_lemmas_list = data['noun_lemmas'].to_list()\n",
        "\n",
        "flat_list = [item for sublist in noun_lemmas_list for item in sublist]"
      ],
      "execution_count": null,
      "outputs": []
    },
    {
      "cell_type": "code",
      "metadata": {
        "colab": {
          "base_uri": "https://localhost:8080/"
        },
        "id": "vZESSECkdyg5",
        "outputId": "2e527732-ae4b-4400-ee7e-ec96aad816fd"
      },
      "source": [
        "len(flat_list)"
      ],
      "execution_count": null,
      "outputs": [
        {
          "output_type": "execute_result",
          "data": {
            "text/plain": [
              "5824370"
            ]
          },
          "metadata": {
            "tags": []
          },
          "execution_count": 11
        }
      ]
    },
    {
      "cell_type": "code",
      "metadata": {
        "id": "-K4bIkS-iywg"
      },
      "source": [
        "unique_noun_lemmas = set(flat_list)"
      ],
      "execution_count": null,
      "outputs": []
    },
    {
      "cell_type": "code",
      "metadata": {
        "colab": {
          "base_uri": "https://localhost:8080/"
        },
        "id": "F3L9Y_mEi4aG",
        "outputId": "0ad1da8d-1bde-448b-843c-6bf377181808"
      },
      "source": [
        "len(unique_noun_lemmas)"
      ],
      "execution_count": null,
      "outputs": [
        {
          "output_type": "execute_result",
          "data": {
            "text/plain": [
              "284013"
            ]
          },
          "metadata": {
            "tags": []
          },
          "execution_count": 13
        }
      ]
    },
    {
      "cell_type": "markdown",
      "metadata": {
        "id": "c0T02VHzEcVL"
      },
      "source": [
        "## Embedding"
      ]
    },
    {
      "cell_type": "markdown",
      "metadata": {
        "id": "lMRWwJATg0Nn"
      },
      "source": [
        "### word2vec model"
      ]
    },
    {
      "cell_type": "code",
      "metadata": {
        "id": "Vgsx9f4ZgzuV"
      },
      "source": [
        "model_zip_file = '/content/drive/Shareddrives/GCN-PROJECT/models/word2vec.zip'\n",
        "directory_to_extract_to = './'\n",
        "\n",
        "with zipfile.ZipFile(model_zip_file, 'r') as zip_ref:\n",
        "    zip_ref.extractall(directory_to_extract_to)"
      ],
      "execution_count": null,
      "outputs": []
    },
    {
      "cell_type": "code",
      "metadata": {
        "id": "ugaQEB4Mdxo5"
      },
      "source": [
        "word2vec = KeyedVectors.load('word2vec/word2vec_100_3_polish.bin')"
      ],
      "execution_count": null,
      "outputs": []
    },
    {
      "cell_type": "code",
      "metadata": {
        "colab": {
          "base_uri": "https://localhost:8080/"
        },
        "id": "lW_EV5m2iBi2",
        "outputId": "ac5ef0e4-be00-4253-8738-16e79c172aec"
      },
      "source": [
        "len(word2vec.get_vector('pies'))"
      ],
      "execution_count": null,
      "outputs": [
        {
          "output_type": "execute_result",
          "data": {
            "text/plain": [
              "100"
            ]
          },
          "metadata": {
            "tags": []
          },
          "execution_count": 16
        }
      ]
    },
    {
      "cell_type": "code",
      "metadata": {
        "colab": {
          "base_uri": "https://localhost:8080/"
        },
        "id": "DLyWih51ir02",
        "outputId": "3f7cde8a-28c8-4c53-a95a-b9d6fbaa94b3"
      },
      "source": [
        "embeddings = {}\n",
        "not_found_lemmas = []\n",
        "\n",
        "for lemma in tqdm(unique_noun_lemmas):\n",
        "    try:\n",
        "        vector = word2vec.get_vector(lemma)\n",
        "        embeddings[lemma] = vector\n",
        "    except KeyError:\n",
        "        not_found_lemmas.append(lemma)"
      ],
      "execution_count": null,
      "outputs": [
        {
          "output_type": "stream",
          "text": [
            "100%|██████████| 284013/284013 [00:00<00:00, 292441.81it/s]\n"
          ],
          "name": "stderr"
        }
      ]
    },
    {
      "cell_type": "code",
      "metadata": {
        "colab": {
          "base_uri": "https://localhost:8080/"
        },
        "id": "xqsgOLuJjZ3u",
        "outputId": "048f6e5d-db05-44e1-ab1c-3d6528f4af0f"
      },
      "source": [
        "len(embeddings)"
      ],
      "execution_count": null,
      "outputs": [
        {
          "output_type": "execute_result",
          "data": {
            "text/plain": [
              "174800"
            ]
          },
          "metadata": {
            "tags": []
          },
          "execution_count": 44
        }
      ]
    },
    {
      "cell_type": "code",
      "metadata": {
        "colab": {
          "base_uri": "https://localhost:8080/"
        },
        "id": "UbTdHIfSjkyc",
        "outputId": "341632f5-7c36-4427-e817-4f444cd9df8b"
      },
      "source": [
        "list(embeddings.keys())[:10]"
      ],
      "execution_count": null,
      "outputs": [
        {
          "output_type": "execute_result",
          "data": {
            "text/plain": [
              "['laurenta',\n",
              " 'sterrewacht',\n",
              " 'przełożenie',\n",
              " 'rubenidów',\n",
              " 'karamoja',\n",
              " 'multiplexer',\n",
              " 'diorella',\n",
              " 'naftol',\n",
              " 'tapsus',\n",
              " 'axi']"
            ]
          },
          "metadata": {
            "tags": []
          },
          "execution_count": 45
        }
      ]
    },
    {
      "cell_type": "code",
      "metadata": {
        "colab": {
          "base_uri": "https://localhost:8080/"
        },
        "id": "KkUIcKhijWSq",
        "outputId": "174f27ab-bcb6-4626-c2b6-e003fb393ce5"
      },
      "source": [
        "len(not_found_lemmas)"
      ],
      "execution_count": null,
      "outputs": [
        {
          "output_type": "execute_result",
          "data": {
            "text/plain": [
              "109213"
            ]
          },
          "metadata": {
            "tags": []
          },
          "execution_count": 46
        }
      ]
    },
    {
      "cell_type": "code",
      "metadata": {
        "colab": {
          "base_uri": "https://localhost:8080/"
        },
        "id": "2FKk5FvSkWwp",
        "outputId": "2f1ef461-9f3e-40b0-f64a-f0a553da277a"
      },
      "source": [
        "not_found_lemmas[:10]"
      ],
      "execution_count": null,
      "outputs": [
        {
          "output_type": "execute_result",
          "data": {
            "text/plain": [
              "['',\n",
              " 'karitskaya',\n",
              " 'nosaxa',\n",
              " 'rl10',\n",
              " 'rn10',\n",
              " 'radionowela',\n",
              " 'preserve\">orcad',\n",
              " 'liocranum',\n",
              " 'j04414489+2301513',\n",
              " '”receptorów']"
            ]
          },
          "metadata": {
            "tags": []
          },
          "execution_count": 47
        }
      ]
    },
    {
      "cell_type": "markdown",
      "metadata": {
        "id": "tJK7O7cQrTmB"
      },
      "source": [
        "### Save to csv"
      ]
    },
    {
      "cell_type": "code",
      "metadata": {
        "id": "CK5mCr1DrUwo"
      },
      "source": [
        "df = pd.DataFrame.from_dict(\n",
        "    {\n",
        "        'lemma': list(embeddings.keys()),\n",
        "        'vec': list(embeddings.values())\n",
        "    }\n",
        ")"
      ],
      "execution_count": null,
      "outputs": []
    },
    {
      "cell_type": "code",
      "metadata": {
        "colab": {
          "base_uri": "https://localhost:8080/",
          "height": 204
        },
        "id": "VoQb5gubrUiG",
        "outputId": "6dc64d8c-9153-44bf-c065-cbd5d8965b8d"
      },
      "source": [
        "df.head()"
      ],
      "execution_count": null,
      "outputs": [
        {
          "output_type": "execute_result",
          "data": {
            "text/html": [
              "<div>\n",
              "<style scoped>\n",
              "    .dataframe tbody tr th:only-of-type {\n",
              "        vertical-align: middle;\n",
              "    }\n",
              "\n",
              "    .dataframe tbody tr th {\n",
              "        vertical-align: top;\n",
              "    }\n",
              "\n",
              "    .dataframe thead th {\n",
              "        text-align: right;\n",
              "    }\n",
              "</style>\n",
              "<table border=\"1\" class=\"dataframe\">\n",
              "  <thead>\n",
              "    <tr style=\"text-align: right;\">\n",
              "      <th></th>\n",
              "      <th>lemma</th>\n",
              "      <th>vec</th>\n",
              "    </tr>\n",
              "  </thead>\n",
              "  <tbody>\n",
              "    <tr>\n",
              "      <th>0</th>\n",
              "      <td>laurenta</td>\n",
              "      <td>[-2.999931, -0.708544, -1.311219, 1.821917, 0....</td>\n",
              "    </tr>\n",
              "    <tr>\n",
              "      <th>1</th>\n",
              "      <td>sterrewacht</td>\n",
              "      <td>[-0.218208, 0.070714, 0.048131, 0.260631, -0.0...</td>\n",
              "    </tr>\n",
              "    <tr>\n",
              "      <th>2</th>\n",
              "      <td>przełożenie</td>\n",
              "      <td>[0.391039, -0.547801, 0.859111, 0.311708, 1.24...</td>\n",
              "    </tr>\n",
              "    <tr>\n",
              "      <th>3</th>\n",
              "      <td>rubenidów</td>\n",
              "      <td>[0.175287, 0.267407, -0.228604, 0.011897, 0.05...</td>\n",
              "    </tr>\n",
              "    <tr>\n",
              "      <th>4</th>\n",
              "      <td>karamoja</td>\n",
              "      <td>[0.003889, 0.009073, 0.058901, -0.098975, 0.04...</td>\n",
              "    </tr>\n",
              "  </tbody>\n",
              "</table>\n",
              "</div>"
            ],
            "text/plain": [
              "         lemma                                                vec\n",
              "0     laurenta  [-2.999931, -0.708544, -1.311219, 1.821917, 0....\n",
              "1  sterrewacht  [-0.218208, 0.070714, 0.048131, 0.260631, -0.0...\n",
              "2  przełożenie  [0.391039, -0.547801, 0.859111, 0.311708, 1.24...\n",
              "3    rubenidów  [0.175287, 0.267407, -0.228604, 0.011897, 0.05...\n",
              "4     karamoja  [0.003889, 0.009073, 0.058901, -0.098975, 0.04..."
            ]
          },
          "metadata": {
            "tags": []
          },
          "execution_count": 49
        }
      ]
    },
    {
      "cell_type": "code",
      "metadata": {
        "id": "NFpffK0arUF0"
      },
      "source": [
        "vec_file = '/content/drive/Shareddrives/GCN-PROJECT/word2vec_lemmas.csv'\n",
        "\n",
        "df.to_csv(vec_file)"
      ],
      "execution_count": null,
      "outputs": []
    },
    {
      "cell_type": "markdown",
      "metadata": {
        "id": "ROaExLSgk7i1"
      },
      "source": [
        "### fastText model"
      ]
    },
    {
      "cell_type": "code",
      "metadata": {
        "id": "qj5aQ9Onk-HJ"
      },
      "source": [
        "model_zip_file = '/content/drive/Shareddrives/GCN-PROJECT/models/fasttext_v2.zip'\n",
        "directory_to_extract_to = './'\n",
        "\n",
        "with zipfile.ZipFile(model_zip_file, 'r') as zip_ref:\n",
        "    zip_ref.extractall(directory_to_extract_to)"
      ],
      "execution_count": null,
      "outputs": []
    },
    {
      "cell_type": "code",
      "metadata": {
        "id": "6CTMQtHWk-Fh"
      },
      "source": [
        "fastText = KeyedVectors.load('fasttext_100_3_polish.bin')"
      ],
      "execution_count": null,
      "outputs": []
    },
    {
      "cell_type": "code",
      "metadata": {
        "colab": {
          "base_uri": "https://localhost:8080/"
        },
        "id": "YUhVlpw1nm6U",
        "outputId": "c3a3bb0f-cab2-4fda-93b7-ab8598b730db"
      },
      "source": [
        "len(fastText.wv['pies'])"
      ],
      "execution_count": null,
      "outputs": [
        {
          "output_type": "execute_result",
          "data": {
            "text/plain": [
              "100"
            ]
          },
          "metadata": {
            "tags": []
          },
          "execution_count": 39
        }
      ]
    },
    {
      "cell_type": "code",
      "metadata": {
        "colab": {
          "base_uri": "https://localhost:8080/"
        },
        "id": "FoQ12FWZk91x",
        "outputId": "934e74a8-3bf8-44ac-cadc-e9da98763534"
      },
      "source": [
        "embeddings = {}\n",
        "not_found_lemmas = []\n",
        "\n",
        "for lemma in tqdm(unique_noun_lemmas):\n",
        "    try:\n",
        "        vector = fastText.wv[lemma]\n",
        "        embeddings[lemma] = vector\n",
        "    except KeyError:\n",
        "        not_found_lemmas.append(lemma)\n",
        "    except AttributeError:\n",
        "        not_found_lemmas.append(lemma)"
      ],
      "execution_count": null,
      "outputs": [
        {
          "output_type": "stream",
          "text": [
            "100%|██████████| 284013/284013 [00:01<00:00, 163388.60it/s]\n"
          ],
          "name": "stderr"
        }
      ]
    },
    {
      "cell_type": "code",
      "metadata": {
        "colab": {
          "base_uri": "https://localhost:8080/"
        },
        "id": "PggNtiQIlTK2",
        "outputId": "ae49d65f-d3dd-4e9f-b907-32382d9d5f6c"
      },
      "source": [
        "len(embeddings)"
      ],
      "execution_count": null,
      "outputs": [
        {
          "output_type": "execute_result",
          "data": {
            "text/plain": [
              "177370"
            ]
          },
          "metadata": {
            "tags": []
          },
          "execution_count": 35
        }
      ]
    },
    {
      "cell_type": "code",
      "metadata": {
        "colab": {
          "base_uri": "https://localhost:8080/"
        },
        "id": "BYYbhKaKlTJL",
        "outputId": "828eff39-a196-43a0-93fe-038121765d53"
      },
      "source": [
        "list(embeddings.keys())[:10]"
      ],
      "execution_count": null,
      "outputs": [
        {
          "output_type": "execute_result",
          "data": {
            "text/plain": [
              "['laurenta',\n",
              " 'sterrewacht',\n",
              " 'przełożenie',\n",
              " 'rubenidów',\n",
              " 'karamoja',\n",
              " 'multiplexer',\n",
              " 'diorella',\n",
              " 'naftol',\n",
              " 'tapsus',\n",
              " 'axi']"
            ]
          },
          "metadata": {
            "tags": []
          },
          "execution_count": 36
        }
      ]
    },
    {
      "cell_type": "code",
      "metadata": {
        "colab": {
          "base_uri": "https://localhost:8080/"
        },
        "id": "pNTcWW7PlTBh",
        "outputId": "c5a18461-16b5-4f1e-fdeb-affff2a8c076"
      },
      "source": [
        "len(not_found_lemmas)"
      ],
      "execution_count": null,
      "outputs": [
        {
          "output_type": "execute_result",
          "data": {
            "text/plain": [
              "106643"
            ]
          },
          "metadata": {
            "tags": []
          },
          "execution_count": 37
        }
      ]
    },
    {
      "cell_type": "code",
      "metadata": {
        "colab": {
          "base_uri": "https://localhost:8080/"
        },
        "id": "M12hiW32lhAG",
        "outputId": "ed182a69-aa95-4db2-a918-ff89d80f905a"
      },
      "source": [
        "not_found_lemmas[:10]"
      ],
      "execution_count": null,
      "outputs": [
        {
          "output_type": "execute_result",
          "data": {
            "text/plain": [
              "['',\n",
              " 'karitskaya',\n",
              " 'nosaxa',\n",
              " 'rl10',\n",
              " 'rn10',\n",
              " 'radionowela',\n",
              " 'preserve\">orcad',\n",
              " 'liocranum',\n",
              " 'j04414489+2301513',\n",
              " '”receptorów']"
            ]
          },
          "metadata": {
            "tags": []
          },
          "execution_count": 38
        }
      ]
    },
    {
      "cell_type": "markdown",
      "metadata": {
        "id": "4PwS2vmppk55"
      },
      "source": [
        "### Save to csv"
      ]
    },
    {
      "cell_type": "code",
      "metadata": {
        "id": "ohq3CmH1pkh4"
      },
      "source": [
        "df = pd.DataFrame.from_dict(\n",
        "    {\n",
        "        'lemma': list(embeddings.keys()),\n",
        "        'vec': list(embeddings.values())\n",
        "    }\n",
        ")"
      ],
      "execution_count": null,
      "outputs": []
    },
    {
      "cell_type": "code",
      "metadata": {
        "colab": {
          "base_uri": "https://localhost:8080/",
          "height": 204
        },
        "id": "P_mmpaMAqX3J",
        "outputId": "c4256867-030f-4c4c-e856-e648c8724a13"
      },
      "source": [
        "df.head()"
      ],
      "execution_count": null,
      "outputs": [
        {
          "output_type": "execute_result",
          "data": {
            "text/html": [
              "<div>\n",
              "<style scoped>\n",
              "    .dataframe tbody tr th:only-of-type {\n",
              "        vertical-align: middle;\n",
              "    }\n",
              "\n",
              "    .dataframe tbody tr th {\n",
              "        vertical-align: top;\n",
              "    }\n",
              "\n",
              "    .dataframe thead th {\n",
              "        text-align: right;\n",
              "    }\n",
              "</style>\n",
              "<table border=\"1\" class=\"dataframe\">\n",
              "  <thead>\n",
              "    <tr style=\"text-align: right;\">\n",
              "      <th></th>\n",
              "      <th>lemma</th>\n",
              "      <th>vec</th>\n",
              "    </tr>\n",
              "  </thead>\n",
              "  <tbody>\n",
              "    <tr>\n",
              "      <th>0</th>\n",
              "      <td>laurenta</td>\n",
              "      <td>[0.76456106, -2.068957, -1.6155088, -1.5636369...</td>\n",
              "    </tr>\n",
              "    <tr>\n",
              "      <th>1</th>\n",
              "      <td>sterrewacht</td>\n",
              "      <td>[-0.35970423, -1.2159524, -1.1942011, 0.820352...</td>\n",
              "    </tr>\n",
              "    <tr>\n",
              "      <th>2</th>\n",
              "      <td>przełożenie</td>\n",
              "      <td>[0.41044968, -3.8949878, -3.6449554, 4.757927,...</td>\n",
              "    </tr>\n",
              "    <tr>\n",
              "      <th>3</th>\n",
              "      <td>rubenidów</td>\n",
              "      <td>[2.432582, -1.5145886, -1.1150995, 0.33890077,...</td>\n",
              "    </tr>\n",
              "    <tr>\n",
              "      <th>4</th>\n",
              "      <td>karamoja</td>\n",
              "      <td>[2.4278355, -2.9679384, -0.6736491, 1.914125, ...</td>\n",
              "    </tr>\n",
              "  </tbody>\n",
              "</table>\n",
              "</div>"
            ],
            "text/plain": [
              "         lemma                                                vec\n",
              "0     laurenta  [0.76456106, -2.068957, -1.6155088, -1.5636369...\n",
              "1  sterrewacht  [-0.35970423, -1.2159524, -1.1942011, 0.820352...\n",
              "2  przełożenie  [0.41044968, -3.8949878, -3.6449554, 4.757927,...\n",
              "3    rubenidów  [2.432582, -1.5145886, -1.1150995, 0.33890077,...\n",
              "4     karamoja  [2.4278355, -2.9679384, -0.6736491, 1.914125, ..."
            ]
          },
          "metadata": {
            "tags": []
          },
          "execution_count": 41
        }
      ]
    },
    {
      "cell_type": "code",
      "metadata": {
        "id": "TmaJuSHIqZnd"
      },
      "source": [
        "vec_file = '/content/drive/Shareddrives/GCN-PROJECT/fasttext_lemmas.csv'\n",
        "\n",
        "df.to_csv(vec_file)"
      ],
      "execution_count": null,
      "outputs": []
    },
    {
      "cell_type": "code",
      "metadata": {
        "id": "CAnWa4nyq4wG"
      },
      "source": [
        ""
      ],
      "execution_count": null,
      "outputs": []
    }
  ]
}