{
 "metadata": {
  "language_info": {
   "codemirror_mode": {
    "name": "ipython",
    "version": 3
   },
   "file_extension": ".py",
   "mimetype": "text/x-python",
   "name": "python",
   "nbconvert_exporter": "python",
   "pygments_lexer": "ipython3",
   "version": 3
  },
  "orig_nbformat": 2
 },
 "nbformat": 4,
 "nbformat_minor": 2,
 "cells": [
  {
   "cell_type": "code",
   "execution_count": 41,
   "metadata": {},
   "outputs": [],
   "source": [
    "import requests"
   ]
  },
  {
   "cell_type": "code",
   "execution_count": 63,
   "metadata": {},
   "outputs": [],
   "source": [
    "url = 'https://pl.wikipedia.org/w/api.php?action=query&list=categorymembers&cmtitle=Category%3AMatematycy&cmtype=subcat&format=json'\n",
    "r = requests.get(url)"
   ]
  },
  {
   "cell_type": "code",
   "execution_count": 64,
   "metadata": {},
   "outputs": [],
   "source": [
    "json_obj = r.json()"
   ]
  },
  {
   "cell_type": "code",
   "execution_count": 65,
   "metadata": {},
   "outputs": [
    {
     "output_type": "execute_result",
     "data": {
      "text/plain": [
       "[{'pageid': 4626924,\n",
       "  'ns': 14,\n",
       "  'title': 'Kategoria:Matematycy według dziedziny'},\n",
       " {'pageid': 1545215,\n",
       "  'ns': 14,\n",
       "  'title': 'Kategoria:Matematycy według narodowości'},\n",
       " {'pageid': 4339927, 'ns': 14, 'title': 'Kategoria:Matematycy według wieku'},\n",
       " {'pageid': 1161045, 'ns': 14, 'title': 'Kategoria:Średniowieczni matematycy'},\n",
       " {'pageid': 2716493, 'ns': 14, 'title': 'Kategoria:Bizantyńscy matematycy'},\n",
       " {'pageid': 4932275, 'ns': 14, 'title': 'Kategoria:Matematycy według nagrody'},\n",
       " {'pageid': 3050951, 'ns': 14, 'title': 'Kategoria:Starożytni matematycy'}]"
      ]
     },
     "metadata": {},
     "execution_count": 65
    }
   ],
   "source": [
    "json_obj['query']['categorymembers']"
   ]
  },
  {
   "cell_type": "code",
   "execution_count": 66,
   "metadata": {},
   "outputs": [
    {
     "output_type": "execute_result",
     "data": {
      "text/plain": [
       "'Kategoria:Matematycy według dziedziny'"
      ]
     },
     "metadata": {},
     "execution_count": 66
    }
   ],
   "source": [
    "json_obj['query']['categorymembers'][0]['title']"
   ]
  },
  {
   "cell_type": "code",
   "execution_count": 67,
   "metadata": {},
   "outputs": [],
   "source": [
    "next_cat = json_obj['query']['categorymembers'][0]['title']"
   ]
  },
  {
   "cell_type": "code",
   "execution_count": 68,
   "metadata": {},
   "outputs": [
    {
     "output_type": "execute_result",
     "data": {
      "text/plain": [
       "'Kategoria:Matematycy według dziedziny'"
      ]
     },
     "metadata": {},
     "execution_count": 68
    }
   ],
   "source": [
    "next_cat"
   ]
  },
  {
   "cell_type": "code",
   "execution_count": 69,
   "metadata": {},
   "outputs": [],
   "source": [
    "url = 'https://pl.wikipedia.org/w/api.php?action=query&list=categorymembers&cmtitle=' + next_cat + '&cmtype=subcat&format=json'"
   ]
  },
  {
   "cell_type": "code",
   "execution_count": 70,
   "metadata": {},
   "outputs": [
    {
     "output_type": "execute_result",
     "data": {
      "text/plain": [
       "'https://pl.wikipedia.org/w/api.php?action=query&list=categorymembers&cmtitle=Kategoria:Matematycy według dziedziny&cmtype=subcat&format=json'"
      ]
     },
     "metadata": {},
     "execution_count": 70
    }
   ],
   "source": [
    "url"
   ]
  },
  {
   "cell_type": "code",
   "execution_count": 71,
   "metadata": {},
   "outputs": [],
   "source": [
    "r = requests.get(url)"
   ]
  },
  {
   "cell_type": "code",
   "execution_count": 72,
   "metadata": {},
   "outputs": [
    {
     "output_type": "execute_result",
     "data": {
      "text/plain": [
       "{'batchcomplete': '',\n",
       " 'query': {'categorymembers': [{'pageid': 4752656,\n",
       "    'ns': 14,\n",
       "    'title': 'Kategoria:Aktuariusze'},\n",
       "   {'pageid': 4626907, 'ns': 14, 'title': 'Kategoria:Algebraicy'},\n",
       "   {'pageid': 4626959,\n",
       "    'ns': 14,\n",
       "    'title': 'Kategoria:Analiza matematyczna – naukowcy'},\n",
       "   {'pageid': 4626917, 'ns': 14, 'title': 'Kategoria:Geometrzy'},\n",
       "   {'pageid': 1237931, 'ns': 14, 'title': 'Kategoria:Kryptolodzy'},\n",
       "   {'pageid': 66994, 'ns': 14, 'title': 'Kategoria:Logicy'},\n",
       "   {'pageid': 4626967, 'ns': 14, 'title': 'Kategoria:Probabiliści'},\n",
       "   {'pageid': 4626945, 'ns': 14, 'title': 'Kategoria:Teoretycy liczb'}]}}"
      ]
     },
     "metadata": {},
     "execution_count": 72
    }
   ],
   "source": [
    "r.json()"
   ]
  },
  {
   "cell_type": "code",
   "execution_count": null,
   "metadata": {},
   "outputs": [],
   "source": []
  }
 ]
}